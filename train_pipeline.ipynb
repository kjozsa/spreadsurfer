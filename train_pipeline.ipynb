{
 "cells": [
  {
   "cell_type": "code",
   "execution_count": 251,
   "metadata": {
    "collapsed": true
   },
   "outputs": [
    {
     "name": "stdout",
     "output_type": "stream",
     "text": [
      "total dataset: 20857 rows\n"
     ]
    },
    {
     "data": {
      "text/plain": "       0_amount_mean  0_nr_trades  0_price_delta  0_spread  1_amount_mean  \\\nindex                                                                       \n0             0.0380          3.0           0.08      0.55         0.0295   \n0             0.0036          6.0           0.17      0.07         0.0044   \n0             0.0260         16.0           1.64      1.29         0.0166   \n0             0.0049          5.0           0.26      0.14         0.0042   \n0             0.0061          4.0           0.24      0.81         0.0050   \n...              ...          ...            ...       ...            ...   \n0             0.0081          4.0           1.01      0.97         0.0062   \n0             0.0623         10.0           0.89      1.46         0.0567   \n0             0.0049          3.0           1.52      1.57         0.0252   \n0             0.0189          8.0           0.03      1.28         0.0170   \n0             0.0146          5.0           0.71      0.54         0.0185   \n\n       1_nr_trades  1_price_delta  1_spread  2_amount_mean  2_nr_trades  ...  \\\nindex                                                                    ...   \n0              4.0           0.08      0.55         0.0231          7.0  ...   \n0              8.0           0.17      0.22         0.0042         10.0  ...   \n0             38.0           0.34      2.59         0.0165         39.0  ...   \n0              6.0           0.13      0.27         0.0039          7.0  ...   \n0              5.0           0.19      0.86         0.0044          6.0  ...   \n...            ...            ...       ...            ...          ...  ...   \n0              7.0           0.99      0.99         0.0104          8.0  ...   \n0             11.0           0.89      1.46         0.0541         12.0  ...   \n0              4.0           1.52      1.57         0.0193          6.0  ...   \n0              9.0           0.03      1.28         0.0160         10.0  ...   \n0              6.0           0.70      0.55         0.0165          7.0  ...   \n\n       3_spread  4_amount_mean  4_nr_trades  4_price_delta  4_spread  \\\nindex                                                                  \n0          0.60         0.0222          9.0           0.02      0.61   \n0          0.39         0.0041         12.0           0.00      0.39   \n0          2.75         0.0176         41.0           0.05      2.88   \n0          0.40         0.0133          9.0           0.00      0.40   \n0          0.89         0.0101          9.0           0.00      1.05   \n...         ...            ...          ...            ...       ...   \n0          1.76         0.0142         10.0           0.22      1.76   \n0          1.46         0.0465         14.0           0.34      2.01   \n0          2.36         0.0324         19.0           0.71      2.38   \n0          1.28         0.0170         13.0           0.03      1.28   \n0          0.65         0.0206          9.0           0.36      0.89   \n\n       stabilized_amount_mean  stabilized_at_ms  stabilized_nr_trades  \\\nindex                                                                   \n0                      0.0734               228                  16.0   \n0                      0.0045               277                  14.0   \n0                      0.0183                44                  42.0   \n0                      0.0121                72                  10.0   \n0                      0.0094               299                  10.0   \n...                       ...               ...                   ...   \n0                      0.0169               230                  11.0   \n0                      0.0437               106                  15.0   \n0                      0.0955               167                  33.0   \n0                      0.0159               286                  14.0   \n0                      0.0155                79                  14.0   \n\n       stabilized_spread  wave_direction  \nindex                                     \n0                   0.63             max  \n0                   0.39             max  \n0                   2.93             max  \n0                   0.40             max  \n0                   1.05             min  \n...                  ...             ...  \n0                   1.98             min  \n0                   2.35             max  \n0                   3.09             max  \n0                   1.31             max  \n0                   1.25             min  \n\n[6455 rows x 25 columns]",
      "text/html": "<div>\n<style scoped>\n    .dataframe tbody tr th:only-of-type {\n        vertical-align: middle;\n    }\n\n    .dataframe tbody tr th {\n        vertical-align: top;\n    }\n\n    .dataframe thead th {\n        text-align: right;\n    }\n</style>\n<table border=\"1\" class=\"dataframe\">\n  <thead>\n    <tr style=\"text-align: right;\">\n      <th></th>\n      <th>0_amount_mean</th>\n      <th>0_nr_trades</th>\n      <th>0_price_delta</th>\n      <th>0_spread</th>\n      <th>1_amount_mean</th>\n      <th>1_nr_trades</th>\n      <th>1_price_delta</th>\n      <th>1_spread</th>\n      <th>2_amount_mean</th>\n      <th>2_nr_trades</th>\n      <th>...</th>\n      <th>3_spread</th>\n      <th>4_amount_mean</th>\n      <th>4_nr_trades</th>\n      <th>4_price_delta</th>\n      <th>4_spread</th>\n      <th>stabilized_amount_mean</th>\n      <th>stabilized_at_ms</th>\n      <th>stabilized_nr_trades</th>\n      <th>stabilized_spread</th>\n      <th>wave_direction</th>\n    </tr>\n    <tr>\n      <th>index</th>\n      <th></th>\n      <th></th>\n      <th></th>\n      <th></th>\n      <th></th>\n      <th></th>\n      <th></th>\n      <th></th>\n      <th></th>\n      <th></th>\n      <th></th>\n      <th></th>\n      <th></th>\n      <th></th>\n      <th></th>\n      <th></th>\n      <th></th>\n      <th></th>\n      <th></th>\n      <th></th>\n      <th></th>\n    </tr>\n  </thead>\n  <tbody>\n    <tr>\n      <th>0</th>\n      <td>0.0380</td>\n      <td>3.0</td>\n      <td>0.08</td>\n      <td>0.55</td>\n      <td>0.0295</td>\n      <td>4.0</td>\n      <td>0.08</td>\n      <td>0.55</td>\n      <td>0.0231</td>\n      <td>7.0</td>\n      <td>...</td>\n      <td>0.60</td>\n      <td>0.0222</td>\n      <td>9.0</td>\n      <td>0.02</td>\n      <td>0.61</td>\n      <td>0.0734</td>\n      <td>228</td>\n      <td>16.0</td>\n      <td>0.63</td>\n      <td>max</td>\n    </tr>\n    <tr>\n      <th>0</th>\n      <td>0.0036</td>\n      <td>6.0</td>\n      <td>0.17</td>\n      <td>0.07</td>\n      <td>0.0044</td>\n      <td>8.0</td>\n      <td>0.17</td>\n      <td>0.22</td>\n      <td>0.0042</td>\n      <td>10.0</td>\n      <td>...</td>\n      <td>0.39</td>\n      <td>0.0041</td>\n      <td>12.0</td>\n      <td>0.00</td>\n      <td>0.39</td>\n      <td>0.0045</td>\n      <td>277</td>\n      <td>14.0</td>\n      <td>0.39</td>\n      <td>max</td>\n    </tr>\n    <tr>\n      <th>0</th>\n      <td>0.0260</td>\n      <td>16.0</td>\n      <td>1.64</td>\n      <td>1.29</td>\n      <td>0.0166</td>\n      <td>38.0</td>\n      <td>0.34</td>\n      <td>2.59</td>\n      <td>0.0165</td>\n      <td>39.0</td>\n      <td>...</td>\n      <td>2.75</td>\n      <td>0.0176</td>\n      <td>41.0</td>\n      <td>0.05</td>\n      <td>2.88</td>\n      <td>0.0183</td>\n      <td>44</td>\n      <td>42.0</td>\n      <td>2.93</td>\n      <td>max</td>\n    </tr>\n    <tr>\n      <th>0</th>\n      <td>0.0049</td>\n      <td>5.0</td>\n      <td>0.26</td>\n      <td>0.14</td>\n      <td>0.0042</td>\n      <td>6.0</td>\n      <td>0.13</td>\n      <td>0.27</td>\n      <td>0.0039</td>\n      <td>7.0</td>\n      <td>...</td>\n      <td>0.40</td>\n      <td>0.0133</td>\n      <td>9.0</td>\n      <td>0.00</td>\n      <td>0.40</td>\n      <td>0.0121</td>\n      <td>72</td>\n      <td>10.0</td>\n      <td>0.40</td>\n      <td>max</td>\n    </tr>\n    <tr>\n      <th>0</th>\n      <td>0.0061</td>\n      <td>4.0</td>\n      <td>0.24</td>\n      <td>0.81</td>\n      <td>0.0050</td>\n      <td>5.0</td>\n      <td>0.19</td>\n      <td>0.86</td>\n      <td>0.0044</td>\n      <td>6.0</td>\n      <td>...</td>\n      <td>0.89</td>\n      <td>0.0101</td>\n      <td>9.0</td>\n      <td>0.00</td>\n      <td>1.05</td>\n      <td>0.0094</td>\n      <td>299</td>\n      <td>10.0</td>\n      <td>1.05</td>\n      <td>min</td>\n    </tr>\n    <tr>\n      <th>...</th>\n      <td>...</td>\n      <td>...</td>\n      <td>...</td>\n      <td>...</td>\n      <td>...</td>\n      <td>...</td>\n      <td>...</td>\n      <td>...</td>\n      <td>...</td>\n      <td>...</td>\n      <td>...</td>\n      <td>...</td>\n      <td>...</td>\n      <td>...</td>\n      <td>...</td>\n      <td>...</td>\n      <td>...</td>\n      <td>...</td>\n      <td>...</td>\n      <td>...</td>\n      <td>...</td>\n    </tr>\n    <tr>\n      <th>0</th>\n      <td>0.0081</td>\n      <td>4.0</td>\n      <td>1.01</td>\n      <td>0.97</td>\n      <td>0.0062</td>\n      <td>7.0</td>\n      <td>0.99</td>\n      <td>0.99</td>\n      <td>0.0104</td>\n      <td>8.0</td>\n      <td>...</td>\n      <td>1.76</td>\n      <td>0.0142</td>\n      <td>10.0</td>\n      <td>0.22</td>\n      <td>1.76</td>\n      <td>0.0169</td>\n      <td>230</td>\n      <td>11.0</td>\n      <td>1.98</td>\n      <td>min</td>\n    </tr>\n    <tr>\n      <th>0</th>\n      <td>0.0623</td>\n      <td>10.0</td>\n      <td>0.89</td>\n      <td>1.46</td>\n      <td>0.0567</td>\n      <td>11.0</td>\n      <td>0.89</td>\n      <td>1.46</td>\n      <td>0.0541</td>\n      <td>12.0</td>\n      <td>...</td>\n      <td>1.46</td>\n      <td>0.0465</td>\n      <td>14.0</td>\n      <td>0.34</td>\n      <td>2.01</td>\n      <td>0.0437</td>\n      <td>106</td>\n      <td>15.0</td>\n      <td>2.35</td>\n      <td>max</td>\n    </tr>\n    <tr>\n      <th>0</th>\n      <td>0.0049</td>\n      <td>3.0</td>\n      <td>1.52</td>\n      <td>1.57</td>\n      <td>0.0252</td>\n      <td>4.0</td>\n      <td>1.52</td>\n      <td>1.57</td>\n      <td>0.0193</td>\n      <td>6.0</td>\n      <td>...</td>\n      <td>2.36</td>\n      <td>0.0324</td>\n      <td>19.0</td>\n      <td>0.71</td>\n      <td>2.38</td>\n      <td>0.0955</td>\n      <td>167</td>\n      <td>33.0</td>\n      <td>3.09</td>\n      <td>max</td>\n    </tr>\n    <tr>\n      <th>0</th>\n      <td>0.0189</td>\n      <td>8.0</td>\n      <td>0.03</td>\n      <td>1.28</td>\n      <td>0.0170</td>\n      <td>9.0</td>\n      <td>0.03</td>\n      <td>1.28</td>\n      <td>0.0160</td>\n      <td>10.0</td>\n      <td>...</td>\n      <td>1.28</td>\n      <td>0.0170</td>\n      <td>13.0</td>\n      <td>0.03</td>\n      <td>1.28</td>\n      <td>0.0159</td>\n      <td>286</td>\n      <td>14.0</td>\n      <td>1.31</td>\n      <td>max</td>\n    </tr>\n    <tr>\n      <th>0</th>\n      <td>0.0146</td>\n      <td>5.0</td>\n      <td>0.71</td>\n      <td>0.54</td>\n      <td>0.0185</td>\n      <td>6.0</td>\n      <td>0.70</td>\n      <td>0.55</td>\n      <td>0.0165</td>\n      <td>7.0</td>\n      <td>...</td>\n      <td>0.65</td>\n      <td>0.0206</td>\n      <td>9.0</td>\n      <td>0.36</td>\n      <td>0.89</td>\n      <td>0.0155</td>\n      <td>79</td>\n      <td>14.0</td>\n      <td>1.25</td>\n      <td>min</td>\n    </tr>\n  </tbody>\n</table>\n<p>6455 rows × 25 columns</p>\n</div>"
     },
     "execution_count": 251,
     "metadata": {},
     "output_type": "execute_result"
    }
   ],
   "source": [
    "from sklearn.pipeline import Pipeline\n",
    "from sklearn.base import BaseEstimator\n",
    "from sklearn.base import TransformerMixin\n",
    "from sklearn.model_selection import train_test_split\n",
    "import pandas as pd\n",
    "\n",
    "class FeatureEngineer(BaseEstimator, TransformerMixin):\n",
    "    def fit(self, X, y):\n",
    "        print(f'fitting on {len(X)} records')\n",
    "        return self\n",
    "\n",
    "    def transform(self, X, y=None):\n",
    "        df = X.copy()\n",
    "        df.loc[df['wave_direction'] == 'min', 'wave_direction'] = 1\n",
    "        df.loc[df['wave_direction'] == 'max'] = -1\n",
    "        df = df.astype({\"wave_direction\": 'float64'})\n",
    "        return df\n",
    "\n",
    "df = pd.read_parquet('./data')\n",
    "print(f'total dataset: {len(df)} rows')\n",
    "\n",
    "if '0_price' in df.columns:\n",
    "    df.drop('0_price', axis=1, inplace=True)\n",
    "    df.drop('1_price', axis=1, inplace=True)\n",
    "    df.drop('2_price', axis=1, inplace=True)\n",
    "    df.drop('3_price', axis=1, inplace=True)\n",
    "    df.drop('4_price', axis=1, inplace=True)\n",
    "\n",
    "# filters\n",
    "df = df[df['stabilized_spread'] < 10] # nem tul nagy spread\n",
    "df = df[df['stabilized_spread'] > 0.2] # nem tul nagy spread\n",
    "df = df[abs(df['last_price_delta_since_stabilized']) > 1]\n",
    "df = df[abs(df['last_price_delta_since_stabilized']) < 8]\n",
    "\n",
    "## df = df[df['stabilized_amount_mean'] < 0.4]  # nem tul nagy tradek\n",
    "## df = df[df['stabilized_nr_trades'] < 300]  # nem tul sok trade\n",
    "\n",
    "\n",
    "df.sort_index(axis=1, inplace=True)\n",
    "\n",
    "y = df['last_price_delta_since_stabilized']\n",
    "X = df.drop('last_price_delta_since_stabilized', axis=1)\n",
    "\n",
    "X_train, X_valid, y_train, y_valid = train_test_split(X, y, train_size=0.8, test_size=0.2, random_state=0)\n",
    "X_train"
   ]
  },
  {
   "cell_type": "code",
   "execution_count": 231,
   "outputs": [
    {
     "name": "stdout",
     "output_type": "stream",
     "text": [
      "fitting on 6455 records\n"
     ]
    },
    {
     "data": {
      "text/plain": "0.772864681037414"
     },
     "metadata": {},
     "output_type": "display_data"
    }
   ],
   "source": [
    "from catboost import CatBoostRegressor\n",
    "# from sklearn.ensemle import RandomForestRegressor\n",
    "\n",
    "model = CatBoostRegressor(learning_rate=0.007, depth=7, loss_function='RMSE', random_state=0, verbose=False, iterations=1500)\n",
    "\n",
    "pipeline = Pipeline(steps=[\n",
    "    ('preprocessor', FeatureEngineer()),\n",
    "    # ('model', RandomForestRegressor(n_estimators=50, random_state=0))\n",
    "    ('model',  model)\n",
    "])\n",
    "\n",
    "pipeline.fit(X_train, y_train)\n",
    "score = pipeline.score(X_valid, y_valid)\n",
    "display(score)\n"
   ],
   "metadata": {
    "collapsed": false
   }
  },
  {
   "cell_type": "code",
   "execution_count": 234,
   "outputs": [],
   "source": [
    "from spreadsurfer import now_isoformat\n",
    "\n",
    "save = False\n",
    "if save:\n",
    "    model.save_model(f'./models/{now_isoformat()}-score-{1000 * round(score, 3)}.cat')\n"
   ],
   "metadata": {
    "collapsed": false
   }
  },
  {
   "cell_type": "code",
   "execution_count": 241,
   "outputs": [
    {
     "name": "stdout",
     "output_type": "stream",
     "text": [
      "expected:  1.97\n"
     ]
    },
    {
     "data": {
      "text/plain": "array([1.96460944])"
     },
     "execution_count": 241,
     "metadata": {},
     "output_type": "execute_result"
    }
   ],
   "source": [
    "sample = pd.DataFrame([\n",
    "    {'0_amount_mean': 0.094411, '0_nr_trades': 75.0, '0_price_delta': 0.61, '0_spread': 1.44, '1_amount_mean': 0.093298, '1_nr_trades': 76.0, '1_price_delta': 0.61, '1_spread': 1.44, '2_amount_mean': 0.092106, '2_nr_trades': 77.0, '2_price_delta': 0.61, '2_spread': 1.44, '3_amount_mean': 0.084998, '3_nr_trades': 85.0, '3_price_delta': 0.11, '3_spread': 1.94, '4_amount_mean': 0.084199, '4_nr_trades': 86.0, '4_price_delta': 0.04, '4_spread': 2.01, 'last_price_delta_since_stabilized': 1.97, 'stabilized_amount_mean': 0.08325, 'stabilized_at_ms': 123, 'stabilized_nr_trades': 87.0, 'stabilized_spread': 2.05, 'wave_direction': 'min'}\n",
    "])\n",
    "\n",
    "print('expected: ', sample.last_price_delta_since_stabilized.mean())\n",
    "sample.drop('last_price_delta_since_stabilized', axis=1, inplace=True)\n",
    "\n",
    "from timeit import timeit\n",
    "timeit(lambda: pipeline.predict(sample), number=1) * 1000\n",
    "pipeline.predict(sample)\n"
   ],
   "metadata": {
    "collapsed": false
   }
  },
  {
   "cell_type": "code",
   "execution_count": 244,
   "outputs": [
    {
     "data": {
      "text/plain": "'2023-01-21T20:37:02-score-773.0.cat'"
     },
     "execution_count": 244,
     "metadata": {},
     "output_type": "execute_result"
    }
   ],
   "source": [
    "from glob import glob\n",
    "cat_filename = glob('*.cat')[0]\n",
    "cat_filename\n"
   ],
   "metadata": {
    "collapsed": false
   }
  }
 ],
 "metadata": {
  "kernelspec": {
   "display_name": "Python 3",
   "language": "python",
   "name": "python3"
  },
  "language_info": {
   "codemirror_mode": {
    "name": "ipython",
    "version": 2
   },
   "file_extension": ".py",
   "mimetype": "text/x-python",
   "name": "python",
   "nbconvert_exporter": "python",
   "pygments_lexer": "ipython2",
   "version": "2.7.6"
  }
 },
 "nbformat": 4,
 "nbformat_minor": 0
}
