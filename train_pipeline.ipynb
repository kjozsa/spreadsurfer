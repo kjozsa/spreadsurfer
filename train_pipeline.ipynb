{
 "cells": [
  {
   "cell_type": "code",
   "execution_count": 1,
   "metadata": {
    "collapsed": true
   },
   "outputs": [
    {
     "name": "stdout",
     "output_type": "stream",
     "text": [
      "total dataset: 121438 rows\n"
     ]
    },
    {
     "data": {
      "text/plain": "       0_amount_mean  0_nr_trades  0_price_delta  1_amount_mean  1_nr_trades  \\\nindex                                                                          \n0             0.0389         15.0           0.64         0.0483         16.0   \n0             0.0140          5.0           1.01         0.0118          6.0   \n0             0.0037         24.0           0.09         0.0036         25.0   \n0             0.0055          4.0           0.79         0.0153         13.0   \n0             0.0032          3.0           0.61         0.0089         10.0   \n...              ...          ...            ...            ...          ...   \n0             0.0026         19.0           0.09         0.0034         21.0   \n0             0.0138          9.0           0.19         0.0163         11.0   \n0             0.0071         17.0           0.16         0.0068         18.0   \n0             0.0020          8.0           0.63         0.0056         10.0   \n0             0.0243          7.0           0.47         0.0214          8.0   \n\n       1_price_delta  2_amount_mean  2_nr_trades  2_price_delta  \\\nindex                                                             \n0               0.64         0.0455         17.0           0.64   \n0               0.99         0.0102          7.0           0.96   \n0               0.09         0.0038         26.0           0.09   \n0               0.03         0.0148         15.0           0.03   \n0               0.23         0.0076         12.0           0.10   \n...              ...            ...          ...            ...   \n0               0.09         0.0033         22.0           0.09   \n0               0.03         0.0145         13.0           0.01   \n0               0.16         0.0066         20.0           0.16   \n0               0.63         0.0051         11.0           0.40   \n0               0.47         0.0193          9.0           0.47   \n\n       3_amount_mean  ...  3_price_delta  4_amount_mean  4_nr_trades  \\\nindex                 ...                                              \n0             0.0432  ...           0.64         0.0405         20.0   \n0             0.0097  ...           0.59         0.0104         26.0   \n0             0.0037  ...           0.08         0.0035         29.0   \n0             0.0140  ...           0.02         0.0186         19.0   \n0             0.0074  ...           0.01         0.0073         16.0   \n...              ...  ...            ...            ...          ...   \n0             0.0032  ...           0.09         0.0031         24.0   \n0             0.0132  ...           0.00         0.0164         17.0   \n0             0.0065  ...           0.16         0.0062         22.0   \n0             0.0047  ...           0.40         0.0043         14.0   \n0             0.0178  ...           0.47         0.0196         12.0   \n\n       4_price_delta  stabilized_amount_mean  stabilized_at_ms  \\\nindex                                                            \n0               0.64                  0.0443               485   \n0               0.19                  0.0103               177   \n0               0.02                  0.0036               723   \n0               0.01                  0.0179               337   \n0               0.00                  0.0068               257   \n...              ...                     ...               ...   \n0               0.02                  0.0032               595   \n0               0.00                  0.0157              1098   \n0               0.16                  0.0058               607   \n0               0.33                  0.0093               444   \n0               0.00                  0.0203               386   \n\n       stabilized_gasp  stabilized_nr_trades  stabilized_spread  \\\nindex                                                             \n0              -1.4448                  30.0               1.37   \n0               0.0446                  28.0               2.09   \n0              -0.5509                  31.0               1.31   \n0              -0.8569                  21.0               1.47   \n0               0.5210                  19.0               0.65   \n...                ...                   ...                ...   \n0              -0.1519                  25.0               1.15   \n0              -0.4763                  18.0               0.52   \n0              -0.2220                  24.0               0.76   \n0              -0.5556                  22.0               0.86   \n0              -0.7339                  13.0               1.41   \n\n       wave_direction  \nindex                  \n0                 max  \n0                 min  \n0                 max  \n0                 max  \n0                 min  \n...               ...  \n0                 max  \n0                None  \n0                 max  \n0                 max  \n0                 max  \n\n[82489 rows x 21 columns]",
      "text/html": "<div>\n<style scoped>\n    .dataframe tbody tr th:only-of-type {\n        vertical-align: middle;\n    }\n\n    .dataframe tbody tr th {\n        vertical-align: top;\n    }\n\n    .dataframe thead th {\n        text-align: right;\n    }\n</style>\n<table border=\"1\" class=\"dataframe\">\n  <thead>\n    <tr style=\"text-align: right;\">\n      <th></th>\n      <th>0_amount_mean</th>\n      <th>0_nr_trades</th>\n      <th>0_price_delta</th>\n      <th>1_amount_mean</th>\n      <th>1_nr_trades</th>\n      <th>1_price_delta</th>\n      <th>2_amount_mean</th>\n      <th>2_nr_trades</th>\n      <th>2_price_delta</th>\n      <th>3_amount_mean</th>\n      <th>...</th>\n      <th>3_price_delta</th>\n      <th>4_amount_mean</th>\n      <th>4_nr_trades</th>\n      <th>4_price_delta</th>\n      <th>stabilized_amount_mean</th>\n      <th>stabilized_at_ms</th>\n      <th>stabilized_gasp</th>\n      <th>stabilized_nr_trades</th>\n      <th>stabilized_spread</th>\n      <th>wave_direction</th>\n    </tr>\n    <tr>\n      <th>index</th>\n      <th></th>\n      <th></th>\n      <th></th>\n      <th></th>\n      <th></th>\n      <th></th>\n      <th></th>\n      <th></th>\n      <th></th>\n      <th></th>\n      <th></th>\n      <th></th>\n      <th></th>\n      <th></th>\n      <th></th>\n      <th></th>\n      <th></th>\n      <th></th>\n      <th></th>\n      <th></th>\n      <th></th>\n    </tr>\n  </thead>\n  <tbody>\n    <tr>\n      <th>0</th>\n      <td>0.0389</td>\n      <td>15.0</td>\n      <td>0.64</td>\n      <td>0.0483</td>\n      <td>16.0</td>\n      <td>0.64</td>\n      <td>0.0455</td>\n      <td>17.0</td>\n      <td>0.64</td>\n      <td>0.0432</td>\n      <td>...</td>\n      <td>0.64</td>\n      <td>0.0405</td>\n      <td>20.0</td>\n      <td>0.64</td>\n      <td>0.0443</td>\n      <td>485</td>\n      <td>-1.4448</td>\n      <td>30.0</td>\n      <td>1.37</td>\n      <td>max</td>\n    </tr>\n    <tr>\n      <th>0</th>\n      <td>0.0140</td>\n      <td>5.0</td>\n      <td>1.01</td>\n      <td>0.0118</td>\n      <td>6.0</td>\n      <td>0.99</td>\n      <td>0.0102</td>\n      <td>7.0</td>\n      <td>0.96</td>\n      <td>0.0097</td>\n      <td>...</td>\n      <td>0.59</td>\n      <td>0.0104</td>\n      <td>26.0</td>\n      <td>0.19</td>\n      <td>0.0103</td>\n      <td>177</td>\n      <td>0.0446</td>\n      <td>28.0</td>\n      <td>2.09</td>\n      <td>min</td>\n    </tr>\n    <tr>\n      <th>0</th>\n      <td>0.0037</td>\n      <td>24.0</td>\n      <td>0.09</td>\n      <td>0.0036</td>\n      <td>25.0</td>\n      <td>0.09</td>\n      <td>0.0038</td>\n      <td>26.0</td>\n      <td>0.09</td>\n      <td>0.0037</td>\n      <td>...</td>\n      <td>0.08</td>\n      <td>0.0035</td>\n      <td>29.0</td>\n      <td>0.02</td>\n      <td>0.0036</td>\n      <td>723</td>\n      <td>-0.5509</td>\n      <td>31.0</td>\n      <td>1.31</td>\n      <td>max</td>\n    </tr>\n    <tr>\n      <th>0</th>\n      <td>0.0055</td>\n      <td>4.0</td>\n      <td>0.79</td>\n      <td>0.0153</td>\n      <td>13.0</td>\n      <td>0.03</td>\n      <td>0.0148</td>\n      <td>15.0</td>\n      <td>0.03</td>\n      <td>0.0140</td>\n      <td>...</td>\n      <td>0.02</td>\n      <td>0.0186</td>\n      <td>19.0</td>\n      <td>0.01</td>\n      <td>0.0179</td>\n      <td>337</td>\n      <td>-0.8569</td>\n      <td>21.0</td>\n      <td>1.47</td>\n      <td>max</td>\n    </tr>\n    <tr>\n      <th>0</th>\n      <td>0.0032</td>\n      <td>3.0</td>\n      <td>0.61</td>\n      <td>0.0089</td>\n      <td>10.0</td>\n      <td>0.23</td>\n      <td>0.0076</td>\n      <td>12.0</td>\n      <td>0.10</td>\n      <td>0.0074</td>\n      <td>...</td>\n      <td>0.01</td>\n      <td>0.0073</td>\n      <td>16.0</td>\n      <td>0.00</td>\n      <td>0.0068</td>\n      <td>257</td>\n      <td>0.5210</td>\n      <td>19.0</td>\n      <td>0.65</td>\n      <td>min</td>\n    </tr>\n    <tr>\n      <th>...</th>\n      <td>...</td>\n      <td>...</td>\n      <td>...</td>\n      <td>...</td>\n      <td>...</td>\n      <td>...</td>\n      <td>...</td>\n      <td>...</td>\n      <td>...</td>\n      <td>...</td>\n      <td>...</td>\n      <td>...</td>\n      <td>...</td>\n      <td>...</td>\n      <td>...</td>\n      <td>...</td>\n      <td>...</td>\n      <td>...</td>\n      <td>...</td>\n      <td>...</td>\n      <td>...</td>\n    </tr>\n    <tr>\n      <th>0</th>\n      <td>0.0026</td>\n      <td>19.0</td>\n      <td>0.09</td>\n      <td>0.0034</td>\n      <td>21.0</td>\n      <td>0.09</td>\n      <td>0.0033</td>\n      <td>22.0</td>\n      <td>0.09</td>\n      <td>0.0032</td>\n      <td>...</td>\n      <td>0.09</td>\n      <td>0.0031</td>\n      <td>24.0</td>\n      <td>0.02</td>\n      <td>0.0032</td>\n      <td>595</td>\n      <td>-0.1519</td>\n      <td>25.0</td>\n      <td>1.15</td>\n      <td>max</td>\n    </tr>\n    <tr>\n      <th>0</th>\n      <td>0.0138</td>\n      <td>9.0</td>\n      <td>0.19</td>\n      <td>0.0163</td>\n      <td>11.0</td>\n      <td>0.03</td>\n      <td>0.0145</td>\n      <td>13.0</td>\n      <td>0.01</td>\n      <td>0.0132</td>\n      <td>...</td>\n      <td>0.00</td>\n      <td>0.0164</td>\n      <td>17.0</td>\n      <td>0.00</td>\n      <td>0.0157</td>\n      <td>1098</td>\n      <td>-0.4763</td>\n      <td>18.0</td>\n      <td>0.52</td>\n      <td>None</td>\n    </tr>\n    <tr>\n      <th>0</th>\n      <td>0.0071</td>\n      <td>17.0</td>\n      <td>0.16</td>\n      <td>0.0068</td>\n      <td>18.0</td>\n      <td>0.16</td>\n      <td>0.0066</td>\n      <td>20.0</td>\n      <td>0.16</td>\n      <td>0.0065</td>\n      <td>...</td>\n      <td>0.16</td>\n      <td>0.0062</td>\n      <td>22.0</td>\n      <td>0.16</td>\n      <td>0.0058</td>\n      <td>607</td>\n      <td>-0.2220</td>\n      <td>24.0</td>\n      <td>0.76</td>\n      <td>max</td>\n    </tr>\n    <tr>\n      <th>0</th>\n      <td>0.0020</td>\n      <td>8.0</td>\n      <td>0.63</td>\n      <td>0.0056</td>\n      <td>10.0</td>\n      <td>0.63</td>\n      <td>0.0051</td>\n      <td>11.0</td>\n      <td>0.40</td>\n      <td>0.0047</td>\n      <td>...</td>\n      <td>0.40</td>\n      <td>0.0043</td>\n      <td>14.0</td>\n      <td>0.33</td>\n      <td>0.0093</td>\n      <td>444</td>\n      <td>-0.5556</td>\n      <td>22.0</td>\n      <td>0.86</td>\n      <td>max</td>\n    </tr>\n    <tr>\n      <th>0</th>\n      <td>0.0243</td>\n      <td>7.0</td>\n      <td>0.47</td>\n      <td>0.0214</td>\n      <td>8.0</td>\n      <td>0.47</td>\n      <td>0.0193</td>\n      <td>9.0</td>\n      <td>0.47</td>\n      <td>0.0178</td>\n      <td>...</td>\n      <td>0.47</td>\n      <td>0.0196</td>\n      <td>12.0</td>\n      <td>0.00</td>\n      <td>0.0203</td>\n      <td>386</td>\n      <td>-0.7339</td>\n      <td>13.0</td>\n      <td>1.41</td>\n      <td>max</td>\n    </tr>\n  </tbody>\n</table>\n<p>82489 rows × 21 columns</p>\n</div>"
     },
     "execution_count": 1,
     "metadata": {},
     "output_type": "execute_result"
    }
   ],
   "source": [
    "import pandas as pd\n",
    "from sklearn.model_selection import train_test_split\n",
    "from sklearn.pipeline import Pipeline\n",
    "\n",
    "df = pd.read_parquet('./data')\n",
    "print(f'total dataset: {len(df)} rows')\n",
    "\n",
    "## filters\n",
    "df = df[df['stabilized_spread'] < 10]  # nem tul nagy spread\n",
    "df = df[df['stabilized_spread'] > 0.5]  # nem tul kis spread\n",
    "# df = df[abs(df['last_price_delta_since_stabilized']) > 0.1]\n",
    "# df = df[abs(df['last_price_delta_since_stabilized']) < 8]\n",
    "\n",
    "# df = df[df['stabilized_amount_mean'] < 0.4]  # nem tul nagy tradek\n",
    "# df = df[df['stabilized_nr_trades'] < 300]  # nem tul sok trade\n",
    "\n",
    "df.sort_index(axis=1, inplace=True)\n",
    "\n",
    "for col in df.columns:\n",
    "    # if 'nr_trades' in col or 'price_delta' in col and not col.startswith('last'):\n",
    "    #     df.drop(col, axis=1, inplace=True)\n",
    "    if 'past' in col:\n",
    "        df.drop(col, axis=1, inplace=True)\n",
    "    if '_spread' == col[1:]:\n",
    "        df.drop(col, axis=1, inplace=True)\n",
    "\n",
    "\n",
    "y = df['last_price_delta_since_stabilized']\n",
    "X = df.drop('last_price_delta_since_stabilized', axis=1)\n",
    "\n",
    "X_train, X_valid, y_train, y_valid = train_test_split(X, y, train_size=0.75, test_size=0.25, random_state=0)\n",
    "X_train"
   ]
  },
  {
   "cell_type": "code",
   "execution_count": 2,
   "outputs": [
    {
     "name": "stderr",
     "output_type": "stream",
     "text": [
      "2023-02-03 17:27:09.603 | INFO     | spreadsurfer.balance:<module>:9 - balance config: {'panic_below_total': 390, 'panic_countdown_from': 8}\n",
      "2023-02-03 17:27:09.604 | INFO     | spreadsurfer.waves:<module>:15 - wave detection config: {'min_length': 6, 'investigate_length': 5, 'stabilized_threshold': 0.01, 'max_delta_ms_to_create_order': 500, 'collect_last_n_frames': 6, 'collect_last_n_wave_prices': 10}\n",
      "2023-02-03 17:27:09.693 | INFO     | spreadsurfer.orders:<module>:18 - order config: {'orders_disabled': False, 'test_mode': True, 'max_nr_orders_limited': True, 'max_nr_orders_created': 20, 'base_amount': 0.0015, 'skip_order_on_spread_below': 0.2, 'skip_order_on_spread_above': 10, 'low_spread_limit': 0.2, 'recv_window': 100, 'cancel_far_order_after_ms': 400}\n"
     ]
    },
    {
     "data": {
      "text/plain": "0.1626978784278862"
     },
     "metadata": {},
     "output_type": "display_data"
    },
    {
     "data": {
      "text/plain": "0.3128700920573255"
     },
     "metadata": {},
     "output_type": "display_data"
    }
   ],
   "source": [
    "from spreadsurfer.price_engine import FeatureEngineer\n",
    "from catboost import CatBoostRegressor\n",
    "from sklearn.preprocessing import StandardScaler\n",
    "# from sklearn.ensemle import RandomForestRegressor\n",
    "\n",
    "model = CatBoostRegressor(learning_rate=0.01, depth=7, loss_function='MAPE', random_state=0, verbose=False, iterations=1500)\n",
    "model2 = CatBoostRegressor(learning_rate=0.01, depth=7, loss_function='RMSE', random_state=0, verbose=False, iterations=1500)\n",
    "trained_model = model\n",
    "\n",
    "pipeline = Pipeline(steps=[\n",
    "    ('preprocessor', FeatureEngineer()),\n",
    "    ('model', model)\n",
    "])\n",
    "\n",
    "pipeline2 = Pipeline(steps=[\n",
    "    ('preprocessor', FeatureEngineer()),\n",
    "    ('model', model2)\n",
    "])\n",
    "\n",
    "pipeline.fit(X_train, y_train)\n",
    "pipeline2.fit(X_train, y_train)\n",
    "score = pipeline.score(X_valid, y_valid)\n",
    "score2 = pipeline2.score(X_valid, y_valid)\n",
    "display(score)\n",
    "display(score2)\n"
   ],
   "metadata": {
    "collapsed": false
   }
  },
  {
   "cell_type": "code",
   "execution_count": 517,
   "outputs": [
    {
     "data": {
      "text/plain": "MetricVisualizer(layout=Layout(align_self='stretch', height='500px'))",
      "application/vnd.jupyter.widget-view+json": {
       "version_major": 2,
       "version_minor": 0,
       "model_id": "d4f30176009c401697486fa7b5cf1543"
      }
     },
     "metadata": {},
     "output_type": "display_data"
    },
    {
     "name": "stdout",
     "output_type": "stream",
     "text": [
      "boo\n"
     ]
    }
   ],
   "source": [
    "import catboost\n",
    "w = catboost.MetricVisualizer('./models', subdirs=True)\n",
    "w.start()"
   ],
   "metadata": {
    "collapsed": false
   }
  },
  {
   "cell_type": "code",
   "execution_count": 37,
   "outputs": [
    {
     "name": "stdout",
     "output_type": "stream",
     "text": [
      " Results from Grid Search \n",
      "\n",
      " The best estimator across ALL searched params:\n",
      " <catboost.core.CatBoostRegressor object at 0x7ff69a707d30>\n",
      "\n",
      " The best score across ALL searched params:\n",
      " 0.41200864218441446\n",
      "\n",
      " The best parameters across ALL searched params:\n",
      " {'depth': 7, 'iterations': 1500, 'learning_rate': 0.025}\n"
     ]
    }
   ],
   "source": [
    "from sklearn.model_selection import GridSearchCV\n",
    "\n",
    "do_grid_search = False\n",
    "\n",
    "if do_grid_search:\n",
    "    X = FeatureEngineer().transform(X)\n",
    "    X_train, X_valid, y_train, y_valid = train_test_split(X, y, train_size=0.8, test_size=0.2, random_state=0)\n",
    "\n",
    "    parameters = {'depth': [6, 7, 8],\n",
    "                  'learning_rate': [0.015, 0.025],\n",
    "                  'iterations': [500, 1000, 1500]\n",
    "                  }\n",
    "    grid = GridSearchCV(estimator=model, param_grid=parameters, cv=2, n_jobs=-1)\n",
    "    grid.fit(X_train, y_train)\n",
    "\n",
    "    print(\" Results from Grid Search \")\n",
    "    print(\"\\n The best estimator across ALL searched params:\\n\", grid.best_estimator_)\n",
    "    print(\"\\n The best score across ALL searched params:\\n\", grid.best_score_)\n",
    "    print(\"\\n The best parameters across ALL searched params:\\n\", grid.best_params_)"
   ],
   "metadata": {
    "collapsed": false
   }
  },
  {
   "cell_type": "code",
   "execution_count": 139,
   "outputs": [],
   "source": [
    "from spreadsurfer import now_isoformat\n",
    "\n",
    "save = True\n",
    "if save:\n",
    "    model.save_model(f'./models/{now_isoformat()}-mape-score-{1000 * round(score, 3)}.cat')\n",
    "    model2.save_model(f'./models/{now_isoformat()}-rmse-score-{1000 * round(score2, 3)}.cat')\n"
   ],
   "metadata": {
    "collapsed": false
   }
  },
  {
   "cell_type": "code",
   "execution_count": 1,
   "outputs": [
    {
     "ename": "NameError",
     "evalue": "name 'pd' is not defined",
     "output_type": "error",
     "traceback": [
      "\u001B[0;31m---------------------------------------------------------------------------\u001B[0m",
      "\u001B[0;31mNameError\u001B[0m                                 Traceback (most recent call last)",
      "Cell \u001B[0;32mIn[1], line 29\u001B[0m\n\u001B[1;32m     27\u001B[0m     display(\u001B[38;5;124mf\u001B[39m\u001B[38;5;124m'\u001B[39m\u001B[38;5;124mMAE: \u001B[39m\u001B[38;5;132;01m{\u001B[39;00mmae\u001B[38;5;250m \u001B[39m\u001B[38;5;241m/\u001B[39m\u001B[38;5;250m \u001B[39mcount\u001B[38;5;132;01m}\u001B[39;00m\u001B[38;5;124m'\u001B[39m)\n\u001B[1;32m     28\u001B[0m     display(\u001B[38;5;124mf\u001B[39m\u001B[38;5;124m'\u001B[39m\u001B[38;5;124mMAE2: \u001B[39m\u001B[38;5;132;01m{\u001B[39;00mmae2\u001B[38;5;250m \u001B[39m\u001B[38;5;241m/\u001B[39m\u001B[38;5;250m \u001B[39mcount\u001B[38;5;132;01m}\u001B[39;00m\u001B[38;5;124m'\u001B[39m)\n\u001B[0;32m---> 29\u001B[0m \u001B[43mpredict_samples\u001B[49m\u001B[43m(\u001B[49m\u001B[43m)\u001B[49m\n",
      "Cell \u001B[0;32mIn[1], line 13\u001B[0m, in \u001B[0;36mpredict_samples\u001B[0;34m()\u001B[0m\n\u001B[1;32m     11\u001B[0m json \u001B[38;5;241m=\u001B[39m \u001B[38;5;124m'\u001B[39m\u001B[38;5;124m{\u001B[39m\u001B[38;5;124m'\u001B[39m \u001B[38;5;241m+\u001B[39m line\u001B[38;5;241m.\u001B[39msplit(\u001B[38;5;124m'\u001B[39m\u001B[38;5;124m{\u001B[39m\u001B[38;5;124m'\u001B[39m)[\u001B[38;5;241m1\u001B[39m]\n\u001B[1;32m     12\u001B[0m json \u001B[38;5;241m=\u001B[39m json\u001B[38;5;241m.\u001B[39mreplace(\u001B[38;5;124m'\u001B[39m\u001B[38;5;124mnan\u001B[39m\u001B[38;5;124m'\u001B[39m, \u001B[38;5;124m'\u001B[39m\u001B[38;5;124m0\u001B[39m\u001B[38;5;124m'\u001B[39m)\n\u001B[0;32m---> 13\u001B[0m sample \u001B[38;5;241m=\u001B[39m \u001B[43mpd\u001B[49m\u001B[38;5;241m.\u001B[39mDataFrame([\u001B[38;5;28meval\u001B[39m(json)])\n\u001B[1;32m     15\u001B[0m real \u001B[38;5;241m=\u001B[39m sample\u001B[38;5;241m.\u001B[39mlast_price_delta_since_stabilized[\u001B[38;5;241m0\u001B[39m]\n\u001B[1;32m     16\u001B[0m \u001B[38;5;28;01mif\u001B[39;00m real \u001B[38;5;241m<\u001B[39m \u001B[38;5;241m0.1\u001B[39m: \u001B[38;5;28;01mcontinue\u001B[39;00m\n",
      "\u001B[0;31mNameError\u001B[0m: name 'pd' is not defined"
     ]
    }
   ],
   "source": [
    "with open(\"console.log\",\"r\") as f:\n",
    "    input_from_log = ''.join([x for x in f.readlines() if 'collected' in x][-100:])\n",
    "\n",
    "def predict_samples():\n",
    "    mae = 0\n",
    "    mae2 = 0\n",
    "    count = 0\n",
    "    for line in input_from_log.split('\\n'):\n",
    "        if not line: continue\n",
    "        count += 1\n",
    "        json = '{' + line.split('{')[1]\n",
    "        json = json.replace('nan', '0')\n",
    "        sample = pd.DataFrame([eval(json)])\n",
    "\n",
    "        real = sample.last_price_delta_since_stabilized[0]\n",
    "        if real < 0.1: continue\n",
    "        print('expected: ', real)\n",
    "        sample.drop('last_price_delta_since_stabilized', axis=1, inplace=True)\n",
    "\n",
    "        guess = pipeline.predict(sample)[0]\n",
    "        guess2 = pipeline2.predict(sample)[0]\n",
    "        print('predict: ', guess)\n",
    "        print('predict2: ', guess2)\n",
    "        mae += abs(real - guess)\n",
    "        mae2 += abs(real - guess2)\n",
    "        print()\n",
    "    display(f'MAE: {mae / count}')\n",
    "    display(f'MAE2: {mae2 / count}')\n",
    "predict_samples()"
   ],
   "metadata": {
    "collapsed": false
   }
  },
  {
   "cell_type": "code",
   "execution_count": 100,
   "outputs": [
    {
     "ename": "AttributeError",
     "evalue": "'Series' object has no attribute 'real'",
     "output_type": "error",
     "traceback": [
      "\u001B[0;31m---------------------------------------------------------------------------\u001B[0m",
      "\u001B[0;31mAttributeError\u001B[0m                            Traceback (most recent call last)",
      "Cell \u001B[0;32mIn[100], line 9\u001B[0m\n\u001B[1;32m      1\u001B[0m sample \u001B[38;5;241m=\u001B[39m pd\u001B[38;5;241m.\u001B[39mDataFrame([\n\u001B[1;32m      2\u001B[0m     {\u001B[38;5;124m'\u001B[39m\u001B[38;5;124m0_amount_mean\u001B[39m\u001B[38;5;124m'\u001B[39m: \u001B[38;5;241m0.007\u001B[39m, \u001B[38;5;124m'\u001B[39m\u001B[38;5;124m0_nr_trades\u001B[39m\u001B[38;5;124m'\u001B[39m: \u001B[38;5;241m12.0\u001B[39m, \u001B[38;5;124m'\u001B[39m\u001B[38;5;124m0_price_delta\u001B[39m\u001B[38;5;124m'\u001B[39m: \u001B[38;5;241m0.91\u001B[39m, \u001B[38;5;124m'\u001B[39m\u001B[38;5;124m0_spread\u001B[39m\u001B[38;5;124m'\u001B[39m: \u001B[38;5;241m1.15\u001B[39m, \u001B[38;5;124m'\u001B[39m\u001B[38;5;124m1_amount_mean\u001B[39m\u001B[38;5;124m'\u001B[39m: \u001B[38;5;241m0.007\u001B[39m, \u001B[38;5;124m'\u001B[39m\u001B[38;5;124m1_nr_trades\u001B[39m\u001B[38;5;124m'\u001B[39m: \u001B[38;5;241m13.0\u001B[39m, \u001B[38;5;124m'\u001B[39m\u001B[38;5;124m1_price_delta\u001B[39m\u001B[38;5;124m'\u001B[39m: \u001B[38;5;241m0.91\u001B[39m, \u001B[38;5;124m'\u001B[39m\u001B[38;5;124m1_spread\u001B[39m\u001B[38;5;124m'\u001B[39m: \u001B[38;5;241m1.52\u001B[39m, \u001B[38;5;124m'\u001B[39m\u001B[38;5;124m2_amount_mean\u001B[39m\u001B[38;5;124m'\u001B[39m: \u001B[38;5;241m0.006\u001B[39m, \u001B[38;5;124m'\u001B[39m\u001B[38;5;124m2_nr_trades\u001B[39m\u001B[38;5;124m'\u001B[39m: \u001B[38;5;241m14.0\u001B[39m,\n\u001B[1;32m      3\u001B[0m      \u001B[38;5;124m'\u001B[39m\u001B[38;5;124m2_price_delta\u001B[39m\u001B[38;5;124m'\u001B[39m: \u001B[38;5;241m0.91\u001B[39m, \u001B[38;5;124m'\u001B[39m\u001B[38;5;124m2_spread\u001B[39m\u001B[38;5;124m'\u001B[39m: \u001B[38;5;241m1.52\u001B[39m, \u001B[38;5;124m'\u001B[39m\u001B[38;5;124m3_amount_mean\u001B[39m\u001B[38;5;124m'\u001B[39m: \u001B[38;5;241m0.006\u001B[39m, \u001B[38;5;124m'\u001B[39m\u001B[38;5;124m3_nr_trades\u001B[39m\u001B[38;5;124m'\u001B[39m: \u001B[38;5;241m16.0\u001B[39m, \u001B[38;5;124m'\u001B[39m\u001B[38;5;124m3_price_delta\u001B[39m\u001B[38;5;124m'\u001B[39m: \u001B[38;5;241m0.69\u001B[39m, \u001B[38;5;124m'\u001B[39m\u001B[38;5;124m3_spread\u001B[39m\u001B[38;5;124m'\u001B[39m: \u001B[38;5;241m1.74\u001B[39m, \u001B[38;5;124m'\u001B[39m\u001B[38;5;124m4_amount_mean\u001B[39m\u001B[38;5;124m'\u001B[39m: \u001B[38;5;241m0.005\u001B[39m, \u001B[38;5;124m'\u001B[39m\u001B[38;5;124m4_nr_trades\u001B[39m\u001B[38;5;124m'\u001B[39m: \u001B[38;5;241m17.0\u001B[39m, \u001B[38;5;124m'\u001B[39m\u001B[38;5;124m4_price_delta\u001B[39m\u001B[38;5;124m'\u001B[39m: \u001B[38;5;241m0.69\u001B[39m, \u001B[38;5;124m'\u001B[39m\u001B[38;5;124m4_spread\u001B[39m\u001B[38;5;124m'\u001B[39m: \u001B[38;5;241m1.74\u001B[39m,\n\u001B[0;32m   (...)\u001B[0m\n\u001B[1;32m      6\u001B[0m      \u001B[38;5;124m'\u001B[39m\u001B[38;5;124mpast_final_price_9\u001B[39m\u001B[38;5;124m'\u001B[39m: \u001B[38;5;241m0.0\u001B[39m, \u001B[38;5;124m'\u001B[39m\u001B[38;5;124mstabilized_amount_mean\u001B[39m\u001B[38;5;124m'\u001B[39m: \u001B[38;5;241m0.007\u001B[39m, \u001B[38;5;124m'\u001B[39m\u001B[38;5;124mstabilized_at_ms\u001B[39m\u001B[38;5;124m'\u001B[39m: \u001B[38;5;241m369\u001B[39m, \u001B[38;5;124m'\u001B[39m\u001B[38;5;124mstabilized_nr_trades\u001B[39m\u001B[38;5;124m'\u001B[39m: \u001B[38;5;241m18.0\u001B[39m, \u001B[38;5;124m'\u001B[39m\u001B[38;5;124mstabilized_spread\u001B[39m\u001B[38;5;124m'\u001B[39m: \u001B[38;5;241m2.43\u001B[39m, \u001B[38;5;124m'\u001B[39m\u001B[38;5;124mwave_direction\u001B[39m\u001B[38;5;124m'\u001B[39m: \u001B[38;5;124m'\u001B[39m\u001B[38;5;124mmax\u001B[39m\u001B[38;5;124m'\u001B[39m}\n\u001B[1;32m      7\u001B[0m ])\n\u001B[0;32m----> 9\u001B[0m \u001B[38;5;28mprint\u001B[39m(\u001B[38;5;124m'\u001B[39m\u001B[38;5;124mexpected: \u001B[39m\u001B[38;5;124m'\u001B[39m, \u001B[43msample\u001B[49m\u001B[38;5;241;43m.\u001B[39;49m\u001B[43mlast_price_delta_since_stabilized\u001B[49m\u001B[38;5;241;43m.\u001B[39;49m\u001B[43mreal\u001B[49m())\n\u001B[1;32m     10\u001B[0m sample\u001B[38;5;241m.\u001B[39mdrop(\u001B[38;5;124m'\u001B[39m\u001B[38;5;124mlast_price_delta_since_stabilized\u001B[39m\u001B[38;5;124m'\u001B[39m, axis\u001B[38;5;241m=\u001B[39m\u001B[38;5;241m1\u001B[39m, inplace\u001B[38;5;241m=\u001B[39m\u001B[38;5;28;01mTrue\u001B[39;00m)\n\u001B[1;32m     12\u001B[0m \u001B[38;5;28;01mfrom\u001B[39;00m \u001B[38;5;21;01mtimeit\u001B[39;00m \u001B[38;5;28;01mimport\u001B[39;00m timeit\n",
      "File \u001B[0;32m~/workspace/cy/04-ccxt/venv/lib/python3.10/site-packages/pandas/core/generic.py:5902\u001B[0m, in \u001B[0;36mNDFrame.__getattr__\u001B[0;34m(self, name)\u001B[0m\n\u001B[1;32m   5895\u001B[0m \u001B[38;5;28;01mif\u001B[39;00m (\n\u001B[1;32m   5896\u001B[0m     name \u001B[38;5;129;01mnot\u001B[39;00m \u001B[38;5;129;01min\u001B[39;00m \u001B[38;5;28mself\u001B[39m\u001B[38;5;241m.\u001B[39m_internal_names_set\n\u001B[1;32m   5897\u001B[0m     \u001B[38;5;129;01mand\u001B[39;00m name \u001B[38;5;129;01mnot\u001B[39;00m \u001B[38;5;129;01min\u001B[39;00m \u001B[38;5;28mself\u001B[39m\u001B[38;5;241m.\u001B[39m_metadata\n\u001B[1;32m   5898\u001B[0m     \u001B[38;5;129;01mand\u001B[39;00m name \u001B[38;5;129;01mnot\u001B[39;00m \u001B[38;5;129;01min\u001B[39;00m \u001B[38;5;28mself\u001B[39m\u001B[38;5;241m.\u001B[39m_accessors\n\u001B[1;32m   5899\u001B[0m     \u001B[38;5;129;01mand\u001B[39;00m \u001B[38;5;28mself\u001B[39m\u001B[38;5;241m.\u001B[39m_info_axis\u001B[38;5;241m.\u001B[39m_can_hold_identifiers_and_holds_name(name)\n\u001B[1;32m   5900\u001B[0m ):\n\u001B[1;32m   5901\u001B[0m     \u001B[38;5;28;01mreturn\u001B[39;00m \u001B[38;5;28mself\u001B[39m[name]\n\u001B[0;32m-> 5902\u001B[0m \u001B[38;5;28;01mreturn\u001B[39;00m \u001B[38;5;28;43mobject\u001B[39;49m\u001B[38;5;241;43m.\u001B[39;49m\u001B[38;5;21;43m__getattribute__\u001B[39;49m\u001B[43m(\u001B[49m\u001B[38;5;28;43mself\u001B[39;49m\u001B[43m,\u001B[49m\u001B[43m \u001B[49m\u001B[43mname\u001B[49m\u001B[43m)\u001B[49m\n",
      "\u001B[0;31mAttributeError\u001B[0m: 'Series' object has no attribute 'real'"
     ]
    }
   ],
   "source": [
    "sample = pd.DataFrame([\n",
    "    {'0_amount_mean': 0.007, '0_nr_trades': 12.0, '0_price_delta': 0.91, '0_spread': 1.15, '1_amount_mean': 0.007, '1_nr_trades': 13.0, '1_price_delta': 0.91, '1_spread': 1.52, '2_amount_mean': 0.006, '2_nr_trades': 14.0,\n",
    "     '2_price_delta': 0.91, '2_spread': 1.52, '3_amount_mean': 0.006, '3_nr_trades': 16.0, '3_price_delta': 0.69, '3_spread': 1.74, '4_amount_mean': 0.005, '4_nr_trades': 17.0, '4_price_delta': 0.69, '4_spread': 1.74,\n",
    "     'last_price_delta_since_stabilized': -0.87, 'past_final_price_0': -0.11999999999898137, 'past_final_price_1': 0.25, 'past_final_price_2': -0.020000000000436557, 'past_final_price_3': -1.7400000000016007,\n",
    "     'past_final_price_4': 0.06999999999970896, 'past_final_price_5': -2.7299999999995634, 'past_final_price_6': -3.9099999999998545, 'past_final_price_7': 3.360000000000582, 'past_final_price_8': -0.06000000000130967,\n",
    "     'past_final_price_9': 0.0, 'stabilized_amount_mean': 0.007, 'stabilized_at_ms': 369, 'stabilized_nr_trades': 18.0, 'stabilized_spread': 2.43, 'wave_direction': 'max'}\n",
    "])\n",
    "\n",
    "print('expected: ', sample.last_price_delta_since_stabilized.real())\n",
    "sample.drop('last_price_delta_since_stabilized', axis=1, inplace=True)\n",
    "\n",
    "from timeit import timeit\n",
    "\n",
    "timeit(lambda: pipeline.predict(sample), number=1) * 1000\n",
    "print('predict: ', pipeline.predict(sample)[0])\n"
   ],
   "metadata": {
    "collapsed": false
   }
  },
  {
   "cell_type": "code",
   "execution_count": 154,
   "outputs": [
    {
     "name": "stdout",
     "output_type": "stream",
     "text": [
      "catboost model loaded from 2023-02-01T09:14:50-rmse-score-291.0.cat\n",
      "expected:  0.15\n",
      "predict:  0.598326925615093\n",
      "predict2:  0.5982384053273737\n",
      "\n",
      "expected:  0.63\n",
      "predict:  0.5701546470393212\n",
      "predict2:  0.5327435323645455\n",
      "\n",
      "expected:  0.92\n",
      "predict:  0.2571625478008876\n",
      "predict2:  0.26213133691454216\n",
      "\n"
     ]
    },
    {
     "data": {
      "text/plain": "'MAE: 0.07318810817343027'"
     },
     "metadata": {},
     "output_type": "display_data"
    },
    {
     "data": {
      "text/plain": "'MAE2: 0.07521022100301789'"
     },
     "metadata": {},
     "output_type": "display_data"
    }
   ],
   "source": [
    "from glob import glob\n",
    "\n",
    "cat_filename = glob('*.cat')[0]\n",
    "cat_filename\n",
    "\n",
    "model = CatBoostRegressor()\n",
    "model.load_model(fname=cat_filename)\n",
    "print(f'catboost model loaded from {cat_filename}')\n",
    "\n",
    "\n",
    "pipeline = Pipeline(steps=[\n",
    "    ('preprocessor', FeatureEngineer()),\n",
    "    ('model', model)\n",
    "])\n",
    "\n",
    "predict_samples()\n"
   ],
   "metadata": {
    "collapsed": false
   }
  }
 ],
 "metadata": {
  "kernelspec": {
   "display_name": "Python 3",
   "language": "python",
   "name": "python3"
  },
  "language_info": {
   "codemirror_mode": {
    "name": "ipython",
    "version": 2
   },
   "file_extension": ".py",
   "mimetype": "text/x-python",
   "name": "python",
   "nbconvert_exporter": "python",
   "pygments_lexer": "ipython2",
   "version": "2.7.6"
  }
 },
 "nbformat": 4,
 "nbformat_minor": 0
}
