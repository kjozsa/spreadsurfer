{
 "cells": [
  {
   "cell_type": "code",
   "execution_count": 3,
   "metadata": {
    "collapsed": true
   },
   "outputs": [
    {
     "name": "stdout",
     "output_type": "stream",
     "text": [
      "fitting on 11661 records\n"
     ]
    },
    {
     "data": {
      "text/plain": "0.5584306348406086"
     },
     "metadata": {},
     "output_type": "display_data"
    }
   ],
   "source": [
    "from sklearn.pipeline import Pipeline\n",
    "from sklearn.base import BaseEstimator\n",
    "from sklearn.base import TransformerMixin\n",
    "from sklearn.model_selection import train_test_split\n",
    "from sklearn.ensemble import RandomForestRegressor\n",
    "import pandas as pd\n",
    "\n",
    "class FeatureEngineer(BaseEstimator, TransformerMixin):\n",
    "    def fit(self, X, y):\n",
    "        print(f'fitting on {len(X)} records')\n",
    "        return self\n",
    "\n",
    "    def transform(self, X, y=None):\n",
    "        df = X.copy()\n",
    "        df.loc[df['wave_direction'] == 'min', 'wave_direction'] = 1\n",
    "        df.loc[df['wave_direction'] == 'max'] = -1\n",
    "        df = df.astype({\"wave_direction\": 'float64'})\n",
    "        return df\n",
    "\n",
    "\n",
    "pipeline = Pipeline(steps=[\n",
    "    ('preprocessor', FeatureEngineer()),\n",
    "    ('model', RandomForestRegressor(n_estimators=50, random_state=0))\n",
    "])\n",
    "\n",
    "df = pd.read_parquet('./data')\n",
    "df = df[abs(df['last_price_delta_since_stabilized']) < 10]\n",
    "df = df[abs(df['last_price_delta_since_stabilized']) > 0.2]\n",
    "\n",
    "if '0_price' in df.columns:\n",
    "    df.drop('0_price', axis=1, inplace=True)\n",
    "    df.drop('1_price', axis=1, inplace=True)\n",
    "    df.drop('2_price', axis=1, inplace=True)\n",
    "    df.drop('3_price', axis=1, inplace=True)\n",
    "    df.drop('4_price', axis=1, inplace=True)\n",
    "\n",
    "# df = df[df['stabilized_spread'] < 10] # nem tul nagy spread\n",
    "# df = df[df['stabilized_amount_mean'] < 0.4]  # nem tul nagy tradek\n",
    "# df = df[df['stabilized_nr_trades'] < 300]  # nem tul sok trade\n",
    "\n",
    "# for col in df.columns:\n",
    "#     if 'nr_trades' in col or 'price_delta' in col and not col.startswith('last'):\n",
    "#         df.drop(col, axis=1, inplace=True)\n",
    "# df.drop('wave_direction', axis=1, inplace=True)\n",
    "\n",
    "df.sort_index(axis=1, inplace=True)\n",
    "\n",
    "y = df['last_price_delta_since_stabilized']\n",
    "X = df.drop('last_price_delta_since_stabilized', axis=1)\n",
    "\n",
    "X_train, X_valid, y_train, y_valid = train_test_split(X, y, train_size=0.8, test_size=0.2, random_state=0)\n",
    "pipeline.fit(X_train, y_train)\n",
    "display(pipeline.score(X_valid, y_valid))\n"
   ]
  },
  {
   "cell_type": "code",
   "execution_count": null,
   "outputs": [],
   "source": [
    "sample = pd.DataFrame([\n",
    "    {'0_amount_mean': 0.094411, '0_nr_trades': 75.0, '0_price_delta': 0.61, '0_spread': 1.44, '1_amount_mean': 0.093298, '1_nr_trades': 76.0, '1_price_delta': 0.61, '1_spread': 1.44, '2_amount_mean': 0.092106, '2_nr_trades': 77.0,\n",
    "     '2_price_delta': 0.61, '2_spread': 1.44, '3_amount_mean': 0.084998, '3_nr_trades': 85.0, '3_price_delta': 0.11, '3_spread': 1.94, '4_amount_mean': 0.084199, '4_nr_trades': 86.0, '4_price_delta': 0.04, '4_spread': 2.01,\n",
    "     'last_price_delta_since_stabilized': 1.97, 'stabilized_amount_mean': 0.08325, 'stabilized_at_ms': 123, 'stabilized_nr_trades': 87.0, 'stabilized_spread': 2.05, 'wave_direction': 'min'}\n",
    "])\n",
    "sample.drop('last_price_delta_since_stabilized', axis=1, inplace=True)\n",
    "# sample.drop('wave_direction', axis=1, inplace=True)\n",
    "pipeline.predict(sample)\n"
   ],
   "metadata": {
    "collapsed": false
   }
  }
 ],
 "metadata": {
  "kernelspec": {
   "display_name": "Python 3",
   "language": "python",
   "name": "python3"
  },
  "language_info": {
   "codemirror_mode": {
    "name": "ipython",
    "version": 2
   },
   "file_extension": ".py",
   "mimetype": "text/x-python",
   "name": "python",
   "nbconvert_exporter": "python",
   "pygments_lexer": "ipython2",
   "version": "2.7.6"
  }
 },
 "nbformat": 4,
 "nbformat_minor": 0
}
