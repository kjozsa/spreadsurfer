{
 "cells": [
  {
   "cell_type": "code",
   "execution_count": 508,
   "metadata": {
    "collapsed": true
   },
   "outputs": [
    {
     "name": "stdout",
     "output_type": "stream",
     "text": [
      "total dataset: 63000 rows\n"
     ]
    },
    {
     "data": {
      "text/plain": "       0_amount_mean  0_nr_trades  0_price_delta  0_spread  1_amount_mean  \\\nindex                                                                       \n0             0.0133         17.0           0.53      0.44         0.0126   \n0             0.0067          5.0           0.00      0.67         0.0068   \n0             0.0029          3.0           0.25      0.64         0.0047   \n0             0.0018          3.0           0.66      0.58         0.0382   \n0             0.0256          6.0           0.23      0.57         0.0220   \n...              ...          ...            ...       ...            ...   \n0             0.0276          5.0           0.00      0.02         0.0318   \n0             0.0452        226.0           0.58      3.34         0.0451   \n0             0.0174          4.0           1.22      1.06         0.0178   \n0             0.0477          4.0           0.42      0.47         0.0967   \n0             0.0713         40.0           0.86      2.06         0.0699   \n\n       1_nr_trades  1_price_delta  1_spread  2_amount_mean  2_nr_trades  ...  \\\nindex                                                                    ...   \n0             18.0           0.53      0.61         0.0291         27.0  ...   \n0              6.0           0.00      0.67         0.0074          7.0  ...   \n0              4.0           0.25      0.65         0.0086          5.0  ...   \n0              5.0           0.65      0.59         0.0264         11.0  ...   \n0              7.0           0.23      0.57         0.0248          8.0  ...   \n...            ...            ...       ...            ...          ...  ...   \n0              6.0           0.00      0.02         0.0347          7.0  ...   \n0            227.0           0.58      3.34         0.0448        229.0  ...   \n0             17.0           0.42      1.86         0.0174         18.0  ...   \n0              7.0           0.31      0.58         0.0686         10.0  ...   \n0             41.0           0.86      2.06         0.0683         42.0  ...   \n\n       past_final_price_5  past_final_price_6  past_final_price_7  \\\nindex                                                               \n0                   -2.01               -0.90               -3.14   \n0                    7.52               -0.62               -2.24   \n0                    0.87                3.02                0.98   \n0                  -14.06              -12.20               -2.68   \n0                   -1.08               -0.08               -0.21   \n...                   ...                 ...                 ...   \n0                   -7.82               -5.13               -4.21   \n0                    1.40                 NaN                0.13   \n0                   -5.59               -3.56               -1.20   \n0                   -1.67               -1.91               -2.44   \n0                   -2.48                1.78               -1.04   \n\n       past_final_price_8  past_final_price_9  stabilized_amount_mean  \\\nindex                                                                   \n0                   -3.71               -0.07                  0.0377   \n0                    0.05                0.73                  0.0184   \n0                    0.63                0.00                  0.0355   \n0                   -2.83               -4.60                  0.0234   \n0                   -0.23                0.00                  0.0166   \n...                   ...                 ...                     ...   \n0                   -0.69               -0.22                  0.0304   \n0                    1.50                0.00                  0.0434   \n0                    0.99               -1.38                  0.0151   \n0                    0.42               -2.94                  0.0561   \n0                    2.57                0.00                  0.0612   \n\n       stabilized_at_ms  stabilized_nr_trades  stabilized_spread  \\\nindex                                                              \n0                   662                  30.0               1.14   \n0                   393                  16.0               0.82   \n0                   483                  14.0               0.90   \n0                    98                  14.0               1.24   \n0                   586                  13.0               0.80   \n...                 ...                   ...                ...   \n0                   140                  11.0               0.21   \n0                   781                 255.0               3.92   \n0                    94                  22.0               2.28   \n0                   153                  14.0               0.89   \n0                   285                  51.0               2.92   \n\n       wave_direction  \nindex                  \n0                None  \n0                None  \n0                 min  \n0                None  \n0                 max  \n...               ...  \n0                None  \n0                 min  \n0                None  \n0                None  \n0                 max  \n\n[44100 rows x 35 columns]",
      "text/html": "<div>\n<style scoped>\n    .dataframe tbody tr th:only-of-type {\n        vertical-align: middle;\n    }\n\n    .dataframe tbody tr th {\n        vertical-align: top;\n    }\n\n    .dataframe thead th {\n        text-align: right;\n    }\n</style>\n<table border=\"1\" class=\"dataframe\">\n  <thead>\n    <tr style=\"text-align: right;\">\n      <th></th>\n      <th>0_amount_mean</th>\n      <th>0_nr_trades</th>\n      <th>0_price_delta</th>\n      <th>0_spread</th>\n      <th>1_amount_mean</th>\n      <th>1_nr_trades</th>\n      <th>1_price_delta</th>\n      <th>1_spread</th>\n      <th>2_amount_mean</th>\n      <th>2_nr_trades</th>\n      <th>...</th>\n      <th>past_final_price_5</th>\n      <th>past_final_price_6</th>\n      <th>past_final_price_7</th>\n      <th>past_final_price_8</th>\n      <th>past_final_price_9</th>\n      <th>stabilized_amount_mean</th>\n      <th>stabilized_at_ms</th>\n      <th>stabilized_nr_trades</th>\n      <th>stabilized_spread</th>\n      <th>wave_direction</th>\n    </tr>\n    <tr>\n      <th>index</th>\n      <th></th>\n      <th></th>\n      <th></th>\n      <th></th>\n      <th></th>\n      <th></th>\n      <th></th>\n      <th></th>\n      <th></th>\n      <th></th>\n      <th></th>\n      <th></th>\n      <th></th>\n      <th></th>\n      <th></th>\n      <th></th>\n      <th></th>\n      <th></th>\n      <th></th>\n      <th></th>\n      <th></th>\n    </tr>\n  </thead>\n  <tbody>\n    <tr>\n      <th>0</th>\n      <td>0.0133</td>\n      <td>17.0</td>\n      <td>0.53</td>\n      <td>0.44</td>\n      <td>0.0126</td>\n      <td>18.0</td>\n      <td>0.53</td>\n      <td>0.61</td>\n      <td>0.0291</td>\n      <td>27.0</td>\n      <td>...</td>\n      <td>-2.01</td>\n      <td>-0.90</td>\n      <td>-3.14</td>\n      <td>-3.71</td>\n      <td>-0.07</td>\n      <td>0.0377</td>\n      <td>662</td>\n      <td>30.0</td>\n      <td>1.14</td>\n      <td>None</td>\n    </tr>\n    <tr>\n      <th>0</th>\n      <td>0.0067</td>\n      <td>5.0</td>\n      <td>0.00</td>\n      <td>0.67</td>\n      <td>0.0068</td>\n      <td>6.0</td>\n      <td>0.00</td>\n      <td>0.67</td>\n      <td>0.0074</td>\n      <td>7.0</td>\n      <td>...</td>\n      <td>7.52</td>\n      <td>-0.62</td>\n      <td>-2.24</td>\n      <td>0.05</td>\n      <td>0.73</td>\n      <td>0.0184</td>\n      <td>393</td>\n      <td>16.0</td>\n      <td>0.82</td>\n      <td>None</td>\n    </tr>\n    <tr>\n      <th>0</th>\n      <td>0.0029</td>\n      <td>3.0</td>\n      <td>0.25</td>\n      <td>0.64</td>\n      <td>0.0047</td>\n      <td>4.0</td>\n      <td>0.25</td>\n      <td>0.65</td>\n      <td>0.0086</td>\n      <td>5.0</td>\n      <td>...</td>\n      <td>0.87</td>\n      <td>3.02</td>\n      <td>0.98</td>\n      <td>0.63</td>\n      <td>0.00</td>\n      <td>0.0355</td>\n      <td>483</td>\n      <td>14.0</td>\n      <td>0.90</td>\n      <td>min</td>\n    </tr>\n    <tr>\n      <th>0</th>\n      <td>0.0018</td>\n      <td>3.0</td>\n      <td>0.66</td>\n      <td>0.58</td>\n      <td>0.0382</td>\n      <td>5.0</td>\n      <td>0.65</td>\n      <td>0.59</td>\n      <td>0.0264</td>\n      <td>11.0</td>\n      <td>...</td>\n      <td>-14.06</td>\n      <td>-12.20</td>\n      <td>-2.68</td>\n      <td>-2.83</td>\n      <td>-4.60</td>\n      <td>0.0234</td>\n      <td>98</td>\n      <td>14.0</td>\n      <td>1.24</td>\n      <td>None</td>\n    </tr>\n    <tr>\n      <th>0</th>\n      <td>0.0256</td>\n      <td>6.0</td>\n      <td>0.23</td>\n      <td>0.57</td>\n      <td>0.0220</td>\n      <td>7.0</td>\n      <td>0.23</td>\n      <td>0.57</td>\n      <td>0.0248</td>\n      <td>8.0</td>\n      <td>...</td>\n      <td>-1.08</td>\n      <td>-0.08</td>\n      <td>-0.21</td>\n      <td>-0.23</td>\n      <td>0.00</td>\n      <td>0.0166</td>\n      <td>586</td>\n      <td>13.0</td>\n      <td>0.80</td>\n      <td>max</td>\n    </tr>\n    <tr>\n      <th>...</th>\n      <td>...</td>\n      <td>...</td>\n      <td>...</td>\n      <td>...</td>\n      <td>...</td>\n      <td>...</td>\n      <td>...</td>\n      <td>...</td>\n      <td>...</td>\n      <td>...</td>\n      <td>...</td>\n      <td>...</td>\n      <td>...</td>\n      <td>...</td>\n      <td>...</td>\n      <td>...</td>\n      <td>...</td>\n      <td>...</td>\n      <td>...</td>\n      <td>...</td>\n      <td>...</td>\n    </tr>\n    <tr>\n      <th>0</th>\n      <td>0.0276</td>\n      <td>5.0</td>\n      <td>0.00</td>\n      <td>0.02</td>\n      <td>0.0318</td>\n      <td>6.0</td>\n      <td>0.00</td>\n      <td>0.02</td>\n      <td>0.0347</td>\n      <td>7.0</td>\n      <td>...</td>\n      <td>-7.82</td>\n      <td>-5.13</td>\n      <td>-4.21</td>\n      <td>-0.69</td>\n      <td>-0.22</td>\n      <td>0.0304</td>\n      <td>140</td>\n      <td>11.0</td>\n      <td>0.21</td>\n      <td>None</td>\n    </tr>\n    <tr>\n      <th>0</th>\n      <td>0.0452</td>\n      <td>226.0</td>\n      <td>0.58</td>\n      <td>3.34</td>\n      <td>0.0451</td>\n      <td>227.0</td>\n      <td>0.58</td>\n      <td>3.34</td>\n      <td>0.0448</td>\n      <td>229.0</td>\n      <td>...</td>\n      <td>1.40</td>\n      <td>NaN</td>\n      <td>0.13</td>\n      <td>1.50</td>\n      <td>0.00</td>\n      <td>0.0434</td>\n      <td>781</td>\n      <td>255.0</td>\n      <td>3.92</td>\n      <td>min</td>\n    </tr>\n    <tr>\n      <th>0</th>\n      <td>0.0174</td>\n      <td>4.0</td>\n      <td>1.22</td>\n      <td>1.06</td>\n      <td>0.0178</td>\n      <td>17.0</td>\n      <td>0.42</td>\n      <td>1.86</td>\n      <td>0.0174</td>\n      <td>18.0</td>\n      <td>...</td>\n      <td>-5.59</td>\n      <td>-3.56</td>\n      <td>-1.20</td>\n      <td>0.99</td>\n      <td>-1.38</td>\n      <td>0.0151</td>\n      <td>94</td>\n      <td>22.0</td>\n      <td>2.28</td>\n      <td>None</td>\n    </tr>\n    <tr>\n      <th>0</th>\n      <td>0.0477</td>\n      <td>4.0</td>\n      <td>0.42</td>\n      <td>0.47</td>\n      <td>0.0967</td>\n      <td>7.0</td>\n      <td>0.31</td>\n      <td>0.58</td>\n      <td>0.0686</td>\n      <td>10.0</td>\n      <td>...</td>\n      <td>-1.67</td>\n      <td>-1.91</td>\n      <td>-2.44</td>\n      <td>0.42</td>\n      <td>-2.94</td>\n      <td>0.0561</td>\n      <td>153</td>\n      <td>14.0</td>\n      <td>0.89</td>\n      <td>None</td>\n    </tr>\n    <tr>\n      <th>0</th>\n      <td>0.0713</td>\n      <td>40.0</td>\n      <td>0.86</td>\n      <td>2.06</td>\n      <td>0.0699</td>\n      <td>41.0</td>\n      <td>0.86</td>\n      <td>2.06</td>\n      <td>0.0683</td>\n      <td>42.0</td>\n      <td>...</td>\n      <td>-2.48</td>\n      <td>1.78</td>\n      <td>-1.04</td>\n      <td>2.57</td>\n      <td>0.00</td>\n      <td>0.0612</td>\n      <td>285</td>\n      <td>51.0</td>\n      <td>2.92</td>\n      <td>max</td>\n    </tr>\n  </tbody>\n</table>\n<p>44100 rows × 35 columns</p>\n</div>"
     },
     "execution_count": 508,
     "metadata": {},
     "output_type": "execute_result"
    }
   ],
   "source": [
    "import pandas as pd\n",
    "from sklearn.model_selection import train_test_split\n",
    "from sklearn.pipeline import Pipeline\n",
    "\n",
    "df = pd.read_parquet('./data')\n",
    "print(f'total dataset: {len(df)} rows')\n",
    "\n",
    "## filters\n",
    "# df = df[df['stabilized_spread'] < 10]  # nem tul nagy spread\n",
    "# df = df[df['stabilized_spread'] > 0.2]  # nem tul nagy spread\n",
    "# df = df[abs(df['last_price_delta_since_stabilized']) > 0.1]\n",
    "# df = df[abs(df['last_price_delta_since_stabilized']) < 8]\n",
    "\n",
    "# df = df[df['stabilized_amount_mean'] < 0.4]  # nem tul nagy tradek\n",
    "# df = df[df['stabilized_nr_trades'] < 300]  # nem tul sok trade\n",
    "\n",
    "df.sort_index(axis=1, inplace=True)\n",
    "\n",
    "y = df['last_price_delta_since_stabilized']\n",
    "X = df.drop('last_price_delta_since_stabilized', axis=1)\n",
    "\n",
    "X_train, X_valid, y_train, y_valid = train_test_split(X, y, train_size=0.7, test_size=0.3, random_state=0)\n",
    "X_train"
   ]
  },
  {
   "cell_type": "code",
   "execution_count": 526,
   "outputs": [
    {
     "name": "stdout",
     "output_type": "stream",
     "text": [
      "fitting on 44100 records\n"
     ]
    },
    {
     "data": {
      "text/plain": "0.5298602653383727"
     },
     "metadata": {},
     "output_type": "display_data"
    }
   ],
   "source": [
    "from spreadsurfer.price_engine import FeatureEngineer\n",
    "from catboost import CatBoostRegressor\n",
    "from sklearn.preprocessing import StandardScaler\n",
    "# from sklearn.ensemle import RandomForestRegressor\n",
    "\n",
    "model = CatBoostRegressor(learning_rate=0.015, depth=7, loss_function='RMSE', random_state=0, verbose=False, iterations=1000)\n",
    "\n",
    "pipeline = Pipeline(steps=[\n",
    "    ('preprocessor', FeatureEngineer()),\n",
    "    ('scaler', StandardScaler()),\n",
    "    # ('model', RandomForestRegressor(n_estimators=50, random_state=0))\n",
    "    ('model', model)\n",
    "])\n",
    "\n",
    "pipeline.fit(X_train, y_train)\n",
    "score = pipeline.score(X_valid, y_valid)\n",
    "display(score)\n"
   ],
   "metadata": {
    "collapsed": false
   }
  },
  {
   "cell_type": "code",
   "execution_count": 517,
   "outputs": [
    {
     "data": {
      "text/plain": "MetricVisualizer(layout=Layout(align_self='stretch', height='500px'))",
      "application/vnd.jupyter.widget-view+json": {
       "version_major": 2,
       "version_minor": 0,
       "model_id": "d4f30176009c401697486fa7b5cf1543"
      }
     },
     "metadata": {},
     "output_type": "display_data"
    },
    {
     "name": "stdout",
     "output_type": "stream",
     "text": [
      "boo\n"
     ]
    }
   ],
   "source": [
    "import catboost\n",
    "w = catboost.MetricVisualizer('./models', subdirs=True)\n",
    "w.start()"
   ],
   "metadata": {
    "collapsed": false
   }
  },
  {
   "cell_type": "code",
   "execution_count": 427,
   "outputs": [
    {
     "name": "stdout",
     "output_type": "stream",
     "text": [
      " Results from Grid Search \n",
      "\n",
      " The best estimator across ALL searched params:\n",
      " <catboost.core.CatBoostRegressor object at 0x7ff96cec73d0>\n",
      "\n",
      " The best score across ALL searched params:\n",
      " 0.5933380986132425\n",
      "\n",
      " The best parameters across ALL searched params:\n",
      " {'depth': 7, 'iterations': 1500, 'learning_rate': 0.015}\n"
     ]
    }
   ],
   "source": [
    "from sklearn.model_selection import GridSearchCV\n",
    "\n",
    "do_grid_search = False\n",
    "\n",
    "if do_grid_search:\n",
    "    X = FeatureEngineer().transform(X)\n",
    "    X_train, X_valid, y_train, y_valid = train_test_split(X, y, train_size=0.8, test_size=0.2, random_state=0)\n",
    "\n",
    "    parameters = {'depth': [7, 8],\n",
    "                  'learning_rate': [0.015, 0.03, 0.04],\n",
    "                  'iterations': [100, 1000, 1500]\n",
    "                  }\n",
    "    grid = GridSearchCV(estimator=model, param_grid=parameters, cv=2, n_jobs=-1)\n",
    "    grid.fit(X_train, y_train)\n",
    "\n",
    "    print(\" Results from Grid Search \")\n",
    "    print(\"\\n The best estimator across ALL searched params:\\n\", grid.best_estimator_)\n",
    "    print(\"\\n The best score across ALL searched params:\\n\", grid.best_score_)\n",
    "    print(\"\\n The best parameters across ALL searched params:\\n\", grid.best_params_)"
   ],
   "metadata": {
    "collapsed": false
   }
  },
  {
   "cell_type": "code",
   "execution_count": 530,
   "outputs": [],
   "source": [
    "from spreadsurfer import now_isoformat\n",
    "\n",
    "save = True\n",
    "if save:\n",
    "    model.save_model(f'./models/{now_isoformat()}-score-{1000 * round(score, 3)}.cat')\n"
   ],
   "metadata": {
    "collapsed": false
   }
  },
  {
   "cell_type": "code",
   "execution_count": 529,
   "outputs": [
    {
     "name": "stdout",
     "output_type": "stream",
     "text": [
      "expected:  0.57\n",
      "predict:  0.6671444955702863\n",
      "\n",
      "expected:  -0.04\n",
      "predict:  -0.3085850859949722\n",
      "\n",
      "expected:  -0.63\n",
      "predict:  -0.8915986439711182\n",
      "\n",
      "expected:  0.17\n",
      "predict:  1.4576489305049165\n",
      "\n",
      "expected:  -3.18\n",
      "predict:  -0.8915986439711182\n",
      "\n",
      "expected:  2.25\n",
      "predict:  1.8277499692065142\n",
      "\n",
      "expected:  -0.21\n",
      "predict:  -0.42969295805257013\n",
      "\n",
      "expected:  -3.02\n",
      "predict:  -0.8915986439711182\n",
      "\n",
      "expected:  -0.53\n",
      "predict:  -0.3596457092489567\n",
      "\n"
     ]
    },
    {
     "data": {
      "text/plain": "'MAE: 0.7937863497440173'"
     },
     "metadata": {},
     "output_type": "display_data"
    }
   ],
   "source": [
    "input_from_log = \"\"\"\n",
    "2023-01-24 02:05:44.030 | data     | spreadsurfer.datacollect:start:91 - wave collected: {'0_amount_mean': 0.0311, '0_nr_trades': 39.0, '0_price_delta': 0.65, '0_spread': 1.97, '1_amount_mean': 0.0306, '1_nr_trades': 40.0, '1_price_delta': 0.65, '1_spread': 1.97, '2_amount_mean': 0.0304, '2_nr_trades': 41.0, '2_price_delta': 0.65, '2_spread': 1.97, '3_amount_mean': 0.0286, '3_nr_trades': 45.0, '3_price_delta': 0.65, '3_spread': 1.97, '4_amount_mean': 0.028, '4_nr_trades': 46.0, '4_price_delta': 0.61, '4_spread': 2.01, 'last_price_delta_since_stabilized': 0.57, 'past_final_price_0': 1.639999999999418, 'past_final_price_1': 0.680000000000291, 'past_final_price_2': -1.0300000000024738, 'past_final_price_3': 2.9499999999970896, 'past_final_price_4': 2.099999999998545, 'past_final_price_5': -0.8400000000001455, 'past_final_price_6': 2.4399999999986903, 'past_final_price_7': 5.369999999998981, 'past_final_price_8': 1.0399999999972351, 'past_final_price_9': 0.0, 'stabilized_amount_mean': 0.0338, 'stabilized_at_ms': 419, 'stabilized_nr_trades': 72.0, 'stabilized_spread': 2.62, 'wave_direction': 'min'}\n",
    "2023-01-24 02:05:44.268 | data     | spreadsurfer.datacollect:start:91 - wave collected: {'0_amount_mean': 0.0017, '0_nr_trades': 3.0, '0_price_delta': 0.05, '0_spread': 0.0, '1_amount_mean': 0.0042, '1_nr_trades': 4.0, '1_price_delta': 0.02, '1_spread': 0.03, '2_amount_mean': 0.0225, '2_nr_trades': 5.0, '2_price_delta': 0.0, '2_spread': 0.05, '3_amount_mean': 0.0189, '3_nr_trades': 6.0, '3_price_delta': 0.0, '3_spread': 1.27, '4_amount_mean': 0.02, '4_nr_trades': 7.0, '4_price_delta': 0.0, '4_spread': 1.27, 'last_price_delta_since_stabilized': -0.04, 'past_final_price_0': -0.7099999999991269, 'past_final_price_1': -1.6699999999982538, 'past_final_price_2': -3.3800000000010186, 'past_final_price_3': 0.5999999999985448, 'past_final_price_4': -0.25, 'past_final_price_5': -3.1899999999986903, 'past_final_price_6': 0.09000000000014552, 'past_final_price_7': 3.0200000000004366, 'past_final_price_8': -1.3100000000013097, 'past_final_price_9': -2.349999999998545, 'stabilized_amount_mean': 0.019, 'stabilized_at_ms': 63, 'stabilized_nr_trades': 8.0, 'stabilized_spread': 1.27, 'wave_direction': None}\n",
    "2023-01-24 02:05:45.029 | data     | spreadsurfer.datacollect:start:91 - wave collected: {'0_amount_mean': 0.02, '0_nr_trades': 7.0, '0_price_delta': 0.04, '0_spread': 1.27, '1_amount_mean': 0.019, '1_nr_trades': 8.0, '1_price_delta': 0.04, '1_spread': 1.27, '2_amount_mean': 0.017, '2_nr_trades': 9.0, '2_price_delta': 0.04, '2_spread': 1.27, '3_amount_mean': 0.016, '3_nr_trades': 11.0, '3_price_delta': 0.03, '3_spread': 1.28, '4_amount_mean': 0.0147, '4_nr_trades': 12.0, '4_price_delta': 0.0, '4_spread': 1.31, 'last_price_delta_since_stabilized': -0.63, 'past_final_price_0': -2.2999999999992724, 'past_final_price_1': -4.010000000002037, 'past_final_price_2': -0.030000000002473826, 'past_final_price_3': -0.8800000000010186, 'past_final_price_4': -3.819999999999709, 'past_final_price_5': -0.5400000000008731, 'past_final_price_6': 2.389999999999418, 'past_final_price_7': -1.9400000000023283, 'past_final_price_8': -2.9799999999995634, 'past_final_price_9': 0.0, 'stabilized_amount_mean': 0.0138, 'stabilized_at_ms': 151, 'stabilized_nr_trades': 13.0, 'stabilized_spread': 1.31, 'wave_direction': 'max'}\n",
    "2023-01-24 02:05:46.019 | data     | spreadsurfer.datacollect:start:91 - wave collected: {'0_amount_mean': 0.0053, '0_nr_trades': 4.0, '0_price_delta': 1.35, '0_spread': 0.07, '1_amount_mean': 0.0062, '1_nr_trades': 5.0, '1_price_delta': 0.4, '1_spread': 1.02, '2_amount_mean': 0.0053, '2_nr_trades': 6.0, '2_price_delta': 0.39, '2_spread': 1.03, '3_amount_mean': 0.0069, '3_nr_trades': 7.0, '3_price_delta': 0.18, '3_spread': 1.24, '4_amount_mean': 0.0074, '4_nr_trades': 8.0, '4_price_delta': 0.17, '4_spread': 1.25, 'last_price_delta_since_stabilized': 0.17, 'past_final_price_0': -0.3600000000005821, 'past_final_price_1': 3.6199999999989814, 'past_final_price_2': 2.7700000000004366, 'past_final_price_3': -0.16999999999825377, 'past_final_price_4': 3.110000000000582, 'past_final_price_5': 6.040000000000873, 'past_final_price_6': 1.7099999999991269, 'past_final_price_7': 0.6700000000018917, 'past_final_price_8': 3.650000000001455, 'past_final_price_9': 0.0, 'stabilized_amount_mean': 0.0067, 'stabilized_at_ms': 231, 'stabilized_nr_trades': 9.0, 'stabilized_spread': 1.42, 'wave_direction': 'min'}\n",
    "2023-01-24 02:05:47.028 | data     | spreadsurfer.datacollect:start:91 - wave collected: {'0_amount_mean': 0.0008, '0_nr_trades': 3.0, '0_price_delta': 0.1, '0_spread': 0.08, '1_amount_mean': 0.001, '1_nr_trades': 4.0, '1_price_delta': 0.07, '1_spread': 0.11, '2_amount_mean': 0.001, '2_nr_trades': 5.0, '2_price_delta': 0.03, '2_spread': 0.15, '3_amount_mean': 0.0009, '3_nr_trades': 6.0, '3_price_delta': 0.0, '3_spread': 0.18, '4_amount_mean': 0.0009, '4_nr_trades': 7.0, '4_price_delta': 0.0, '4_spread': 0.18, 'last_price_delta_since_stabilized': -3.18, 'past_final_price_0': -0.8700000000026193, 'past_final_price_1': -1.7200000000011642, 'past_final_price_2': -4.6599999999998545, 'past_final_price_3': -1.3800000000010186, 'past_final_price_4': 1.5499999999992724, 'past_final_price_5': -2.780000000002474, 'past_final_price_6': -3.819999999999709, 'past_final_price_7': -0.8400000000001455, 'past_final_price_8': -4.490000000001601, 'past_final_price_9': 0.0, 'stabilized_amount_mean': 0.0009, 'stabilized_at_ms': 256, 'stabilized_nr_trades': 8.0, 'stabilized_spread': 0.18, 'wave_direction': 'max'}\n",
    "2023-01-24 02:05:48.009 | data     | spreadsurfer.datacollect:start:91 - wave collected: {'0_amount_mean': 0.0432, '0_nr_trades': 3.0, '0_price_delta': 5.53, '0_spread': 0.01, '1_amount_mean': 0.0396, '1_nr_trades': 4.0, '1_price_delta': 5.52, '1_spread': 0.02, '2_amount_mean': 0.0772, '2_nr_trades': 62.0, '2_price_delta': 2.16, '2_spread': 3.38, '3_amount_mean': 0.098, '3_nr_trades': 125.0, '3_price_delta': 0.22, '3_spread': 5.32, '4_amount_mean': 0.109, '4_nr_trades': 142.0, '4_price_delta': 0.0, '4_spread': 5.54, 'last_price_delta_since_stabilized': 2.25, 'past_final_price_0': 7.1599999999998545, 'past_final_price_1': 4.220000000001164, 'past_final_price_2': 7.5, 'past_final_price_3': 10.430000000000291, 'past_final_price_4': 6.099999999998545, 'past_final_price_5': 5.06000000000131, 'past_final_price_6': 8.040000000000873, 'past_final_price_7': 4.389999999999418, 'past_final_price_8': 8.880000000001019, 'past_final_price_9': 0.0, 'stabilized_amount_mean': 0.1084, 'stabilized_at_ms': 61, 'stabilized_nr_trades': 143.0, 'stabilized_spread': 5.54, 'wave_direction': 'min'}\n",
    "2023-01-24 02:05:48.223 | data     | spreadsurfer.datacollect:start:91 - wave collected: {'0_amount_mean': 0.0572, '0_nr_trades': 10.0, '0_price_delta': 0.0, '0_spread': 1.27, '1_amount_mean': 0.0531, '1_nr_trades': 11.0, '1_price_delta': 0.0, '1_spread': 1.3, '2_amount_mean': 0.052, '2_nr_trades': 12.0, '2_price_delta': 0.0, '2_spread': 1.38, '3_amount_mean': 0.0491, '3_nr_trades': 13.0, '3_price_delta': 0.0, '3_spread': 1.38, '4_amount_mean': 0.0457, '4_nr_trades': 14.0, '4_price_delta': 0.0, '4_spread': 1.38, 'last_price_delta_since_stabilized': -0.21, 'past_final_price_0': 4.8400000000001455, 'past_final_price_1': 1.9000000000014552, 'past_final_price_2': 5.180000000000291, 'past_final_price_3': 8.110000000000582, 'past_final_price_4': 3.779999999998836, 'past_final_price_5': 2.7400000000016007, 'past_final_price_6': 5.720000000001164, 'past_final_price_7': 2.069999999999709, 'past_final_price_8': 6.56000000000131, 'past_final_price_9': -2.319999999999709, 'stabilized_amount_mean': 0.0458, 'stabilized_at_ms': 77, 'stabilized_nr_trades': 15.0, 'stabilized_spread': 1.38, 'wave_direction': None}\n",
    "2023-01-24 02:05:49.037 | data     | spreadsurfer.datacollect:start:91 - wave collected: {'0_amount_mean': 0.052, '0_nr_trades': 12.0, '0_price_delta': 0.22, '0_spread': 1.38, '1_amount_mean': 0.0491, '1_nr_trades': 13.0, '1_price_delta': 0.22, '1_spread': 1.38, '2_amount_mean': 0.0457, '2_nr_trades': 14.0, '2_price_delta': 0.22, '2_spread': 1.38, '3_amount_mean': 0.0458, '3_nr_trades': 15.0, '3_price_delta': 0.22, '3_spread': 1.38, '4_amount_mean': 0.0449, '4_nr_trades': 17.0, '4_price_delta': 0.01, '4_spread': 1.59, 'last_price_delta_since_stabilized': -3.02, 'past_final_price_0': -1.1299999999973807, 'past_final_price_1': 2.150000000001455, 'past_final_price_2': 5.080000000001746, 'past_final_price_3': 0.75, 'past_final_price_4': -0.28999999999723514, 'past_final_price_5': 2.6900000000023283, 'past_final_price_6': -0.9599999999991269, 'past_final_price_7': 3.530000000002474, 'past_final_price_8': -5.349999999998545, 'past_final_price_9': 0.0, 'stabilized_amount_mean': 0.0477, 'stabilized_at_ms': 95, 'stabilized_nr_trades': 18.0, 'stabilized_spread': 1.6, 'wave_direction': 'max'}\n",
    "2023-01-24 02:05:49.310 | data     | spreadsurfer.datacollect:start:91 - wave collected: {'0_amount_mean': 0.0003, '0_nr_trades': 3.0, '0_price_delta': 0.0, '0_spread': 0.29, '1_amount_mean': 0.0005, '1_nr_trades': 4.0, '1_price_delta': 0.0, '1_spread': 0.3, '2_amount_mean': 0.0061, '2_nr_trades': 5.0, '2_price_delta': 0.0, '2_spread': 0.31, '3_amount_mean': 0.0052, '3_nr_trades': 6.0, '3_price_delta': 0.0, '3_spread': 0.31, '4_amount_mean': 0.0045, '4_nr_trades': 7.0, '4_price_delta': 0.0, '4_spread': 0.31, 'last_price_delta_since_stabilized': -0.53, 'past_final_price_0': -0.5599999999976717, 'past_final_price_1': 2.720000000001164, 'past_final_price_2': 5.650000000001455, 'past_final_price_3': 1.319999999999709, 'past_final_price_4': 0.2800000000024738, 'past_final_price_5': 3.2600000000020373, 'past_final_price_6': -0.3899999999994179, 'past_final_price_7': 4.100000000002183, 'past_final_price_8': -4.779999999998836, 'past_final_price_9': 0.569999999999709, 'stabilized_amount_mean': 0.0041, 'stabilized_at_ms': 89, 'stabilized_nr_trades': 8.0, 'stabilized_spread': 0.74, 'wave_direction': None}\n",
    "\n",
    "\"\"\"\n",
    "from timeit import timeit\n",
    "\n",
    "mae = 0\n",
    "count = 0\n",
    "for line in input_from_log.split('\\n'):\n",
    "    if not line: continue\n",
    "    count += 1\n",
    "    json = '{' + line.split('{')[1]\n",
    "    sample = pd.DataFrame([eval(json)])\n",
    "\n",
    "    real = sample.last_price_delta_since_stabilized[0]\n",
    "    print('expected: ', real)\n",
    "    sample.drop('last_price_delta_since_stabilized', axis=1, inplace=True)\n",
    "\n",
    "    timeit(lambda: pipeline.predict(sample), number=1) * 1000\n",
    "    guess = pipeline.predict(sample)[0]\n",
    "    print('predict: ', guess)\n",
    "    mae += abs(real - guess)\n",
    "    print()\n",
    "display(f'MAE: {mae / count}')"
   ],
   "metadata": {
    "collapsed": false
   }
  },
  {
   "cell_type": "code",
   "execution_count": 438,
   "outputs": [
    {
     "name": "stdout",
     "output_type": "stream",
     "text": [
      "expected:  -0.87\n",
      "predict:  -0.9450021282696802\n"
     ]
    }
   ],
   "source": [
    "sample = pd.DataFrame([\n",
    "    {'0_amount_mean': 0.007, '0_nr_trades': 12.0, '0_price_delta': 0.91, '0_spread': 1.15, '1_amount_mean': 0.007, '1_nr_trades': 13.0, '1_price_delta': 0.91, '1_spread': 1.52, '2_amount_mean': 0.006, '2_nr_trades': 14.0,\n",
    "     '2_price_delta': 0.91, '2_spread': 1.52, '3_amount_mean': 0.006, '3_nr_trades': 16.0, '3_price_delta': 0.69, '3_spread': 1.74, '4_amount_mean': 0.005, '4_nr_trades': 17.0, '4_price_delta': 0.69, '4_spread': 1.74,\n",
    "     'last_price_delta_since_stabilized': -0.87, 'past_final_price_0': -0.11999999999898137, 'past_final_price_1': 0.25, 'past_final_price_2': -0.020000000000436557, 'past_final_price_3': -1.7400000000016007,\n",
    "     'past_final_price_4': 0.06999999999970896, 'past_final_price_5': -2.7299999999995634, 'past_final_price_6': -3.9099999999998545, 'past_final_price_7': 3.360000000000582, 'past_final_price_8': -0.06000000000130967,\n",
    "     'past_final_price_9': 0.0, 'stabilized_amount_mean': 0.007, 'stabilized_at_ms': 369, 'stabilized_nr_trades': 18.0, 'stabilized_spread': 2.43, 'wave_direction': 'max'}\n",
    "])\n",
    "\n",
    "print('expected: ', sample.last_price_delta_since_stabilized.real())\n",
    "sample.drop('last_price_delta_since_stabilized', axis=1, inplace=True)\n",
    "\n",
    "from timeit import timeit\n",
    "\n",
    "timeit(lambda: pipeline.predict(sample), number=1) * 1000\n",
    "print('predict: ', pipeline.predict(sample)[0])\n"
   ],
   "metadata": {
    "collapsed": false
   }
  },
  {
   "cell_type": "code",
   "execution_count": 278,
   "outputs": [
    {
     "name": "stdout",
     "output_type": "stream",
     "text": [
      "catboost model loaded from 2023-01-21T20:37:02-score-773.0.cat\n"
     ]
    }
   ],
   "source": [
    "from glob import glob\n",
    "\n",
    "cat_filename = glob('*.cat')[0]\n",
    "cat_filename\n",
    "\n",
    "model = CatBoostRegressor()\n",
    "model.load_model(fname=cat_filename)\n",
    "print(f'catboost model loaded from {cat_filename}')\n"
   ],
   "metadata": {
    "collapsed": false
   }
  }
 ],
 "metadata": {
  "kernelspec": {
   "display_name": "Python 3",
   "language": "python",
   "name": "python3"
  },
  "language_info": {
   "codemirror_mode": {
    "name": "ipython",
    "version": 2
   },
   "file_extension": ".py",
   "mimetype": "text/x-python",
   "name": "python",
   "nbconvert_exporter": "python",
   "pygments_lexer": "ipython2",
   "version": "2.7.6"
  }
 },
 "nbformat": 4,
 "nbformat_minor": 0
}
