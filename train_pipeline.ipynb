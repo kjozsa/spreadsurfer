{
 "cells": [
  {
   "cell_type": "code",
   "execution_count": 83,
   "metadata": {
    "collapsed": true
   },
   "outputs": [
    {
     "name": "stdout",
     "output_type": "stream",
     "text": [
      "total dataset: 23000 rows\n"
     ]
    },
    {
     "data": {
      "text/plain": "       0_amount_mean  0_nr_trades  0_price_delta  0_spread  1_amount_mean  \\\nindex                                                                       \n0             0.0068          4.0           0.00      0.01         0.0082   \n0             0.0210         32.0           1.36      2.90         0.0217   \n0             0.0203          7.0           0.35      0.73         0.0203   \n0             0.0194          3.0           0.40      0.01         0.0147   \n0             0.0414         57.0           0.27      0.98         0.0407   \n...              ...          ...            ...       ...            ...   \n0             0.0019          3.0           0.18      0.11         0.0014   \n0             0.0446        214.0           0.20      5.72         0.0448   \n0             0.0118          8.0           0.40      0.30         0.0111   \n0             0.0093         17.0           0.37      0.90         0.0103   \n0             0.0109          5.0           0.31      0.10         0.0092   \n\n       1_nr_trades  1_price_delta  1_spread  2_amount_mean  2_nr_trades  ...  \\\nindex                                                                    ...   \n0              5.0           0.00      0.01         0.0070          6.0  ...   \n0             33.0           1.36      2.90         0.0219         34.0  ...   \n0              9.0           0.00      1.08         0.0334         16.0  ...   \n0              4.0           0.36      0.05         0.0136          6.0  ...   \n0             58.0           0.27      0.98         0.0394         60.0  ...   \n...            ...            ...       ...            ...          ...  ...   \n0              4.0           0.17      0.12         0.0013          5.0  ...   \n0            215.0           0.20      5.72         0.0455        216.0  ...   \n0              9.0           0.40      0.30         0.0605         33.0  ...   \n0             18.0           0.37      0.90         0.0098         19.0  ...   \n0              6.0           0.31      0.10         0.0079          7.0  ...   \n\n       past_final_price_95  past_final_price_96  past_final_price_97  \\\nindex                                                                  \n0                    -1.44                 3.61                 2.13   \n0                    -5.31                 5.48                 0.94   \n0                     1.95                -0.54                -1.00   \n0                    -1.54                -1.95                -0.96   \n0                     1.34                 1.21                 1.36   \n...                    ...                  ...                  ...   \n0                     2.15                -0.02                 1.19   \n0                     1.95                -0.54                -1.00   \n0                     2.78                 2.70                 3.13   \n0                    -1.23                -0.42                -0.41   \n0                     0.42                 1.26                -0.40   \n\n       past_final_price_98  past_final_price_99  stabilized_amount_mean  \\\nindex                                                                     \n0                     0.71                  0.0                  0.0249   \n0                    -3.05                  0.0                  0.0384   \n0                     0.76                  0.0                  0.0274   \n0                    -1.75                  0.0                  0.0129   \n0                     1.60                  0.0                  0.0388   \n...                    ...                  ...                     ...   \n0                     0.51                  0.0                  0.0126   \n0                     0.76                  0.0                  0.0439   \n0                     4.78                  0.0                  0.0749   \n0                     0.27                  0.0                  0.0086   \n0                    -0.12                  0.0                  0.0074   \n\n       stabilized_at_ms  stabilized_nr_trades  stabilized_spread  \\\nindex                                                              \n0                   446                  16.0               0.58   \n0                   661                  63.0               4.26   \n0                    39                  20.0               1.69   \n0                   310                   9.0               0.41   \n0                   371                  69.0               1.25   \n...                 ...                   ...                ...   \n0                    41                   8.0               0.29   \n0                   718                 224.0               5.92   \n0                    53                  39.0               0.70   \n0                   530                  22.0               1.27   \n0                   415                  10.0               0.42   \n\n       wave_direction  \nindex                  \n0                None  \n0                 max  \n0                None  \n0                 max  \n0                 min  \n...               ...  \n0                None  \n0                 min  \n0                 min  \n0                 max  \n0                 max  \n\n[17250 rows x 125 columns]",
      "text/html": "<div>\n<style scoped>\n    .dataframe tbody tr th:only-of-type {\n        vertical-align: middle;\n    }\n\n    .dataframe tbody tr th {\n        vertical-align: top;\n    }\n\n    .dataframe thead th {\n        text-align: right;\n    }\n</style>\n<table border=\"1\" class=\"dataframe\">\n  <thead>\n    <tr style=\"text-align: right;\">\n      <th></th>\n      <th>0_amount_mean</th>\n      <th>0_nr_trades</th>\n      <th>0_price_delta</th>\n      <th>0_spread</th>\n      <th>1_amount_mean</th>\n      <th>1_nr_trades</th>\n      <th>1_price_delta</th>\n      <th>1_spread</th>\n      <th>2_amount_mean</th>\n      <th>2_nr_trades</th>\n      <th>...</th>\n      <th>past_final_price_95</th>\n      <th>past_final_price_96</th>\n      <th>past_final_price_97</th>\n      <th>past_final_price_98</th>\n      <th>past_final_price_99</th>\n      <th>stabilized_amount_mean</th>\n      <th>stabilized_at_ms</th>\n      <th>stabilized_nr_trades</th>\n      <th>stabilized_spread</th>\n      <th>wave_direction</th>\n    </tr>\n    <tr>\n      <th>index</th>\n      <th></th>\n      <th></th>\n      <th></th>\n      <th></th>\n      <th></th>\n      <th></th>\n      <th></th>\n      <th></th>\n      <th></th>\n      <th></th>\n      <th></th>\n      <th></th>\n      <th></th>\n      <th></th>\n      <th></th>\n      <th></th>\n      <th></th>\n      <th></th>\n      <th></th>\n      <th></th>\n      <th></th>\n    </tr>\n  </thead>\n  <tbody>\n    <tr>\n      <th>0</th>\n      <td>0.0068</td>\n      <td>4.0</td>\n      <td>0.00</td>\n      <td>0.01</td>\n      <td>0.0082</td>\n      <td>5.0</td>\n      <td>0.00</td>\n      <td>0.01</td>\n      <td>0.0070</td>\n      <td>6.0</td>\n      <td>...</td>\n      <td>-1.44</td>\n      <td>3.61</td>\n      <td>2.13</td>\n      <td>0.71</td>\n      <td>0.0</td>\n      <td>0.0249</td>\n      <td>446</td>\n      <td>16.0</td>\n      <td>0.58</td>\n      <td>None</td>\n    </tr>\n    <tr>\n      <th>0</th>\n      <td>0.0210</td>\n      <td>32.0</td>\n      <td>1.36</td>\n      <td>2.90</td>\n      <td>0.0217</td>\n      <td>33.0</td>\n      <td>1.36</td>\n      <td>2.90</td>\n      <td>0.0219</td>\n      <td>34.0</td>\n      <td>...</td>\n      <td>-5.31</td>\n      <td>5.48</td>\n      <td>0.94</td>\n      <td>-3.05</td>\n      <td>0.0</td>\n      <td>0.0384</td>\n      <td>661</td>\n      <td>63.0</td>\n      <td>4.26</td>\n      <td>max</td>\n    </tr>\n    <tr>\n      <th>0</th>\n      <td>0.0203</td>\n      <td>7.0</td>\n      <td>0.35</td>\n      <td>0.73</td>\n      <td>0.0203</td>\n      <td>9.0</td>\n      <td>0.00</td>\n      <td>1.08</td>\n      <td>0.0334</td>\n      <td>16.0</td>\n      <td>...</td>\n      <td>1.95</td>\n      <td>-0.54</td>\n      <td>-1.00</td>\n      <td>0.76</td>\n      <td>0.0</td>\n      <td>0.0274</td>\n      <td>39</td>\n      <td>20.0</td>\n      <td>1.69</td>\n      <td>None</td>\n    </tr>\n    <tr>\n      <th>0</th>\n      <td>0.0194</td>\n      <td>3.0</td>\n      <td>0.40</td>\n      <td>0.01</td>\n      <td>0.0147</td>\n      <td>4.0</td>\n      <td>0.36</td>\n      <td>0.05</td>\n      <td>0.0136</td>\n      <td>6.0</td>\n      <td>...</td>\n      <td>-1.54</td>\n      <td>-1.95</td>\n      <td>-0.96</td>\n      <td>-1.75</td>\n      <td>0.0</td>\n      <td>0.0129</td>\n      <td>310</td>\n      <td>9.0</td>\n      <td>0.41</td>\n      <td>max</td>\n    </tr>\n    <tr>\n      <th>0</th>\n      <td>0.0414</td>\n      <td>57.0</td>\n      <td>0.27</td>\n      <td>0.98</td>\n      <td>0.0407</td>\n      <td>58.0</td>\n      <td>0.27</td>\n      <td>0.98</td>\n      <td>0.0394</td>\n      <td>60.0</td>\n      <td>...</td>\n      <td>1.34</td>\n      <td>1.21</td>\n      <td>1.36</td>\n      <td>1.60</td>\n      <td>0.0</td>\n      <td>0.0388</td>\n      <td>371</td>\n      <td>69.0</td>\n      <td>1.25</td>\n      <td>min</td>\n    </tr>\n    <tr>\n      <th>...</th>\n      <td>...</td>\n      <td>...</td>\n      <td>...</td>\n      <td>...</td>\n      <td>...</td>\n      <td>...</td>\n      <td>...</td>\n      <td>...</td>\n      <td>...</td>\n      <td>...</td>\n      <td>...</td>\n      <td>...</td>\n      <td>...</td>\n      <td>...</td>\n      <td>...</td>\n      <td>...</td>\n      <td>...</td>\n      <td>...</td>\n      <td>...</td>\n      <td>...</td>\n      <td>...</td>\n    </tr>\n    <tr>\n      <th>0</th>\n      <td>0.0019</td>\n      <td>3.0</td>\n      <td>0.18</td>\n      <td>0.11</td>\n      <td>0.0014</td>\n      <td>4.0</td>\n      <td>0.17</td>\n      <td>0.12</td>\n      <td>0.0013</td>\n      <td>5.0</td>\n      <td>...</td>\n      <td>2.15</td>\n      <td>-0.02</td>\n      <td>1.19</td>\n      <td>0.51</td>\n      <td>0.0</td>\n      <td>0.0126</td>\n      <td>41</td>\n      <td>8.0</td>\n      <td>0.29</td>\n      <td>None</td>\n    </tr>\n    <tr>\n      <th>0</th>\n      <td>0.0446</td>\n      <td>214.0</td>\n      <td>0.20</td>\n      <td>5.72</td>\n      <td>0.0448</td>\n      <td>215.0</td>\n      <td>0.20</td>\n      <td>5.72</td>\n      <td>0.0455</td>\n      <td>216.0</td>\n      <td>...</td>\n      <td>1.95</td>\n      <td>-0.54</td>\n      <td>-1.00</td>\n      <td>0.76</td>\n      <td>0.0</td>\n      <td>0.0439</td>\n      <td>718</td>\n      <td>224.0</td>\n      <td>5.92</td>\n      <td>min</td>\n    </tr>\n    <tr>\n      <th>0</th>\n      <td>0.0118</td>\n      <td>8.0</td>\n      <td>0.40</td>\n      <td>0.30</td>\n      <td>0.0111</td>\n      <td>9.0</td>\n      <td>0.40</td>\n      <td>0.30</td>\n      <td>0.0605</td>\n      <td>33.0</td>\n      <td>...</td>\n      <td>2.78</td>\n      <td>2.70</td>\n      <td>3.13</td>\n      <td>4.78</td>\n      <td>0.0</td>\n      <td>0.0749</td>\n      <td>53</td>\n      <td>39.0</td>\n      <td>0.70</td>\n      <td>min</td>\n    </tr>\n    <tr>\n      <th>0</th>\n      <td>0.0093</td>\n      <td>17.0</td>\n      <td>0.37</td>\n      <td>0.90</td>\n      <td>0.0103</td>\n      <td>18.0</td>\n      <td>0.37</td>\n      <td>0.90</td>\n      <td>0.0098</td>\n      <td>19.0</td>\n      <td>...</td>\n      <td>-1.23</td>\n      <td>-0.42</td>\n      <td>-0.41</td>\n      <td>0.27</td>\n      <td>0.0</td>\n      <td>0.0086</td>\n      <td>530</td>\n      <td>22.0</td>\n      <td>1.27</td>\n      <td>max</td>\n    </tr>\n    <tr>\n      <th>0</th>\n      <td>0.0109</td>\n      <td>5.0</td>\n      <td>0.31</td>\n      <td>0.10</td>\n      <td>0.0092</td>\n      <td>6.0</td>\n      <td>0.31</td>\n      <td>0.10</td>\n      <td>0.0079</td>\n      <td>7.0</td>\n      <td>...</td>\n      <td>0.42</td>\n      <td>1.26</td>\n      <td>-0.40</td>\n      <td>-0.12</td>\n      <td>0.0</td>\n      <td>0.0074</td>\n      <td>415</td>\n      <td>10.0</td>\n      <td>0.42</td>\n      <td>max</td>\n    </tr>\n  </tbody>\n</table>\n<p>17250 rows × 125 columns</p>\n</div>"
     },
     "execution_count": 83,
     "metadata": {},
     "output_type": "execute_result"
    }
   ],
   "source": [
    "import pandas as pd\n",
    "from sklearn.model_selection import train_test_split\n",
    "from sklearn.pipeline import Pipeline\n",
    "\n",
    "df = pd.read_parquet('./data')\n",
    "print(f'total dataset: {len(df)} rows')\n",
    "\n",
    "## filters\n",
    "# df = df[df['stabilized_spread'] < 10]  # nem tul nagy spread\n",
    "# df = df[df['stabilized_spread'] > 0.2]  # nem tul nagy spread\n",
    "# df = df[abs(df['last_price_delta_since_stabilized']) > 0.1]\n",
    "# df = df[abs(df['last_price_delta_since_stabilized']) < 8]\n",
    "\n",
    "# df = df[df['stabilized_amount_mean'] < 0.4]  # nem tul nagy tradek\n",
    "# df = df[df['stabilized_nr_trades'] < 300]  # nem tul sok trade\n",
    "\n",
    "df.sort_index(axis=1, inplace=True)\n",
    "\n",
    "y = df['last_price_delta_since_stabilized']\n",
    "X = df.drop('last_price_delta_since_stabilized', axis=1)\n",
    "\n",
    "X_train, X_valid, y_train, y_valid = train_test_split(X, y, train_size=0.75, test_size=0.25, random_state=0)\n",
    "X_train"
   ]
  },
  {
   "cell_type": "code",
   "execution_count": 96,
   "outputs": [
    {
     "data": {
      "text/plain": "0.46165769381852817"
     },
     "metadata": {},
     "output_type": "display_data"
    }
   ],
   "source": [
    "from spreadsurfer.price_engine import FeatureEngineer\n",
    "from catboost import CatBoostRegressor\n",
    "from sklearn.preprocessing import StandardScaler\n",
    "# from sklearn.ensemle import RandomForestRegressor\n",
    "\n",
    "model = CatBoostRegressor(learning_rate=0.015, depth=7, loss_function='RMSE', random_state=0, verbose=False, iterations=1500)\n",
    "\n",
    "pipeline = Pipeline(steps=[\n",
    "    ('preprocessor', FeatureEngineer()),\n",
    "    # ('scaler', StandardScaler()),\n",
    "    # ('model', RandomForestRegressor(n_estimators=50, random_state=0))\n",
    "    ('model', model)\n",
    "])\n",
    "\n",
    "pipeline.fit(X_train, y_train)\n",
    "score = pipeline.score(X_valid, y_valid)\n",
    "display(score)\n"
   ],
   "metadata": {
    "collapsed": false
   }
  },
  {
   "cell_type": "code",
   "execution_count": 517,
   "outputs": [
    {
     "data": {
      "text/plain": "MetricVisualizer(layout=Layout(align_self='stretch', height='500px'))",
      "application/vnd.jupyter.widget-view+json": {
       "version_major": 2,
       "version_minor": 0,
       "model_id": "d4f30176009c401697486fa7b5cf1543"
      }
     },
     "metadata": {},
     "output_type": "display_data"
    },
    {
     "name": "stdout",
     "output_type": "stream",
     "text": [
      "boo\n"
     ]
    }
   ],
   "source": [
    "import catboost\n",
    "w = catboost.MetricVisualizer('./models', subdirs=True)\n",
    "w.start()"
   ],
   "metadata": {
    "collapsed": false
   }
  },
  {
   "cell_type": "code",
   "execution_count": 427,
   "outputs": [
    {
     "name": "stdout",
     "output_type": "stream",
     "text": [
      " Results from Grid Search \n",
      "\n",
      " The best estimator across ALL searched params:\n",
      " <catboost.core.CatBoostRegressor object at 0x7ff96cec73d0>\n",
      "\n",
      " The best score across ALL searched params:\n",
      " 0.5933380986132425\n",
      "\n",
      " The best parameters across ALL searched params:\n",
      " {'depth': 7, 'iterations': 1500, 'learning_rate': 0.015}\n"
     ]
    }
   ],
   "source": [
    "from sklearn.model_selection import GridSearchCV\n",
    "\n",
    "do_grid_search = False\n",
    "\n",
    "if do_grid_search:\n",
    "    X = FeatureEngineer().transform(X)\n",
    "    X_train, X_valid, y_train, y_valid = train_test_split(X, y, train_size=0.8, test_size=0.2, random_state=0)\n",
    "\n",
    "    parameters = {'depth': [7, 8],\n",
    "                  'learning_rate': [0.015, 0.03, 0.04],\n",
    "                  'iterations': [100, 1000, 1500]\n",
    "                  }\n",
    "    grid = GridSearchCV(estimator=model, param_grid=parameters, cv=2, n_jobs=-1)\n",
    "    grid.fit(X_train, y_train)\n",
    "\n",
    "    print(\" Results from Grid Search \")\n",
    "    print(\"\\n The best estimator across ALL searched params:\\n\", grid.best_estimator_)\n",
    "    print(\"\\n The best score across ALL searched params:\\n\", grid.best_score_)\n",
    "    print(\"\\n The best parameters across ALL searched params:\\n\", grid.best_params_)"
   ],
   "metadata": {
    "collapsed": false
   }
  },
  {
   "cell_type": "code",
   "execution_count": 97,
   "outputs": [],
   "source": [
    "from spreadsurfer import now_isoformat\n",
    "\n",
    "save = True\n",
    "if save:\n",
    "    model.save_model(f'./models/{now_isoformat()}-score-{1000 * round(score, 3)}.cat')\n"
   ],
   "metadata": {
    "collapsed": false
   }
  },
  {
   "cell_type": "code",
   "execution_count": 94,
   "outputs": [
    {
     "ename": "ZeroDivisionError",
     "evalue": "division by zero",
     "output_type": "error",
     "traceback": [
      "\u001B[0;31m---------------------------------------------------------------------------\u001B[0m",
      "\u001B[0;31mZeroDivisionError\u001B[0m                         Traceback (most recent call last)",
      "Cell \u001B[0;32mIn[94], line 25\u001B[0m\n\u001B[1;32m     23\u001B[0m     mae \u001B[38;5;241m+\u001B[39m\u001B[38;5;241m=\u001B[39m \u001B[38;5;28mabs\u001B[39m(real \u001B[38;5;241m-\u001B[39m guess)\n\u001B[1;32m     24\u001B[0m     \u001B[38;5;28mprint\u001B[39m()\n\u001B[0;32m---> 25\u001B[0m display(\u001B[38;5;124mf\u001B[39m\u001B[38;5;124m'\u001B[39m\u001B[38;5;124mMAE: \u001B[39m\u001B[38;5;132;01m{\u001B[39;00m\u001B[43mmae\u001B[49m\u001B[38;5;250;43m \u001B[39;49m\u001B[38;5;241;43m/\u001B[39;49m\u001B[38;5;250;43m \u001B[39;49m\u001B[43mcount\u001B[49m\u001B[38;5;132;01m}\u001B[39;00m\u001B[38;5;124m'\u001B[39m)\n",
      "\u001B[0;31mZeroDivisionError\u001B[0m: division by zero"
     ]
    }
   ],
   "source": [
    "input_from_log = \"\"\"\n",
    "\n",
    "\n",
    "\n",
    "\"\"\"\n",
    "from timeit import timeit\n",
    "\n",
    "mae = 0\n",
    "count = 0\n",
    "for line in input_from_log.split('\\n'):\n",
    "    if not line: continue\n",
    "    count += 1\n",
    "    json = '{' + line.split('{')[1]\n",
    "    sample = pd.DataFrame([eval(json)])\n",
    "\n",
    "    real = sample.last_price_delta_since_stabilized[0]\n",
    "    print('expected: ', real)\n",
    "    sample.drop('last_price_delta_since_stabilized', axis=1, inplace=True)\n",
    "\n",
    "    timeit(lambda: pipeline.predict(sample), number=1) * 1000\n",
    "    guess = pipeline.predict(sample)[0]\n",
    "    print('predict: ', guess)\n",
    "    mae += abs(real - guess)\n",
    "    print()\n",
    "display(f'MAE: {mae / count}')"
   ],
   "metadata": {
    "collapsed": false
   }
  },
  {
   "cell_type": "code",
   "execution_count": 438,
   "outputs": [
    {
     "name": "stdout",
     "output_type": "stream",
     "text": [
      "expected:  -0.87\n",
      "predict:  -0.9450021282696802\n"
     ]
    }
   ],
   "source": [
    "sample = pd.DataFrame([\n",
    "    {'0_amount_mean': 0.007, '0_nr_trades': 12.0, '0_price_delta': 0.91, '0_spread': 1.15, '1_amount_mean': 0.007, '1_nr_trades': 13.0, '1_price_delta': 0.91, '1_spread': 1.52, '2_amount_mean': 0.006, '2_nr_trades': 14.0,\n",
    "     '2_price_delta': 0.91, '2_spread': 1.52, '3_amount_mean': 0.006, '3_nr_trades': 16.0, '3_price_delta': 0.69, '3_spread': 1.74, '4_amount_mean': 0.005, '4_nr_trades': 17.0, '4_price_delta': 0.69, '4_spread': 1.74,\n",
    "     'last_price_delta_since_stabilized': -0.87, 'past_final_price_0': -0.11999999999898137, 'past_final_price_1': 0.25, 'past_final_price_2': -0.020000000000436557, 'past_final_price_3': -1.7400000000016007,\n",
    "     'past_final_price_4': 0.06999999999970896, 'past_final_price_5': -2.7299999999995634, 'past_final_price_6': -3.9099999999998545, 'past_final_price_7': 3.360000000000582, 'past_final_price_8': -0.06000000000130967,\n",
    "     'past_final_price_9': 0.0, 'stabilized_amount_mean': 0.007, 'stabilized_at_ms': 369, 'stabilized_nr_trades': 18.0, 'stabilized_spread': 2.43, 'wave_direction': 'max'}\n",
    "])\n",
    "\n",
    "print('expected: ', sample.last_price_delta_since_stabilized.real())\n",
    "sample.drop('last_price_delta_since_stabilized', axis=1, inplace=True)\n",
    "\n",
    "from timeit import timeit\n",
    "\n",
    "timeit(lambda: pipeline.predict(sample), number=1) * 1000\n",
    "print('predict: ', pipeline.predict(sample)[0])\n"
   ],
   "metadata": {
    "collapsed": false
   }
  },
  {
   "cell_type": "code",
   "execution_count": 278,
   "outputs": [
    {
     "name": "stdout",
     "output_type": "stream",
     "text": [
      "catboost model loaded from 2023-01-21T20:37:02-score-773.0.cat\n"
     ]
    }
   ],
   "source": [
    "from glob import glob\n",
    "\n",
    "cat_filename = glob('*.cat')[0]\n",
    "cat_filename\n",
    "\n",
    "model = CatBoostRegressor()\n",
    "model.load_model(fname=cat_filename)\n",
    "print(f'catboost model loaded from {cat_filename}')\n"
   ],
   "metadata": {
    "collapsed": false
   }
  }
 ],
 "metadata": {
  "kernelspec": {
   "display_name": "Python 3",
   "language": "python",
   "name": "python3"
  },
  "language_info": {
   "codemirror_mode": {
    "name": "ipython",
    "version": 2
   },
   "file_extension": ".py",
   "mimetype": "text/x-python",
   "name": "python",
   "nbconvert_exporter": "python",
   "pygments_lexer": "ipython2",
   "version": "2.7.6"
  }
 },
 "nbformat": 4,
 "nbformat_minor": 0
}
