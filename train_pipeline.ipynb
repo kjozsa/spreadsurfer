{
 "cells": [
  {
   "cell_type": "code",
   "execution_count": 98,
   "metadata": {
    "collapsed": true
   },
   "outputs": [
    {
     "name": "stdout",
     "output_type": "stream",
     "text": [
      "total dataset: 41363 rows\n"
     ]
    },
    {
     "data": {
      "text/plain": "       0_amount_mean  0_nr_trades  0_price_delta  0_spread  1_amount_mean  \\\nindex                                                                       \n0             0.0019          5.0           0.22      0.08         0.0022   \n0             0.0536         22.0           2.20      1.65         0.0471   \n0             0.0238          3.0           1.76      0.06         0.0180   \n0             0.0109          4.0           0.16      0.58         0.0298   \n0             0.0278          3.0           0.41      0.01         0.0257   \n...              ...          ...            ...       ...            ...   \n0             0.0273         76.0           0.50      2.21         0.0341   \n0             0.0104          3.0           0.07      0.08         0.0080   \n0             0.0013          3.0           0.10      0.62         0.0039   \n0             0.0533         35.0           0.81      1.10         0.0394   \n0             0.0109          5.0           0.31      0.10         0.0092   \n\n       1_nr_trades  1_price_delta  1_spread  2_amount_mean  2_nr_trades  ...  \\\nindex                                                                    ...   \n0              6.0           0.22      0.10         0.0035          7.0  ...   \n0             40.0           1.04      2.81         0.0479         52.0  ...   \n0              4.0           1.72      0.10         0.0170          5.0  ...   \n0              5.0           0.16      0.58         0.0307          6.0  ...   \n0              5.0           0.41      0.06         0.0232          6.0  ...   \n...            ...            ...       ...            ...          ...  ...   \n0            113.0           0.46      2.29         0.0341        114.0  ...   \n0              4.0           0.07      0.08         0.0065          5.0  ...   \n0              4.0           0.10      0.62         0.0090          5.0  ...   \n0             51.0           0.78      1.13         0.0386         52.0  ...   \n0              6.0           0.31      0.10         0.0079          7.0  ...   \n\n       past_final_price_95  past_final_price_96  past_final_price_97  \\\nindex                                                                  \n0                     1.32                 1.31                 0.46   \n0                      NaN                  NaN                  NaN   \n0                     6.88                 5.38                 5.05   \n0                    -8.55                 8.92                 7.10   \n0                      NaN                  NaN                  NaN   \n...                    ...                  ...                  ...   \n0                     0.41                 1.38                 0.05   \n0                      NaN                  NaN                  NaN   \n0                      NaN                  NaN                  NaN   \n0                    -0.72                 0.80                 1.48   \n0                     0.42                 1.26                -0.40   \n\n       past_final_price_98  past_final_price_99  stabilized_amount_mean  \\\nindex                                                                     \n0                    -0.18                  0.0                  0.0034   \n0                      NaN                  NaN                  0.0416   \n0                     3.56                  0.0                  0.0125   \n0                    12.45                  0.0                  0.0219   \n0                      NaN                  NaN                  0.0143   \n...                    ...                  ...                     ...   \n0                     1.20                  0.0                  0.0300   \n0                      NaN                  NaN                  0.0069   \n0                      NaN                  NaN                  0.0101   \n0                     1.39                  0.0                  0.0412   \n0                    -0.12                  0.0                  0.0074   \n\n       stabilized_at_ms  stabilized_nr_trades  stabilized_spread  \\\nindex                                                              \n0                   558                  10.0               0.34   \n0                   805                  74.0               3.85   \n0                   215                  48.0               1.82   \n0                    49                  15.0               0.74   \n0                   745                  10.0               0.47   \n...                 ...                   ...                ...   \n0                   726                 138.0               2.75   \n0                   172                   9.0               0.15   \n0                   525                  10.0               0.72   \n0                   672                  72.0               1.91   \n0                   415                  10.0               0.42   \n\n       wave_direction  \nindex                  \n0                 max  \n0                 min  \n0                 min  \n0                None  \n0                 max  \n...               ...  \n0                 min  \n0                None  \n0                 min  \n0                 min  \n0                 max  \n\n[31022 rows x 125 columns]",
      "text/html": "<div>\n<style scoped>\n    .dataframe tbody tr th:only-of-type {\n        vertical-align: middle;\n    }\n\n    .dataframe tbody tr th {\n        vertical-align: top;\n    }\n\n    .dataframe thead th {\n        text-align: right;\n    }\n</style>\n<table border=\"1\" class=\"dataframe\">\n  <thead>\n    <tr style=\"text-align: right;\">\n      <th></th>\n      <th>0_amount_mean</th>\n      <th>0_nr_trades</th>\n      <th>0_price_delta</th>\n      <th>0_spread</th>\n      <th>1_amount_mean</th>\n      <th>1_nr_trades</th>\n      <th>1_price_delta</th>\n      <th>1_spread</th>\n      <th>2_amount_mean</th>\n      <th>2_nr_trades</th>\n      <th>...</th>\n      <th>past_final_price_95</th>\n      <th>past_final_price_96</th>\n      <th>past_final_price_97</th>\n      <th>past_final_price_98</th>\n      <th>past_final_price_99</th>\n      <th>stabilized_amount_mean</th>\n      <th>stabilized_at_ms</th>\n      <th>stabilized_nr_trades</th>\n      <th>stabilized_spread</th>\n      <th>wave_direction</th>\n    </tr>\n    <tr>\n      <th>index</th>\n      <th></th>\n      <th></th>\n      <th></th>\n      <th></th>\n      <th></th>\n      <th></th>\n      <th></th>\n      <th></th>\n      <th></th>\n      <th></th>\n      <th></th>\n      <th></th>\n      <th></th>\n      <th></th>\n      <th></th>\n      <th></th>\n      <th></th>\n      <th></th>\n      <th></th>\n      <th></th>\n      <th></th>\n    </tr>\n  </thead>\n  <tbody>\n    <tr>\n      <th>0</th>\n      <td>0.0019</td>\n      <td>5.0</td>\n      <td>0.22</td>\n      <td>0.08</td>\n      <td>0.0022</td>\n      <td>6.0</td>\n      <td>0.22</td>\n      <td>0.10</td>\n      <td>0.0035</td>\n      <td>7.0</td>\n      <td>...</td>\n      <td>1.32</td>\n      <td>1.31</td>\n      <td>0.46</td>\n      <td>-0.18</td>\n      <td>0.0</td>\n      <td>0.0034</td>\n      <td>558</td>\n      <td>10.0</td>\n      <td>0.34</td>\n      <td>max</td>\n    </tr>\n    <tr>\n      <th>0</th>\n      <td>0.0536</td>\n      <td>22.0</td>\n      <td>2.20</td>\n      <td>1.65</td>\n      <td>0.0471</td>\n      <td>40.0</td>\n      <td>1.04</td>\n      <td>2.81</td>\n      <td>0.0479</td>\n      <td>52.0</td>\n      <td>...</td>\n      <td>NaN</td>\n      <td>NaN</td>\n      <td>NaN</td>\n      <td>NaN</td>\n      <td>NaN</td>\n      <td>0.0416</td>\n      <td>805</td>\n      <td>74.0</td>\n      <td>3.85</td>\n      <td>min</td>\n    </tr>\n    <tr>\n      <th>0</th>\n      <td>0.0238</td>\n      <td>3.0</td>\n      <td>1.76</td>\n      <td>0.06</td>\n      <td>0.0180</td>\n      <td>4.0</td>\n      <td>1.72</td>\n      <td>0.10</td>\n      <td>0.0170</td>\n      <td>5.0</td>\n      <td>...</td>\n      <td>6.88</td>\n      <td>5.38</td>\n      <td>5.05</td>\n      <td>3.56</td>\n      <td>0.0</td>\n      <td>0.0125</td>\n      <td>215</td>\n      <td>48.0</td>\n      <td>1.82</td>\n      <td>min</td>\n    </tr>\n    <tr>\n      <th>0</th>\n      <td>0.0109</td>\n      <td>4.0</td>\n      <td>0.16</td>\n      <td>0.58</td>\n      <td>0.0298</td>\n      <td>5.0</td>\n      <td>0.16</td>\n      <td>0.58</td>\n      <td>0.0307</td>\n      <td>6.0</td>\n      <td>...</td>\n      <td>-8.55</td>\n      <td>8.92</td>\n      <td>7.10</td>\n      <td>12.45</td>\n      <td>0.0</td>\n      <td>0.0219</td>\n      <td>49</td>\n      <td>15.0</td>\n      <td>0.74</td>\n      <td>None</td>\n    </tr>\n    <tr>\n      <th>0</th>\n      <td>0.0278</td>\n      <td>3.0</td>\n      <td>0.41</td>\n      <td>0.01</td>\n      <td>0.0257</td>\n      <td>5.0</td>\n      <td>0.41</td>\n      <td>0.06</td>\n      <td>0.0232</td>\n      <td>6.0</td>\n      <td>...</td>\n      <td>NaN</td>\n      <td>NaN</td>\n      <td>NaN</td>\n      <td>NaN</td>\n      <td>NaN</td>\n      <td>0.0143</td>\n      <td>745</td>\n      <td>10.0</td>\n      <td>0.47</td>\n      <td>max</td>\n    </tr>\n    <tr>\n      <th>...</th>\n      <td>...</td>\n      <td>...</td>\n      <td>...</td>\n      <td>...</td>\n      <td>...</td>\n      <td>...</td>\n      <td>...</td>\n      <td>...</td>\n      <td>...</td>\n      <td>...</td>\n      <td>...</td>\n      <td>...</td>\n      <td>...</td>\n      <td>...</td>\n      <td>...</td>\n      <td>...</td>\n      <td>...</td>\n      <td>...</td>\n      <td>...</td>\n      <td>...</td>\n      <td>...</td>\n    </tr>\n    <tr>\n      <th>0</th>\n      <td>0.0273</td>\n      <td>76.0</td>\n      <td>0.50</td>\n      <td>2.21</td>\n      <td>0.0341</td>\n      <td>113.0</td>\n      <td>0.46</td>\n      <td>2.29</td>\n      <td>0.0341</td>\n      <td>114.0</td>\n      <td>...</td>\n      <td>0.41</td>\n      <td>1.38</td>\n      <td>0.05</td>\n      <td>1.20</td>\n      <td>0.0</td>\n      <td>0.0300</td>\n      <td>726</td>\n      <td>138.0</td>\n      <td>2.75</td>\n      <td>min</td>\n    </tr>\n    <tr>\n      <th>0</th>\n      <td>0.0104</td>\n      <td>3.0</td>\n      <td>0.07</td>\n      <td>0.08</td>\n      <td>0.0080</td>\n      <td>4.0</td>\n      <td>0.07</td>\n      <td>0.08</td>\n      <td>0.0065</td>\n      <td>5.0</td>\n      <td>...</td>\n      <td>NaN</td>\n      <td>NaN</td>\n      <td>NaN</td>\n      <td>NaN</td>\n      <td>NaN</td>\n      <td>0.0069</td>\n      <td>172</td>\n      <td>9.0</td>\n      <td>0.15</td>\n      <td>None</td>\n    </tr>\n    <tr>\n      <th>0</th>\n      <td>0.0013</td>\n      <td>3.0</td>\n      <td>0.10</td>\n      <td>0.62</td>\n      <td>0.0039</td>\n      <td>4.0</td>\n      <td>0.10</td>\n      <td>0.62</td>\n      <td>0.0090</td>\n      <td>5.0</td>\n      <td>...</td>\n      <td>NaN</td>\n      <td>NaN</td>\n      <td>NaN</td>\n      <td>NaN</td>\n      <td>NaN</td>\n      <td>0.0101</td>\n      <td>525</td>\n      <td>10.0</td>\n      <td>0.72</td>\n      <td>min</td>\n    </tr>\n    <tr>\n      <th>0</th>\n      <td>0.0533</td>\n      <td>35.0</td>\n      <td>0.81</td>\n      <td>1.10</td>\n      <td>0.0394</td>\n      <td>51.0</td>\n      <td>0.78</td>\n      <td>1.13</td>\n      <td>0.0386</td>\n      <td>52.0</td>\n      <td>...</td>\n      <td>-0.72</td>\n      <td>0.80</td>\n      <td>1.48</td>\n      <td>1.39</td>\n      <td>0.0</td>\n      <td>0.0412</td>\n      <td>672</td>\n      <td>72.0</td>\n      <td>1.91</td>\n      <td>min</td>\n    </tr>\n    <tr>\n      <th>0</th>\n      <td>0.0109</td>\n      <td>5.0</td>\n      <td>0.31</td>\n      <td>0.10</td>\n      <td>0.0092</td>\n      <td>6.0</td>\n      <td>0.31</td>\n      <td>0.10</td>\n      <td>0.0079</td>\n      <td>7.0</td>\n      <td>...</td>\n      <td>0.42</td>\n      <td>1.26</td>\n      <td>-0.40</td>\n      <td>-0.12</td>\n      <td>0.0</td>\n      <td>0.0074</td>\n      <td>415</td>\n      <td>10.0</td>\n      <td>0.42</td>\n      <td>max</td>\n    </tr>\n  </tbody>\n</table>\n<p>31022 rows × 125 columns</p>\n</div>"
     },
     "execution_count": 98,
     "metadata": {},
     "output_type": "execute_result"
    }
   ],
   "source": [
    "import pandas as pd\n",
    "from sklearn.model_selection import train_test_split\n",
    "from sklearn.pipeline import Pipeline\n",
    "\n",
    "df = pd.read_parquet('./data')\n",
    "print(f'total dataset: {len(df)} rows')\n",
    "\n",
    "## filters\n",
    "# df = df[df['stabilized_spread'] < 10]  # nem tul nagy spread\n",
    "# df = df[df['stabilized_spread'] > 0.2]  # nem tul nagy spread\n",
    "# df = df[abs(df['last_price_delta_since_stabilized']) > 0.1]\n",
    "# df = df[abs(df['last_price_delta_since_stabilized']) < 8]\n",
    "\n",
    "# df = df[df['stabilized_amount_mean'] < 0.4]  # nem tul nagy tradek\n",
    "# df = df[df['stabilized_nr_trades'] < 300]  # nem tul sok trade\n",
    "\n",
    "df.sort_index(axis=1, inplace=True)\n",
    "\n",
    "y = df['last_price_delta_since_stabilized']\n",
    "X = df.drop('last_price_delta_since_stabilized', axis=1)\n",
    "\n",
    "X_train, X_valid, y_train, y_valid = train_test_split(X, y, train_size=0.75, test_size=0.25, random_state=0)\n",
    "X_train"
   ]
  },
  {
   "cell_type": "code",
   "execution_count": 99,
   "outputs": [
    {
     "data": {
      "text/plain": "0.3707057354839226"
     },
     "metadata": {},
     "output_type": "display_data"
    }
   ],
   "source": [
    "from spreadsurfer.price_engine import FeatureEngineer\n",
    "from catboost import CatBoostRegressor\n",
    "from sklearn.preprocessing import StandardScaler\n",
    "# from sklearn.ensemle import RandomForestRegressor\n",
    "\n",
    "model = CatBoostRegressor(learning_rate=0.015, depth=7, loss_function='RMSE', random_state=0, verbose=False, iterations=1500)\n",
    "\n",
    "pipeline = Pipeline(steps=[\n",
    "    ('preprocessor', FeatureEngineer()),\n",
    "    # ('scaler', StandardScaler()),\n",
    "    # ('model', RandomForestRegressor(n_estimators=50, random_state=0))\n",
    "    ('model', model)\n",
    "])\n",
    "\n",
    "pipeline.fit(X_train, y_train)\n",
    "score = pipeline.score(X_valid, y_valid)\n",
    "display(score)\n"
   ],
   "metadata": {
    "collapsed": false
   }
  },
  {
   "cell_type": "code",
   "execution_count": 517,
   "outputs": [
    {
     "data": {
      "text/plain": "MetricVisualizer(layout=Layout(align_self='stretch', height='500px'))",
      "application/vnd.jupyter.widget-view+json": {
       "version_major": 2,
       "version_minor": 0,
       "model_id": "d4f30176009c401697486fa7b5cf1543"
      }
     },
     "metadata": {},
     "output_type": "display_data"
    },
    {
     "name": "stdout",
     "output_type": "stream",
     "text": [
      "boo\n"
     ]
    }
   ],
   "source": [
    "import catboost\n",
    "w = catboost.MetricVisualizer('./models', subdirs=True)\n",
    "w.start()"
   ],
   "metadata": {
    "collapsed": false
   }
  },
  {
   "cell_type": "code",
   "execution_count": 427,
   "outputs": [
    {
     "name": "stdout",
     "output_type": "stream",
     "text": [
      " Results from Grid Search \n",
      "\n",
      " The best estimator across ALL searched params:\n",
      " <catboost.core.CatBoostRegressor object at 0x7ff96cec73d0>\n",
      "\n",
      " The best score across ALL searched params:\n",
      " 0.5933380986132425\n",
      "\n",
      " The best parameters across ALL searched params:\n",
      " {'depth': 7, 'iterations': 1500, 'learning_rate': 0.015}\n"
     ]
    }
   ],
   "source": [
    "from sklearn.model_selection import GridSearchCV\n",
    "\n",
    "do_grid_search = False\n",
    "\n",
    "if do_grid_search:\n",
    "    X = FeatureEngineer().transform(X)\n",
    "    X_train, X_valid, y_train, y_valid = train_test_split(X, y, train_size=0.8, test_size=0.2, random_state=0)\n",
    "\n",
    "    parameters = {'depth': [7, 8],\n",
    "                  'learning_rate': [0.015, 0.03, 0.04],\n",
    "                  'iterations': [100, 1000, 1500]\n",
    "                  }\n",
    "    grid = GridSearchCV(estimator=model, param_grid=parameters, cv=2, n_jobs=-1)\n",
    "    grid.fit(X_train, y_train)\n",
    "\n",
    "    print(\" Results from Grid Search \")\n",
    "    print(\"\\n The best estimator across ALL searched params:\\n\", grid.best_estimator_)\n",
    "    print(\"\\n The best score across ALL searched params:\\n\", grid.best_score_)\n",
    "    print(\"\\n The best parameters across ALL searched params:\\n\", grid.best_params_)"
   ],
   "metadata": {
    "collapsed": false
   }
  },
  {
   "cell_type": "code",
   "execution_count": 97,
   "outputs": [],
   "source": [
    "from spreadsurfer import now_isoformat\n",
    "\n",
    "save = True\n",
    "if save:\n",
    "    model.save_model(f'./models/{now_isoformat()}-score-{1000 * round(score, 3)}.cat')\n"
   ],
   "metadata": {
    "collapsed": false
   }
  },
  {
   "cell_type": "code",
   "execution_count": 94,
   "outputs": [
    {
     "ename": "ZeroDivisionError",
     "evalue": "division by zero",
     "output_type": "error",
     "traceback": [
      "\u001B[0;31m---------------------------------------------------------------------------\u001B[0m",
      "\u001B[0;31mZeroDivisionError\u001B[0m                         Traceback (most recent call last)",
      "Cell \u001B[0;32mIn[94], line 25\u001B[0m\n\u001B[1;32m     23\u001B[0m     mae \u001B[38;5;241m+\u001B[39m\u001B[38;5;241m=\u001B[39m \u001B[38;5;28mabs\u001B[39m(real \u001B[38;5;241m-\u001B[39m guess)\n\u001B[1;32m     24\u001B[0m     \u001B[38;5;28mprint\u001B[39m()\n\u001B[0;32m---> 25\u001B[0m display(\u001B[38;5;124mf\u001B[39m\u001B[38;5;124m'\u001B[39m\u001B[38;5;124mMAE: \u001B[39m\u001B[38;5;132;01m{\u001B[39;00m\u001B[43mmae\u001B[49m\u001B[38;5;250;43m \u001B[39;49m\u001B[38;5;241;43m/\u001B[39;49m\u001B[38;5;250;43m \u001B[39;49m\u001B[43mcount\u001B[49m\u001B[38;5;132;01m}\u001B[39;00m\u001B[38;5;124m'\u001B[39m)\n",
      "\u001B[0;31mZeroDivisionError\u001B[0m: division by zero"
     ]
    }
   ],
   "source": [
    "input_from_log = \"\"\"\n",
    "\n",
    "\n",
    "\n",
    "\"\"\"\n",
    "from timeit import timeit\n",
    "\n",
    "mae = 0\n",
    "count = 0\n",
    "for line in input_from_log.split('\\n'):\n",
    "    if not line: continue\n",
    "    count += 1\n",
    "    json = '{' + line.split('{')[1]\n",
    "    sample = pd.DataFrame([eval(json)])\n",
    "\n",
    "    real = sample.last_price_delta_since_stabilized[0]\n",
    "    print('expected: ', real)\n",
    "    sample.drop('last_price_delta_since_stabilized', axis=1, inplace=True)\n",
    "\n",
    "    timeit(lambda: pipeline.predict(sample), number=1) * 1000\n",
    "    guess = pipeline.predict(sample)[0]\n",
    "    print('predict: ', guess)\n",
    "    mae += abs(real - guess)\n",
    "    print()\n",
    "display(f'MAE: {mae / count}')"
   ],
   "metadata": {
    "collapsed": false
   }
  },
  {
   "cell_type": "code",
   "execution_count": 100,
   "outputs": [
    {
     "ename": "AttributeError",
     "evalue": "'Series' object has no attribute 'real'",
     "output_type": "error",
     "traceback": [
      "\u001B[0;31m---------------------------------------------------------------------------\u001B[0m",
      "\u001B[0;31mAttributeError\u001B[0m                            Traceback (most recent call last)",
      "Cell \u001B[0;32mIn[100], line 9\u001B[0m\n\u001B[1;32m      1\u001B[0m sample \u001B[38;5;241m=\u001B[39m pd\u001B[38;5;241m.\u001B[39mDataFrame([\n\u001B[1;32m      2\u001B[0m     {\u001B[38;5;124m'\u001B[39m\u001B[38;5;124m0_amount_mean\u001B[39m\u001B[38;5;124m'\u001B[39m: \u001B[38;5;241m0.007\u001B[39m, \u001B[38;5;124m'\u001B[39m\u001B[38;5;124m0_nr_trades\u001B[39m\u001B[38;5;124m'\u001B[39m: \u001B[38;5;241m12.0\u001B[39m, \u001B[38;5;124m'\u001B[39m\u001B[38;5;124m0_price_delta\u001B[39m\u001B[38;5;124m'\u001B[39m: \u001B[38;5;241m0.91\u001B[39m, \u001B[38;5;124m'\u001B[39m\u001B[38;5;124m0_spread\u001B[39m\u001B[38;5;124m'\u001B[39m: \u001B[38;5;241m1.15\u001B[39m, \u001B[38;5;124m'\u001B[39m\u001B[38;5;124m1_amount_mean\u001B[39m\u001B[38;5;124m'\u001B[39m: \u001B[38;5;241m0.007\u001B[39m, \u001B[38;5;124m'\u001B[39m\u001B[38;5;124m1_nr_trades\u001B[39m\u001B[38;5;124m'\u001B[39m: \u001B[38;5;241m13.0\u001B[39m, \u001B[38;5;124m'\u001B[39m\u001B[38;5;124m1_price_delta\u001B[39m\u001B[38;5;124m'\u001B[39m: \u001B[38;5;241m0.91\u001B[39m, \u001B[38;5;124m'\u001B[39m\u001B[38;5;124m1_spread\u001B[39m\u001B[38;5;124m'\u001B[39m: \u001B[38;5;241m1.52\u001B[39m, \u001B[38;5;124m'\u001B[39m\u001B[38;5;124m2_amount_mean\u001B[39m\u001B[38;5;124m'\u001B[39m: \u001B[38;5;241m0.006\u001B[39m, \u001B[38;5;124m'\u001B[39m\u001B[38;5;124m2_nr_trades\u001B[39m\u001B[38;5;124m'\u001B[39m: \u001B[38;5;241m14.0\u001B[39m,\n\u001B[1;32m      3\u001B[0m      \u001B[38;5;124m'\u001B[39m\u001B[38;5;124m2_price_delta\u001B[39m\u001B[38;5;124m'\u001B[39m: \u001B[38;5;241m0.91\u001B[39m, \u001B[38;5;124m'\u001B[39m\u001B[38;5;124m2_spread\u001B[39m\u001B[38;5;124m'\u001B[39m: \u001B[38;5;241m1.52\u001B[39m, \u001B[38;5;124m'\u001B[39m\u001B[38;5;124m3_amount_mean\u001B[39m\u001B[38;5;124m'\u001B[39m: \u001B[38;5;241m0.006\u001B[39m, \u001B[38;5;124m'\u001B[39m\u001B[38;5;124m3_nr_trades\u001B[39m\u001B[38;5;124m'\u001B[39m: \u001B[38;5;241m16.0\u001B[39m, \u001B[38;5;124m'\u001B[39m\u001B[38;5;124m3_price_delta\u001B[39m\u001B[38;5;124m'\u001B[39m: \u001B[38;5;241m0.69\u001B[39m, \u001B[38;5;124m'\u001B[39m\u001B[38;5;124m3_spread\u001B[39m\u001B[38;5;124m'\u001B[39m: \u001B[38;5;241m1.74\u001B[39m, \u001B[38;5;124m'\u001B[39m\u001B[38;5;124m4_amount_mean\u001B[39m\u001B[38;5;124m'\u001B[39m: \u001B[38;5;241m0.005\u001B[39m, \u001B[38;5;124m'\u001B[39m\u001B[38;5;124m4_nr_trades\u001B[39m\u001B[38;5;124m'\u001B[39m: \u001B[38;5;241m17.0\u001B[39m, \u001B[38;5;124m'\u001B[39m\u001B[38;5;124m4_price_delta\u001B[39m\u001B[38;5;124m'\u001B[39m: \u001B[38;5;241m0.69\u001B[39m, \u001B[38;5;124m'\u001B[39m\u001B[38;5;124m4_spread\u001B[39m\u001B[38;5;124m'\u001B[39m: \u001B[38;5;241m1.74\u001B[39m,\n\u001B[0;32m   (...)\u001B[0m\n\u001B[1;32m      6\u001B[0m      \u001B[38;5;124m'\u001B[39m\u001B[38;5;124mpast_final_price_9\u001B[39m\u001B[38;5;124m'\u001B[39m: \u001B[38;5;241m0.0\u001B[39m, \u001B[38;5;124m'\u001B[39m\u001B[38;5;124mstabilized_amount_mean\u001B[39m\u001B[38;5;124m'\u001B[39m: \u001B[38;5;241m0.007\u001B[39m, \u001B[38;5;124m'\u001B[39m\u001B[38;5;124mstabilized_at_ms\u001B[39m\u001B[38;5;124m'\u001B[39m: \u001B[38;5;241m369\u001B[39m, \u001B[38;5;124m'\u001B[39m\u001B[38;5;124mstabilized_nr_trades\u001B[39m\u001B[38;5;124m'\u001B[39m: \u001B[38;5;241m18.0\u001B[39m, \u001B[38;5;124m'\u001B[39m\u001B[38;5;124mstabilized_spread\u001B[39m\u001B[38;5;124m'\u001B[39m: \u001B[38;5;241m2.43\u001B[39m, \u001B[38;5;124m'\u001B[39m\u001B[38;5;124mwave_direction\u001B[39m\u001B[38;5;124m'\u001B[39m: \u001B[38;5;124m'\u001B[39m\u001B[38;5;124mmax\u001B[39m\u001B[38;5;124m'\u001B[39m}\n\u001B[1;32m      7\u001B[0m ])\n\u001B[0;32m----> 9\u001B[0m \u001B[38;5;28mprint\u001B[39m(\u001B[38;5;124m'\u001B[39m\u001B[38;5;124mexpected: \u001B[39m\u001B[38;5;124m'\u001B[39m, \u001B[43msample\u001B[49m\u001B[38;5;241;43m.\u001B[39;49m\u001B[43mlast_price_delta_since_stabilized\u001B[49m\u001B[38;5;241;43m.\u001B[39;49m\u001B[43mreal\u001B[49m())\n\u001B[1;32m     10\u001B[0m sample\u001B[38;5;241m.\u001B[39mdrop(\u001B[38;5;124m'\u001B[39m\u001B[38;5;124mlast_price_delta_since_stabilized\u001B[39m\u001B[38;5;124m'\u001B[39m, axis\u001B[38;5;241m=\u001B[39m\u001B[38;5;241m1\u001B[39m, inplace\u001B[38;5;241m=\u001B[39m\u001B[38;5;28;01mTrue\u001B[39;00m)\n\u001B[1;32m     12\u001B[0m \u001B[38;5;28;01mfrom\u001B[39;00m \u001B[38;5;21;01mtimeit\u001B[39;00m \u001B[38;5;28;01mimport\u001B[39;00m timeit\n",
      "File \u001B[0;32m~/workspace/cy/04-ccxt/venv/lib/python3.10/site-packages/pandas/core/generic.py:5902\u001B[0m, in \u001B[0;36mNDFrame.__getattr__\u001B[0;34m(self, name)\u001B[0m\n\u001B[1;32m   5895\u001B[0m \u001B[38;5;28;01mif\u001B[39;00m (\n\u001B[1;32m   5896\u001B[0m     name \u001B[38;5;129;01mnot\u001B[39;00m \u001B[38;5;129;01min\u001B[39;00m \u001B[38;5;28mself\u001B[39m\u001B[38;5;241m.\u001B[39m_internal_names_set\n\u001B[1;32m   5897\u001B[0m     \u001B[38;5;129;01mand\u001B[39;00m name \u001B[38;5;129;01mnot\u001B[39;00m \u001B[38;5;129;01min\u001B[39;00m \u001B[38;5;28mself\u001B[39m\u001B[38;5;241m.\u001B[39m_metadata\n\u001B[1;32m   5898\u001B[0m     \u001B[38;5;129;01mand\u001B[39;00m name \u001B[38;5;129;01mnot\u001B[39;00m \u001B[38;5;129;01min\u001B[39;00m \u001B[38;5;28mself\u001B[39m\u001B[38;5;241m.\u001B[39m_accessors\n\u001B[1;32m   5899\u001B[0m     \u001B[38;5;129;01mand\u001B[39;00m \u001B[38;5;28mself\u001B[39m\u001B[38;5;241m.\u001B[39m_info_axis\u001B[38;5;241m.\u001B[39m_can_hold_identifiers_and_holds_name(name)\n\u001B[1;32m   5900\u001B[0m ):\n\u001B[1;32m   5901\u001B[0m     \u001B[38;5;28;01mreturn\u001B[39;00m \u001B[38;5;28mself\u001B[39m[name]\n\u001B[0;32m-> 5902\u001B[0m \u001B[38;5;28;01mreturn\u001B[39;00m \u001B[38;5;28;43mobject\u001B[39;49m\u001B[38;5;241;43m.\u001B[39;49m\u001B[38;5;21;43m__getattribute__\u001B[39;49m\u001B[43m(\u001B[49m\u001B[38;5;28;43mself\u001B[39;49m\u001B[43m,\u001B[49m\u001B[43m \u001B[49m\u001B[43mname\u001B[49m\u001B[43m)\u001B[49m\n",
      "\u001B[0;31mAttributeError\u001B[0m: 'Series' object has no attribute 'real'"
     ]
    }
   ],
   "source": [
    "sample = pd.DataFrame([\n",
    "    {'0_amount_mean': 0.007, '0_nr_trades': 12.0, '0_price_delta': 0.91, '0_spread': 1.15, '1_amount_mean': 0.007, '1_nr_trades': 13.0, '1_price_delta': 0.91, '1_spread': 1.52, '2_amount_mean': 0.006, '2_nr_trades': 14.0,\n",
    "     '2_price_delta': 0.91, '2_spread': 1.52, '3_amount_mean': 0.006, '3_nr_trades': 16.0, '3_price_delta': 0.69, '3_spread': 1.74, '4_amount_mean': 0.005, '4_nr_trades': 17.0, '4_price_delta': 0.69, '4_spread': 1.74,\n",
    "     'last_price_delta_since_stabilized': -0.87, 'past_final_price_0': -0.11999999999898137, 'past_final_price_1': 0.25, 'past_final_price_2': -0.020000000000436557, 'past_final_price_3': -1.7400000000016007,\n",
    "     'past_final_price_4': 0.06999999999970896, 'past_final_price_5': -2.7299999999995634, 'past_final_price_6': -3.9099999999998545, 'past_final_price_7': 3.360000000000582, 'past_final_price_8': -0.06000000000130967,\n",
    "     'past_final_price_9': 0.0, 'stabilized_amount_mean': 0.007, 'stabilized_at_ms': 369, 'stabilized_nr_trades': 18.0, 'stabilized_spread': 2.43, 'wave_direction': 'max'}\n",
    "])\n",
    "\n",
    "print('expected: ', sample.last_price_delta_since_stabilized.real())\n",
    "sample.drop('last_price_delta_since_stabilized', axis=1, inplace=True)\n",
    "\n",
    "from timeit import timeit\n",
    "\n",
    "timeit(lambda: pipeline.predict(sample), number=1) * 1000\n",
    "print('predict: ', pipeline.predict(sample)[0])\n"
   ],
   "metadata": {
    "collapsed": false
   }
  },
  {
   "cell_type": "code",
   "execution_count": 278,
   "outputs": [
    {
     "name": "stdout",
     "output_type": "stream",
     "text": [
      "catboost model loaded from 2023-01-21T20:37:02-score-773.0.cat\n"
     ]
    }
   ],
   "source": [
    "from glob import glob\n",
    "\n",
    "cat_filename = glob('*.cat')[0]\n",
    "cat_filename\n",
    "\n",
    "model = CatBoostRegressor()\n",
    "model.load_model(fname=cat_filename)\n",
    "print(f'catboost model loaded from {cat_filename}')\n"
   ],
   "metadata": {
    "collapsed": false
   }
  }
 ],
 "metadata": {
  "kernelspec": {
   "display_name": "Python 3",
   "language": "python",
   "name": "python3"
  },
  "language_info": {
   "codemirror_mode": {
    "name": "ipython",
    "version": 2
   },
   "file_extension": ".py",
   "mimetype": "text/x-python",
   "name": "python",
   "nbconvert_exporter": "python",
   "pygments_lexer": "ipython2",
   "version": "2.7.6"
  }
 },
 "nbformat": 4,
 "nbformat_minor": 0
}
