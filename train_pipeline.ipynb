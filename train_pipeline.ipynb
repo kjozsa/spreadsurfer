{
 "cells": [
  {
   "cell_type": "code",
   "execution_count": 274,
   "metadata": {
    "collapsed": true
   },
   "outputs": [
    {
     "name": "stdout",
     "output_type": "stream",
     "text": [
      "total dataset: 38177 rows\n"
     ]
    },
    {
     "data": {
      "text/plain": "       0_amount_mean  0_nr_trades  0_price_delta  0_spread  1_amount_mean  \\\nindex                                                                       \n0             0.0526        108.0           0.91      3.20         0.0526   \n0             0.1226         20.0           0.50      1.08         0.1179   \n0             0.0047         19.0           0.03      0.56         0.0046   \n0             0.0009         16.0           0.20      0.27         0.0009   \n0             0.0236         18.0           0.22      1.08         0.0259   \n...              ...          ...            ...       ...            ...   \n0             0.0294          6.0           0.88      0.21         0.0302   \n0             0.0734          3.0           0.46      0.17         0.0484   \n0             0.0077          3.0           0.81      0.36         0.0262   \n0             0.0197         25.0           0.71      1.19         0.0225   \n0             0.0409          4.0           0.17      1.02         0.0361   \n\n       1_nr_trades  1_price_delta  1_spread  2_amount_mean  2_nr_trades  ...  \\\nindex                                                                    ...   \n0            109.0           0.91      3.20         0.0522        110.0  ...   \n0             21.0           0.50      1.08         0.1126         22.0  ...   \n0             20.0           0.03      0.56         0.0044         21.0  ...   \n0             17.0           0.20      0.28         0.0009         18.0  ...   \n0             19.0           0.22      1.08         0.0247         20.0  ...   \n...            ...            ...       ...            ...          ...  ...   \n0              7.0           0.85      0.24         0.0375         16.0  ...   \n0              5.0           0.46      0.17         0.0405          6.0  ...   \n0              5.0           0.41      0.76         0.0303          6.0  ...   \n0             32.0           0.71      1.19         0.0231         33.0  ...   \n0              5.0           0.17      1.02         0.0313          6.0  ...   \n\n       3_spread  4_amount_mean  4_nr_trades  4_price_delta  4_spread  \\\nindex                                                                  \n0          3.20         0.0518        123.0           0.76      3.35   \n0          1.08         0.1005         25.0           0.49      1.09   \n0          0.56         0.0060         23.0           0.00      0.59   \n0          0.30         0.0070         20.0           0.00      0.50   \n0          1.08         0.0228         22.0           0.22      1.08   \n...         ...            ...          ...            ...       ...   \n0          0.47         0.0360         26.0           0.03      1.06   \n0          0.56         0.0307          8.0           0.07      0.56   \n0          0.76         0.0213          9.0           0.41      0.76   \n0          1.20         0.0230         35.0           0.69      1.21   \n0          1.08         0.0213          9.0           0.01      1.18   \n\n       stabilized_amount_mean  stabilized_at_ms  stabilized_nr_trades  \\\nindex                                                                   \n0                      0.0531               159                 132.0   \n0                      0.0641               309                  46.0   \n0                      0.0061               800                  25.0   \n0                      0.0067               310                  21.0   \n0                      0.0210               340                  25.0   \n...                       ...               ...                   ...   \n0                      0.0363                41                  27.0   \n0                      0.0274               490                   9.0   \n0                      0.0192               161                  10.0   \n0                      0.0202               777                  55.0   \n0                      0.0222               198                  10.0   \n\n       stabilized_spread  wave_direction  \nindex                                     \n0                   4.11             max  \n0                   1.58             max  \n0                   0.59             min  \n0                   0.50             min  \n0                   1.30             max  \n...                  ...             ...  \n0                   1.09             min  \n0                   0.63             max  \n0                   1.17             min  \n0                   1.90             max  \n0                   1.19             min  \n\n[10780 rows x 25 columns]",
      "text/html": "<div>\n<style scoped>\n    .dataframe tbody tr th:only-of-type {\n        vertical-align: middle;\n    }\n\n    .dataframe tbody tr th {\n        vertical-align: top;\n    }\n\n    .dataframe thead th {\n        text-align: right;\n    }\n</style>\n<table border=\"1\" class=\"dataframe\">\n  <thead>\n    <tr style=\"text-align: right;\">\n      <th></th>\n      <th>0_amount_mean</th>\n      <th>0_nr_trades</th>\n      <th>0_price_delta</th>\n      <th>0_spread</th>\n      <th>1_amount_mean</th>\n      <th>1_nr_trades</th>\n      <th>1_price_delta</th>\n      <th>1_spread</th>\n      <th>2_amount_mean</th>\n      <th>2_nr_trades</th>\n      <th>...</th>\n      <th>3_spread</th>\n      <th>4_amount_mean</th>\n      <th>4_nr_trades</th>\n      <th>4_price_delta</th>\n      <th>4_spread</th>\n      <th>stabilized_amount_mean</th>\n      <th>stabilized_at_ms</th>\n      <th>stabilized_nr_trades</th>\n      <th>stabilized_spread</th>\n      <th>wave_direction</th>\n    </tr>\n    <tr>\n      <th>index</th>\n      <th></th>\n      <th></th>\n      <th></th>\n      <th></th>\n      <th></th>\n      <th></th>\n      <th></th>\n      <th></th>\n      <th></th>\n      <th></th>\n      <th></th>\n      <th></th>\n      <th></th>\n      <th></th>\n      <th></th>\n      <th></th>\n      <th></th>\n      <th></th>\n      <th></th>\n      <th></th>\n      <th></th>\n    </tr>\n  </thead>\n  <tbody>\n    <tr>\n      <th>0</th>\n      <td>0.0526</td>\n      <td>108.0</td>\n      <td>0.91</td>\n      <td>3.20</td>\n      <td>0.0526</td>\n      <td>109.0</td>\n      <td>0.91</td>\n      <td>3.20</td>\n      <td>0.0522</td>\n      <td>110.0</td>\n      <td>...</td>\n      <td>3.20</td>\n      <td>0.0518</td>\n      <td>123.0</td>\n      <td>0.76</td>\n      <td>3.35</td>\n      <td>0.0531</td>\n      <td>159</td>\n      <td>132.0</td>\n      <td>4.11</td>\n      <td>max</td>\n    </tr>\n    <tr>\n      <th>0</th>\n      <td>0.1226</td>\n      <td>20.0</td>\n      <td>0.50</td>\n      <td>1.08</td>\n      <td>0.1179</td>\n      <td>21.0</td>\n      <td>0.50</td>\n      <td>1.08</td>\n      <td>0.1126</td>\n      <td>22.0</td>\n      <td>...</td>\n      <td>1.08</td>\n      <td>0.1005</td>\n      <td>25.0</td>\n      <td>0.49</td>\n      <td>1.09</td>\n      <td>0.0641</td>\n      <td>309</td>\n      <td>46.0</td>\n      <td>1.58</td>\n      <td>max</td>\n    </tr>\n    <tr>\n      <th>0</th>\n      <td>0.0047</td>\n      <td>19.0</td>\n      <td>0.03</td>\n      <td>0.56</td>\n      <td>0.0046</td>\n      <td>20.0</td>\n      <td>0.03</td>\n      <td>0.56</td>\n      <td>0.0044</td>\n      <td>21.0</td>\n      <td>...</td>\n      <td>0.56</td>\n      <td>0.0060</td>\n      <td>23.0</td>\n      <td>0.00</td>\n      <td>0.59</td>\n      <td>0.0061</td>\n      <td>800</td>\n      <td>25.0</td>\n      <td>0.59</td>\n      <td>min</td>\n    </tr>\n    <tr>\n      <th>0</th>\n      <td>0.0009</td>\n      <td>16.0</td>\n      <td>0.20</td>\n      <td>0.27</td>\n      <td>0.0009</td>\n      <td>17.0</td>\n      <td>0.20</td>\n      <td>0.28</td>\n      <td>0.0009</td>\n      <td>18.0</td>\n      <td>...</td>\n      <td>0.30</td>\n      <td>0.0070</td>\n      <td>20.0</td>\n      <td>0.00</td>\n      <td>0.50</td>\n      <td>0.0067</td>\n      <td>310</td>\n      <td>21.0</td>\n      <td>0.50</td>\n      <td>min</td>\n    </tr>\n    <tr>\n      <th>0</th>\n      <td>0.0236</td>\n      <td>18.0</td>\n      <td>0.22</td>\n      <td>1.08</td>\n      <td>0.0259</td>\n      <td>19.0</td>\n      <td>0.22</td>\n      <td>1.08</td>\n      <td>0.0247</td>\n      <td>20.0</td>\n      <td>...</td>\n      <td>1.08</td>\n      <td>0.0228</td>\n      <td>22.0</td>\n      <td>0.22</td>\n      <td>1.08</td>\n      <td>0.0210</td>\n      <td>340</td>\n      <td>25.0</td>\n      <td>1.30</td>\n      <td>max</td>\n    </tr>\n    <tr>\n      <th>...</th>\n      <td>...</td>\n      <td>...</td>\n      <td>...</td>\n      <td>...</td>\n      <td>...</td>\n      <td>...</td>\n      <td>...</td>\n      <td>...</td>\n      <td>...</td>\n      <td>...</td>\n      <td>...</td>\n      <td>...</td>\n      <td>...</td>\n      <td>...</td>\n      <td>...</td>\n      <td>...</td>\n      <td>...</td>\n      <td>...</td>\n      <td>...</td>\n      <td>...</td>\n      <td>...</td>\n    </tr>\n    <tr>\n      <th>0</th>\n      <td>0.0294</td>\n      <td>6.0</td>\n      <td>0.88</td>\n      <td>0.21</td>\n      <td>0.0302</td>\n      <td>7.0</td>\n      <td>0.85</td>\n      <td>0.24</td>\n      <td>0.0375</td>\n      <td>16.0</td>\n      <td>...</td>\n      <td>0.47</td>\n      <td>0.0360</td>\n      <td>26.0</td>\n      <td>0.03</td>\n      <td>1.06</td>\n      <td>0.0363</td>\n      <td>41</td>\n      <td>27.0</td>\n      <td>1.09</td>\n      <td>min</td>\n    </tr>\n    <tr>\n      <th>0</th>\n      <td>0.0734</td>\n      <td>3.0</td>\n      <td>0.46</td>\n      <td>0.17</td>\n      <td>0.0484</td>\n      <td>5.0</td>\n      <td>0.46</td>\n      <td>0.17</td>\n      <td>0.0405</td>\n      <td>6.0</td>\n      <td>...</td>\n      <td>0.56</td>\n      <td>0.0307</td>\n      <td>8.0</td>\n      <td>0.07</td>\n      <td>0.56</td>\n      <td>0.0274</td>\n      <td>490</td>\n      <td>9.0</td>\n      <td>0.63</td>\n      <td>max</td>\n    </tr>\n    <tr>\n      <th>0</th>\n      <td>0.0077</td>\n      <td>3.0</td>\n      <td>0.81</td>\n      <td>0.36</td>\n      <td>0.0262</td>\n      <td>5.0</td>\n      <td>0.41</td>\n      <td>0.76</td>\n      <td>0.0303</td>\n      <td>6.0</td>\n      <td>...</td>\n      <td>0.76</td>\n      <td>0.0213</td>\n      <td>9.0</td>\n      <td>0.41</td>\n      <td>0.76</td>\n      <td>0.0192</td>\n      <td>161</td>\n      <td>10.0</td>\n      <td>1.17</td>\n      <td>min</td>\n    </tr>\n    <tr>\n      <th>0</th>\n      <td>0.0197</td>\n      <td>25.0</td>\n      <td>0.71</td>\n      <td>1.19</td>\n      <td>0.0225</td>\n      <td>32.0</td>\n      <td>0.71</td>\n      <td>1.19</td>\n      <td>0.0231</td>\n      <td>33.0</td>\n      <td>...</td>\n      <td>1.20</td>\n      <td>0.0230</td>\n      <td>35.0</td>\n      <td>0.69</td>\n      <td>1.21</td>\n      <td>0.0202</td>\n      <td>777</td>\n      <td>55.0</td>\n      <td>1.90</td>\n      <td>max</td>\n    </tr>\n    <tr>\n      <th>0</th>\n      <td>0.0409</td>\n      <td>4.0</td>\n      <td>0.17</td>\n      <td>1.02</td>\n      <td>0.0361</td>\n      <td>5.0</td>\n      <td>0.17</td>\n      <td>1.02</td>\n      <td>0.0313</td>\n      <td>6.0</td>\n      <td>...</td>\n      <td>1.08</td>\n      <td>0.0213</td>\n      <td>9.0</td>\n      <td>0.01</td>\n      <td>1.18</td>\n      <td>0.0222</td>\n      <td>198</td>\n      <td>10.0</td>\n      <td>1.19</td>\n      <td>min</td>\n    </tr>\n  </tbody>\n</table>\n<p>10780 rows × 25 columns</p>\n</div>"
     },
     "execution_count": 274,
     "metadata": {},
     "output_type": "execute_result"
    }
   ],
   "source": [
    "from sklearn.pipeline import Pipeline\n",
    "from sklearn.base import BaseEstimator\n",
    "from sklearn.base import TransformerMixin\n",
    "from sklearn.model_selection import train_test_split\n",
    "import pandas as pd\n",
    "\n",
    "\n",
    "df = pd.read_parquet('./data')\n",
    "print(f'total dataset: {len(df)} rows')\n",
    "\n",
    "## filters\n",
    "df = df[df['stabilized_spread'] < 10] # nem tul nagy spread\n",
    "df = df[df['stabilized_spread'] > 0.2] # nem tul nagy spread\n",
    "df = df[abs(df['last_price_delta_since_stabilized']) > 0.5]\n",
    "df = df[abs(df['last_price_delta_since_stabilized']) < 12]\n",
    "\n",
    "## df = df[df['stabilized_amount_mean'] < 0.4]  # nem tul nagy tradek\n",
    "## df = df[df['stabilized_nr_trades'] < 300]  # nem tul sok trade\n",
    "\n",
    "df.sort_index(axis=1, inplace=True)\n",
    "\n",
    "y = df['last_price_delta_since_stabilized']\n",
    "X = df.drop('last_price_delta_since_stabilized', axis=1)\n",
    "\n",
    "X_train, X_valid, y_train, y_valid = train_test_split(X, y, train_size=0.8, test_size=0.2, random_state=0)\n",
    "X_train"
   ]
  },
  {
   "cell_type": "code",
   "execution_count": 275,
   "outputs": [
    {
     "name": "stdout",
     "output_type": "stream",
     "text": [
      "fitting on 10780 records\n"
     ]
    },
    {
     "data": {
      "text/plain": "0.6199711496289153"
     },
     "metadata": {},
     "output_type": "display_data"
    }
   ],
   "source": [
    "from spreadsurfer.price_engine import FeatureEngineer\n",
    "from catboost import CatBoostRegressor\n",
    "# from sklearn.ensemle import RandomForestRegressor\n",
    "\n",
    "model = CatBoostRegressor(learning_rate=0.007, depth=7, loss_function='RMSE', random_state=0, verbose=False, iterations=1500)\n",
    "\n",
    "pipeline = Pipeline(steps=[\n",
    "    ('preprocessor', FeatureEngineer()),\n",
    "    # ('model', RandomForestRegressor(n_estimators=50, random_state=0))\n",
    "    ('model',  model)\n",
    "])\n",
    "\n",
    "pipeline.fit(X_train, y_train)\n",
    "score = pipeline.score(X_valid, y_valid)\n",
    "display(score)\n"
   ],
   "metadata": {
    "collapsed": false
   }
  },
  {
   "cell_type": "code",
   "execution_count": 276,
   "outputs": [],
   "source": [
    "from spreadsurfer import now_isoformat\n",
    "\n",
    "save = False\n",
    "if save:\n",
    "    model.save_model(f'./models/{now_isoformat()}-score-{1000 * round(score, 3)}.cat')\n"
   ],
   "metadata": {
    "collapsed": false
   }
  },
  {
   "cell_type": "code",
   "execution_count": 277,
   "outputs": [
    {
     "name": "stdout",
     "output_type": "stream",
     "text": [
      "expected:  1.97\n"
     ]
    },
    {
     "data": {
      "text/plain": "1.5980001775973667"
     },
     "execution_count": 277,
     "metadata": {},
     "output_type": "execute_result"
    }
   ],
   "source": [
    "sample = pd.DataFrame([\n",
    "    {'0_amount_mean': 0.094411, '0_nr_trades': 75.0, '0_price_delta': 0.61, '0_spread': 1.44, '1_amount_mean': 0.093298, '1_nr_trades': 76.0, '1_price_delta': 0.61, '1_spread':1.44, '2_amount_mean': 0.092106, '2_nr_trades': 77.0, '2_price_delta': 0.61, '2_spread': 1.44, '3_amount_mean': 0.084998, '3_nr_trades': 85.0, '3_price_delta': 0.11, '3_spread': 1.94, '4_amount_mean': 0.084199, '4_nr_trades': 86.0, '4_price_delta': 0.04, '4_spread': 2.01, 'last_price_delta_since_stabilized': 1.97, 'stabilized_amount_mean': 0.08325, 'stabilized_at_ms': 123, 'stabilized_nr_trades': 87.0, 'stabilized_spread': 2.05, 'wave_direction': 'min'}\n",
    "])\n",
    "\n",
    "print('expected: ', sample.last_price_delta_since_stabilized.mean())\n",
    "sample.drop('last_price_delta_since_stabilized', axis=1, inplace=True)\n",
    "\n",
    "from timeit import timeit\n",
    "timeit(lambda: pipeline.predict(sample), number=1) * 1000\n",
    "pipeline.predict(sample)[0]\n"
   ],
   "metadata": {
    "collapsed": false
   }
  },
  {
   "cell_type": "code",
   "execution_count": 278,
   "outputs": [
    {
     "name": "stdout",
     "output_type": "stream",
     "text": [
      "catboost model loaded from 2023-01-21T20:37:02-score-773.0.cat\n"
     ]
    }
   ],
   "source": [
    "from glob import glob\n",
    "cat_filename = glob('*.cat')[0]\n",
    "cat_filename\n",
    "\n",
    "model = CatBoostRegressor()\n",
    "model.load_model(fname=cat_filename)\n",
    "print(f'catboost model loaded from {cat_filename}')\n"
   ],
   "metadata": {
    "collapsed": false
   }
  }
 ],
 "metadata": {
  "kernelspec": {
   "display_name": "Python 3",
   "language": "python",
   "name": "python3"
  },
  "language_info": {
   "codemirror_mode": {
    "name": "ipython",
    "version": 2
   },
   "file_extension": ".py",
   "mimetype": "text/x-python",
   "name": "python",
   "nbconvert_exporter": "python",
   "pygments_lexer": "ipython2",
   "version": "2.7.6"
  }
 },
 "nbformat": 4,
 "nbformat_minor": 0
}
