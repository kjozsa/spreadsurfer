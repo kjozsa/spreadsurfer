{
 "cells": [
  {
   "cell_type": "code",
   "execution_count": 91,
   "metadata": {
    "collapsed": true
   },
   "outputs": [
    {
     "name": "stdout",
     "output_type": "stream",
     "text": [
      "total dataset: 22000 rows\n"
     ]
    },
    {
     "data": {
      "text/plain": "       0_amount_mean  0_nr_trades  0_price_delta  1_amount_mean  1_nr_trades  \\\nindex                                                                          \n0             0.0134          5.0           0.20         0.0161         11.0   \n0             0.0016          6.0           0.37         0.0021          8.0   \n0             0.0092          5.0           0.70         0.0144          6.0   \n0             0.0048         16.0           0.10         0.0045         17.0   \n0             0.0242          5.0           2.17         0.0323         29.0   \n...              ...          ...            ...            ...          ...   \n0             0.0039          8.0           0.04         0.0037          9.0   \n0             0.0460          3.0           0.50         0.0407          4.0   \n0             0.0680         45.0           1.15         0.0663         48.0   \n0             0.0031          4.0           0.35         0.0029          5.0   \n0             0.0344         38.0           0.40         0.0335         39.0   \n\n       1_price_delta  2_amount_mean  2_nr_trades  2_price_delta  \\\nindex                                                             \n0               0.20         0.0206         13.0           0.20   \n0               0.37         0.0019          9.0           0.37   \n0               0.70         0.0128          7.0           0.70   \n0               0.10         0.0044         18.0           0.10   \n0               1.55         0.0424        118.0           0.38   \n...              ...            ...          ...            ...   \n0               0.04         0.0124         13.0           0.04   \n0               0.50         0.0327          5.0           0.50   \n0               1.15         0.0670         49.0           1.15   \n0               0.35         0.0206          7.0           0.35   \n0               0.40         0.0327         40.0           0.40   \n\n       3_amount_mean  ...  3_price_delta  4_amount_mean  4_nr_trades  \\\nindex                 ...                                              \n0             0.0195  ...           0.00         0.0204         15.0   \n0             0.0041  ...           0.00         0.0056         12.0   \n0             0.0261  ...           0.36         0.0371         34.0   \n0             0.0112  ...           0.10         0.0121         24.0   \n0             0.0445  ...           0.00         0.0440        134.0   \n...              ...  ...            ...            ...          ...   \n0             0.0110  ...           0.00         0.0134         16.0   \n0             0.0236  ...           0.50         0.0272          8.0   \n0             0.0678  ...           1.13         0.0510         81.0   \n0             0.0155  ...           0.11         0.0319         20.0   \n0             0.0321  ...           0.40         0.0336         51.0   \n\n       4_price_delta  stabilized_amount_mean  stabilized_at_ms  \\\nindex                                                            \n0               0.00                  0.0261               174   \n0               0.00                  0.0061               324   \n0               0.00                  0.0350               347   \n0               0.07                  0.0108               790   \n0               0.00                  0.0440               314   \n...              ...                     ...               ...   \n0               0.00                  0.0127               566   \n0               0.50                  0.0192               682   \n0               0.37                  0.0447               269   \n0               0.00                  0.0293               477   \n0               0.27                  0.0318               584   \n\n       stabilized_gasp  stabilized_nr_trades  stabilized_spread  \\\nindex                                                             \n0              -0.0629                  17.0               0.53   \n0              -0.3611                  13.0               1.00   \n0               0.8572                  37.0               1.23   \n0               0.6852                  27.0               0.83   \n0              -0.5969                 136.0               2.52   \n...                ...                   ...                ...   \n0               0.3377                  17.0               0.54   \n0               0.8086                  15.0               1.26   \n0               1.1712                 101.0               2.43   \n0               0.5080                  22.0               0.95   \n0              -1.3881                  63.0               1.66   \n\n       wave_direction  \nindex                  \n0                 min  \n0                 max  \n0                 min  \n0                 min  \n0                 max  \n...               ...  \n0                 min  \n0                 min  \n0                 min  \n0                 min  \n0                 max  \n\n[15327 rows x 21 columns]",
      "text/html": "<div>\n<style scoped>\n    .dataframe tbody tr th:only-of-type {\n        vertical-align: middle;\n    }\n\n    .dataframe tbody tr th {\n        vertical-align: top;\n    }\n\n    .dataframe thead th {\n        text-align: right;\n    }\n</style>\n<table border=\"1\" class=\"dataframe\">\n  <thead>\n    <tr style=\"text-align: right;\">\n      <th></th>\n      <th>0_amount_mean</th>\n      <th>0_nr_trades</th>\n      <th>0_price_delta</th>\n      <th>1_amount_mean</th>\n      <th>1_nr_trades</th>\n      <th>1_price_delta</th>\n      <th>2_amount_mean</th>\n      <th>2_nr_trades</th>\n      <th>2_price_delta</th>\n      <th>3_amount_mean</th>\n      <th>...</th>\n      <th>3_price_delta</th>\n      <th>4_amount_mean</th>\n      <th>4_nr_trades</th>\n      <th>4_price_delta</th>\n      <th>stabilized_amount_mean</th>\n      <th>stabilized_at_ms</th>\n      <th>stabilized_gasp</th>\n      <th>stabilized_nr_trades</th>\n      <th>stabilized_spread</th>\n      <th>wave_direction</th>\n    </tr>\n    <tr>\n      <th>index</th>\n      <th></th>\n      <th></th>\n      <th></th>\n      <th></th>\n      <th></th>\n      <th></th>\n      <th></th>\n      <th></th>\n      <th></th>\n      <th></th>\n      <th></th>\n      <th></th>\n      <th></th>\n      <th></th>\n      <th></th>\n      <th></th>\n      <th></th>\n      <th></th>\n      <th></th>\n      <th></th>\n      <th></th>\n    </tr>\n  </thead>\n  <tbody>\n    <tr>\n      <th>0</th>\n      <td>0.0134</td>\n      <td>5.0</td>\n      <td>0.20</td>\n      <td>0.0161</td>\n      <td>11.0</td>\n      <td>0.20</td>\n      <td>0.0206</td>\n      <td>13.0</td>\n      <td>0.20</td>\n      <td>0.0195</td>\n      <td>...</td>\n      <td>0.00</td>\n      <td>0.0204</td>\n      <td>15.0</td>\n      <td>0.00</td>\n      <td>0.0261</td>\n      <td>174</td>\n      <td>-0.0629</td>\n      <td>17.0</td>\n      <td>0.53</td>\n      <td>min</td>\n    </tr>\n    <tr>\n      <th>0</th>\n      <td>0.0016</td>\n      <td>6.0</td>\n      <td>0.37</td>\n      <td>0.0021</td>\n      <td>8.0</td>\n      <td>0.37</td>\n      <td>0.0019</td>\n      <td>9.0</td>\n      <td>0.37</td>\n      <td>0.0041</td>\n      <td>...</td>\n      <td>0.00</td>\n      <td>0.0056</td>\n      <td>12.0</td>\n      <td>0.00</td>\n      <td>0.0061</td>\n      <td>324</td>\n      <td>-0.3611</td>\n      <td>13.0</td>\n      <td>1.00</td>\n      <td>max</td>\n    </tr>\n    <tr>\n      <th>0</th>\n      <td>0.0092</td>\n      <td>5.0</td>\n      <td>0.70</td>\n      <td>0.0144</td>\n      <td>6.0</td>\n      <td>0.70</td>\n      <td>0.0128</td>\n      <td>7.0</td>\n      <td>0.70</td>\n      <td>0.0261</td>\n      <td>...</td>\n      <td>0.36</td>\n      <td>0.0371</td>\n      <td>34.0</td>\n      <td>0.00</td>\n      <td>0.0350</td>\n      <td>347</td>\n      <td>0.8572</td>\n      <td>37.0</td>\n      <td>1.23</td>\n      <td>min</td>\n    </tr>\n    <tr>\n      <th>0</th>\n      <td>0.0048</td>\n      <td>16.0</td>\n      <td>0.10</td>\n      <td>0.0045</td>\n      <td>17.0</td>\n      <td>0.10</td>\n      <td>0.0044</td>\n      <td>18.0</td>\n      <td>0.10</td>\n      <td>0.0112</td>\n      <td>...</td>\n      <td>0.10</td>\n      <td>0.0121</td>\n      <td>24.0</td>\n      <td>0.07</td>\n      <td>0.0108</td>\n      <td>790</td>\n      <td>0.6852</td>\n      <td>27.0</td>\n      <td>0.83</td>\n      <td>min</td>\n    </tr>\n    <tr>\n      <th>0</th>\n      <td>0.0242</td>\n      <td>5.0</td>\n      <td>2.17</td>\n      <td>0.0323</td>\n      <td>29.0</td>\n      <td>1.55</td>\n      <td>0.0424</td>\n      <td>118.0</td>\n      <td>0.38</td>\n      <td>0.0445</td>\n      <td>...</td>\n      <td>0.00</td>\n      <td>0.0440</td>\n      <td>134.0</td>\n      <td>0.00</td>\n      <td>0.0440</td>\n      <td>314</td>\n      <td>-0.5969</td>\n      <td>136.0</td>\n      <td>2.52</td>\n      <td>max</td>\n    </tr>\n    <tr>\n      <th>...</th>\n      <td>...</td>\n      <td>...</td>\n      <td>...</td>\n      <td>...</td>\n      <td>...</td>\n      <td>...</td>\n      <td>...</td>\n      <td>...</td>\n      <td>...</td>\n      <td>...</td>\n      <td>...</td>\n      <td>...</td>\n      <td>...</td>\n      <td>...</td>\n      <td>...</td>\n      <td>...</td>\n      <td>...</td>\n      <td>...</td>\n      <td>...</td>\n      <td>...</td>\n      <td>...</td>\n    </tr>\n    <tr>\n      <th>0</th>\n      <td>0.0039</td>\n      <td>8.0</td>\n      <td>0.04</td>\n      <td>0.0037</td>\n      <td>9.0</td>\n      <td>0.04</td>\n      <td>0.0124</td>\n      <td>13.0</td>\n      <td>0.04</td>\n      <td>0.0110</td>\n      <td>...</td>\n      <td>0.00</td>\n      <td>0.0134</td>\n      <td>16.0</td>\n      <td>0.00</td>\n      <td>0.0127</td>\n      <td>566</td>\n      <td>0.3377</td>\n      <td>17.0</td>\n      <td>0.54</td>\n      <td>min</td>\n    </tr>\n    <tr>\n      <th>0</th>\n      <td>0.0460</td>\n      <td>3.0</td>\n      <td>0.50</td>\n      <td>0.0407</td>\n      <td>4.0</td>\n      <td>0.50</td>\n      <td>0.0327</td>\n      <td>5.0</td>\n      <td>0.50</td>\n      <td>0.0236</td>\n      <td>...</td>\n      <td>0.50</td>\n      <td>0.0272</td>\n      <td>8.0</td>\n      <td>0.50</td>\n      <td>0.0192</td>\n      <td>682</td>\n      <td>0.8086</td>\n      <td>15.0</td>\n      <td>1.26</td>\n      <td>min</td>\n    </tr>\n    <tr>\n      <th>0</th>\n      <td>0.0680</td>\n      <td>45.0</td>\n      <td>1.15</td>\n      <td>0.0663</td>\n      <td>48.0</td>\n      <td>1.15</td>\n      <td>0.0670</td>\n      <td>49.0</td>\n      <td>1.15</td>\n      <td>0.0678</td>\n      <td>...</td>\n      <td>1.13</td>\n      <td>0.0510</td>\n      <td>81.0</td>\n      <td>0.37</td>\n      <td>0.0447</td>\n      <td>269</td>\n      <td>1.1712</td>\n      <td>101.0</td>\n      <td>2.43</td>\n      <td>min</td>\n    </tr>\n    <tr>\n      <th>0</th>\n      <td>0.0031</td>\n      <td>4.0</td>\n      <td>0.35</td>\n      <td>0.0029</td>\n      <td>5.0</td>\n      <td>0.35</td>\n      <td>0.0206</td>\n      <td>7.0</td>\n      <td>0.35</td>\n      <td>0.0155</td>\n      <td>...</td>\n      <td>0.11</td>\n      <td>0.0319</td>\n      <td>20.0</td>\n      <td>0.00</td>\n      <td>0.0293</td>\n      <td>477</td>\n      <td>0.5080</td>\n      <td>22.0</td>\n      <td>0.95</td>\n      <td>min</td>\n    </tr>\n    <tr>\n      <th>0</th>\n      <td>0.0344</td>\n      <td>38.0</td>\n      <td>0.40</td>\n      <td>0.0335</td>\n      <td>39.0</td>\n      <td>0.40</td>\n      <td>0.0327</td>\n      <td>40.0</td>\n      <td>0.40</td>\n      <td>0.0321</td>\n      <td>...</td>\n      <td>0.40</td>\n      <td>0.0336</td>\n      <td>51.0</td>\n      <td>0.27</td>\n      <td>0.0318</td>\n      <td>584</td>\n      <td>-1.3881</td>\n      <td>63.0</td>\n      <td>1.66</td>\n      <td>max</td>\n    </tr>\n  </tbody>\n</table>\n<p>15327 rows × 21 columns</p>\n</div>"
     },
     "execution_count": 91,
     "metadata": {},
     "output_type": "execute_result"
    }
   ],
   "source": [
    "import pandas as pd\n",
    "from sklearn.model_selection import train_test_split\n",
    "from sklearn.pipeline import Pipeline\n",
    "\n",
    "df = pd.read_parquet('./data')\n",
    "print(f'total dataset: {len(df)} rows')\n",
    "\n",
    "## filters\n",
    "# df = df[df['stabilized_spread'] < 10]  # nem tul nagy spread\n",
    "df = df[df['stabilized_spread'] > 0.5]  # nem tul kis spread\n",
    "# df = df[abs(df['last_price_delta_since_stabilized']) > 0.1]\n",
    "# df = df[abs(df['last_price_delta_since_stabilized']) < 8]\n",
    "\n",
    "# df = df[df['stabilized_amount_mean'] < 0.4]  # nem tul nagy tradek\n",
    "# df = df[df['stabilized_nr_trades'] < 300]  # nem tul sok trade\n",
    "\n",
    "df.sort_index(axis=1, inplace=True)\n",
    "\n",
    "for col in df.columns:\n",
    "    # if 'nr_trades' in col or 'price_delta' in col and not col.startswith('last'):\n",
    "    #     df.drop(col, axis=1, inplace=True)\n",
    "    if 'past' in col:\n",
    "        df.drop(col, axis=1, inplace=True)\n",
    "    if '_spread' == col[1:]:\n",
    "        df.drop(col, axis=1, inplace=True)\n",
    "\n",
    "\n",
    "y = df['last_price_delta_since_stabilized']\n",
    "X = df.drop('last_price_delta_since_stabilized', axis=1)\n",
    "\n",
    "X_train, X_valid, y_train, y_valid = train_test_split(X, y, train_size=0.75, test_size=0.25, random_state=0)\n",
    "X_train"
   ]
  },
  {
   "cell_type": "code",
   "execution_count": 92,
   "outputs": [
    {
     "data": {
      "text/plain": "0.20283706072760477"
     },
     "metadata": {},
     "output_type": "display_data"
    },
    {
     "data": {
      "text/plain": "0.3199839268786232"
     },
     "metadata": {},
     "output_type": "display_data"
    }
   ],
   "source": [
    "from spreadsurfer.price_engine import FeatureEngineer\n",
    "from catboost import CatBoostRegressor\n",
    "from sklearn.preprocessing import StandardScaler\n",
    "# from sklearn.ensemle import RandomForestRegressor\n",
    "\n",
    "model = CatBoostRegressor(learning_rate=0.01, depth=7, loss_function='MAPE', random_state=0, verbose=False, iterations=1500)\n",
    "model2 = CatBoostRegressor(learning_rate=0.01, depth=7, loss_function='RMSE', random_state=0, verbose=False, iterations=1500)\n",
    "trained_model = model\n",
    "\n",
    "pipeline = Pipeline(steps=[\n",
    "    ('preprocessor', FeatureEngineer()),\n",
    "    ('model', model)\n",
    "])\n",
    "\n",
    "pipeline2 = Pipeline(steps=[\n",
    "    ('preprocessor', FeatureEngineer()),\n",
    "    ('model', model2)\n",
    "])\n",
    "\n",
    "pipeline.fit(X_train, y_train)\n",
    "pipeline2.fit(X_train, y_train)\n",
    "score = pipeline.score(X_valid, y_valid)\n",
    "score2 = pipeline2.score(X_valid, y_valid)\n",
    "display(score)\n",
    "display(score2)\n"
   ],
   "metadata": {
    "collapsed": false
   }
  },
  {
   "cell_type": "code",
   "execution_count": 517,
   "outputs": [
    {
     "data": {
      "text/plain": "MetricVisualizer(layout=Layout(align_self='stretch', height='500px'))",
      "application/vnd.jupyter.widget-view+json": {
       "version_major": 2,
       "version_minor": 0,
       "model_id": "d4f30176009c401697486fa7b5cf1543"
      }
     },
     "metadata": {},
     "output_type": "display_data"
    },
    {
     "name": "stdout",
     "output_type": "stream",
     "text": [
      "boo\n"
     ]
    }
   ],
   "source": [
    "import catboost\n",
    "w = catboost.MetricVisualizer('./models', subdirs=True)\n",
    "w.start()"
   ],
   "metadata": {
    "collapsed": false
   }
  },
  {
   "cell_type": "code",
   "execution_count": 37,
   "outputs": [
    {
     "name": "stdout",
     "output_type": "stream",
     "text": [
      " Results from Grid Search \n",
      "\n",
      " The best estimator across ALL searched params:\n",
      " <catboost.core.CatBoostRegressor object at 0x7ff69a707d30>\n",
      "\n",
      " The best score across ALL searched params:\n",
      " 0.41200864218441446\n",
      "\n",
      " The best parameters across ALL searched params:\n",
      " {'depth': 7, 'iterations': 1500, 'learning_rate': 0.025}\n"
     ]
    }
   ],
   "source": [
    "from sklearn.model_selection import GridSearchCV\n",
    "\n",
    "do_grid_search = False\n",
    "\n",
    "if do_grid_search:\n",
    "    X = FeatureEngineer().transform(X)\n",
    "    X_train, X_valid, y_train, y_valid = train_test_split(X, y, train_size=0.8, test_size=0.2, random_state=0)\n",
    "\n",
    "    parameters = {'depth': [6, 7, 8],\n",
    "                  'learning_rate': [0.015, 0.025],\n",
    "                  'iterations': [500, 1000, 1500]\n",
    "                  }\n",
    "    grid = GridSearchCV(estimator=model, param_grid=parameters, cv=2, n_jobs=-1)\n",
    "    grid.fit(X_train, y_train)\n",
    "\n",
    "    print(\" Results from Grid Search \")\n",
    "    print(\"\\n The best estimator across ALL searched params:\\n\", grid.best_estimator_)\n",
    "    print(\"\\n The best score across ALL searched params:\\n\", grid.best_score_)\n",
    "    print(\"\\n The best parameters across ALL searched params:\\n\", grid.best_params_)"
   ],
   "metadata": {
    "collapsed": false
   }
  },
  {
   "cell_type": "code",
   "execution_count": 98,
   "outputs": [],
   "source": [
    "from spreadsurfer import now_isoformat\n",
    "\n",
    "save = True\n",
    "if save:\n",
    "    model2.save_model(f'./models/{now_isoformat()}-score-{1000 * round(score, 3)}.cat')\n"
   ],
   "metadata": {
    "collapsed": false
   }
  },
  {
   "cell_type": "code",
   "execution_count": 94,
   "outputs": [
    {
     "name": "stdout",
     "output_type": "stream",
     "text": [
      "expected:  -0.42\n",
      "predict:  -0.004527232013073203\n",
      "predict2:  -0.11508573131767105\n",
      "\n",
      "expected:  0.0\n",
      "predict:  0.017037201072637335\n",
      "predict2:  0.24090907536948214\n",
      "\n",
      "expected:  1.16\n",
      "predict:  0.400072277001099\n",
      "predict2:  0.9001358393516005\n",
      "\n",
      "expected:  -0.1\n",
      "predict:  -0.11689968358976079\n",
      "predict2:  -0.18311505087602828\n",
      "\n",
      "expected:  0.0\n",
      "predict:  -0.1492188860785844\n",
      "predict2:  -0.46414033515425945\n",
      "\n",
      "expected:  0.0\n",
      "predict:  -0.008060582732293245\n",
      "predict2:  -0.13631446342987458\n",
      "\n",
      "expected:  -0.18\n",
      "predict:  -0.13557536747458984\n",
      "predict2:  -0.20378007915927973\n",
      "\n",
      "expected:  -0.08\n",
      "predict:  -0.004628002971178673\n",
      "predict2:  -0.11134086905746869\n",
      "\n",
      "expected:  0.24\n",
      "predict:  0.1450635879986768\n",
      "predict2:  0.33250428432370693\n",
      "\n",
      "expected:  0.0\n",
      "predict:  -0.1492188860785844\n",
      "predict2:  -0.46414033515425945\n",
      "\n",
      "expected:  -0.19\n",
      "predict:  -0.16847510043955144\n",
      "predict2:  -0.30930224397604844\n",
      "\n",
      "expected:  0.0\n",
      "predict:  -0.012970525751434899\n",
      "predict2:  -0.08513683626927235\n",
      "\n",
      "expected:  -0.08\n",
      "predict:  -0.14854506993539027\n",
      "predict2:  -0.2318284597357822\n",
      "\n",
      "expected:  0.0\n",
      "predict:  -0.1492188860785844\n",
      "predict2:  -0.46414033515425945\n",
      "\n",
      "expected:  0.75\n",
      "predict:  0.0903570417508066\n",
      "predict2:  0.4758127279165888\n",
      "\n"
     ]
    },
    {
     "data": {
      "text/plain": "'MAE: 0.17616474077788627'"
     },
     "metadata": {},
     "output_type": "display_data"
    },
    {
     "data": {
      "text/plain": "'MAE2: 0.21304120460492412'"
     },
     "metadata": {},
     "output_type": "display_data"
    }
   ],
   "source": [
    "input_from_log = \"\"\"\n",
    "\n",
    "\n",
    "2023-01-31 22:20:30.837 | data     | spreadsurfer.datacollect:start:97 - wave 22343 collected: {'0_amount_mean': 0.004, '0_nr_trades': 8.0, '0_price_delta': 0.44, '0_spread': 0.84, '1_amount_mean': 0.0089, '1_nr_trades': 12.0, '1_price_delta': 0.44, '1_spread': 1.12, '2_amount_mean': 0.0108, '2_nr_trades': 14.0, '2_price_delta': 0.06, '2_spread': 1.5, '3_amount_mean': 0.0141, '3_nr_trades': 16.0, '3_price_delta': 0.0, '3_spread': 1.56, '4_amount_mean': 0.0133, '4_nr_trades': 17.0, '4_price_delta': 0.0, '4_spread': 1.56, 'last_price_delta_since_stabilized': -0.42, 'past_final_price_0': -9.470000000001164, 'past_final_price_1': -9.279999999998836, 'past_final_price_2': -8.970000000001164, 'past_final_price_3': -9.369999999998981, 'past_final_price_4': -7.819999999999709, 'past_final_price_5': -8.5, 'past_final_price_6': -6.669999999998254, 'past_final_price_7': -6.430000000000291, 'past_final_price_8': -2.970000000001164, 'past_final_price_9': 0.0, 'stabilized_amount_mean': 0.0126, 'stabilized_at_ms': 280, 'stabilized_gasp': -0.6397, 'stabilized_nr_trades': 18.0, 'stabilized_spread': 1.56, 'wave_direction': None}\n",
    "2023-01-31 22:20:31.282 | data     | spreadsurfer.datacollect:start:97 - wave 22344 collected: {'0_amount_mean': 0.016, '0_nr_trades': 54.0, '0_price_delta': 0.13, '0_spread': 1.98, '1_amount_mean': 0.0155, '1_nr_trades': 56.0, '1_price_delta': 0.13, '1_spread': 1.98, '2_amount_mean': 0.0174, '2_nr_trades': 58.0, '2_price_delta': 0.13, '2_spread': 1.98, '3_amount_mean': 0.017, '3_nr_trades': 65.0, '3_price_delta': 0.13, '3_spread': 1.98, '4_amount_mean': 0.0184, '4_nr_trades': 75.0, '4_price_delta': 0.0, '4_spread': 2.11, 'last_price_delta_since_stabilized': 0.0, 'past_final_price_0': -7.629999999997381, 'past_final_price_1': -7.319999999999709, 'past_final_price_2': -7.719999999997526, 'past_final_price_3': -6.169999999998254, 'past_final_price_4': -6.849999999998545, 'past_final_price_5': -5.019999999996799, 'past_final_price_6': -4.779999999998836, 'past_final_price_7': -1.319999999999709, 'past_final_price_8': 1.6500000000014552, 'past_final_price_9': 0.0, 'stabilized_amount_mean': 0.0179, 'stabilized_at_ms': 675, 'stabilized_gasp': 1.1126, 'stabilized_nr_trades': 78.0, 'stabilized_spread': 2.11, 'wave_direction': 'min'}\n",
    "2023-01-31 22:20:32.027 | data     | spreadsurfer.datacollect:start:97 - wave 22345 collected: {'0_amount_mean': 0.0014, '0_nr_trades': 6.0, '0_price_delta': 0.25, '0_spread': 0.39, '1_amount_mean': 0.0109, '1_nr_trades': 7.0, '1_price_delta': 0.25, '1_spread': 0.39, '2_amount_mean': 0.0096, '2_nr_trades': 8.0, '2_price_delta': 0.2, '2_spread': 0.44, '3_amount_mean': 0.0086, '3_nr_trades': 9.0, '3_price_delta': 0.0, '3_spread': 0.64, '4_amount_mean': 0.0079, '4_nr_trades': 10.0, '4_price_delta': 0.0, '4_spread': 0.64, 'last_price_delta_since_stabilized': 1.16, 'past_final_price_0': -6.389999999999418, 'past_final_price_1': -6.789999999997235, 'past_final_price_2': -5.239999999997963, 'past_final_price_3': -5.919999999998254, 'past_final_price_4': -4.0899999999965075, 'past_final_price_5': -3.849999999998545, 'past_final_price_6': -0.3899999999994179, 'past_final_price_7': 2.5800000000017462, 'past_final_price_8': 0.930000000000291, 'past_final_price_9': 0.0, 'stabilized_amount_mean': 0.0073, 'stabilized_at_ms': 101, 'stabilized_gasp': 0.1353, 'stabilized_nr_trades': 11.0, 'stabilized_spread': 0.64, 'wave_direction': 'min'}\n",
    "2023-01-31 22:20:32.974 | data     | spreadsurfer.datacollect:start:97 - wave 22346 collected: {'0_amount_mean': 0.067, '0_nr_trades': 4.0, '0_price_delta': 0.11, '0_spread': 0.42, '1_amount_mean': 0.0538, '1_nr_trades': 5.0, '1_price_delta': 0.0, '1_spread': 0.53, '2_amount_mean': 0.0449, '2_nr_trades': 6.0, '2_price_delta': 0.0, '2_spread': 0.53, '3_amount_mean': 0.0342, '3_nr_trades': 8.0, '3_price_delta': 0.0, '3_spread': 0.53, '4_amount_mean': 0.0312, '4_nr_trades': 10.0, '4_price_delta': 0.0, '4_spread': 0.58, 'last_price_delta_since_stabilized': -0.1, 'past_final_price_0': -6.389999999999418, 'past_final_price_1': -6.789999999997235, 'past_final_price_2': -5.239999999997963, 'past_final_price_3': -5.919999999998254, 'past_final_price_4': -4.0899999999965075, 'past_final_price_5': -3.849999999998545, 'past_final_price_6': -0.3899999999994179, 'past_final_price_7': 2.5800000000017462, 'past_final_price_8': 0.930000000000291, 'past_final_price_9': 0.0, 'stabilized_amount_mean': 0.026, 'stabilized_at_ms': 626, 'stabilized_gasp': -0.5699, 'stabilized_nr_trades': 13.0, 'stabilized_spread': 0.62, 'wave_direction': None}\n",
    "2023-01-31 22:20:33.095 | data     | spreadsurfer.datacollect:start:97 - wave 22347 collected: {'0_amount_mean': 0.0312, '0_nr_trades': 10.0, '0_price_delta': 0.1, '0_spread': 0.58, '1_amount_mean': 0.026, '1_nr_trades': 13.0, '1_price_delta': 0.1, '1_spread': 0.62, '2_amount_mean': 0.0242, '2_nr_trades': 14.0, '2_price_delta': 0.1, '2_spread': 0.62, '3_amount_mean': 0.0226, '3_nr_trades': 15.0, '3_price_delta': 0.1, '3_spread': 0.62, '4_amount_mean': 0.0223, '4_nr_trades': 17.0, '4_price_delta': 0.0, '4_spread': 0.72, 'last_price_delta_since_stabilized': 0.0, 'past_final_price_0': -7.849999999998545, 'past_final_price_1': -6.299999999999272, 'past_final_price_2': -6.979999999999563, 'past_final_price_3': -5.149999999997817, 'past_final_price_4': -4.9099999999998545, 'past_final_price_5': -1.4500000000007276, 'past_final_price_6': 1.5200000000004366, 'past_final_price_7': -0.13000000000101863, 'past_final_price_8': -1.0600000000013097, 'past_final_price_9': 0.0, 'stabilized_amount_mean': 0.0249, 'stabilized_at_ms': 792, 'stabilized_gasp': -0.2825, 'stabilized_nr_trades': 18.0, 'stabilized_spread': 0.72, 'wave_direction': 'max'}\n",
    "2023-01-31 22:20:33.701 | data     | spreadsurfer.datacollect:start:97 - wave 22348 collected: {'0_amount_mean': 0.003, '0_nr_trades': 3.0, '0_price_delta': 0.43, '0_spread': 0.19, '1_amount_mean': 0.0023, '1_nr_trades': 4.0, '1_price_delta': 0.43, '1_spread': 0.19, '2_amount_mean': 0.0043, '2_nr_trades': 5.0, '2_price_delta': 0.01, '2_spread': 0.61, '3_amount_mean': 0.0044, '3_nr_trades': 6.0, '3_price_delta': 0.0, '3_spread': 0.62, '4_amount_mean': 0.0045, '4_nr_trades': 7.0, '4_price_delta': 0.0, '4_spread': 0.62, 'last_price_delta_since_stabilized': 0.0, 'past_final_price_0': -7.849999999998545, 'past_final_price_1': -6.299999999999272, 'past_final_price_2': -6.979999999999563, 'past_final_price_3': -5.149999999997817, 'past_final_price_4': -4.9099999999998545, 'past_final_price_5': -1.4500000000007276, 'past_final_price_6': 1.5200000000004366, 'past_final_price_7': -0.13000000000101863, 'past_final_price_8': -1.0600000000013097, 'past_final_price_9': 0.0, 'stabilized_amount_mean': 0.0042, 'stabilized_at_ms': 153, 'stabilized_gasp': -0.3461, 'stabilized_nr_trades': 8.0, 'stabilized_spread': 0.62, 'wave_direction': None}\n",
    "2023-01-31 22:20:34.001 | data     | spreadsurfer.datacollect:start:97 - wave 22349 collected: {'0_amount_mean': 0.0044, '0_nr_trades': 6.0, '0_price_delta': 0.0, '0_spread': 0.62, '1_amount_mean': 0.0045, '1_nr_trades': 7.0, '1_price_delta': 0.0, '1_spread': 0.62, '2_amount_mean': 0.0042, '2_nr_trades': 8.0, '2_price_delta': 0.0, '2_spread': 0.62, '3_amount_mean': 0.004, '3_nr_trades': 9.0, '3_price_delta': 0.0, '3_spread': 0.63, '4_amount_mean': 0.0036, '4_nr_trades': 10.0, '4_price_delta': 0.0, '4_spread': 0.65, 'last_price_delta_since_stabilized': -0.18, 'past_final_price_0': -7.849999999998545, 'past_final_price_1': -6.299999999999272, 'past_final_price_2': -6.979999999999563, 'past_final_price_3': -5.149999999997817, 'past_final_price_4': -4.9099999999998545, 'past_final_price_5': -1.4500000000007276, 'past_final_price_6': 1.5200000000004366, 'past_final_price_7': -0.13000000000101863, 'past_final_price_8': -1.0600000000013097, 'past_final_price_9': 0.0, 'stabilized_amount_mean': 0.0031, 'stabilized_at_ms': 550, 'stabilized_gasp': -0.4828, 'stabilized_nr_trades': 12.0, 'stabilized_spread': 0.82, 'wave_direction': None}\n",
    "2023-01-31 22:20:35.825 | data     | spreadsurfer.datacollect:start:97 - wave 22350 collected: {'0_amount_mean': 0.0013, '0_nr_trades': 3.0, '0_price_delta': 0.81, '0_spread': 0.0, '1_amount_mean': 0.0011, '1_nr_trades': 4.0, '1_price_delta': 0.41, '1_spread': 0.4, '2_amount_mean': 0.0089, '2_nr_trades': 13.0, '2_price_delta': 0.03, '2_spread': 0.78, '3_amount_mean': 0.017, '3_nr_trades': 15.0, '3_price_delta': 0.01, '3_spread': 0.8, '4_amount_mean': 0.0157, '4_nr_trades': 17.0, '4_price_delta': 0.0, '4_spread': 0.81, 'last_price_delta_since_stabilized': -0.08, 'past_final_price_0': -7.680000000000291, 'past_final_price_1': -5.849999999998545, 'past_final_price_2': -5.610000000000582, 'past_final_price_3': -2.150000000001455, 'past_final_price_4': 0.819999999999709, 'past_final_price_5': -0.8300000000017462, 'past_final_price_6': -1.7600000000020373, 'past_final_price_7': -0.7000000000007276, 'past_final_price_8': 0.029999999998835847, 'past_final_price_9': 0.0, 'stabilized_amount_mean': 0.0157, 'stabilized_at_ms': 266, 'stabilized_gasp': -0.1344, 'stabilized_nr_trades': 18.0, 'stabilized_spread': 0.81, 'wave_direction': None}\n",
    "2023-01-31 22:20:36.045 | data     | spreadsurfer.datacollect:start:97 - wave 22351 collected: {'0_amount_mean': 0.0157, '0_nr_trades': 18.0, '0_price_delta': 0.29, '0_spread': 0.81, '1_amount_mean': 0.0149, '1_nr_trades': 19.0, '1_price_delta': 0.29, '1_spread': 0.89, '2_amount_mean': 0.0143, '2_nr_trades': 20.0, '2_price_delta': 0.29, '2_spread': 0.89, '3_amount_mean': 0.0136, '3_nr_trades': 21.0, '3_price_delta': 0.29, '3_spread': 0.89, '4_amount_mean': 0.0178, '4_nr_trades': 27.0, '4_price_delta': 0.27, '4_spread': 0.91, 'last_price_delta_since_stabilized': 0.24, 'past_final_price_0': -4.969999999997526, 'past_final_price_1': -4.729999999999563, 'past_final_price_2': -1.2700000000004366, 'past_final_price_3': 1.7000000000007276, 'past_final_price_4': 0.049999999999272404, 'past_final_price_5': -0.8800000000010186, 'past_final_price_6': 0.18000000000029104, 'past_final_price_7': 0.9099999999998545, 'past_final_price_8': 0.8800000000010186, 'past_final_price_9': 0.0, 'stabilized_amount_mean': 0.0168, 'stabilized_at_ms': 621, 'stabilized_gasp': 0.9153, 'stabilized_nr_trades': 29.0, 'stabilized_spread': 1.18, 'wave_direction': 'min'}\n",
    "2023-01-31 22:20:37.032 | data     | spreadsurfer.datacollect:start:97 - wave 22352 collected: {'0_amount_mean': 0.0018, '0_nr_trades': 3.0, '0_price_delta': 0.55, '0_spread': 0.41, '1_amount_mean': 0.0015, '1_nr_trades': 4.0, '1_price_delta': 0.55, '1_spread': 0.41, '2_amount_mean': 0.0013, '2_nr_trades': 5.0, '2_price_delta': 0.55, '2_spread': 0.41, '3_amount_mean': 0.0012, '3_nr_trades': 6.0, '3_price_delta': 0.55, '3_spread': 0.41, '4_amount_mean': 0.0011, '4_nr_trades': 7.0, '4_price_delta': 0.55, '4_spread': 0.41, 'last_price_delta_since_stabilized': 0.0, 'past_final_price_0': -5.360000000000582, 'past_final_price_1': -1.9000000000014552, 'past_final_price_2': 1.069999999999709, 'past_final_price_3': -0.5800000000017462, 'past_final_price_4': -1.5100000000020373, 'past_final_price_5': -0.4500000000007276, 'past_final_price_6': 0.27999999999883585, 'past_final_price_7': 0.25, 'past_final_price_8': -0.6300000000010186, 'past_final_price_9': 0.0, 'stabilized_amount_mean': 0.0011, 'stabilized_at_ms': 149, 'stabilized_gasp': 0.0871, 'stabilized_nr_trades': 10.0, 'stabilized_spread': 0.96, 'wave_direction': 'max'}\n",
    "2023-01-31 22:20:37.497 | data     | spreadsurfer.datacollect:start:97 - wave 22353 collected: {'0_amount_mean': 0.0035, '0_nr_trades': 4.0, '0_price_delta': 0.0, '0_spread': 0.08, '1_amount_mean': 0.0029, '1_nr_trades': 5.0, '1_price_delta': 0.0, '1_spread': 0.19, '2_amount_mean': 0.0024, '2_nr_trades': 6.0, '2_price_delta': 0.0, '2_spread': 0.19, '3_amount_mean': 0.0022, '3_nr_trades': 8.0, '3_price_delta': 0.0, '3_spread': 0.33, '4_amount_mean': 0.0024, '4_nr_trades': 9.0, '4_price_delta': 0.0, '4_spread': 0.33, 'last_price_delta_since_stabilized': -0.19, 'past_final_price_0': -5.360000000000582, 'past_final_price_1': -1.9000000000014552, 'past_final_price_2': 1.069999999999709, 'past_final_price_3': -0.5800000000017462, 'past_final_price_4': -1.5100000000020373, 'past_final_price_5': -0.4500000000007276, 'past_final_price_6': 0.27999999999883585, 'past_final_price_7': 0.25, 'past_final_price_8': -0.6300000000010186, 'past_final_price_9': 0.0, 'stabilized_amount_mean': 0.0045, 'stabilized_at_ms': 148, 'stabilized_gasp': 0.2558, 'stabilized_nr_trades': 10.0, 'stabilized_spread': 0.33, 'wave_direction': None}\n",
    "2023-01-31 22:20:37.783 | data     | spreadsurfer.datacollect:start:97 - wave 22354 collected: {'0_amount_mean': 0.0024, '0_nr_trades': 6.0, '0_price_delta': 0.19, '0_spread': 0.19, '1_amount_mean': 0.0022, '1_nr_trades': 8.0, '1_price_delta': 0.19, '1_spread': 0.33, '2_amount_mean': 0.0024, '2_nr_trades': 9.0, '2_price_delta': 0.19, '2_spread': 0.33, '3_amount_mean': 0.0045, '3_nr_trades': 10.0, '3_price_delta': 0.19, '3_spread': 0.33, '4_amount_mean': 0.0043, '4_nr_trades': 11.0, '4_price_delta': 0.0, '4_spread': 0.52, 'last_price_delta_since_stabilized': 0.0, 'past_final_price_0': -5.360000000000582, 'past_final_price_1': -1.9000000000014552, 'past_final_price_2': 1.069999999999709, 'past_final_price_3': -0.5800000000017462, 'past_final_price_4': -1.5100000000020373, 'past_final_price_5': -0.4500000000007276, 'past_final_price_6': 0.27999999999883585, 'past_final_price_7': 0.25, 'past_final_price_8': -0.6300000000010186, 'past_final_price_9': 0.0, 'stabilized_amount_mean': 0.0046, 'stabilized_at_ms': 502, 'stabilized_gasp': -0.0125, 'stabilized_nr_trades': 12.0, 'stabilized_spread': 0.52, 'wave_direction': None}\n",
    "2023-01-31 22:20:38.931 | data     | spreadsurfer.datacollect:start:97 - wave 22355 collected: {'0_amount_mean': 0.0803, '0_nr_trades': 5.0, '0_price_delta': 0.0, '0_spread': 0.07, '1_amount_mean': 0.0575, '1_nr_trades': 7.0, '1_price_delta': 0.0, '1_spread': 0.44, '2_amount_mean': 0.0449, '2_nr_trades': 9.0, '2_price_delta': 0.0, '2_spread': 0.47, '3_amount_mean': 0.037, '3_nr_trades': 11.0, '3_price_delta': 0.0, '3_spread': 0.68, '4_amount_mean': 0.0341, '4_nr_trades': 12.0, '4_price_delta': 0.0, '4_spread': 0.68, 'last_price_delta_since_stabilized': -0.08, 'past_final_price_0': -2.1300000000010186, 'past_final_price_1': 0.8400000000001455, 'past_final_price_2': -0.8100000000013097, 'past_final_price_3': -1.7400000000016007, 'past_final_price_4': -0.680000000000291, 'past_final_price_5': 0.049999999999272404, 'past_final_price_6': 0.020000000000436557, 'past_final_price_7': -0.8600000000005821, 'past_final_price_8': -0.22999999999956344, 'past_final_price_9': 0.0, 'stabilized_amount_mean': 0.0363, 'stabilized_at_ms': 271, 'stabilized_gasp': -0.1038, 'stabilized_nr_trades': 13.0, 'stabilized_spread': 0.68, 'wave_direction': None}\n",
    "2023-01-31 22:20:39.276 | data     | spreadsurfer.datacollect:start:97 - wave 22356 collected: {'0_amount_mean': 0.037, '0_nr_trades': 11.0, '0_price_delta': 0.18, '0_spread': 0.68, '1_amount_mean': 0.0341, '1_nr_trades': 12.0, '1_price_delta': 0.18, '1_spread': 0.68, '2_amount_mean': 0.0363, '2_nr_trades': 13.0, '2_price_delta': 0.18, '2_spread': 0.68, '3_amount_mean': 0.0339, '3_nr_trades': 14.0, '3_price_delta': 0.18, '3_spread': 0.68, '4_amount_mean': 0.0297, '4_nr_trades': 16.0, '4_price_delta': 0.1, '4_spread': 0.76, 'last_price_delta_since_stabilized': 0.0, 'past_final_price_0': 1.0, 'past_final_price_1': -0.6500000000014552, 'past_final_price_2': -1.5800000000017462, 'past_final_price_3': -0.5200000000004366, 'past_final_price_4': 0.20999999999912689, 'past_final_price_5': 0.18000000000029104, 'past_final_price_6': -0.7000000000007276, 'past_final_price_7': -0.06999999999970896, 'past_final_price_8': 0.15999999999985448, 'past_final_price_9': 0.0, 'stabilized_amount_mean': 0.0271, 'stabilized_at_ms': 377, 'stabilized_gasp': -0.4314, 'stabilized_nr_trades': 18.0, 'stabilized_spread': 0.86, 'wave_direction': 'max'}\n",
    "2023-01-31 22:20:41.016 | data     | spreadsurfer.datacollect:start:97 - wave 22357 collected: {'0_amount_mean': 0.1542, '0_nr_trades': 107.0, '0_price_delta': 0.12, '0_spread': 3.0, '1_amount_mean': 0.1544, '1_nr_trades': 109.0, '1_price_delta': 0.12, '1_spread': 3.0, '2_amount_mean': 0.1518, '2_nr_trades': 111.0, '2_price_delta': 0.0, '2_spread': 3.12, '3_amount_mean': 0.1504, '3_nr_trades': 112.0, '3_price_delta': 0.0, '3_spread': 3.12, '4_amount_mean': 0.1491, '4_nr_trades': 113.0, '4_price_delta': 0.0, '4_spread': 3.12, 'last_price_delta_since_stabilized': 0.75, 'past_final_price_0': 3.1199999999989814, 'past_final_price_1': 4.180000000000291, 'past_final_price_2': 4.9099999999998545, 'past_final_price_3': 4.880000000001019, 'past_final_price_4': 4.0, 'past_final_price_5': 4.630000000001019, 'past_final_price_6': 4.860000000000582, 'past_final_price_7': 4.700000000000728, 'past_final_price_8': 4.049999999999272, 'past_final_price_9': 0.0, 'stabilized_amount_mean': 0.1478, 'stabilized_at_ms': 286, 'stabilized_gasp': 0.1456, 'stabilized_nr_trades': 114.0, 'stabilized_spread': 3.12, 'wave_direction': 'min'}\n",
    "\n",
    "\n",
    "\"\"\"\n",
    "from timeit import timeit\n",
    "\n",
    "def predict_samples():\n",
    "    mae = 0\n",
    "    mae2 = 0\n",
    "    count = 0\n",
    "    for line in input_from_log.split('\\n'):\n",
    "        if not line: continue\n",
    "        count += 1\n",
    "        json = '{' + line.split('{')[1]\n",
    "        sample = pd.DataFrame([eval(json)])\n",
    "\n",
    "        real = sample.last_price_delta_since_stabilized[0]\n",
    "        print('expected: ', real)\n",
    "        sample.drop('last_price_delta_since_stabilized', axis=1, inplace=True)\n",
    "\n",
    "        timeit(lambda: pipeline.predict(sample), number=1) * 1000\n",
    "        guess = pipeline.predict(sample)[0]\n",
    "        guess2 = pipeline2.predict(sample)[0]\n",
    "        print('predict: ', guess)\n",
    "        print('predict2: ', guess2)\n",
    "        mae += abs(real - guess)\n",
    "        mae2 += abs(real - guess2)\n",
    "        print()\n",
    "    display(f'MAE: {mae / count}')\n",
    "    display(f'MAE2: {mae2 / count}')\n",
    "predict_samples()"
   ],
   "metadata": {
    "collapsed": false
   }
  },
  {
   "cell_type": "code",
   "execution_count": 100,
   "outputs": [
    {
     "ename": "AttributeError",
     "evalue": "'Series' object has no attribute 'real'",
     "output_type": "error",
     "traceback": [
      "\u001B[0;31m---------------------------------------------------------------------------\u001B[0m",
      "\u001B[0;31mAttributeError\u001B[0m                            Traceback (most recent call last)",
      "Cell \u001B[0;32mIn[100], line 9\u001B[0m\n\u001B[1;32m      1\u001B[0m sample \u001B[38;5;241m=\u001B[39m pd\u001B[38;5;241m.\u001B[39mDataFrame([\n\u001B[1;32m      2\u001B[0m     {\u001B[38;5;124m'\u001B[39m\u001B[38;5;124m0_amount_mean\u001B[39m\u001B[38;5;124m'\u001B[39m: \u001B[38;5;241m0.007\u001B[39m, \u001B[38;5;124m'\u001B[39m\u001B[38;5;124m0_nr_trades\u001B[39m\u001B[38;5;124m'\u001B[39m: \u001B[38;5;241m12.0\u001B[39m, \u001B[38;5;124m'\u001B[39m\u001B[38;5;124m0_price_delta\u001B[39m\u001B[38;5;124m'\u001B[39m: \u001B[38;5;241m0.91\u001B[39m, \u001B[38;5;124m'\u001B[39m\u001B[38;5;124m0_spread\u001B[39m\u001B[38;5;124m'\u001B[39m: \u001B[38;5;241m1.15\u001B[39m, \u001B[38;5;124m'\u001B[39m\u001B[38;5;124m1_amount_mean\u001B[39m\u001B[38;5;124m'\u001B[39m: \u001B[38;5;241m0.007\u001B[39m, \u001B[38;5;124m'\u001B[39m\u001B[38;5;124m1_nr_trades\u001B[39m\u001B[38;5;124m'\u001B[39m: \u001B[38;5;241m13.0\u001B[39m, \u001B[38;5;124m'\u001B[39m\u001B[38;5;124m1_price_delta\u001B[39m\u001B[38;5;124m'\u001B[39m: \u001B[38;5;241m0.91\u001B[39m, \u001B[38;5;124m'\u001B[39m\u001B[38;5;124m1_spread\u001B[39m\u001B[38;5;124m'\u001B[39m: \u001B[38;5;241m1.52\u001B[39m, \u001B[38;5;124m'\u001B[39m\u001B[38;5;124m2_amount_mean\u001B[39m\u001B[38;5;124m'\u001B[39m: \u001B[38;5;241m0.006\u001B[39m, \u001B[38;5;124m'\u001B[39m\u001B[38;5;124m2_nr_trades\u001B[39m\u001B[38;5;124m'\u001B[39m: \u001B[38;5;241m14.0\u001B[39m,\n\u001B[1;32m      3\u001B[0m      \u001B[38;5;124m'\u001B[39m\u001B[38;5;124m2_price_delta\u001B[39m\u001B[38;5;124m'\u001B[39m: \u001B[38;5;241m0.91\u001B[39m, \u001B[38;5;124m'\u001B[39m\u001B[38;5;124m2_spread\u001B[39m\u001B[38;5;124m'\u001B[39m: \u001B[38;5;241m1.52\u001B[39m, \u001B[38;5;124m'\u001B[39m\u001B[38;5;124m3_amount_mean\u001B[39m\u001B[38;5;124m'\u001B[39m: \u001B[38;5;241m0.006\u001B[39m, \u001B[38;5;124m'\u001B[39m\u001B[38;5;124m3_nr_trades\u001B[39m\u001B[38;5;124m'\u001B[39m: \u001B[38;5;241m16.0\u001B[39m, \u001B[38;5;124m'\u001B[39m\u001B[38;5;124m3_price_delta\u001B[39m\u001B[38;5;124m'\u001B[39m: \u001B[38;5;241m0.69\u001B[39m, \u001B[38;5;124m'\u001B[39m\u001B[38;5;124m3_spread\u001B[39m\u001B[38;5;124m'\u001B[39m: \u001B[38;5;241m1.74\u001B[39m, \u001B[38;5;124m'\u001B[39m\u001B[38;5;124m4_amount_mean\u001B[39m\u001B[38;5;124m'\u001B[39m: \u001B[38;5;241m0.005\u001B[39m, \u001B[38;5;124m'\u001B[39m\u001B[38;5;124m4_nr_trades\u001B[39m\u001B[38;5;124m'\u001B[39m: \u001B[38;5;241m17.0\u001B[39m, \u001B[38;5;124m'\u001B[39m\u001B[38;5;124m4_price_delta\u001B[39m\u001B[38;5;124m'\u001B[39m: \u001B[38;5;241m0.69\u001B[39m, \u001B[38;5;124m'\u001B[39m\u001B[38;5;124m4_spread\u001B[39m\u001B[38;5;124m'\u001B[39m: \u001B[38;5;241m1.74\u001B[39m,\n\u001B[0;32m   (...)\u001B[0m\n\u001B[1;32m      6\u001B[0m      \u001B[38;5;124m'\u001B[39m\u001B[38;5;124mpast_final_price_9\u001B[39m\u001B[38;5;124m'\u001B[39m: \u001B[38;5;241m0.0\u001B[39m, \u001B[38;5;124m'\u001B[39m\u001B[38;5;124mstabilized_amount_mean\u001B[39m\u001B[38;5;124m'\u001B[39m: \u001B[38;5;241m0.007\u001B[39m, \u001B[38;5;124m'\u001B[39m\u001B[38;5;124mstabilized_at_ms\u001B[39m\u001B[38;5;124m'\u001B[39m: \u001B[38;5;241m369\u001B[39m, \u001B[38;5;124m'\u001B[39m\u001B[38;5;124mstabilized_nr_trades\u001B[39m\u001B[38;5;124m'\u001B[39m: \u001B[38;5;241m18.0\u001B[39m, \u001B[38;5;124m'\u001B[39m\u001B[38;5;124mstabilized_spread\u001B[39m\u001B[38;5;124m'\u001B[39m: \u001B[38;5;241m2.43\u001B[39m, \u001B[38;5;124m'\u001B[39m\u001B[38;5;124mwave_direction\u001B[39m\u001B[38;5;124m'\u001B[39m: \u001B[38;5;124m'\u001B[39m\u001B[38;5;124mmax\u001B[39m\u001B[38;5;124m'\u001B[39m}\n\u001B[1;32m      7\u001B[0m ])\n\u001B[0;32m----> 9\u001B[0m \u001B[38;5;28mprint\u001B[39m(\u001B[38;5;124m'\u001B[39m\u001B[38;5;124mexpected: \u001B[39m\u001B[38;5;124m'\u001B[39m, \u001B[43msample\u001B[49m\u001B[38;5;241;43m.\u001B[39;49m\u001B[43mlast_price_delta_since_stabilized\u001B[49m\u001B[38;5;241;43m.\u001B[39;49m\u001B[43mreal\u001B[49m())\n\u001B[1;32m     10\u001B[0m sample\u001B[38;5;241m.\u001B[39mdrop(\u001B[38;5;124m'\u001B[39m\u001B[38;5;124mlast_price_delta_since_stabilized\u001B[39m\u001B[38;5;124m'\u001B[39m, axis\u001B[38;5;241m=\u001B[39m\u001B[38;5;241m1\u001B[39m, inplace\u001B[38;5;241m=\u001B[39m\u001B[38;5;28;01mTrue\u001B[39;00m)\n\u001B[1;32m     12\u001B[0m \u001B[38;5;28;01mfrom\u001B[39;00m \u001B[38;5;21;01mtimeit\u001B[39;00m \u001B[38;5;28;01mimport\u001B[39;00m timeit\n",
      "File \u001B[0;32m~/workspace/cy/04-ccxt/venv/lib/python3.10/site-packages/pandas/core/generic.py:5902\u001B[0m, in \u001B[0;36mNDFrame.__getattr__\u001B[0;34m(self, name)\u001B[0m\n\u001B[1;32m   5895\u001B[0m \u001B[38;5;28;01mif\u001B[39;00m (\n\u001B[1;32m   5896\u001B[0m     name \u001B[38;5;129;01mnot\u001B[39;00m \u001B[38;5;129;01min\u001B[39;00m \u001B[38;5;28mself\u001B[39m\u001B[38;5;241m.\u001B[39m_internal_names_set\n\u001B[1;32m   5897\u001B[0m     \u001B[38;5;129;01mand\u001B[39;00m name \u001B[38;5;129;01mnot\u001B[39;00m \u001B[38;5;129;01min\u001B[39;00m \u001B[38;5;28mself\u001B[39m\u001B[38;5;241m.\u001B[39m_metadata\n\u001B[1;32m   5898\u001B[0m     \u001B[38;5;129;01mand\u001B[39;00m name \u001B[38;5;129;01mnot\u001B[39;00m \u001B[38;5;129;01min\u001B[39;00m \u001B[38;5;28mself\u001B[39m\u001B[38;5;241m.\u001B[39m_accessors\n\u001B[1;32m   5899\u001B[0m     \u001B[38;5;129;01mand\u001B[39;00m \u001B[38;5;28mself\u001B[39m\u001B[38;5;241m.\u001B[39m_info_axis\u001B[38;5;241m.\u001B[39m_can_hold_identifiers_and_holds_name(name)\n\u001B[1;32m   5900\u001B[0m ):\n\u001B[1;32m   5901\u001B[0m     \u001B[38;5;28;01mreturn\u001B[39;00m \u001B[38;5;28mself\u001B[39m[name]\n\u001B[0;32m-> 5902\u001B[0m \u001B[38;5;28;01mreturn\u001B[39;00m \u001B[38;5;28;43mobject\u001B[39;49m\u001B[38;5;241;43m.\u001B[39;49m\u001B[38;5;21;43m__getattribute__\u001B[39;49m\u001B[43m(\u001B[49m\u001B[38;5;28;43mself\u001B[39;49m\u001B[43m,\u001B[49m\u001B[43m \u001B[49m\u001B[43mname\u001B[49m\u001B[43m)\u001B[49m\n",
      "\u001B[0;31mAttributeError\u001B[0m: 'Series' object has no attribute 'real'"
     ]
    }
   ],
   "source": [
    "sample = pd.DataFrame([\n",
    "    {'0_amount_mean': 0.007, '0_nr_trades': 12.0, '0_price_delta': 0.91, '0_spread': 1.15, '1_amount_mean': 0.007, '1_nr_trades': 13.0, '1_price_delta': 0.91, '1_spread': 1.52, '2_amount_mean': 0.006, '2_nr_trades': 14.0,\n",
    "     '2_price_delta': 0.91, '2_spread': 1.52, '3_amount_mean': 0.006, '3_nr_trades': 16.0, '3_price_delta': 0.69, '3_spread': 1.74, '4_amount_mean': 0.005, '4_nr_trades': 17.0, '4_price_delta': 0.69, '4_spread': 1.74,\n",
    "     'last_price_delta_since_stabilized': -0.87, 'past_final_price_0': -0.11999999999898137, 'past_final_price_1': 0.25, 'past_final_price_2': -0.020000000000436557, 'past_final_price_3': -1.7400000000016007,\n",
    "     'past_final_price_4': 0.06999999999970896, 'past_final_price_5': -2.7299999999995634, 'past_final_price_6': -3.9099999999998545, 'past_final_price_7': 3.360000000000582, 'past_final_price_8': -0.06000000000130967,\n",
    "     'past_final_price_9': 0.0, 'stabilized_amount_mean': 0.007, 'stabilized_at_ms': 369, 'stabilized_nr_trades': 18.0, 'stabilized_spread': 2.43, 'wave_direction': 'max'}\n",
    "])\n",
    "\n",
    "print('expected: ', sample.last_price_delta_since_stabilized.real())\n",
    "sample.drop('last_price_delta_since_stabilized', axis=1, inplace=True)\n",
    "\n",
    "from timeit import timeit\n",
    "\n",
    "timeit(lambda: pipeline.predict(sample), number=1) * 1000\n",
    "print('predict: ', pipeline.predict(sample)[0])\n"
   ],
   "metadata": {
    "collapsed": false
   }
  },
  {
   "cell_type": "code",
   "execution_count": 97,
   "outputs": [
    {
     "name": "stdout",
     "output_type": "stream",
     "text": [
      "catboost model loaded from 2023-01-31T22:22:38-score-203.0.cat\n",
      "expected:  -0.42\n",
      "predict:  -0.004527232013073203\n",
      "predict2:  -0.11508573131767105\n",
      "\n",
      "expected:  0.0\n",
      "predict:  0.017037201072637335\n",
      "predict2:  0.24090907536948214\n",
      "\n",
      "expected:  1.16\n",
      "predict:  0.400072277001099\n",
      "predict2:  0.9001358393516005\n",
      "\n",
      "expected:  -0.1\n",
      "predict:  -0.11689968358976079\n",
      "predict2:  -0.18311505087602828\n",
      "\n",
      "expected:  0.0\n",
      "predict:  -0.1492188860785844\n",
      "predict2:  -0.46414033515425945\n",
      "\n",
      "expected:  0.0\n",
      "predict:  -0.008060582732293245\n",
      "predict2:  -0.13631446342987458\n",
      "\n",
      "expected:  -0.18\n",
      "predict:  -0.13557536747458984\n",
      "predict2:  -0.20378007915927973\n",
      "\n",
      "expected:  -0.08\n",
      "predict:  -0.004628002971178673\n",
      "predict2:  -0.11134086905746869\n",
      "\n",
      "expected:  0.24\n",
      "predict:  0.1450635879986768\n",
      "predict2:  0.33250428432370693\n",
      "\n",
      "expected:  0.0\n",
      "predict:  -0.1492188860785844\n",
      "predict2:  -0.46414033515425945\n",
      "\n",
      "expected:  -0.19\n",
      "predict:  -0.16847510043955144\n",
      "predict2:  -0.30930224397604844\n",
      "\n",
      "expected:  0.0\n",
      "predict:  -0.012970525751434899\n",
      "predict2:  -0.08513683626927235\n",
      "\n",
      "expected:  -0.08\n",
      "predict:  -0.14854506993539027\n",
      "predict2:  -0.2318284597357822\n",
      "\n",
      "expected:  0.0\n",
      "predict:  -0.1492188860785844\n",
      "predict2:  -0.46414033515425945\n",
      "\n",
      "expected:  0.75\n",
      "predict:  0.0903570417508066\n",
      "predict2:  0.4758127279165888\n",
      "\n"
     ]
    },
    {
     "data": {
      "text/plain": "'MAE: 0.17616474077788627'"
     },
     "metadata": {},
     "output_type": "display_data"
    },
    {
     "data": {
      "text/plain": "'MAE2: 0.21304120460492412'"
     },
     "metadata": {},
     "output_type": "display_data"
    }
   ],
   "source": [
    "from glob import glob\n",
    "\n",
    "cat_filename = glob('*.cat')[0]\n",
    "cat_filename\n",
    "\n",
    "model = CatBoostRegressor()\n",
    "model.load_model(fname=cat_filename)\n",
    "print(f'catboost model loaded from {cat_filename}')\n",
    "\n",
    "\n",
    "pipeline = Pipeline(steps=[\n",
    "    ('preprocessor', FeatureEngineer()),\n",
    "    ('model', model)\n",
    "])\n",
    "\n",
    "predict_samples()\n"
   ],
   "metadata": {
    "collapsed": false
   }
  }
 ],
 "metadata": {
  "kernelspec": {
   "display_name": "Python 3",
   "language": "python",
   "name": "python3"
  },
  "language_info": {
   "codemirror_mode": {
    "name": "ipython",
    "version": 2
   },
   "file_extension": ".py",
   "mimetype": "text/x-python",
   "name": "python",
   "nbconvert_exporter": "python",
   "pygments_lexer": "ipython2",
   "version": "2.7.6"
  }
 },
 "nbformat": 4,
 "nbformat_minor": 0
}
