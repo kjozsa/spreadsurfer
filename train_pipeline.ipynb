{
 "cells": [
  {
   "cell_type": "code",
   "execution_count": 174,
   "metadata": {
    "collapsed": true
   },
   "outputs": [
    {
     "name": "stdout",
     "output_type": "stream",
     "text": [
      "total dataset: 86076 rows\n"
     ]
    },
    {
     "data": {
      "text/plain": "       0_amount_mean  0_nr_trades  0_price_delta  1_amount_mean  1_nr_trades  \\\nindex                                                                          \n0             0.0077          5.0           0.02         0.0065          6.0   \n0             0.0007          3.0           0.03         0.0046          4.0   \n0             0.0140         13.0           0.23         0.0122         15.0   \n0             0.0462         13.0           0.24         0.0407         15.0   \n0             0.0215         22.0           0.34         0.0211         23.0   \n...              ...          ...            ...            ...          ...   \n0             0.0026         19.0           0.09         0.0034         21.0   \n0             0.0138          9.0           0.19         0.0163         11.0   \n0             0.0071         17.0           0.16         0.0068         18.0   \n0             0.0020          8.0           0.63         0.0056         10.0   \n0             0.0243          7.0           0.47         0.0214          8.0   \n\n       1_price_delta  2_amount_mean  2_nr_trades  2_price_delta  \\\nindex                                                             \n0               0.02         0.0050          8.0           0.02   \n0               0.03         0.0038          5.0           0.03   \n0               0.22         0.0144         17.0           0.12   \n0               0.24         0.0382         16.0           0.24   \n0               0.34         0.0204         24.0           0.34   \n...              ...            ...          ...            ...   \n0               0.09         0.0033         22.0           0.09   \n0               0.03         0.0145         13.0           0.01   \n0               0.16         0.0066         20.0           0.16   \n0               0.63         0.0051         11.0           0.40   \n0               0.47         0.0193          9.0           0.47   \n\n       3_amount_mean  ...  3_price_delta  4_amount_mean  4_nr_trades  \\\nindex                 ...                                              \n0             0.0044  ...           0.02         0.0045         10.0   \n0             0.0039  ...           0.03         0.0056          8.0   \n0             0.0130  ...           0.08         0.0127         21.0   \n0             0.0341  ...           0.24         0.0321         21.0   \n0             0.0196  ...           0.33         0.0268         28.0   \n...              ...  ...            ...            ...          ...   \n0             0.0032  ...           0.09         0.0031         24.0   \n0             0.0132  ...           0.00         0.0164         17.0   \n0             0.0065  ...           0.16         0.0062         22.0   \n0             0.0047  ...           0.40         0.0043         14.0   \n0             0.0178  ...           0.47         0.0196         12.0   \n\n       4_price_delta  stabilized_amount_mean  stabilized_at_ms  \\\nindex                                                            \n0               0.02                  0.0044               252   \n0               0.01                  0.0047               219   \n0               0.06                  0.0118               192   \n0               0.23                  0.0316               601   \n0               0.00                  0.0285               183   \n...              ...                     ...               ...   \n0               0.02                  0.0032               595   \n0               0.00                  0.0157              1098   \n0               0.16                  0.0058               607   \n0               0.33                  0.0093               444   \n0               0.00                  0.0203               386   \n\n       stabilized_gasp  stabilized_nr_trades  stabilized_spread  \\\nindex                                                             \n0               0.2704                  11.0               0.68   \n0              -0.4259                  10.0               0.61   \n0              -0.3792                  23.0               0.67   \n0              -0.3155                  22.0               1.48   \n0              -0.3344                  30.0               0.95   \n...                ...                   ...                ...   \n0              -0.1519                  25.0               1.15   \n0              -0.4763                  18.0               0.52   \n0              -0.2220                  24.0               0.76   \n0              -0.5556                  22.0               0.86   \n0              -0.7339                  13.0               1.41   \n\n       wave_direction  \nindex                  \n0                 min  \n0                None  \n0                None  \n0                 max  \n0                None  \n...               ...  \n0                 max  \n0                None  \n0                 max  \n0                 max  \n0                 max  \n\n[57571 rows x 21 columns]",
      "text/html": "<div>\n<style scoped>\n    .dataframe tbody tr th:only-of-type {\n        vertical-align: middle;\n    }\n\n    .dataframe tbody tr th {\n        vertical-align: top;\n    }\n\n    .dataframe thead th {\n        text-align: right;\n    }\n</style>\n<table border=\"1\" class=\"dataframe\">\n  <thead>\n    <tr style=\"text-align: right;\">\n      <th></th>\n      <th>0_amount_mean</th>\n      <th>0_nr_trades</th>\n      <th>0_price_delta</th>\n      <th>1_amount_mean</th>\n      <th>1_nr_trades</th>\n      <th>1_price_delta</th>\n      <th>2_amount_mean</th>\n      <th>2_nr_trades</th>\n      <th>2_price_delta</th>\n      <th>3_amount_mean</th>\n      <th>...</th>\n      <th>3_price_delta</th>\n      <th>4_amount_mean</th>\n      <th>4_nr_trades</th>\n      <th>4_price_delta</th>\n      <th>stabilized_amount_mean</th>\n      <th>stabilized_at_ms</th>\n      <th>stabilized_gasp</th>\n      <th>stabilized_nr_trades</th>\n      <th>stabilized_spread</th>\n      <th>wave_direction</th>\n    </tr>\n    <tr>\n      <th>index</th>\n      <th></th>\n      <th></th>\n      <th></th>\n      <th></th>\n      <th></th>\n      <th></th>\n      <th></th>\n      <th></th>\n      <th></th>\n      <th></th>\n      <th></th>\n      <th></th>\n      <th></th>\n      <th></th>\n      <th></th>\n      <th></th>\n      <th></th>\n      <th></th>\n      <th></th>\n      <th></th>\n      <th></th>\n    </tr>\n  </thead>\n  <tbody>\n    <tr>\n      <th>0</th>\n      <td>0.0077</td>\n      <td>5.0</td>\n      <td>0.02</td>\n      <td>0.0065</td>\n      <td>6.0</td>\n      <td>0.02</td>\n      <td>0.0050</td>\n      <td>8.0</td>\n      <td>0.02</td>\n      <td>0.0044</td>\n      <td>...</td>\n      <td>0.02</td>\n      <td>0.0045</td>\n      <td>10.0</td>\n      <td>0.02</td>\n      <td>0.0044</td>\n      <td>252</td>\n      <td>0.2704</td>\n      <td>11.0</td>\n      <td>0.68</td>\n      <td>min</td>\n    </tr>\n    <tr>\n      <th>0</th>\n      <td>0.0007</td>\n      <td>3.0</td>\n      <td>0.03</td>\n      <td>0.0046</td>\n      <td>4.0</td>\n      <td>0.03</td>\n      <td>0.0038</td>\n      <td>5.0</td>\n      <td>0.03</td>\n      <td>0.0039</td>\n      <td>...</td>\n      <td>0.03</td>\n      <td>0.0056</td>\n      <td>8.0</td>\n      <td>0.01</td>\n      <td>0.0047</td>\n      <td>219</td>\n      <td>-0.4259</td>\n      <td>10.0</td>\n      <td>0.61</td>\n      <td>None</td>\n    </tr>\n    <tr>\n      <th>0</th>\n      <td>0.0140</td>\n      <td>13.0</td>\n      <td>0.23</td>\n      <td>0.0122</td>\n      <td>15.0</td>\n      <td>0.22</td>\n      <td>0.0144</td>\n      <td>17.0</td>\n      <td>0.12</td>\n      <td>0.0130</td>\n      <td>...</td>\n      <td>0.08</td>\n      <td>0.0127</td>\n      <td>21.0</td>\n      <td>0.06</td>\n      <td>0.0118</td>\n      <td>192</td>\n      <td>-0.3792</td>\n      <td>23.0</td>\n      <td>0.67</td>\n      <td>None</td>\n    </tr>\n    <tr>\n      <th>0</th>\n      <td>0.0462</td>\n      <td>13.0</td>\n      <td>0.24</td>\n      <td>0.0407</td>\n      <td>15.0</td>\n      <td>0.24</td>\n      <td>0.0382</td>\n      <td>16.0</td>\n      <td>0.24</td>\n      <td>0.0341</td>\n      <td>...</td>\n      <td>0.24</td>\n      <td>0.0321</td>\n      <td>21.0</td>\n      <td>0.23</td>\n      <td>0.0316</td>\n      <td>601</td>\n      <td>-0.3155</td>\n      <td>22.0</td>\n      <td>1.48</td>\n      <td>max</td>\n    </tr>\n    <tr>\n      <th>0</th>\n      <td>0.0215</td>\n      <td>22.0</td>\n      <td>0.34</td>\n      <td>0.0211</td>\n      <td>23.0</td>\n      <td>0.34</td>\n      <td>0.0204</td>\n      <td>24.0</td>\n      <td>0.34</td>\n      <td>0.0196</td>\n      <td>...</td>\n      <td>0.33</td>\n      <td>0.0268</td>\n      <td>28.0</td>\n      <td>0.00</td>\n      <td>0.0285</td>\n      <td>183</td>\n      <td>-0.3344</td>\n      <td>30.0</td>\n      <td>0.95</td>\n      <td>None</td>\n    </tr>\n    <tr>\n      <th>...</th>\n      <td>...</td>\n      <td>...</td>\n      <td>...</td>\n      <td>...</td>\n      <td>...</td>\n      <td>...</td>\n      <td>...</td>\n      <td>...</td>\n      <td>...</td>\n      <td>...</td>\n      <td>...</td>\n      <td>...</td>\n      <td>...</td>\n      <td>...</td>\n      <td>...</td>\n      <td>...</td>\n      <td>...</td>\n      <td>...</td>\n      <td>...</td>\n      <td>...</td>\n      <td>...</td>\n    </tr>\n    <tr>\n      <th>0</th>\n      <td>0.0026</td>\n      <td>19.0</td>\n      <td>0.09</td>\n      <td>0.0034</td>\n      <td>21.0</td>\n      <td>0.09</td>\n      <td>0.0033</td>\n      <td>22.0</td>\n      <td>0.09</td>\n      <td>0.0032</td>\n      <td>...</td>\n      <td>0.09</td>\n      <td>0.0031</td>\n      <td>24.0</td>\n      <td>0.02</td>\n      <td>0.0032</td>\n      <td>595</td>\n      <td>-0.1519</td>\n      <td>25.0</td>\n      <td>1.15</td>\n      <td>max</td>\n    </tr>\n    <tr>\n      <th>0</th>\n      <td>0.0138</td>\n      <td>9.0</td>\n      <td>0.19</td>\n      <td>0.0163</td>\n      <td>11.0</td>\n      <td>0.03</td>\n      <td>0.0145</td>\n      <td>13.0</td>\n      <td>0.01</td>\n      <td>0.0132</td>\n      <td>...</td>\n      <td>0.00</td>\n      <td>0.0164</td>\n      <td>17.0</td>\n      <td>0.00</td>\n      <td>0.0157</td>\n      <td>1098</td>\n      <td>-0.4763</td>\n      <td>18.0</td>\n      <td>0.52</td>\n      <td>None</td>\n    </tr>\n    <tr>\n      <th>0</th>\n      <td>0.0071</td>\n      <td>17.0</td>\n      <td>0.16</td>\n      <td>0.0068</td>\n      <td>18.0</td>\n      <td>0.16</td>\n      <td>0.0066</td>\n      <td>20.0</td>\n      <td>0.16</td>\n      <td>0.0065</td>\n      <td>...</td>\n      <td>0.16</td>\n      <td>0.0062</td>\n      <td>22.0</td>\n      <td>0.16</td>\n      <td>0.0058</td>\n      <td>607</td>\n      <td>-0.2220</td>\n      <td>24.0</td>\n      <td>0.76</td>\n      <td>max</td>\n    </tr>\n    <tr>\n      <th>0</th>\n      <td>0.0020</td>\n      <td>8.0</td>\n      <td>0.63</td>\n      <td>0.0056</td>\n      <td>10.0</td>\n      <td>0.63</td>\n      <td>0.0051</td>\n      <td>11.0</td>\n      <td>0.40</td>\n      <td>0.0047</td>\n      <td>...</td>\n      <td>0.40</td>\n      <td>0.0043</td>\n      <td>14.0</td>\n      <td>0.33</td>\n      <td>0.0093</td>\n      <td>444</td>\n      <td>-0.5556</td>\n      <td>22.0</td>\n      <td>0.86</td>\n      <td>max</td>\n    </tr>\n    <tr>\n      <th>0</th>\n      <td>0.0243</td>\n      <td>7.0</td>\n      <td>0.47</td>\n      <td>0.0214</td>\n      <td>8.0</td>\n      <td>0.47</td>\n      <td>0.0193</td>\n      <td>9.0</td>\n      <td>0.47</td>\n      <td>0.0178</td>\n      <td>...</td>\n      <td>0.47</td>\n      <td>0.0196</td>\n      <td>12.0</td>\n      <td>0.00</td>\n      <td>0.0203</td>\n      <td>386</td>\n      <td>-0.7339</td>\n      <td>13.0</td>\n      <td>1.41</td>\n      <td>max</td>\n    </tr>\n  </tbody>\n</table>\n<p>57571 rows × 21 columns</p>\n</div>"
     },
     "execution_count": 174,
     "metadata": {},
     "output_type": "execute_result"
    }
   ],
   "source": [
    "import pandas as pd\n",
    "from sklearn.model_selection import train_test_split\n",
    "from sklearn.pipeline import Pipeline\n",
    "\n",
    "df = pd.read_parquet('./data')\n",
    "print(f'total dataset: {len(df)} rows')\n",
    "\n",
    "## filters\n",
    "df = df[df['stabilized_spread'] < 10]  # nem tul nagy spread\n",
    "df = df[df['stabilized_spread'] > 0.5]  # nem tul kis spread\n",
    "# df = df[abs(df['last_price_delta_since_stabilized']) > 0.1]\n",
    "# df = df[abs(df['last_price_delta_since_stabilized']) < 8]\n",
    "\n",
    "# df = df[df['stabilized_amount_mean'] < 0.4]  # nem tul nagy tradek\n",
    "# df = df[df['stabilized_nr_trades'] < 300]  # nem tul sok trade\n",
    "\n",
    "df.sort_index(axis=1, inplace=True)\n",
    "\n",
    "for col in df.columns:\n",
    "    # if 'nr_trades' in col or 'price_delta' in col and not col.startswith('last'):\n",
    "    #     df.drop(col, axis=1, inplace=True)\n",
    "    if 'past' in col:\n",
    "        df.drop(col, axis=1, inplace=True)\n",
    "    if '_spread' == col[1:]:\n",
    "        df.drop(col, axis=1, inplace=True)\n",
    "\n",
    "\n",
    "y = df['last_price_delta_since_stabilized']\n",
    "X = df.drop('last_price_delta_since_stabilized', axis=1)\n",
    "\n",
    "X_train, X_valid, y_train, y_valid = train_test_split(X, y, train_size=0.75, test_size=0.25, random_state=0)\n",
    "X_train"
   ]
  },
  {
   "cell_type": "code",
   "execution_count": 175,
   "outputs": [
    {
     "data": {
      "text/plain": "0.16133235556341308"
     },
     "metadata": {},
     "output_type": "display_data"
    },
    {
     "data": {
      "text/plain": "0.29114937715204525"
     },
     "metadata": {},
     "output_type": "display_data"
    }
   ],
   "source": [
    "from spreadsurfer.price_engine import FeatureEngineer\n",
    "from catboost import CatBoostRegressor\n",
    "from sklearn.preprocessing import StandardScaler\n",
    "# from sklearn.ensemle import RandomForestRegressor\n",
    "\n",
    "model = CatBoostRegressor(learning_rate=0.01, depth=7, loss_function='MAPE', random_state=0, verbose=False, iterations=1500)\n",
    "model2 = CatBoostRegressor(learning_rate=0.01, depth=7, loss_function='RMSE', random_state=0, verbose=False, iterations=1500)\n",
    "trained_model = model\n",
    "\n",
    "pipeline = Pipeline(steps=[\n",
    "    ('preprocessor', FeatureEngineer()),\n",
    "    ('model', model)\n",
    "])\n",
    "\n",
    "pipeline2 = Pipeline(steps=[\n",
    "    ('preprocessor', FeatureEngineer()),\n",
    "    ('model', model2)\n",
    "])\n",
    "\n",
    "pipeline.fit(X_train, y_train)\n",
    "pipeline2.fit(X_train, y_train)\n",
    "score = pipeline.score(X_valid, y_valid)\n",
    "score2 = pipeline2.score(X_valid, y_valid)\n",
    "display(score)\n",
    "display(score2)\n"
   ],
   "metadata": {
    "collapsed": false
   }
  },
  {
   "cell_type": "code",
   "execution_count": 517,
   "outputs": [
    {
     "data": {
      "text/plain": "MetricVisualizer(layout=Layout(align_self='stretch', height='500px'))",
      "application/vnd.jupyter.widget-view+json": {
       "version_major": 2,
       "version_minor": 0,
       "model_id": "d4f30176009c401697486fa7b5cf1543"
      }
     },
     "metadata": {},
     "output_type": "display_data"
    },
    {
     "name": "stdout",
     "output_type": "stream",
     "text": [
      "boo\n"
     ]
    }
   ],
   "source": [
    "import catboost\n",
    "w = catboost.MetricVisualizer('./models', subdirs=True)\n",
    "w.start()"
   ],
   "metadata": {
    "collapsed": false
   }
  },
  {
   "cell_type": "code",
   "execution_count": 37,
   "outputs": [
    {
     "name": "stdout",
     "output_type": "stream",
     "text": [
      " Results from Grid Search \n",
      "\n",
      " The best estimator across ALL searched params:\n",
      " <catboost.core.CatBoostRegressor object at 0x7ff69a707d30>\n",
      "\n",
      " The best score across ALL searched params:\n",
      " 0.41200864218441446\n",
      "\n",
      " The best parameters across ALL searched params:\n",
      " {'depth': 7, 'iterations': 1500, 'learning_rate': 0.025}\n"
     ]
    }
   ],
   "source": [
    "from sklearn.model_selection import GridSearchCV\n",
    "\n",
    "do_grid_search = False\n",
    "\n",
    "if do_grid_search:\n",
    "    X = FeatureEngineer().transform(X)\n",
    "    X_train, X_valid, y_train, y_valid = train_test_split(X, y, train_size=0.8, test_size=0.2, random_state=0)\n",
    "\n",
    "    parameters = {'depth': [6, 7, 8],\n",
    "                  'learning_rate': [0.015, 0.025],\n",
    "                  'iterations': [500, 1000, 1500]\n",
    "                  }\n",
    "    grid = GridSearchCV(estimator=model, param_grid=parameters, cv=2, n_jobs=-1)\n",
    "    grid.fit(X_train, y_train)\n",
    "\n",
    "    print(\" Results from Grid Search \")\n",
    "    print(\"\\n The best estimator across ALL searched params:\\n\", grid.best_estimator_)\n",
    "    print(\"\\n The best score across ALL searched params:\\n\", grid.best_score_)\n",
    "    print(\"\\n The best parameters across ALL searched params:\\n\", grid.best_params_)"
   ],
   "metadata": {
    "collapsed": false
   }
  },
  {
   "cell_type": "code",
   "execution_count": 139,
   "outputs": [],
   "source": [
    "from spreadsurfer import now_isoformat\n",
    "\n",
    "save = True\n",
    "if save:\n",
    "    model.save_model(f'./models/{now_isoformat()}-mape-score-{1000 * round(score, 3)}.cat')\n",
    "    model2.save_model(f'./models/{now_isoformat()}-rmse-score-{1000 * round(score2, 3)}.cat')\n"
   ],
   "metadata": {
    "collapsed": false
   }
  },
  {
   "cell_type": "code",
   "execution_count": 165,
   "outputs": [
    {
     "name": "stdout",
     "output_type": "stream",
     "text": [
      "expected:  0.15\n",
      "predict:  0.17398966085922285\n",
      "predict2:  0.5904660704702956\n",
      "\n",
      "expected:  0.63\n",
      "predict:  0.25424597287712963\n",
      "predict2:  0.6171664628081589\n",
      "\n",
      "expected:  0.92\n",
      "predict:  0.03601053296252211\n",
      "predict2:  0.26384485942639707\n",
      "\n"
     ]
    },
    {
     "data": {
      "text/plain": "'MAE: 0.0802333221887232'"
     },
     "metadata": {},
     "output_type": "display_data"
    },
    {
     "data": {
      "text/plain": "'MAE2: 0.06934092176473373'"
     },
     "metadata": {},
     "output_type": "display_data"
    }
   ],
   "source": [
    "input_from_log = \"\"\"\n",
    "\n",
    "2023-02-01 08:55:15.007 | data     | spreadsurfer.datacollect:start:97 - wave 598 collected: {'0_amount_mean': 0.033, '0_nr_trades': 42.0, '0_price_delta': 0.21, '0_spread': 0.89, '1_amount_mean': 0.0322, '1_nr_trades': 43.0, '1_price_delta': 0.21, '1_spread': 0.89, '2_amount_mean': 0.0325, '2_nr_trades': 44.0, '2_price_delta': 0.21, '2_spread': 0.89, '3_amount_mean': 0.0319, '3_nr_trades': 45.0, '3_price_delta': 0.21, '3_spread': 0.89, '4_amount_mean': 0.0333, '4_nr_trades': 46.0, '4_price_delta': 0.2, '4_spread': 0.9, 'last_price_delta_since_stabilized': 0.0, 'past_final_price_0': 4.549999999999272, 'past_final_price_1': 4.709999999999127, 'past_final_price_2': 5.639999999999418, 'past_final_price_3': 5.279999999998836, 'past_final_price_4': 5.479999999999563, 'past_final_price_5': nan, 'past_final_price_6': nan, 'past_final_price_7': -1.640000000003056, 'past_final_price_8': -1.3000000000029104, 'past_final_price_9': 0.0, 'stabilized_amount_mean': 0.0426, 'stabilized_at_ms': 773, 'stabilized_gasp': -0.5878, 'stabilized_nr_trades': 55.0, 'stabilized_spread': 1.1, 'wave_direction': 'max'}\n",
    "2023-02-01 08:55:16.072 | data     | spreadsurfer.datacollect:start:97 - wave 599 collected: {'0_amount_mean': 0.0348, '0_nr_trades': 6.0, '0_price_delta': 0.3, '0_spread': 0.06, '1_amount_mean': 0.0299, '1_nr_trades': 7.0, '1_price_delta': 0.08, '1_spread': 0.28, '2_amount_mean': 0.0405, '2_nr_trades': 8.0, '2_price_delta': 0.08, '2_spread': 0.28, '3_amount_mean': 0.036, '3_nr_trades': 9.0, '3_price_delta': 0.02, '3_spread': 0.34, '4_amount_mean': 0.0298, '4_nr_trades': 11.0, '4_price_delta': 0.02, '4_spread': 0.34, 'last_price_delta_since_stabilized': -0.19, 'past_final_price_0': 4.709999999999127, 'past_final_price_1': 5.639999999999418, 'past_final_price_2': 5.279999999998836, 'past_final_price_3': 5.479999999999563, 'past_final_price_4': nan, 'past_final_price_5': nan, 'past_final_price_6': -1.640000000003056, 'past_final_price_7': -1.3000000000029104, 'past_final_price_8': 0.0, 'past_final_price_9': 0.0, 'stabilized_amount_mean': 0.0275, 'stabilized_at_ms': 273, 'stabilized_gasp': -0.3978, 'stabilized_nr_trades': 12.0, 'stabilized_spread': 0.36, 'wave_direction': 'max'}\n",
    "2023-02-01 08:55:16.516 | data     | spreadsurfer.datacollect:start:97 - wave 600 collected: {'0_amount_mean': 0.0197, '0_nr_trades': 6.0, '0_price_delta': 0.01, '0_spread': 0.54, '1_amount_mean': 0.0169, '1_nr_trades': 7.0, '1_price_delta': 0.01, '1_spread': 0.54, '2_amount_mean': 0.015, '2_nr_trades': 8.0, '2_price_delta': 0.01, '2_spread': 0.54, '3_amount_mean': 0.0175, '3_nr_trades': 10.0, '3_price_delta': 0.0, '3_spread': 0.58, '4_amount_mean': 0.0278, '4_nr_trades': 17.0, '4_price_delta': 0.0, '4_spread': 0.72, 'last_price_delta_since_stabilized': -0.51, 'past_final_price_0': 4.709999999999127, 'past_final_price_1': 5.639999999999418, 'past_final_price_2': 5.279999999998836, 'past_final_price_3': 5.479999999999563, 'past_final_price_4': nan, 'past_final_price_5': nan, 'past_final_price_6': -1.640000000003056, 'past_final_price_7': -1.3000000000029104, 'past_final_price_8': 0.0, 'past_final_price_9': 0.0, 'stabilized_amount_mean': 0.0613, 'stabilized_at_ms': 169, 'stabilized_gasp': -0.2321, 'stabilized_nr_trades': 19.0, 'stabilized_spread': 0.72, 'wave_direction': None}\n",
    "2023-02-01 08:55:16.623 | data     | spreadsurfer.datacollect:start:97 - wave 601 collected: {'0_amount_mean': 0.0175, '0_nr_trades': 10.0, '0_price_delta': 1.01, '0_spread': 0.58, '1_amount_mean': 0.0278, '1_nr_trades': 17.0, '1_price_delta': 1.01, '1_spread': 0.72, '2_amount_mean': 0.0613, '2_nr_trades': 19.0, '2_price_delta': 1.01, '2_spread': 0.72, '3_amount_mean': 0.0585, '3_nr_trades': 20.0, '3_price_delta': 1.01, '3_spread': 0.72, '4_amount_mean': 0.0376, '4_nr_trades': 44.0, '4_price_delta': 0.5, '4_spread': 1.23, 'last_price_delta_since_stabilized': 0.0, 'past_final_price_0': 4.709999999999127, 'past_final_price_1': 5.639999999999418, 'past_final_price_2': 5.279999999998836, 'past_final_price_3': 5.479999999999563, 'past_final_price_4': nan, 'past_final_price_5': nan, 'past_final_price_6': -1.640000000003056, 'past_final_price_7': -1.3000000000029104, 'past_final_price_8': 0.0, 'past_final_price_9': 0.0, 'stabilized_amount_mean': 0.0354, 'stabilized_at_ms': 414, 'stabilized_gasp': -1.2421, 'stabilized_nr_trades': 79.0, 'stabilized_spread': 1.73, 'wave_direction': None}\n",
    "2023-02-01 08:55:17.004 | data     | spreadsurfer.datacollect:start:97 - wave 602 collected: {'0_amount_mean': 0.0585, '0_nr_trades': 20.0, '0_price_delta': 1.01, '0_spread': 0.72, '1_amount_mean': 0.0376, '1_nr_trades': 44.0, '1_price_delta': 0.5, '1_spread': 1.23, '2_amount_mean': 0.0354, '2_nr_trades': 79.0, '2_price_delta': 0.0, '2_spread': 1.73, '3_amount_mean': 0.0434, '3_nr_trades': 97.0, '3_price_delta': 0.0, '3_spread': 1.75, '4_amount_mean': 0.0426, '4_nr_trades': 99.0, '4_price_delta': 0.0, '4_spread': 1.75, 'last_price_delta_since_stabilized': 0.0, 'past_final_price_0': 4.350000000002183, 'past_final_price_1': 3.9900000000016007, 'past_final_price_2': 4.190000000002328, 'past_final_price_3': nan, 'past_final_price_4': nan, 'past_final_price_5': -2.930000000000291, 'past_final_price_6': -2.5900000000001455, 'past_final_price_7': -1.2899999999972351, 'past_final_price_8': -1.2899999999972351, 'past_final_price_9': 0.0, 'stabilized_amount_mean': 0.0421, 'stabilized_at_ms': 522, 'stabilized_gasp': -1.2421, 'stabilized_nr_trades': 100.0, 'stabilized_spread': 1.75, 'wave_direction': 'max'}\n",
    "2023-02-01 08:55:18.266 | data     | spreadsurfer.datacollect:start:97 - wave 603 collected: {'0_amount_mean': 0.0023, '0_nr_trades': 3.0, '0_price_delta': 0.18, '0_spread': 0.35, '1_amount_mean': 0.002, '1_nr_trades': 4.0, '1_price_delta': 0.18, '1_spread': 0.41, '2_amount_mean': 0.0143, '2_nr_trades': 6.0, '2_price_delta': 0.18, '2_spread': 0.41, '3_amount_mean': 0.0108, '3_nr_trades': 8.0, '3_price_delta': 0.07, '3_spread': 0.52, '4_amount_mean': 0.0088, '4_nr_trades': 10.0, '4_price_delta': 0.0, '4_spread': 0.59, 'last_price_delta_since_stabilized': 0.15, 'past_final_price_0': 5.830000000001746, 'past_final_price_1': 6.030000000002474, 'past_final_price_2': nan, 'past_final_price_3': nan, 'past_final_price_4': -1.0900000000001455, 'past_final_price_5': -0.75, 'past_final_price_6': 0.5500000000029104, 'past_final_price_7': 0.5500000000029104, 'past_final_price_8': 1.8400000000001455, 'past_final_price_9': 0.0, 'stabilized_amount_mean': 0.0074, 'stabilized_at_ms': 222, 'stabilized_gasp': 0.4479, 'stabilized_nr_trades': 12.0, 'stabilized_spread': 0.59, 'wave_direction': 'min'}\n",
    "2023-02-01 08:55:19.755 | data     | spreadsurfer.datacollect:start:97 - wave 604 collected: {'0_amount_mean': 0.0023, '0_nr_trades': 7.0, '0_price_delta': 0.08, '0_spread': 0.57, '1_amount_mean': 0.0031, '1_nr_trades': 10.0, '1_price_delta': 0.08, '1_spread': 0.57, '2_amount_mean': 0.0028, '2_nr_trades': 12.0, '2_price_delta': 0.08, '2_spread': 0.57, '3_amount_mean': 0.0093, '3_nr_trades': 15.0, '3_price_delta': 0.06, '3_spread': 0.59, '4_amount_mean': 0.0087, '4_nr_trades': 16.0, '4_price_delta': 0.06, '4_spread': 0.59, 'last_price_delta_since_stabilized': -0.02, 'past_final_price_0': 5.6599999999998545, 'past_final_price_1': nan, 'past_final_price_2': nan, 'past_final_price_3': -1.4600000000027649, 'past_final_price_4': -1.1200000000026193, 'past_final_price_5': 0.18000000000029104, 'past_final_price_6': 0.18000000000029104, 'past_final_price_7': 1.4699999999975262, 'past_final_price_8': -0.37000000000261934, 'past_final_price_9': 0.0, 'stabilized_amount_mean': 0.0094, 'stabilized_at_ms': 285, 'stabilized_gasp': -0.2706, 'stabilized_nr_trades': 20.0, 'stabilized_spread': 0.65, 'wave_direction': None}\n",
    "2023-02-01 08:55:20.006 | data     | spreadsurfer.datacollect:start:97 - wave 605 collected: {'0_amount_mean': 0.0083, '0_nr_trades': 25.0, '0_price_delta': 0.57, '0_spread': 0.67, '1_amount_mean': 0.0081, '1_nr_trades': 26.0, '1_price_delta': 0.57, '1_spread': 0.67, '2_amount_mean': 0.0079, '2_nr_trades': 27.0, '2_price_delta': 0.57, '2_spread': 0.67, '3_amount_mean': 0.0077, '3_nr_trades': 28.0, '3_price_delta': 0.57, '3_spread': 0.67, '4_amount_mean': 0.0103, '4_nr_trades': 36.0, '4_price_delta': 0.34, '4_spread': 0.9, 'last_price_delta_since_stabilized': 0.0, 'past_final_price_0': nan, 'past_final_price_1': nan, 'past_final_price_2': -0.5700000000033469, 'past_final_price_3': -0.23000000000320142, 'past_final_price_4': 1.069999999999709, 'past_final_price_5': 1.069999999999709, 'past_final_price_6': 2.359999999996944, 'past_final_price_7': 0.5199999999967986, 'past_final_price_8': 0.8899999999994179, 'past_final_price_9': 0.0, 'stabilized_amount_mean': 0.0121, 'stabilized_at_ms': 641, 'stabilized_gasp': 1.0948, 'stabilized_nr_trades': 41.0, 'stabilized_spread': 1.24, 'wave_direction': 'min'}\n",
    "2023-02-01 08:55:21.010 | data     | spreadsurfer.datacollect:start:97 - wave 606 collected: {'0_amount_mean': 0.003, '0_nr_trades': 4.0, '0_price_delta': 0.66, '0_spread': 0.33, '1_amount_mean': 0.0032, '1_nr_trades': 5.0, '1_price_delta': 0.66, '1_spread': 0.33, '2_amount_mean': 0.0063, '2_nr_trades': 7.0, '2_price_delta': 0.53, '2_spread': 0.46, '3_amount_mean': 0.0278, '3_nr_trades': 15.0, '3_price_delta': 0.14, '3_spread': 0.85, '4_amount_mean': 0.0292, '4_nr_trades': 28.0, '4_price_delta': 0.0, '4_spread': 0.99, 'last_price_delta_since_stabilized': 0.0, 'past_final_price_0': nan, 'past_final_price_1': -0.5200000000004366, 'past_final_price_2': -0.18000000000029104, 'past_final_price_3': 1.1200000000026193, 'past_final_price_4': 1.1200000000026193, 'past_final_price_5': 2.4099999999998545, 'past_final_price_6': 0.569999999999709, 'past_final_price_7': 0.9400000000023283, 'past_final_price_8': 0.05000000000291038, 'past_final_price_9': 0.0, 'stabilized_amount_mean': 0.0282, 'stabilized_at_ms': 137, 'stabilized_gasp': 0.7482, 'stabilized_nr_trades': 29.0, 'stabilized_spread': 0.99, 'wave_direction': 'min'}\n",
    "2023-02-01 08:55:23.040 | data     | spreadsurfer.datacollect:start:97 - wave 607 collected: {'0_amount_mean': 0.0206, '0_nr_trades': 42.0, '0_price_delta': 0.32, '0_spread': 1.03, '1_amount_mean': 0.021, '1_nr_trades': 47.0, '1_price_delta': 0.21, '1_spread': 1.14, '2_amount_mean': 0.0201, '2_nr_trades': 49.0, '2_price_delta': 0.13, '2_spread': 1.22, '3_amount_mean': 0.0197, '3_nr_trades': 50.0, '3_price_delta': 0.06, '3_spread': 1.29, '4_amount_mean': 0.0195, '4_nr_trades': 51.0, '4_price_delta': 0.01, '4_spread': 1.34, 'last_price_delta_since_stabilized': 0.63, 'past_final_price_0': 1.3699999999989814, 'past_final_price_1': 2.6700000000018917, 'past_final_price_2': 2.6700000000018917, 'past_final_price_3': 3.959999999999127, 'past_final_price_4': 2.1199999999989814, 'past_final_price_5': 2.4900000000016007, 'past_final_price_6': 1.6000000000021828, 'past_final_price_7': 1.5499999999992724, 'past_final_price_8': 2.1300000000010186, 'past_final_price_9': 0.0, 'stabilized_amount_mean': 0.0205, 'stabilized_at_ms': 181, 'stabilized_gasp': 1.1929, 'stabilized_nr_trades': 53.0, 'stabilized_spread': 1.35, 'wave_direction': 'min'}\n",
    "2023-02-01 08:55:24.028 | data     | spreadsurfer.datacollect:start:97 - wave 608 collected: {'0_amount_mean': 0.0054, '0_nr_trades': 3.0, '0_price_delta': 1.23, '0_spread': 0.42, '1_amount_mean': 0.0091, '1_nr_trades': 11.0, '1_price_delta': 0.99, '1_spread': 0.66, '2_amount_mean': 0.0264, '2_nr_trades': 38.0, '2_price_delta': 0.26, '2_spread': 1.39, '3_amount_mean': 0.0232, '3_nr_trades': 50.0, '3_price_delta': 0.0, '3_spread': 1.65, '4_amount_mean': 0.0259, '4_nr_trades': 60.0, '4_price_delta': 0.0, '4_spread': 1.65, 'last_price_delta_since_stabilized': 0.0, 'past_final_price_0': 3.9800000000032014, 'past_final_price_1': 3.9800000000032014, 'past_final_price_2': 5.270000000000437, 'past_final_price_3': 3.430000000000291, 'past_final_price_4': 3.8000000000029104, 'past_final_price_5': 2.9100000000034925, 'past_final_price_6': 2.860000000000582, 'past_final_price_7': 3.4400000000023283, 'past_final_price_8': 1.3100000000013097, 'past_final_price_9': 0.0, 'stabilized_amount_mean': 0.0255, 'stabilized_at_ms': 345, 'stabilized_gasp': 0.1685, 'stabilized_nr_trades': 61.0, 'stabilized_spread': 1.65, 'wave_direction': 'min'}\n",
    "2023-02-01 08:55:26.024 | data     | spreadsurfer.datacollect:start:97 - wave 609 collected: {'0_amount_mean': 0.0198, '0_nr_trades': 9.0, '0_price_delta': 1.02, '0_spread': 0.74, '1_amount_mean': 0.0133, '1_nr_trades': 36.0, '1_price_delta': 0.26, '1_spread': 1.5, '2_amount_mean': 0.0133, '2_nr_trades': 37.0, '2_price_delta': 0.26, '2_spread': 1.5, '3_amount_mean': 0.0129, '3_nr_trades': 45.0, '3_price_delta': 0.1, '3_spread': 1.66, '4_amount_mean': 0.0123, '4_nr_trades': 50.0, '4_price_delta': 0.0, '4_spread': 1.76, 'last_price_delta_since_stabilized': -0.11, 'past_final_price_0': 2.4399999999986903, 'past_final_price_1': 0.5999999999985448, 'past_final_price_2': 0.9700000000011642, 'past_final_price_3': 0.08000000000174623, 'past_final_price_4': 0.029999999998835847, 'past_final_price_5': 0.6100000000005821, 'past_final_price_6': -1.5200000000004366, 'past_final_price_7': -2.8300000000017462, 'past_final_price_8': -0.9399999999986903, 'past_final_price_9': 0.0, 'stabilized_amount_mean': 0.0121, 'stabilized_at_ms': 430, 'stabilized_gasp': -0.5445, 'stabilized_nr_trades': 51.0, 'stabilized_spread': 1.76, 'wave_direction': 'max'}\n",
    "2023-02-01 08:55:26.620 | data     | spreadsurfer.datacollect:start:97 - wave 610 collected: {'0_amount_mean': 0.0073, '0_nr_trades': 5.0, '0_price_delta': 0.0, '0_spread': 0.61, '1_amount_mean': 0.0081, '1_nr_trades': 7.0, '1_price_delta': 0.0, '1_spread': 0.61, '2_amount_mean': 0.0111, '2_nr_trades': 9.0, '2_price_delta': 0.0, '2_spread': 0.61, '3_amount_mean': 0.0109, '3_nr_trades': 10.0, '3_price_delta': 0.0, '3_spread': 0.61, '4_amount_mean': 0.0108, '4_nr_trades': 11.0, '4_price_delta': 0.0, '4_spread': 0.64, 'last_price_delta_since_stabilized': -0.04, 'past_final_price_0': 2.4399999999986903, 'past_final_price_1': 0.5999999999985448, 'past_final_price_2': 0.9700000000011642, 'past_final_price_3': 0.08000000000174623, 'past_final_price_4': 0.029999999998835847, 'past_final_price_5': 0.6100000000005821, 'past_final_price_6': -1.5200000000004366, 'past_final_price_7': -2.8300000000017462, 'past_final_price_8': -0.9399999999986903, 'past_final_price_9': 0.0, 'stabilized_amount_mean': 0.0119, 'stabilized_at_ms': 153, 'stabilized_gasp': -0.3823, 'stabilized_nr_trades': 13.0, 'stabilized_spread': 0.64, 'wave_direction': None}\n",
    "2023-02-01 08:55:27.005 | data     | spreadsurfer.datacollect:start:97 - wave 611 collected: {'0_amount_mean': 0.0119, '0_nr_trades': 13.0, '0_price_delta': 0.43, '0_spread': 0.64, '1_amount_mean': 0.011, '1_nr_trades': 15.0, '1_price_delta': 0.43, '1_spread': 0.65, '2_amount_mean': 0.0109, '2_nr_trades': 23.0, '2_price_delta': 0.28, '2_spread': 0.83, '3_amount_mean': 0.0122, '3_nr_trades': 25.0, '3_price_delta': 0.25, '3_spread': 0.86, '4_amount_mean': 0.0115, '4_nr_trades': 27.0, '4_price_delta': 0.0, '4_spread': 1.11, 'last_price_delta_since_stabilized': 0.92, 'past_final_price_0': 2.7699999999967986, 'past_final_price_1': 3.139999999999418, 'past_final_price_2': 2.25, 'past_final_price_3': 2.1999999999970896, 'past_final_price_4': 2.779999999998836, 'past_final_price_5': 0.6499999999978172, 'past_final_price_6': -0.6600000000034925, 'past_final_price_7': 1.2299999999995634, 'past_final_price_8': 2.1699999999982538, 'past_final_price_9': 0.0, 'stabilized_amount_mean': 0.0111, 'stabilized_at_ms': 452, 'stabilized_gasp': 0.1235, 'stabilized_nr_trades': 28.0, 'stabilized_spread': 1.11, 'wave_direction': 'min'}\n",
    "2023-02-01 08:55:28.079 | data     | spreadsurfer.datacollect:start:97 - wave 612 collected: {'0_amount_mean': 0.0007, '0_nr_trades': 5.0, '0_price_delta': 1.03, '0_spread': 0.32, '1_amount_mean': 0.0009, '1_nr_trades': 7.0, '1_price_delta': 1.03, '1_spread': 0.32, '2_amount_mean': 0.0037, '2_nr_trades': 9.0, '2_price_delta': 1.03, '2_spread': 0.32, '3_amount_mean': 0.0034, '3_nr_trades': 11.0, '3_price_delta': 1.03, '3_spread': 0.32, '4_amount_mean': 0.007, '4_nr_trades': 13.0, '4_price_delta': 0.94, '4_spread': 0.41, 'last_price_delta_since_stabilized': -0.17, 'past_final_price_0': 1.3700000000026193, 'past_final_price_1': 0.4800000000032014, 'past_final_price_2': 0.43000000000029104, 'past_final_price_3': 1.0100000000020373, 'past_final_price_4': -1.1199999999989814, 'past_final_price_5': -2.430000000000291, 'past_final_price_6': -0.5399999999972351, 'past_final_price_7': 0.4000000000014552, 'past_final_price_8': -1.7699999999967986, 'past_final_price_9': 0.0, 'stabilized_amount_mean': 0.0461, 'stabilized_at_ms': 697, 'stabilized_gasp': -1.1758, 'stabilized_nr_trades': 35.0, 'stabilized_spread': 1.35, 'wave_direction': 'max'}\n",
    "2023-02-01 08:55:29.105 | data     | spreadsurfer.datacollect:start:97 - wave 613 collected: {'0_amount_mean': 0.0101, '0_nr_trades': 3.0, '0_price_delta': 0.4, '0_spread': 0.02, '1_amount_mean': 0.0077, '1_nr_trades': 4.0, '1_price_delta': 0.4, '1_spread': 0.05, '2_amount_mean': 0.0063, '2_nr_trades': 5.0, '2_price_delta': 0.0, '2_spread': 0.45, '3_amount_mean': 0.0055, '3_nr_trades': 6.0, '3_price_delta': 0.0, '3_spread': 0.45, '4_amount_mean': 0.005, '4_nr_trades': 7.0, '4_price_delta': 0.0, '4_spread': 0.45, 'last_price_delta_since_stabilized': 0.0, 'past_final_price_0': 0.6500000000014552, 'past_final_price_1': 0.5999999999985448, 'past_final_price_2': 1.180000000000291, 'past_final_price_3': -0.9500000000007276, 'past_final_price_4': -2.2600000000020373, 'past_final_price_5': -0.36999999999898137, 'past_final_price_6': 0.569999999999709, 'past_final_price_7': -1.5999999999985448, 'past_final_price_8': 0.16999999999825377, 'past_final_price_9': 0.0, 'stabilized_amount_mean': 0.0142, 'stabilized_at_ms': 434, 'stabilized_gasp': 0.3199, 'stabilized_nr_trades': 9.0, 'stabilized_spread': 0.45, 'wave_direction': 'min'}\n",
    "\n",
    "\n",
    "\n",
    "\"\"\"\n",
    "def predict_samples():\n",
    "    mae = 0\n",
    "    mae2 = 0\n",
    "    count = 0\n",
    "    for line in input_from_log.split('\\n'):\n",
    "        if not line: continue\n",
    "        count += 1\n",
    "        json = '{' + line.split('{')[1]\n",
    "        json = json.replace('nan', '0')\n",
    "        sample = pd.DataFrame([eval(json)])\n",
    "\n",
    "        real = sample.last_price_delta_since_stabilized[0]\n",
    "        if real < 0.1: continue\n",
    "        print('expected: ', real)\n",
    "        sample.drop('last_price_delta_since_stabilized', axis=1, inplace=True)\n",
    "\n",
    "        guess = pipeline.predict(sample)[0]\n",
    "        guess2 = pipeline2.predict(sample)[0]\n",
    "        print('predict: ', guess)\n",
    "        print('predict2: ', guess2)\n",
    "        mae += abs(real - guess)\n",
    "        mae2 += abs(real - guess2)\n",
    "        print()\n",
    "    display(f'MAE: {mae / count}')\n",
    "    display(f'MAE2: {mae2 / count}')\n",
    "predict_samples()"
   ],
   "metadata": {
    "collapsed": false
   }
  },
  {
   "cell_type": "code",
   "execution_count": 100,
   "outputs": [
    {
     "ename": "AttributeError",
     "evalue": "'Series' object has no attribute 'real'",
     "output_type": "error",
     "traceback": [
      "\u001B[0;31m---------------------------------------------------------------------------\u001B[0m",
      "\u001B[0;31mAttributeError\u001B[0m                            Traceback (most recent call last)",
      "Cell \u001B[0;32mIn[100], line 9\u001B[0m\n\u001B[1;32m      1\u001B[0m sample \u001B[38;5;241m=\u001B[39m pd\u001B[38;5;241m.\u001B[39mDataFrame([\n\u001B[1;32m      2\u001B[0m     {\u001B[38;5;124m'\u001B[39m\u001B[38;5;124m0_amount_mean\u001B[39m\u001B[38;5;124m'\u001B[39m: \u001B[38;5;241m0.007\u001B[39m, \u001B[38;5;124m'\u001B[39m\u001B[38;5;124m0_nr_trades\u001B[39m\u001B[38;5;124m'\u001B[39m: \u001B[38;5;241m12.0\u001B[39m, \u001B[38;5;124m'\u001B[39m\u001B[38;5;124m0_price_delta\u001B[39m\u001B[38;5;124m'\u001B[39m: \u001B[38;5;241m0.91\u001B[39m, \u001B[38;5;124m'\u001B[39m\u001B[38;5;124m0_spread\u001B[39m\u001B[38;5;124m'\u001B[39m: \u001B[38;5;241m1.15\u001B[39m, \u001B[38;5;124m'\u001B[39m\u001B[38;5;124m1_amount_mean\u001B[39m\u001B[38;5;124m'\u001B[39m: \u001B[38;5;241m0.007\u001B[39m, \u001B[38;5;124m'\u001B[39m\u001B[38;5;124m1_nr_trades\u001B[39m\u001B[38;5;124m'\u001B[39m: \u001B[38;5;241m13.0\u001B[39m, \u001B[38;5;124m'\u001B[39m\u001B[38;5;124m1_price_delta\u001B[39m\u001B[38;5;124m'\u001B[39m: \u001B[38;5;241m0.91\u001B[39m, \u001B[38;5;124m'\u001B[39m\u001B[38;5;124m1_spread\u001B[39m\u001B[38;5;124m'\u001B[39m: \u001B[38;5;241m1.52\u001B[39m, \u001B[38;5;124m'\u001B[39m\u001B[38;5;124m2_amount_mean\u001B[39m\u001B[38;5;124m'\u001B[39m: \u001B[38;5;241m0.006\u001B[39m, \u001B[38;5;124m'\u001B[39m\u001B[38;5;124m2_nr_trades\u001B[39m\u001B[38;5;124m'\u001B[39m: \u001B[38;5;241m14.0\u001B[39m,\n\u001B[1;32m      3\u001B[0m      \u001B[38;5;124m'\u001B[39m\u001B[38;5;124m2_price_delta\u001B[39m\u001B[38;5;124m'\u001B[39m: \u001B[38;5;241m0.91\u001B[39m, \u001B[38;5;124m'\u001B[39m\u001B[38;5;124m2_spread\u001B[39m\u001B[38;5;124m'\u001B[39m: \u001B[38;5;241m1.52\u001B[39m, \u001B[38;5;124m'\u001B[39m\u001B[38;5;124m3_amount_mean\u001B[39m\u001B[38;5;124m'\u001B[39m: \u001B[38;5;241m0.006\u001B[39m, \u001B[38;5;124m'\u001B[39m\u001B[38;5;124m3_nr_trades\u001B[39m\u001B[38;5;124m'\u001B[39m: \u001B[38;5;241m16.0\u001B[39m, \u001B[38;5;124m'\u001B[39m\u001B[38;5;124m3_price_delta\u001B[39m\u001B[38;5;124m'\u001B[39m: \u001B[38;5;241m0.69\u001B[39m, \u001B[38;5;124m'\u001B[39m\u001B[38;5;124m3_spread\u001B[39m\u001B[38;5;124m'\u001B[39m: \u001B[38;5;241m1.74\u001B[39m, \u001B[38;5;124m'\u001B[39m\u001B[38;5;124m4_amount_mean\u001B[39m\u001B[38;5;124m'\u001B[39m: \u001B[38;5;241m0.005\u001B[39m, \u001B[38;5;124m'\u001B[39m\u001B[38;5;124m4_nr_trades\u001B[39m\u001B[38;5;124m'\u001B[39m: \u001B[38;5;241m17.0\u001B[39m, \u001B[38;5;124m'\u001B[39m\u001B[38;5;124m4_price_delta\u001B[39m\u001B[38;5;124m'\u001B[39m: \u001B[38;5;241m0.69\u001B[39m, \u001B[38;5;124m'\u001B[39m\u001B[38;5;124m4_spread\u001B[39m\u001B[38;5;124m'\u001B[39m: \u001B[38;5;241m1.74\u001B[39m,\n\u001B[0;32m   (...)\u001B[0m\n\u001B[1;32m      6\u001B[0m      \u001B[38;5;124m'\u001B[39m\u001B[38;5;124mpast_final_price_9\u001B[39m\u001B[38;5;124m'\u001B[39m: \u001B[38;5;241m0.0\u001B[39m, \u001B[38;5;124m'\u001B[39m\u001B[38;5;124mstabilized_amount_mean\u001B[39m\u001B[38;5;124m'\u001B[39m: \u001B[38;5;241m0.007\u001B[39m, \u001B[38;5;124m'\u001B[39m\u001B[38;5;124mstabilized_at_ms\u001B[39m\u001B[38;5;124m'\u001B[39m: \u001B[38;5;241m369\u001B[39m, \u001B[38;5;124m'\u001B[39m\u001B[38;5;124mstabilized_nr_trades\u001B[39m\u001B[38;5;124m'\u001B[39m: \u001B[38;5;241m18.0\u001B[39m, \u001B[38;5;124m'\u001B[39m\u001B[38;5;124mstabilized_spread\u001B[39m\u001B[38;5;124m'\u001B[39m: \u001B[38;5;241m2.43\u001B[39m, \u001B[38;5;124m'\u001B[39m\u001B[38;5;124mwave_direction\u001B[39m\u001B[38;5;124m'\u001B[39m: \u001B[38;5;124m'\u001B[39m\u001B[38;5;124mmax\u001B[39m\u001B[38;5;124m'\u001B[39m}\n\u001B[1;32m      7\u001B[0m ])\n\u001B[0;32m----> 9\u001B[0m \u001B[38;5;28mprint\u001B[39m(\u001B[38;5;124m'\u001B[39m\u001B[38;5;124mexpected: \u001B[39m\u001B[38;5;124m'\u001B[39m, \u001B[43msample\u001B[49m\u001B[38;5;241;43m.\u001B[39;49m\u001B[43mlast_price_delta_since_stabilized\u001B[49m\u001B[38;5;241;43m.\u001B[39;49m\u001B[43mreal\u001B[49m())\n\u001B[1;32m     10\u001B[0m sample\u001B[38;5;241m.\u001B[39mdrop(\u001B[38;5;124m'\u001B[39m\u001B[38;5;124mlast_price_delta_since_stabilized\u001B[39m\u001B[38;5;124m'\u001B[39m, axis\u001B[38;5;241m=\u001B[39m\u001B[38;5;241m1\u001B[39m, inplace\u001B[38;5;241m=\u001B[39m\u001B[38;5;28;01mTrue\u001B[39;00m)\n\u001B[1;32m     12\u001B[0m \u001B[38;5;28;01mfrom\u001B[39;00m \u001B[38;5;21;01mtimeit\u001B[39;00m \u001B[38;5;28;01mimport\u001B[39;00m timeit\n",
      "File \u001B[0;32m~/workspace/cy/04-ccxt/venv/lib/python3.10/site-packages/pandas/core/generic.py:5902\u001B[0m, in \u001B[0;36mNDFrame.__getattr__\u001B[0;34m(self, name)\u001B[0m\n\u001B[1;32m   5895\u001B[0m \u001B[38;5;28;01mif\u001B[39;00m (\n\u001B[1;32m   5896\u001B[0m     name \u001B[38;5;129;01mnot\u001B[39;00m \u001B[38;5;129;01min\u001B[39;00m \u001B[38;5;28mself\u001B[39m\u001B[38;5;241m.\u001B[39m_internal_names_set\n\u001B[1;32m   5897\u001B[0m     \u001B[38;5;129;01mand\u001B[39;00m name \u001B[38;5;129;01mnot\u001B[39;00m \u001B[38;5;129;01min\u001B[39;00m \u001B[38;5;28mself\u001B[39m\u001B[38;5;241m.\u001B[39m_metadata\n\u001B[1;32m   5898\u001B[0m     \u001B[38;5;129;01mand\u001B[39;00m name \u001B[38;5;129;01mnot\u001B[39;00m \u001B[38;5;129;01min\u001B[39;00m \u001B[38;5;28mself\u001B[39m\u001B[38;5;241m.\u001B[39m_accessors\n\u001B[1;32m   5899\u001B[0m     \u001B[38;5;129;01mand\u001B[39;00m \u001B[38;5;28mself\u001B[39m\u001B[38;5;241m.\u001B[39m_info_axis\u001B[38;5;241m.\u001B[39m_can_hold_identifiers_and_holds_name(name)\n\u001B[1;32m   5900\u001B[0m ):\n\u001B[1;32m   5901\u001B[0m     \u001B[38;5;28;01mreturn\u001B[39;00m \u001B[38;5;28mself\u001B[39m[name]\n\u001B[0;32m-> 5902\u001B[0m \u001B[38;5;28;01mreturn\u001B[39;00m \u001B[38;5;28;43mobject\u001B[39;49m\u001B[38;5;241;43m.\u001B[39;49m\u001B[38;5;21;43m__getattribute__\u001B[39;49m\u001B[43m(\u001B[49m\u001B[38;5;28;43mself\u001B[39;49m\u001B[43m,\u001B[49m\u001B[43m \u001B[49m\u001B[43mname\u001B[49m\u001B[43m)\u001B[49m\n",
      "\u001B[0;31mAttributeError\u001B[0m: 'Series' object has no attribute 'real'"
     ]
    }
   ],
   "source": [
    "sample = pd.DataFrame([\n",
    "    {'0_amount_mean': 0.007, '0_nr_trades': 12.0, '0_price_delta': 0.91, '0_spread': 1.15, '1_amount_mean': 0.007, '1_nr_trades': 13.0, '1_price_delta': 0.91, '1_spread': 1.52, '2_amount_mean': 0.006, '2_nr_trades': 14.0,\n",
    "     '2_price_delta': 0.91, '2_spread': 1.52, '3_amount_mean': 0.006, '3_nr_trades': 16.0, '3_price_delta': 0.69, '3_spread': 1.74, '4_amount_mean': 0.005, '4_nr_trades': 17.0, '4_price_delta': 0.69, '4_spread': 1.74,\n",
    "     'last_price_delta_since_stabilized': -0.87, 'past_final_price_0': -0.11999999999898137, 'past_final_price_1': 0.25, 'past_final_price_2': -0.020000000000436557, 'past_final_price_3': -1.7400000000016007,\n",
    "     'past_final_price_4': 0.06999999999970896, 'past_final_price_5': -2.7299999999995634, 'past_final_price_6': -3.9099999999998545, 'past_final_price_7': 3.360000000000582, 'past_final_price_8': -0.06000000000130967,\n",
    "     'past_final_price_9': 0.0, 'stabilized_amount_mean': 0.007, 'stabilized_at_ms': 369, 'stabilized_nr_trades': 18.0, 'stabilized_spread': 2.43, 'wave_direction': 'max'}\n",
    "])\n",
    "\n",
    "print('expected: ', sample.last_price_delta_since_stabilized.real())\n",
    "sample.drop('last_price_delta_since_stabilized', axis=1, inplace=True)\n",
    "\n",
    "from timeit import timeit\n",
    "\n",
    "timeit(lambda: pipeline.predict(sample), number=1) * 1000\n",
    "print('predict: ', pipeline.predict(sample)[0])\n"
   ],
   "metadata": {
    "collapsed": false
   }
  },
  {
   "cell_type": "code",
   "execution_count": 154,
   "outputs": [
    {
     "name": "stdout",
     "output_type": "stream",
     "text": [
      "catboost model loaded from 2023-02-01T09:14:50-rmse-score-291.0.cat\n",
      "expected:  0.15\n",
      "predict:  0.598326925615093\n",
      "predict2:  0.5982384053273737\n",
      "\n",
      "expected:  0.63\n",
      "predict:  0.5701546470393212\n",
      "predict2:  0.5327435323645455\n",
      "\n",
      "expected:  0.92\n",
      "predict:  0.2571625478008876\n",
      "predict2:  0.26213133691454216\n",
      "\n"
     ]
    },
    {
     "data": {
      "text/plain": "'MAE: 0.07318810817343027'"
     },
     "metadata": {},
     "output_type": "display_data"
    },
    {
     "data": {
      "text/plain": "'MAE2: 0.07521022100301789'"
     },
     "metadata": {},
     "output_type": "display_data"
    }
   ],
   "source": [
    "from glob import glob\n",
    "\n",
    "cat_filename = glob('*.cat')[0]\n",
    "cat_filename\n",
    "\n",
    "model = CatBoostRegressor()\n",
    "model.load_model(fname=cat_filename)\n",
    "print(f'catboost model loaded from {cat_filename}')\n",
    "\n",
    "\n",
    "pipeline = Pipeline(steps=[\n",
    "    ('preprocessor', FeatureEngineer()),\n",
    "    ('model', model)\n",
    "])\n",
    "\n",
    "predict_samples()\n"
   ],
   "metadata": {
    "collapsed": false
   }
  }
 ],
 "metadata": {
  "kernelspec": {
   "display_name": "Python 3",
   "language": "python",
   "name": "python3"
  },
  "language_info": {
   "codemirror_mode": {
    "name": "ipython",
    "version": 2
   },
   "file_extension": ".py",
   "mimetype": "text/x-python",
   "name": "python",
   "nbconvert_exporter": "python",
   "pygments_lexer": "ipython2",
   "version": "2.7.6"
  }
 },
 "nbformat": 4,
 "nbformat_minor": 0
}
