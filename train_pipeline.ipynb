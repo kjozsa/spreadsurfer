{
 "cells": [
  {
   "cell_type": "code",
   "execution_count": 107,
   "metadata": {
    "collapsed": true
   },
   "outputs": [
    {
     "name": "stdout",
     "output_type": "stream",
     "text": [
      "total dataset: 20857 rows\n"
     ]
    },
    {
     "data": {
      "text/plain": "       0_amount_mean  0_nr_trades  0_price_delta  0_spread  1_amount_mean  \\\nindex                                                                       \n0             0.0206         11.0           0.03      1.37         0.0190   \n0             0.0538          3.0           0.20      0.23         0.0407   \n0             0.0041          3.0           0.56      0.56         0.0131   \n0             0.0037          4.0           0.88      0.18         0.0124   \n0             0.0412          3.0           0.37      0.99         0.0646   \n...              ...          ...            ...       ...            ...   \n0             0.0101          5.0           1.09      0.74         0.0116   \n0             0.0047         15.0           0.13      1.51         0.0069   \n0             0.0267         11.0           0.59      0.44         0.0251   \n0             0.0030          4.0           0.36      0.00         0.0030   \n0             0.0129          3.0           0.07      1.35         0.0131   \n\n       1_nr_trades  1_price_delta  1_spread  2_amount_mean  2_nr_trades  ...  \\\nindex                                                                    ...   \n0             12.0           0.03      1.37         0.0176         13.0  ...   \n0              4.0           0.20      0.23         0.0339          5.0  ...   \n0              4.0           0.23      0.89         0.1375          8.0  ...   \n0              5.0           0.88      0.18         0.0115          6.0  ...   \n0              4.0           0.36      1.00         0.0558          5.0  ...   \n...            ...            ...       ...            ...          ...  ...   \n0             22.0           0.12      2.35         0.0116         23.0  ...   \n0             16.0           0.13      1.51         0.0077         17.0  ...   \n0             13.0           0.59      0.47         0.0330         16.0  ...   \n0              5.0           0.36      0.00         0.0039          6.0  ...   \n0              4.0           0.07      1.35         0.0196          5.0  ...   \n\n       3_spread  4_amount_mean  4_nr_trades  4_price_delta  4_spread  \\\nindex                                                                  \n0          1.37         0.0157         15.0           0.03      1.37   \n0          0.23         0.0330          7.0           0.00      0.43   \n0          1.12         0.2326         10.0           0.00      1.12   \n0          1.06         0.0091          8.0           0.00      1.06   \n0          1.23         0.0601          7.0           0.04      1.32   \n...         ...            ...          ...            ...       ...   \n0          2.46         0.0130         27.0           0.00      2.47   \n0          1.51         0.0105         19.0           0.13      1.51   \n0          1.06         0.1183         18.0           0.00      1.06   \n0          0.00         0.0049          9.0           0.00      0.36   \n0          1.42         0.0374         12.0           0.00      1.42   \n\n       stabilized_amount_mean  stabilized_at_ms  stabilized_nr_trades  \\\nindex                                                                   \n0                      0.0156               135                  17.0   \n0                      0.0296               108                   8.0   \n0                      0.3702                75                  11.0   \n0                      0.0119               200                   9.0   \n0                      0.0527                49                   8.0   \n...                       ...               ...                   ...   \n0                      0.0125                72                  28.0   \n0                      0.0113               351                  20.0   \n0                      0.1090                63                  20.0   \n0                      0.0044               160                  10.0   \n0                      0.0355               132                  13.0   \n\n       stabilized_spread  wave_direction  \nindex                                     \n0                   1.40             min  \n0                   0.43             min  \n0                   1.12             min  \n0                   1.06             max  \n0                   1.36             max  \n...                  ...             ...  \n0                   2.47             min  \n0                   1.64             min  \n0                   1.06             max  \n0                   0.36             max  \n0                   1.42             max  \n\n[5736 rows x 25 columns]",
      "text/html": "<div>\n<style scoped>\n    .dataframe tbody tr th:only-of-type {\n        vertical-align: middle;\n    }\n\n    .dataframe tbody tr th {\n        vertical-align: top;\n    }\n\n    .dataframe thead th {\n        text-align: right;\n    }\n</style>\n<table border=\"1\" class=\"dataframe\">\n  <thead>\n    <tr style=\"text-align: right;\">\n      <th></th>\n      <th>0_amount_mean</th>\n      <th>0_nr_trades</th>\n      <th>0_price_delta</th>\n      <th>0_spread</th>\n      <th>1_amount_mean</th>\n      <th>1_nr_trades</th>\n      <th>1_price_delta</th>\n      <th>1_spread</th>\n      <th>2_amount_mean</th>\n      <th>2_nr_trades</th>\n      <th>...</th>\n      <th>3_spread</th>\n      <th>4_amount_mean</th>\n      <th>4_nr_trades</th>\n      <th>4_price_delta</th>\n      <th>4_spread</th>\n      <th>stabilized_amount_mean</th>\n      <th>stabilized_at_ms</th>\n      <th>stabilized_nr_trades</th>\n      <th>stabilized_spread</th>\n      <th>wave_direction</th>\n    </tr>\n    <tr>\n      <th>index</th>\n      <th></th>\n      <th></th>\n      <th></th>\n      <th></th>\n      <th></th>\n      <th></th>\n      <th></th>\n      <th></th>\n      <th></th>\n      <th></th>\n      <th></th>\n      <th></th>\n      <th></th>\n      <th></th>\n      <th></th>\n      <th></th>\n      <th></th>\n      <th></th>\n      <th></th>\n      <th></th>\n      <th></th>\n    </tr>\n  </thead>\n  <tbody>\n    <tr>\n      <th>0</th>\n      <td>0.0206</td>\n      <td>11.0</td>\n      <td>0.03</td>\n      <td>1.37</td>\n      <td>0.0190</td>\n      <td>12.0</td>\n      <td>0.03</td>\n      <td>1.37</td>\n      <td>0.0176</td>\n      <td>13.0</td>\n      <td>...</td>\n      <td>1.37</td>\n      <td>0.0157</td>\n      <td>15.0</td>\n      <td>0.03</td>\n      <td>1.37</td>\n      <td>0.0156</td>\n      <td>135</td>\n      <td>17.0</td>\n      <td>1.40</td>\n      <td>min</td>\n    </tr>\n    <tr>\n      <th>0</th>\n      <td>0.0538</td>\n      <td>3.0</td>\n      <td>0.20</td>\n      <td>0.23</td>\n      <td>0.0407</td>\n      <td>4.0</td>\n      <td>0.20</td>\n      <td>0.23</td>\n      <td>0.0339</td>\n      <td>5.0</td>\n      <td>...</td>\n      <td>0.23</td>\n      <td>0.0330</td>\n      <td>7.0</td>\n      <td>0.00</td>\n      <td>0.43</td>\n      <td>0.0296</td>\n      <td>108</td>\n      <td>8.0</td>\n      <td>0.43</td>\n      <td>min</td>\n    </tr>\n    <tr>\n      <th>0</th>\n      <td>0.0041</td>\n      <td>3.0</td>\n      <td>0.56</td>\n      <td>0.56</td>\n      <td>0.0131</td>\n      <td>4.0</td>\n      <td>0.23</td>\n      <td>0.89</td>\n      <td>0.1375</td>\n      <td>8.0</td>\n      <td>...</td>\n      <td>1.12</td>\n      <td>0.2326</td>\n      <td>10.0</td>\n      <td>0.00</td>\n      <td>1.12</td>\n      <td>0.3702</td>\n      <td>75</td>\n      <td>11.0</td>\n      <td>1.12</td>\n      <td>min</td>\n    </tr>\n    <tr>\n      <th>0</th>\n      <td>0.0037</td>\n      <td>4.0</td>\n      <td>0.88</td>\n      <td>0.18</td>\n      <td>0.0124</td>\n      <td>5.0</td>\n      <td>0.88</td>\n      <td>0.18</td>\n      <td>0.0115</td>\n      <td>6.0</td>\n      <td>...</td>\n      <td>1.06</td>\n      <td>0.0091</td>\n      <td>8.0</td>\n      <td>0.00</td>\n      <td>1.06</td>\n      <td>0.0119</td>\n      <td>200</td>\n      <td>9.0</td>\n      <td>1.06</td>\n      <td>max</td>\n    </tr>\n    <tr>\n      <th>0</th>\n      <td>0.0412</td>\n      <td>3.0</td>\n      <td>0.37</td>\n      <td>0.99</td>\n      <td>0.0646</td>\n      <td>4.0</td>\n      <td>0.36</td>\n      <td>1.00</td>\n      <td>0.0558</td>\n      <td>5.0</td>\n      <td>...</td>\n      <td>1.23</td>\n      <td>0.0601</td>\n      <td>7.0</td>\n      <td>0.04</td>\n      <td>1.32</td>\n      <td>0.0527</td>\n      <td>49</td>\n      <td>8.0</td>\n      <td>1.36</td>\n      <td>max</td>\n    </tr>\n    <tr>\n      <th>...</th>\n      <td>...</td>\n      <td>...</td>\n      <td>...</td>\n      <td>...</td>\n      <td>...</td>\n      <td>...</td>\n      <td>...</td>\n      <td>...</td>\n      <td>...</td>\n      <td>...</td>\n      <td>...</td>\n      <td>...</td>\n      <td>...</td>\n      <td>...</td>\n      <td>...</td>\n      <td>...</td>\n      <td>...</td>\n      <td>...</td>\n      <td>...</td>\n      <td>...</td>\n      <td>...</td>\n    </tr>\n    <tr>\n      <th>0</th>\n      <td>0.0101</td>\n      <td>5.0</td>\n      <td>1.09</td>\n      <td>0.74</td>\n      <td>0.0116</td>\n      <td>22.0</td>\n      <td>0.12</td>\n      <td>2.35</td>\n      <td>0.0116</td>\n      <td>23.0</td>\n      <td>...</td>\n      <td>2.46</td>\n      <td>0.0130</td>\n      <td>27.0</td>\n      <td>0.00</td>\n      <td>2.47</td>\n      <td>0.0125</td>\n      <td>72</td>\n      <td>28.0</td>\n      <td>2.47</td>\n      <td>min</td>\n    </tr>\n    <tr>\n      <th>0</th>\n      <td>0.0047</td>\n      <td>15.0</td>\n      <td>0.13</td>\n      <td>1.51</td>\n      <td>0.0069</td>\n      <td>16.0</td>\n      <td>0.13</td>\n      <td>1.51</td>\n      <td>0.0077</td>\n      <td>17.0</td>\n      <td>...</td>\n      <td>1.51</td>\n      <td>0.0105</td>\n      <td>19.0</td>\n      <td>0.13</td>\n      <td>1.51</td>\n      <td>0.0113</td>\n      <td>351</td>\n      <td>20.0</td>\n      <td>1.64</td>\n      <td>min</td>\n    </tr>\n    <tr>\n      <th>0</th>\n      <td>0.0267</td>\n      <td>11.0</td>\n      <td>0.59</td>\n      <td>0.44</td>\n      <td>0.0251</td>\n      <td>13.0</td>\n      <td>0.59</td>\n      <td>0.47</td>\n      <td>0.0330</td>\n      <td>16.0</td>\n      <td>...</td>\n      <td>1.06</td>\n      <td>0.1183</td>\n      <td>18.0</td>\n      <td>0.00</td>\n      <td>1.06</td>\n      <td>0.1090</td>\n      <td>63</td>\n      <td>20.0</td>\n      <td>1.06</td>\n      <td>max</td>\n    </tr>\n    <tr>\n      <th>0</th>\n      <td>0.0030</td>\n      <td>4.0</td>\n      <td>0.36</td>\n      <td>0.00</td>\n      <td>0.0030</td>\n      <td>5.0</td>\n      <td>0.36</td>\n      <td>0.00</td>\n      <td>0.0039</td>\n      <td>6.0</td>\n      <td>...</td>\n      <td>0.00</td>\n      <td>0.0049</td>\n      <td>9.0</td>\n      <td>0.00</td>\n      <td>0.36</td>\n      <td>0.0044</td>\n      <td>160</td>\n      <td>10.0</td>\n      <td>0.36</td>\n      <td>max</td>\n    </tr>\n    <tr>\n      <th>0</th>\n      <td>0.0129</td>\n      <td>3.0</td>\n      <td>0.07</td>\n      <td>1.35</td>\n      <td>0.0131</td>\n      <td>4.0</td>\n      <td>0.07</td>\n      <td>1.35</td>\n      <td>0.0196</td>\n      <td>5.0</td>\n      <td>...</td>\n      <td>1.42</td>\n      <td>0.0374</td>\n      <td>12.0</td>\n      <td>0.00</td>\n      <td>1.42</td>\n      <td>0.0355</td>\n      <td>132</td>\n      <td>13.0</td>\n      <td>1.42</td>\n      <td>max</td>\n    </tr>\n  </tbody>\n</table>\n<p>5736 rows × 25 columns</p>\n</div>"
     },
     "execution_count": 107,
     "metadata": {},
     "output_type": "execute_result"
    }
   ],
   "source": [
    "from sklearn.pipeline import Pipeline\n",
    "from sklearn.base import BaseEstimator\n",
    "from sklearn.base import TransformerMixin\n",
    "from sklearn.model_selection import train_test_split\n",
    "import pandas as pd\n",
    "\n",
    "class FeatureEngineer(BaseEstimator, TransformerMixin):\n",
    "    def fit(self, X, y):\n",
    "        print(f'fitting on {len(X)} records')\n",
    "        return self\n",
    "\n",
    "    def transform(self, X, y=None):\n",
    "        df = X.copy()\n",
    "        df.loc[df['wave_direction'] == 'min', 'wave_direction'] = 1\n",
    "        df.loc[df['wave_direction'] == 'max'] = -1\n",
    "        df = df.astype({\"wave_direction\": 'float64'})\n",
    "        return df\n",
    "\n",
    "df = pd.read_parquet('./data')\n",
    "print(f'total dataset: {len(df)} rows')\n",
    "df = df[abs(df['last_price_delta_since_stabilized']) < 8]\n",
    "df = df[abs(df['last_price_delta_since_stabilized']) > 1]\n",
    "\n",
    "if '0_price' in df.columns:\n",
    "    df.drop('0_price', axis=1, inplace=True)\n",
    "    df.drop('1_price', axis=1, inplace=True)\n",
    "    df.drop('2_price', axis=1, inplace=True)\n",
    "    df.drop('3_price', axis=1, inplace=True)\n",
    "    df.drop('4_price', axis=1, inplace=True)\n",
    "\n",
    "df = df[df['stabilized_spread'] < 10] # nem tul nagy spread\n",
    "# df = df[df['stabilized_amount_mean'] < 0.4]  # nem tul nagy tradek\n",
    "# df = df[df['stabilized_nr_trades'] < 300]  # nem tul sok trade\n",
    "\n",
    "\n",
    "# for col in df.columns:\n",
    "#     if 'nr_trades' in col or 'price_delta' in col and not col.startswith('last'):\n",
    "#         df.drop(col, axis=1, inplace=True)\n",
    "\n",
    "df.sort_index(axis=1, inplace=True)\n",
    "\n",
    "y = df['last_price_delta_since_stabilized']\n",
    "X = df.drop('last_price_delta_since_stabilized', axis=1)\n",
    "\n",
    "X_train, X_valid, y_train, y_valid = train_test_split(X, y, train_size=0.7, test_size=0.3, random_state=0)\n",
    "X_train"
   ]
  },
  {
   "cell_type": "code",
   "execution_count": 121,
   "outputs": [
    {
     "name": "stdout",
     "output_type": "stream",
     "text": [
      "fitting on 5736 records\n"
     ]
    },
    {
     "data": {
      "text/plain": "0.7683819996926021"
     },
     "metadata": {},
     "output_type": "display_data"
    }
   ],
   "source": [
    "from catboost import CatBoostRegressor\n",
    "# from sklearn.ensemle import RandomForestRegressor\n",
    "\n",
    "model = CatBoostRegressor(learning_rate=0.007, depth=7, loss_function='RMSE', random_state=0, verbose=False, iterations=1500)\n",
    "\n",
    "pipeline = Pipeline(steps=[\n",
    "    ('preprocessor', FeatureEngineer()),\n",
    "    # ('model', RandomForestRegressor(n_estimators=50, random_state=0))\n",
    "    ('model',  model)\n",
    "])\n",
    "\n",
    "pipeline.fit(X_train, y_train)\n",
    "score = pipeline.score(X_valid, y_valid)\n",
    "display(score)\n"
   ],
   "metadata": {
    "collapsed": false
   }
  },
  {
   "cell_type": "code",
   "execution_count": 125,
   "outputs": [],
   "source": [
    "from spreadsurfer import now_isoformat\n",
    "\n",
    "model.save_model(f'./models/{now_isoformat()}-score-{1000 * round(score, 3)}.cat')"
   ],
   "metadata": {
    "collapsed": false
   }
  },
  {
   "cell_type": "code",
   "execution_count": 116,
   "outputs": [
    {
     "name": "stdout",
     "output_type": "stream",
     "text": [
      "expected:  0.31\n"
     ]
    },
    {
     "data": {
      "text/plain": "array([2.17286802])"
     },
     "execution_count": 116,
     "metadata": {},
     "output_type": "execute_result"
    }
   ],
   "source": [
    "sample = pd.DataFrame([\n",
    "    {'0_amount_mean': 0.033154, '0_nr_trades': 10.0, '0_price_delta': 0.12, '0_spread': 0.2, '1_amount_mean': 0.030374, '1_nr_trades': 11.0, '1_price_delta': 0.12, '1_spread': 0.3, '2_amount_mean': 0.034509, '2_nr_trades': 12.0, '2_price_delta': 0.0, '2_spread': 0.42, '3_amount_mean': 0.038008, '3_nr_trades': 13.0, '3_price_delta': 0.0, '3_spread': 0.42, '4_amount_mean': 0.039321, '4_nr_trades': 14.0, '4_price_delta': 0.0, '4_spread': 0.42, 'last_price_delta_since_stabilized': 0.31, 'stabilized_amount_mean': 0.038274, 'stabilized_at_ms': 231, 'stabilized_nr_trades': 15.0, 'stabilized_spread': 0.42, 'wave_direction': 'min'}\n",
    "])\n",
    "\n",
    "print('expected: ', sample.last_price_delta_since_stabilized.mean())\n",
    "sample.drop('last_price_delta_since_stabilized', axis=1, inplace=True)\n",
    "\n",
    "from timeit import timeit\n",
    "# timeit(lambda: pipeline.predict(sample), number=1) * 1000\n",
    "pipeline.predict(sample)\n",
    "\n"
   ],
   "metadata": {
    "collapsed": false
   }
  }
 ],
 "metadata": {
  "kernelspec": {
   "display_name": "Python 3",
   "language": "python",
   "name": "python3"
  },
  "language_info": {
   "codemirror_mode": {
    "name": "ipython",
    "version": 2
   },
   "file_extension": ".py",
   "mimetype": "text/x-python",
   "name": "python",
   "nbconvert_exporter": "python",
   "pygments_lexer": "ipython2",
   "version": "2.7.6"
  }
 },
 "nbformat": 4,
 "nbformat_minor": 0
}
