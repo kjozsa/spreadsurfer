{
 "cells": [
  {
   "cell_type": "code",
   "execution_count": 56,
   "outputs": [
    {
     "name": "stdout",
     "output_type": "stream",
     "text": [
      "catboost model loaded from models/2023-01-21T20:37:02-score-773.0.cat\n"
     ]
    },
    {
     "data": {
      "text/plain": "'MAE: 0.6340447099397136'"
     },
     "metadata": {},
     "output_type": "display_data"
    },
    {
     "name": "stdout",
     "output_type": "stream",
     "text": [
      "catboost model loaded from models/2023-01-24T07:03:25-score-530.0.cat\n"
     ]
    },
    {
     "data": {
      "text/plain": "'MAE: 0.15182447975561364'"
     },
     "metadata": {},
     "output_type": "display_data"
    },
    {
     "name": "stdout",
     "output_type": "stream",
     "text": [
      "catboost model loaded from models/2023-01-24T11:19:53-score-449.0.cat\n",
      "skip with error\n",
      "catboost model loaded from models/2023-01-24T15:37:36-score-384.0.cat\n",
      "skip with error\n",
      "catboost model loaded from models/2023-01-24T15:38:18-score-462.0.cat\n",
      "skip with error\n",
      "catboost model loaded from models/2023-01-31T23:21:57-mape-score-174.0.cat\n"
     ]
    },
    {
     "data": {
      "text/plain": "'MAE: 0.09797648194241798'"
     },
     "metadata": {},
     "output_type": "display_data"
    },
    {
     "name": "stdout",
     "output_type": "stream",
     "text": [
      "catboost model loaded from models/2023-01-31T23:21:57-rmse-score-314.0.cat\n"
     ]
    },
    {
     "data": {
      "text/plain": "'MAE: 0.10060664081399295'"
     },
     "metadata": {},
     "output_type": "display_data"
    },
    {
     "name": "stdout",
     "output_type": "stream",
     "text": [
      "catboost model loaded from models/2023-02-01T09:14:50-mape-score-161.0.cat\n"
     ]
    },
    {
     "data": {
      "text/plain": "'MAE: 0.15245220831958975'"
     },
     "metadata": {},
     "output_type": "display_data"
    },
    {
     "name": "stdout",
     "output_type": "stream",
     "text": [
      "catboost model loaded from models/2023-02-01T09:14:50-rmse-score-291.0.cat\n"
     ]
    },
    {
     "data": {
      "text/plain": "'MAE: 0.09470442138543168'"
     },
     "metadata": {},
     "output_type": "display_data"
    },
    {
     "name": "stdout",
     "output_type": "stream",
     "text": [
      "catboost model loaded from models/2023-02-03T18:06:57-min_mape-score--17.0.cat\n"
     ]
    },
    {
     "data": {
      "text/plain": "'MAE: 0.20436891694221063'"
     },
     "metadata": {},
     "output_type": "display_data"
    },
    {
     "name": "stdout",
     "output_type": "stream",
     "text": [
      "catboost model loaded from models/2023-02-03T18:06:57-max_mape-score--21.0.cat\n"
     ]
    },
    {
     "data": {
      "text/plain": "'MAE: 0.08998657581561759'"
     },
     "metadata": {},
     "output_type": "display_data"
    },
    {
     "name": "stdout",
     "output_type": "stream",
     "text": [
      "catboost model loaded from models/2023-02-03T20:13:00-min_rmse-score--10.0.cat\n"
     ]
    },
    {
     "data": {
      "text/plain": "'MAE: 0.3373574716782442'"
     },
     "metadata": {},
     "output_type": "display_data"
    },
    {
     "name": "stdout",
     "output_type": "stream",
     "text": [
      "catboost model loaded from models/2023-02-03T20:13:00-max_rmse-score--23.0.cat\n"
     ]
    },
    {
     "data": {
      "text/plain": "'MAE: 0.14553890497539576'"
     },
     "metadata": {},
     "output_type": "display_data"
    },
    {
     "name": "stdout",
     "output_type": "stream",
     "text": [
      "catboost model loaded from models/2023-02-03T21:34:07-min_poisson-score-191.0.cat\n"
     ]
    },
    {
     "data": {
      "text/plain": "'MAE: 0.3231884602743031'"
     },
     "metadata": {},
     "output_type": "display_data"
    },
    {
     "name": "stdout",
     "output_type": "stream",
     "text": [
      "catboost model loaded from models/2023-02-03T21:34:07-max_poisson-score--324.0.cat\n"
     ]
    },
    {
     "data": {
      "text/plain": "'MAE: 0.09679999999999998'"
     },
     "metadata": {},
     "output_type": "display_data"
    },
    {
     "name": "stdout",
     "output_type": "stream",
     "text": [
      "catboost model loaded from models/2023-02-03T21:48:03-min_quantile0.9-score--674.0.cat\n"
     ]
    },
    {
     "data": {
      "text/plain": "'MAE: 0.6728317712345151'"
     },
     "metadata": {},
     "output_type": "display_data"
    },
    {
     "name": "stdout",
     "output_type": "stream",
     "text": [
      "catboost model loaded from models/2023-02-03T21:48:03-max_quantile0.9-score--312.0.cat\n"
     ]
    },
    {
     "data": {
      "text/plain": "'MAE: 0.09579618650946715'"
     },
     "metadata": {},
     "output_type": "display_data"
    },
    {
     "name": "stdout",
     "output_type": "stream",
     "text": [
      "catboost model loaded from models/2023-02-03T21:50:04-min_quantile0.3-score--135.0.cat\n"
     ]
    },
    {
     "data": {
      "text/plain": "'MAE: 0.14950503419814612'"
     },
     "metadata": {},
     "output_type": "display_data"
    },
    {
     "name": "stdout",
     "output_type": "stream",
     "text": [
      "catboost model loaded from models/2023-02-03T21:50:04-max_quantile0.3-score-195.0.cat\n"
     ]
    },
    {
     "data": {
      "text/plain": "'MAE: 0.16335007661511547'"
     },
     "metadata": {},
     "output_type": "display_data"
    },
    {
     "name": "stdout",
     "output_type": "stream",
     "text": [
      "catboost model loaded from models/2023-02-03T21:57:57-min_huber0.4-score-108.0.cat\n"
     ]
    },
    {
     "data": {
      "text/plain": "'MAE: 0.24711490678780823'"
     },
     "metadata": {},
     "output_type": "display_data"
    },
    {
     "name": "stdout",
     "output_type": "stream",
     "text": [
      "catboost model loaded from models/2023-02-03T21:57:57-max_huber0.4-score-105.0.cat\n"
     ]
    },
    {
     "data": {
      "text/plain": "'MAE: 0.10442430916125904'"
     },
     "metadata": {},
     "output_type": "display_data"
    },
    {
     "name": "stdout",
     "output_type": "stream",
     "text": [
      "catboost model loaded from models/2023-02-03T22:09:25-min_quantile0.5-score-73.0.cat\n"
     ]
    },
    {
     "data": {
      "text/plain": "'MAE: 0.21777210153955143'"
     },
     "metadata": {},
     "output_type": "display_data"
    },
    {
     "name": "stdout",
     "output_type": "stream",
     "text": [
      "catboost model loaded from models/2023-02-03T22:09:25-max_quantile0.5-score-77.0.cat\n"
     ]
    },
    {
     "data": {
      "text/plain": "'MAE: 0.09406877075335121'"
     },
     "metadata": {},
     "output_type": "display_data"
    },
    {
     "name": "stdout",
     "output_type": "stream",
     "text": [
      "catboost model loaded from models/2023-02-03T22:14:13-min_quantile0.7-score-181.0.cat\n"
     ]
    },
    {
     "data": {
      "text/plain": "'MAE: 0.3534417299051567'"
     },
     "metadata": {},
     "output_type": "display_data"
    },
    {
     "name": "stdout",
     "output_type": "stream",
     "text": [
      "catboost model loaded from models/2023-02-03T22:14:13-max_quantile0.7-score--154.0.cat\n"
     ]
    },
    {
     "data": {
      "text/plain": "'MAE: 0.08477792068489569'"
     },
     "metadata": {},
     "output_type": "display_data"
    },
    {
     "name": "stdout",
     "output_type": "stream",
     "text": [
      "catboost model loaded from models/2023-02-03T22:34:15-min_poisson-slower-score-126.0.cat\n"
     ]
    },
    {
     "data": {
      "text/plain": "'MAE: 0.3056858892547124'"
     },
     "metadata": {},
     "output_type": "display_data"
    },
    {
     "name": "stdout",
     "output_type": "stream",
     "text": [
      "catboost model loaded from models/2023-02-03T22:34:15-max_poisson-slower-inv-score-148.0.cat\n"
     ]
    },
    {
     "data": {
      "text/plain": "'MAE: 0.2548203179184837'"
     },
     "metadata": {},
     "output_type": "display_data"
    },
    {
     "name": "stdout",
     "output_type": "stream",
     "text": [
      "{0.08477792068489569: 'models/2023-02-03T22:14:13-max_quantile0.7-score--154.0.cat', 0.08998657581561759: 'models/2023-02-03T18:06:57-max_mape-score--21.0.cat', 0.09406877075335121: 'models/2023-02-03T22:09:25-max_quantile0.5-score-77.0.cat', 0.09470442138543168: 'models/2023-02-01T09:14:50-rmse-score-291.0.cat', 0.09579618650946715: 'models/2023-02-03T21:48:03-max_quantile0.9-score--312.0.cat', 0.09679999999999998: 'models/2023-02-03T21:34:07-max_poisson-score--324.0.cat', 0.09797648194241798: 'models/2023-01-31T23:21:57-mape-score-174.0.cat', 0.10060664081399295: 'models/2023-01-31T23:21:57-rmse-score-314.0.cat', 0.10442430916125904: 'models/2023-02-03T21:57:57-max_huber0.4-score-105.0.cat', 0.14553890497539576: 'models/2023-02-03T20:13:00-max_rmse-score--23.0.cat', 0.14950503419814612: 'models/2023-02-03T21:50:04-min_quantile0.3-score--135.0.cat', 0.15182447975561364: 'models/2023-01-24T07:03:25-score-530.0.cat', 0.15245220831958975: 'models/2023-02-01T09:14:50-mape-score-161.0.cat', 0.16335007661511547: 'models/2023-02-03T21:50:04-max_quantile0.3-score-195.0.cat', 0.20436891694221063: 'models/2023-02-03T18:06:57-min_mape-score--17.0.cat', 0.21777210153955143: 'models/2023-02-03T22:09:25-min_quantile0.5-score-73.0.cat', 0.24711490678780823: 'models/2023-02-03T21:57:57-min_huber0.4-score-108.0.cat', 0.2548203179184837: 'models/2023-02-03T22:34:15-max_poisson-slower-inv-score-148.0.cat', 0.3056858892547124: 'models/2023-02-03T22:34:15-min_poisson-slower-score-126.0.cat', 0.3231884602743031: 'models/2023-02-03T21:34:07-min_poisson-score-191.0.cat', 0.3373574716782442: 'models/2023-02-03T20:13:00-min_rmse-score--10.0.cat', 0.3534417299051567: 'models/2023-02-03T22:14:13-min_quantile0.7-score-181.0.cat', 0.6340447099397136: 'models/2023-01-21T20:37:02-score-773.0.cat', 0.6728317712345151: 'models/2023-02-03T21:48:03-min_quantile0.9-score--674.0.cat'}\n"
     ]
    }
   ],
   "source": [
    "import glob\n",
    "import pandas as pd\n",
    "from sklearn.model_selection import train_test_split\n",
    "from sklearn.pipeline import Pipeline\n",
    "from glob import glob\n",
    "from spreadsurfer.price_engine import FeatureEngineer\n",
    "from catboost import CatBoostRegressor\n",
    "from sklearn.preprocessing import StandardScaler\n",
    "\n",
    "## chosen models\n",
    "# min: models/2023-02-03T22:09:25-min_quantile0.5-score-73.0.cat\n",
    "# max: models/2023-02-03T22:14:13-max_quantile0.7-score--154.0.cat\n",
    "\n",
    "\n",
    "# cat_filename = 'models/2023-02-03T22:09:25-max_quantile0.5-score-77.0.cat'\n",
    "# cat_filename = 'models/2023-02-03T22:14:13-max_quantile0.7-score--154.0.cat'\n",
    "\n",
    "# cat_filename = 'models/2023-02-03T18:06:57-max_mape-score--21.0.cat'\n",
    "\n",
    "# cat_filename = 'models/2023-02-03T21:57:57-min_huber0.4-score-108.0.cat'\n",
    "# cat_filename = 'models/2023-02-03T21:34:07-min_poisson-score-191.0.cat'\n",
    "# cat_filename = 'models/2023-02-03T21:50:04-min_quantile0.3-score--135.0.cat'\n",
    "# cat_filename = '2023-02-03T20:13:00-min_rmse-score--10.0.cat'\n",
    "# cat_filename = 'models/2023-02-01T09:14:50-mape-score-161.0.cat'\n",
    "\n",
    "def load_and_score_mae(cat_filename, min=True):\n",
    "    model = CatBoostRegressor()\n",
    "    model.load_model(fname=cat_filename)\n",
    "    print(f'catboost model loaded from {cat_filename}')\n",
    "\n",
    "    pipeline = Pipeline(steps=[\n",
    "        ('preprocessor', FeatureEngineer()),\n",
    "        ('model', model)\n",
    "    ])\n",
    "\n",
    "    with open(\"neverseen.log\",\"r\") as f:\n",
    "        input_from_log = ''.join([x for x in f.readlines() if 'collected' in x][-100:])\n",
    "\n",
    "    mae = 0\n",
    "    count = 0\n",
    "    for line in input_from_log.split('\\n'):\n",
    "        if not line: continue\n",
    "        count += 1\n",
    "        json = '{' + line.split('{')[1]\n",
    "        json = json.replace('nan', '0')\n",
    "        sample = pd.DataFrame([eval(json)])\n",
    "        if sample.wave_direction[0] not in ['min', 'max']: continue\n",
    "\n",
    "        real = sample.last_price_delta_since_stabilized[0]\n",
    "        # if real < 0.1: continue\n",
    "        sample.drop('last_price_delta_since_stabilized', axis=1, inplace=True)\n",
    "\n",
    "        sample.loc[sample['wave_direction'] == 'min', 'wave_direction'] = 1\n",
    "        sample.loc[sample['wave_direction'] == 'max', 'wave_direction'] = -1\n",
    "        sample = sample.astype({\"wave_direction\": 'float64'})\n",
    "\n",
    "        if sample['wave_direction'][0] != (1 if min else -1):\n",
    "            continue\n",
    "\n",
    "        # print('expected: ', real)\n",
    "        guess = model.predict(sample)[0]\n",
    "        # print('predict: ', guess)\n",
    "        mae += abs(real - guess)\n",
    "        # print()\n",
    "    display(f'MAE: {mae / count}')\n",
    "    return mae / count\n",
    "\n",
    "# load_and_score_mae(cat_filename)\n",
    "\n",
    "## search for best model\n",
    "models = [x for x in glob('models/*.cat')]\n",
    "results = {}\n",
    "for i in models:\n",
    "    try:\n",
    "        mae = load_and_score_mae(i, min=False)\n",
    "        results[mae] = i\n",
    "    except Exception:\n",
    "        print('skip with error')\n",
    "\n",
    "print(dict(sorted(results.items())))\n"
   ],
   "metadata": {
    "collapsed": false
   }
  }
 ],
 "metadata": {
  "kernelspec": {
   "display_name": "Python 3",
   "language": "python",
   "name": "python3"
  },
  "language_info": {
   "codemirror_mode": {
    "name": "ipython",
    "version": 2
   },
   "file_extension": ".py",
   "mimetype": "text/x-python",
   "name": "python",
   "nbconvert_exporter": "python",
   "pygments_lexer": "ipython2",
   "version": "2.7.6"
  }
 },
 "nbformat": 4,
 "nbformat_minor": 0
}
