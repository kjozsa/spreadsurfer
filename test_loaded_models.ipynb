{
 "cells": [
  {
   "cell_type": "code",
   "execution_count": 5,
   "outputs": [
    {
     "data": {
      "text/plain": "['models/2023-02-03T18:06:57-min_mape-score--17.0.cat',\n 'models/2023-02-08T22:17:55-min_-mape-score--8.0.cat']"
     },
     "metadata": {},
     "output_type": "display_data"
    },
    {
     "name": "stdout",
     "output_type": "stream",
     "text": [
      "catboost model loaded from models/2023-02-03T18:06:57-min_mape-score--17.0.cat\n",
      "expected:  0.64\n",
      "predict:  1.0794794421804141\n",
      "\n",
      "expected:  0.55\n",
      "predict:  1.0700347857152936\n",
      "\n",
      "expected:  1.14\n",
      "predict:  1.5140650045999486\n",
      "\n",
      "expected:  0.94\n",
      "predict:  0.9187105515700872\n",
      "\n",
      "expected:  0.21\n",
      "predict:  1.298673359045788\n",
      "\n",
      "expected:  3.18\n",
      "predict:  1.2798169103372312\n",
      "\n",
      "expected:  0.92\n",
      "predict:  1.6930520000414075\n",
      "\n",
      "expected:  0.27\n",
      "predict:  0.97366620408172\n",
      "\n",
      "expected:  1.73\n",
      "predict:  1.6755114580655253\n",
      "\n",
      "expected:  0.39\n",
      "predict:  1.639617634798023\n",
      "\n",
      "expected:  0.48\n",
      "predict:  0.5244853255944758\n",
      "\n"
     ]
    },
    {
     "data": {
      "text/plain": "'MAE: 0.07169034836084226'"
     },
     "metadata": {},
     "output_type": "display_data"
    },
    {
     "name": "stdout",
     "output_type": "stream",
     "text": [
      "catboost model loaded from models/2023-02-08T22:17:55-min_-mape-score--8.0.cat\n",
      "expected:  0.64\n",
      "predict:  0.7993453163109118\n",
      "\n",
      "expected:  0.55\n",
      "predict:  0.36923367485652936\n",
      "\n",
      "expected:  1.14\n",
      "predict:  1.3261623056900913\n",
      "\n",
      "expected:  0.94\n",
      "predict:  1.0814053580158123\n",
      "\n",
      "expected:  0.21\n",
      "predict:  1.373878836878918\n",
      "\n",
      "expected:  3.18\n",
      "predict:  1.4898651576076096\n",
      "\n",
      "expected:  0.92\n",
      "predict:  1.6374651170795764\n",
      "\n",
      "expected:  0.27\n",
      "predict:  0.9782288625167543\n",
      "\n",
      "expected:  1.73\n",
      "predict:  1.9219171206817758\n",
      "\n",
      "expected:  0.39\n",
      "predict:  2.633520834479304\n",
      "\n",
      "expected:  0.48\n",
      "predict:  0.26335578073576854\n",
      "\n"
     ]
    },
    {
     "data": {
      "text/plain": "'MAE: 0.07599469138453237'"
     },
     "metadata": {},
     "output_type": "display_data"
    },
    {
     "name": "stdout",
     "output_type": "stream",
     "text": [
      "{0.07169034836084226: 'models/2023-02-03T18:06:57-min_mape-score--17.0.cat', 0.07599469138453237: 'models/2023-02-08T22:17:55-min_-mape-score--8.0.cat'}\n"
     ]
    }
   ],
   "source": [
    "import glob\n",
    "import pandas as pd\n",
    "from sklearn.model_selection import train_test_split\n",
    "from sklearn.pipeline import Pipeline\n",
    "from glob import glob\n",
    "from spreadsurfer.price_engine import FeatureEngineer\n",
    "from catboost import CatBoostRegressor\n",
    "from sklearn.preprocessing import StandardScaler\n",
    "\n",
    "## chosen models\n",
    "# min: models/2023-02-03T22:09:25-min_quantile0.5-score-73.0.cat\n",
    "# max: models/2023-02-03T22:14:13-max_quantile0.7-score--154.0.cat\n",
    "\n",
    "\n",
    "# cat_filename = 'models/2023-02-03T22:09:25-max_quantile0.5-score-77.0.cat'\n",
    "# cat_filename = 'models/2023-02-03T22:14:13-max_quantile0.7-score--154.0.cat'\n",
    "\n",
    "# cat_filename = 'models/2023-02-03T18:06:57-max_mape-score--21.0.cat'\n",
    "\n",
    "# cat_filename = 'models/2023-02-03T21:57:57-min_huber0.4-score-108.0.cat'\n",
    "# cat_filename = 'models/2023-02-03T21:34:07-min_poisson-score-191.0.cat'\n",
    "# cat_filename = 'models/2023-02-03T21:50:04-min_quantile0.3-score--135.0.cat'\n",
    "# cat_filename = '2023-02-03T20:13:00-min_rmse-score--10.0.cat'\n",
    "# cat_filename = 'models/2023-02-01T09:14:50-mape-score-161.0.cat'\n",
    "\n",
    "def load_and_score_mae(cat_filename, min=False):\n",
    "    model = CatBoostRegressor()\n",
    "    model.load_model(fname=cat_filename)\n",
    "    print(f'catboost model loaded from {cat_filename}')\n",
    "\n",
    "    pipeline = Pipeline(steps=[\n",
    "        ('preprocessor', FeatureEngineer()),\n",
    "        ('model', model)\n",
    "    ])\n",
    "\n",
    "    with open(\"neverseen.log\",\"r\") as f:\n",
    "        input_from_log = ''.join([x for x in f.readlines() if 'collected' in x][-100:])\n",
    "\n",
    "    mae = 0\n",
    "    count = 0\n",
    "    for line in input_from_log.split('\\n'):\n",
    "        if not line: continue\n",
    "        count += 1\n",
    "        json = '{' + line.split('{')[1]\n",
    "        json = json.replace('nan', '0')\n",
    "        sample = pd.DataFrame([eval(json)])\n",
    "        if sample.wave_direction[0] not in ['min', 'max']: continue\n",
    "\n",
    "        real = sample.last_price_delta_since_stabilized[0]\n",
    "        if abs(real) < 0.2: continue\n",
    "        sample.drop('last_price_delta_since_stabilized', axis=1, inplace=True)\n",
    "\n",
    "        sample.loc[sample['wave_direction'] == 'min', 'wave_direction'] = 1\n",
    "        sample.loc[sample['wave_direction'] == 'max', 'wave_direction'] = -1\n",
    "        sample = sample.astype({\"wave_direction\": 'float64'})\n",
    "\n",
    "        if sample['wave_direction'][0] != (1 if min else -1):\n",
    "            continue\n",
    "\n",
    "        print('expected: ', real)\n",
    "        guess = model.predict(sample)[0]\n",
    "        guess *= 3.5\n",
    "        print('predict: ', guess)\n",
    "        mae += abs(real - guess)\n",
    "        print()\n",
    "    display(f'MAE: {mae / count}')\n",
    "    return mae / count\n",
    "\n",
    "# load_and_score_mae(cat_filename)\n",
    "\n",
    "## search for best model\n",
    "# models = [x for x in glob('models/*max_quantile*.cat')]\n",
    "models = [x for x in glob('models/*min*mape*')]\n",
    "display(models)\n",
    "results = {}\n",
    "for i in models:\n",
    "    try:\n",
    "        mae = load_and_score_mae(i, min=True)\n",
    "        results[mae] = i\n",
    "    except Exception:\n",
    "        print('skip with error')\n",
    "\n",
    "print(dict(sorted(results.items())))\n"
   ],
   "metadata": {
    "collapsed": false
   }
  },
  {
   "cell_type": "code",
   "execution_count": null,
   "outputs": [],
   "source": [],
   "metadata": {
    "collapsed": false
   }
  }
 ],
 "metadata": {
  "kernelspec": {
   "display_name": "Python 3",
   "language": "python",
   "name": "python3"
  },
  "language_info": {
   "codemirror_mode": {
    "name": "ipython",
    "version": 2
   },
   "file_extension": ".py",
   "mimetype": "text/x-python",
   "name": "python",
   "nbconvert_exporter": "python",
   "pygments_lexer": "ipython2",
   "version": "2.7.6"
  }
 },
 "nbformat": 4,
 "nbformat_minor": 0
}
