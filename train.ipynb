{
 "cells": [
  {
   "cell_type": "code",
   "execution_count": 463,
   "outputs": [
    {
     "data": {
      "text/plain": "       0_amount_mean  0_spread  1_amount_mean  1_spread  2_amount_mean  \\\n0             0.0140      0.37         0.0125      0.37         0.0176   \n1             0.0270      0.48         0.0463      0.52         0.0423   \n2             0.0012      0.44         0.0022      0.57         0.0019   \n3             0.0417      0.69         0.0221      0.79         0.0202   \n4             0.0053      0.33         0.0569      0.39         0.0551   \n...              ...       ...            ...       ...            ...   \n14527         0.0256      0.30         0.0349      0.31         0.0275   \n14528         0.0043      0.04         0.0042      0.04         0.0038   \n14529         0.0782      0.35         0.0696      0.50         0.0664   \n14530         0.0082      0.66         0.0053      0.66         0.0048   \n14531         0.0110      0.26         0.0109      0.26         0.0190   \n\n       2_spread  3_amount_mean  3_spread  4_amount_mean  4_spread  \\\n0          0.62         0.0491      0.67         0.0470      0.77   \n1          0.52         0.0462      0.72         0.0437      0.76   \n2          0.57         0.0019      0.58         0.0034      0.78   \n3          0.79         0.0573      0.79         0.0563      0.87   \n4          0.39         0.0527      0.49         0.0534      0.51   \n...         ...            ...       ...            ...       ...   \n14527      0.45         0.0338      0.45         0.0297      0.56   \n14528      0.23         0.0034      0.25         0.0031      0.25   \n14529      0.56         0.0639      0.57         0.0587      0.58   \n14530      0.66         0.0044      0.66         0.0041      0.66   \n14531      0.54         0.0176      0.54         0.0214      0.54   \n\n       last_price_delta_since_stabilized  stabilized_amount_mean  \\\n0                                  -0.36                  0.0448   \n1                                   0.51                  0.0415   \n2                                   0.42                  0.0046   \n3                                  -0.49                  0.0526   \n4                                  -0.44                  0.0488   \n...                                  ...                     ...   \n14527                              -1.03                  0.0283   \n14528                               0.49                  0.0038   \n14529                               1.76                  0.0549   \n14530                               0.79                  0.0116   \n14531                              -1.24                  0.0206   \n\n       stabilized_at_ms  stabilized_spread  wave_direction  \n0                   214               0.77            -1.0  \n1                    91               0.79             1.0  \n2                   221               0.78             1.0  \n3                   300               0.95            -1.0  \n4                   185               0.51            -1.0  \n...                 ...                ...             ...  \n14527                57               0.62            -1.0  \n14528               378               0.44             1.0  \n14529               284               0.61             1.0  \n14530               273               0.83             1.0  \n14531                89               0.54            -1.0  \n\n[14532 rows x 15 columns]",
      "text/html": "<div>\n<style scoped>\n    .dataframe tbody tr th:only-of-type {\n        vertical-align: middle;\n    }\n\n    .dataframe tbody tr th {\n        vertical-align: top;\n    }\n\n    .dataframe thead th {\n        text-align: right;\n    }\n</style>\n<table border=\"1\" class=\"dataframe\">\n  <thead>\n    <tr style=\"text-align: right;\">\n      <th></th>\n      <th>0_amount_mean</th>\n      <th>0_spread</th>\n      <th>1_amount_mean</th>\n      <th>1_spread</th>\n      <th>2_amount_mean</th>\n      <th>2_spread</th>\n      <th>3_amount_mean</th>\n      <th>3_spread</th>\n      <th>4_amount_mean</th>\n      <th>4_spread</th>\n      <th>last_price_delta_since_stabilized</th>\n      <th>stabilized_amount_mean</th>\n      <th>stabilized_at_ms</th>\n      <th>stabilized_spread</th>\n      <th>wave_direction</th>\n    </tr>\n  </thead>\n  <tbody>\n    <tr>\n      <th>0</th>\n      <td>0.0140</td>\n      <td>0.37</td>\n      <td>0.0125</td>\n      <td>0.37</td>\n      <td>0.0176</td>\n      <td>0.62</td>\n      <td>0.0491</td>\n      <td>0.67</td>\n      <td>0.0470</td>\n      <td>0.77</td>\n      <td>-0.36</td>\n      <td>0.0448</td>\n      <td>214</td>\n      <td>0.77</td>\n      <td>-1.0</td>\n    </tr>\n    <tr>\n      <th>1</th>\n      <td>0.0270</td>\n      <td>0.48</td>\n      <td>0.0463</td>\n      <td>0.52</td>\n      <td>0.0423</td>\n      <td>0.52</td>\n      <td>0.0462</td>\n      <td>0.72</td>\n      <td>0.0437</td>\n      <td>0.76</td>\n      <td>0.51</td>\n      <td>0.0415</td>\n      <td>91</td>\n      <td>0.79</td>\n      <td>1.0</td>\n    </tr>\n    <tr>\n      <th>2</th>\n      <td>0.0012</td>\n      <td>0.44</td>\n      <td>0.0022</td>\n      <td>0.57</td>\n      <td>0.0019</td>\n      <td>0.57</td>\n      <td>0.0019</td>\n      <td>0.58</td>\n      <td>0.0034</td>\n      <td>0.78</td>\n      <td>0.42</td>\n      <td>0.0046</td>\n      <td>221</td>\n      <td>0.78</td>\n      <td>1.0</td>\n    </tr>\n    <tr>\n      <th>3</th>\n      <td>0.0417</td>\n      <td>0.69</td>\n      <td>0.0221</td>\n      <td>0.79</td>\n      <td>0.0202</td>\n      <td>0.79</td>\n      <td>0.0573</td>\n      <td>0.79</td>\n      <td>0.0563</td>\n      <td>0.87</td>\n      <td>-0.49</td>\n      <td>0.0526</td>\n      <td>300</td>\n      <td>0.95</td>\n      <td>-1.0</td>\n    </tr>\n    <tr>\n      <th>4</th>\n      <td>0.0053</td>\n      <td>0.33</td>\n      <td>0.0569</td>\n      <td>0.39</td>\n      <td>0.0551</td>\n      <td>0.39</td>\n      <td>0.0527</td>\n      <td>0.49</td>\n      <td>0.0534</td>\n      <td>0.51</td>\n      <td>-0.44</td>\n      <td>0.0488</td>\n      <td>185</td>\n      <td>0.51</td>\n      <td>-1.0</td>\n    </tr>\n    <tr>\n      <th>...</th>\n      <td>...</td>\n      <td>...</td>\n      <td>...</td>\n      <td>...</td>\n      <td>...</td>\n      <td>...</td>\n      <td>...</td>\n      <td>...</td>\n      <td>...</td>\n      <td>...</td>\n      <td>...</td>\n      <td>...</td>\n      <td>...</td>\n      <td>...</td>\n      <td>...</td>\n    </tr>\n    <tr>\n      <th>14527</th>\n      <td>0.0256</td>\n      <td>0.30</td>\n      <td>0.0349</td>\n      <td>0.31</td>\n      <td>0.0275</td>\n      <td>0.45</td>\n      <td>0.0338</td>\n      <td>0.45</td>\n      <td>0.0297</td>\n      <td>0.56</td>\n      <td>-1.03</td>\n      <td>0.0283</td>\n      <td>57</td>\n      <td>0.62</td>\n      <td>-1.0</td>\n    </tr>\n    <tr>\n      <th>14528</th>\n      <td>0.0043</td>\n      <td>0.04</td>\n      <td>0.0042</td>\n      <td>0.04</td>\n      <td>0.0038</td>\n      <td>0.23</td>\n      <td>0.0034</td>\n      <td>0.25</td>\n      <td>0.0031</td>\n      <td>0.25</td>\n      <td>0.49</td>\n      <td>0.0038</td>\n      <td>378</td>\n      <td>0.44</td>\n      <td>1.0</td>\n    </tr>\n    <tr>\n      <th>14529</th>\n      <td>0.0782</td>\n      <td>0.35</td>\n      <td>0.0696</td>\n      <td>0.50</td>\n      <td>0.0664</td>\n      <td>0.56</td>\n      <td>0.0639</td>\n      <td>0.57</td>\n      <td>0.0587</td>\n      <td>0.58</td>\n      <td>1.76</td>\n      <td>0.0549</td>\n      <td>284</td>\n      <td>0.61</td>\n      <td>1.0</td>\n    </tr>\n    <tr>\n      <th>14530</th>\n      <td>0.0082</td>\n      <td>0.66</td>\n      <td>0.0053</td>\n      <td>0.66</td>\n      <td>0.0048</td>\n      <td>0.66</td>\n      <td>0.0044</td>\n      <td>0.66</td>\n      <td>0.0041</td>\n      <td>0.66</td>\n      <td>0.79</td>\n      <td>0.0116</td>\n      <td>273</td>\n      <td>0.83</td>\n      <td>1.0</td>\n    </tr>\n    <tr>\n      <th>14531</th>\n      <td>0.0110</td>\n      <td>0.26</td>\n      <td>0.0109</td>\n      <td>0.26</td>\n      <td>0.0190</td>\n      <td>0.54</td>\n      <td>0.0176</td>\n      <td>0.54</td>\n      <td>0.0214</td>\n      <td>0.54</td>\n      <td>-1.24</td>\n      <td>0.0206</td>\n      <td>89</td>\n      <td>0.54</td>\n      <td>-1.0</td>\n    </tr>\n  </tbody>\n</table>\n<p>14532 rows × 15 columns</p>\n</div>"
     },
     "metadata": {},
     "output_type": "display_data"
    }
   ],
   "source": [
    "import pandas as pd\n",
    "\n",
    "df = pd.read_parquet('./data/')\n",
    "# display(df)\n",
    "df.drop('0_price', axis=1, inplace=True)\n",
    "df.drop('1_price', axis=1, inplace=True)\n",
    "df.drop('2_price', axis=1, inplace=True)\n",
    "df.drop('3_price', axis=1, inplace=True)\n",
    "df.drop('4_price', axis=1, inplace=True)\n",
    "#\n",
    "# for col in df.columns:\n",
    "#     if col[1] == '_':\n",
    "#         df.drop(col, axis=1, inplace=True)\n",
    "#\n",
    "# df.drop('stabilized_nr_trades', axis=1, inplace=True)\n",
    "# df.drop('stabilized_amount_mean', axis=1, inplace=True)\n",
    "# df.drop('stabilized_at_ms', axis=1, inplace=True)\n",
    "#\n",
    "# df.loc[df['wave_direction'] == 'min', 'wave_direction'] = 1\n",
    "# df.loc[df['wave_direction'] == 'max', 'wave_direction'] = -1\n",
    "# print(f'max spread: {df[\"stabilized_spread\"].max()}')\n",
    "# df = df[df['stabilized_spread'] >= 0.2]\n",
    "# df = df[df['stabilized_spread'] < 6]\n",
    "# # df = df[df['last_price_delta_since_stabilized'] < 5]\n",
    "# df = df.reset_index(drop=True)\n",
    "\n",
    "df.loc[df['wave_direction'] == 'min', 'wave_direction'] = 1\n",
    "df.loc[df['wave_direction'] == 'max', 'wave_direction'] = -1\n",
    "df = df.astype({\"wave_direction\": 'float64'})\n",
    "\n",
    "df = df[abs(df['last_price_delta_since_stabilized']) < 10]\n",
    "df = df[abs(df['last_price_delta_since_stabilized']) > 0.2]\n",
    "df = df[df['stabilized_spread'] < 10]  # nem tul nagy spread\n",
    "df = df[df['stabilized_amount_mean'] < 0.4]  # nem tul nagy tradek\n",
    "df = df[df['stabilized_nr_trades'] < 300]  # nem tul sok trade\n",
    "\n",
    "for col in df.columns:\n",
    "    if 'nr_trades' in col or 'price_delta' in col and not col.startswith('last'):\n",
    "        df.drop(col, axis=1, inplace=True)\n",
    "# df.drop('wave_direction', axis=1, inplace=True)\n",
    "\n",
    "df.reset_index(drop=True, inplace=True)\n",
    "\n",
    "display(df)"
   ],
   "metadata": {
    "collapsed": false
   }
  },
  {
   "cell_type": "code",
   "execution_count": 464,
   "outputs": [
    {
     "data": {
      "text/plain": "9.99"
     },
     "execution_count": 464,
     "metadata": {},
     "output_type": "execute_result"
    }
   ],
   "source": [
    "df['last_price_delta_since_stabilized'].max()"
   ],
   "metadata": {
    "collapsed": false
   }
  },
  {
   "cell_type": "code",
   "execution_count": 465,
   "outputs": [
    {
     "data": {
      "text/plain": "       0_amount_mean  0_spread  1_amount_mean  1_spread  2_amount_mean  \\\n0             0.0140      0.37         0.0125      0.37         0.0176   \n1             0.0270      0.48         0.0463      0.52         0.0423   \n2             0.0012      0.44         0.0022      0.57         0.0019   \n3             0.0417      0.69         0.0221      0.79         0.0202   \n4             0.0053      0.33         0.0569      0.39         0.0551   \n...              ...       ...            ...       ...            ...   \n14527         0.0256      0.30         0.0349      0.31         0.0275   \n14528         0.0043      0.04         0.0042      0.04         0.0038   \n14529         0.0782      0.35         0.0696      0.50         0.0664   \n14530         0.0082      0.66         0.0053      0.66         0.0048   \n14531         0.0110      0.26         0.0109      0.26         0.0190   \n\n       2_spread  3_amount_mean  3_spread  4_amount_mean  4_spread  \\\n0          0.62         0.0491      0.67         0.0470      0.77   \n1          0.52         0.0462      0.72         0.0437      0.76   \n2          0.57         0.0019      0.58         0.0034      0.78   \n3          0.79         0.0573      0.79         0.0563      0.87   \n4          0.39         0.0527      0.49         0.0534      0.51   \n...         ...            ...       ...            ...       ...   \n14527      0.45         0.0338      0.45         0.0297      0.56   \n14528      0.23         0.0034      0.25         0.0031      0.25   \n14529      0.56         0.0639      0.57         0.0587      0.58   \n14530      0.66         0.0044      0.66         0.0041      0.66   \n14531      0.54         0.0176      0.54         0.0214      0.54   \n\n       stabilized_amount_mean  stabilized_at_ms  stabilized_spread  \\\n0                      0.0448               214               0.77   \n1                      0.0415                91               0.79   \n2                      0.0046               221               0.78   \n3                      0.0526               300               0.95   \n4                      0.0488               185               0.51   \n...                       ...               ...                ...   \n14527                  0.0283                57               0.62   \n14528                  0.0038               378               0.44   \n14529                  0.0549               284               0.61   \n14530                  0.0116               273               0.83   \n14531                  0.0206                89               0.54   \n\n       wave_direction  \n0                -1.0  \n1                 1.0  \n2                 1.0  \n3                -1.0  \n4                -1.0  \n...               ...  \n14527            -1.0  \n14528             1.0  \n14529             1.0  \n14530             1.0  \n14531            -1.0  \n\n[14532 rows x 14 columns]",
      "text/html": "<div>\n<style scoped>\n    .dataframe tbody tr th:only-of-type {\n        vertical-align: middle;\n    }\n\n    .dataframe tbody tr th {\n        vertical-align: top;\n    }\n\n    .dataframe thead th {\n        text-align: right;\n    }\n</style>\n<table border=\"1\" class=\"dataframe\">\n  <thead>\n    <tr style=\"text-align: right;\">\n      <th></th>\n      <th>0_amount_mean</th>\n      <th>0_spread</th>\n      <th>1_amount_mean</th>\n      <th>1_spread</th>\n      <th>2_amount_mean</th>\n      <th>2_spread</th>\n      <th>3_amount_mean</th>\n      <th>3_spread</th>\n      <th>4_amount_mean</th>\n      <th>4_spread</th>\n      <th>stabilized_amount_mean</th>\n      <th>stabilized_at_ms</th>\n      <th>stabilized_spread</th>\n      <th>wave_direction</th>\n    </tr>\n  </thead>\n  <tbody>\n    <tr>\n      <th>0</th>\n      <td>0.0140</td>\n      <td>0.37</td>\n      <td>0.0125</td>\n      <td>0.37</td>\n      <td>0.0176</td>\n      <td>0.62</td>\n      <td>0.0491</td>\n      <td>0.67</td>\n      <td>0.0470</td>\n      <td>0.77</td>\n      <td>0.0448</td>\n      <td>214</td>\n      <td>0.77</td>\n      <td>-1.0</td>\n    </tr>\n    <tr>\n      <th>1</th>\n      <td>0.0270</td>\n      <td>0.48</td>\n      <td>0.0463</td>\n      <td>0.52</td>\n      <td>0.0423</td>\n      <td>0.52</td>\n      <td>0.0462</td>\n      <td>0.72</td>\n      <td>0.0437</td>\n      <td>0.76</td>\n      <td>0.0415</td>\n      <td>91</td>\n      <td>0.79</td>\n      <td>1.0</td>\n    </tr>\n    <tr>\n      <th>2</th>\n      <td>0.0012</td>\n      <td>0.44</td>\n      <td>0.0022</td>\n      <td>0.57</td>\n      <td>0.0019</td>\n      <td>0.57</td>\n      <td>0.0019</td>\n      <td>0.58</td>\n      <td>0.0034</td>\n      <td>0.78</td>\n      <td>0.0046</td>\n      <td>221</td>\n      <td>0.78</td>\n      <td>1.0</td>\n    </tr>\n    <tr>\n      <th>3</th>\n      <td>0.0417</td>\n      <td>0.69</td>\n      <td>0.0221</td>\n      <td>0.79</td>\n      <td>0.0202</td>\n      <td>0.79</td>\n      <td>0.0573</td>\n      <td>0.79</td>\n      <td>0.0563</td>\n      <td>0.87</td>\n      <td>0.0526</td>\n      <td>300</td>\n      <td>0.95</td>\n      <td>-1.0</td>\n    </tr>\n    <tr>\n      <th>4</th>\n      <td>0.0053</td>\n      <td>0.33</td>\n      <td>0.0569</td>\n      <td>0.39</td>\n      <td>0.0551</td>\n      <td>0.39</td>\n      <td>0.0527</td>\n      <td>0.49</td>\n      <td>0.0534</td>\n      <td>0.51</td>\n      <td>0.0488</td>\n      <td>185</td>\n      <td>0.51</td>\n      <td>-1.0</td>\n    </tr>\n    <tr>\n      <th>...</th>\n      <td>...</td>\n      <td>...</td>\n      <td>...</td>\n      <td>...</td>\n      <td>...</td>\n      <td>...</td>\n      <td>...</td>\n      <td>...</td>\n      <td>...</td>\n      <td>...</td>\n      <td>...</td>\n      <td>...</td>\n      <td>...</td>\n      <td>...</td>\n    </tr>\n    <tr>\n      <th>14527</th>\n      <td>0.0256</td>\n      <td>0.30</td>\n      <td>0.0349</td>\n      <td>0.31</td>\n      <td>0.0275</td>\n      <td>0.45</td>\n      <td>0.0338</td>\n      <td>0.45</td>\n      <td>0.0297</td>\n      <td>0.56</td>\n      <td>0.0283</td>\n      <td>57</td>\n      <td>0.62</td>\n      <td>-1.0</td>\n    </tr>\n    <tr>\n      <th>14528</th>\n      <td>0.0043</td>\n      <td>0.04</td>\n      <td>0.0042</td>\n      <td>0.04</td>\n      <td>0.0038</td>\n      <td>0.23</td>\n      <td>0.0034</td>\n      <td>0.25</td>\n      <td>0.0031</td>\n      <td>0.25</td>\n      <td>0.0038</td>\n      <td>378</td>\n      <td>0.44</td>\n      <td>1.0</td>\n    </tr>\n    <tr>\n      <th>14529</th>\n      <td>0.0782</td>\n      <td>0.35</td>\n      <td>0.0696</td>\n      <td>0.50</td>\n      <td>0.0664</td>\n      <td>0.56</td>\n      <td>0.0639</td>\n      <td>0.57</td>\n      <td>0.0587</td>\n      <td>0.58</td>\n      <td>0.0549</td>\n      <td>284</td>\n      <td>0.61</td>\n      <td>1.0</td>\n    </tr>\n    <tr>\n      <th>14530</th>\n      <td>0.0082</td>\n      <td>0.66</td>\n      <td>0.0053</td>\n      <td>0.66</td>\n      <td>0.0048</td>\n      <td>0.66</td>\n      <td>0.0044</td>\n      <td>0.66</td>\n      <td>0.0041</td>\n      <td>0.66</td>\n      <td>0.0116</td>\n      <td>273</td>\n      <td>0.83</td>\n      <td>1.0</td>\n    </tr>\n    <tr>\n      <th>14531</th>\n      <td>0.0110</td>\n      <td>0.26</td>\n      <td>0.0109</td>\n      <td>0.26</td>\n      <td>0.0190</td>\n      <td>0.54</td>\n      <td>0.0176</td>\n      <td>0.54</td>\n      <td>0.0214</td>\n      <td>0.54</td>\n      <td>0.0206</td>\n      <td>89</td>\n      <td>0.54</td>\n      <td>-1.0</td>\n    </tr>\n  </tbody>\n</table>\n<p>14532 rows × 14 columns</p>\n</div>"
     },
     "execution_count": 465,
     "metadata": {},
     "output_type": "execute_result"
    }
   ],
   "source": [
    "from sklearn.model_selection import train_test_split\n",
    "\n",
    "y = df['last_price_delta_since_stabilized']\n",
    "X = df.drop('last_price_delta_since_stabilized', axis=1)\n",
    "X = X.reset_index(drop=True)\n",
    "\n",
    "X_train, X_valid, y_train, y_valid = train_test_split(X, y, train_size=0.8, test_size=0.2, random_state=0)\n",
    "X"
   ],
   "metadata": {
    "collapsed": false
   }
  },
  {
   "cell_type": "code",
   "execution_count": 466,
   "outputs": [
    {
     "data": {
      "text/plain": "'mean absolute error: 1.15367'"
     },
     "metadata": {},
     "output_type": "display_data"
    },
    {
     "data": {
      "text/plain": "          0\n0 -1.497966\n1  1.129137\n2 -1.870534\n3 -1.394963\n4  2.247875\n5  1.776306\n6 -1.933266\n7 -1.152333",
      "text/html": "<div>\n<style scoped>\n    .dataframe tbody tr th:only-of-type {\n        vertical-align: middle;\n    }\n\n    .dataframe tbody tr th {\n        vertical-align: top;\n    }\n\n    .dataframe thead th {\n        text-align: right;\n    }\n</style>\n<table border=\"1\" class=\"dataframe\">\n  <thead>\n    <tr style=\"text-align: right;\">\n      <th></th>\n      <th>0</th>\n    </tr>\n  </thead>\n  <tbody>\n    <tr>\n      <th>0</th>\n      <td>-1.497966</td>\n    </tr>\n    <tr>\n      <th>1</th>\n      <td>1.129137</td>\n    </tr>\n    <tr>\n      <th>2</th>\n      <td>-1.870534</td>\n    </tr>\n    <tr>\n      <th>3</th>\n      <td>-1.394963</td>\n    </tr>\n    <tr>\n      <th>4</th>\n      <td>2.247875</td>\n    </tr>\n    <tr>\n      <th>5</th>\n      <td>1.776306</td>\n    </tr>\n    <tr>\n      <th>6</th>\n      <td>-1.933266</td>\n    </tr>\n    <tr>\n      <th>7</th>\n      <td>-1.152333</td>\n    </tr>\n  </tbody>\n</table>\n</div>"
     },
     "metadata": {},
     "output_type": "display_data"
    },
    {
     "data": {
      "text/plain": "   last_price_delta_since_stabilized\n0                              -1.94\n1                               0.87\n2                              -1.01\n3                              -0.43\n4                               1.94\n5                               3.12\n6                              -1.41\n7                              -1.93",
      "text/html": "<div>\n<style scoped>\n    .dataframe tbody tr th:only-of-type {\n        vertical-align: middle;\n    }\n\n    .dataframe tbody tr th {\n        vertical-align: top;\n    }\n\n    .dataframe thead th {\n        text-align: right;\n    }\n</style>\n<table border=\"1\" class=\"dataframe\">\n  <thead>\n    <tr style=\"text-align: right;\">\n      <th></th>\n      <th>last_price_delta_since_stabilized</th>\n    </tr>\n  </thead>\n  <tbody>\n    <tr>\n      <th>0</th>\n      <td>-1.94</td>\n    </tr>\n    <tr>\n      <th>1</th>\n      <td>0.87</td>\n    </tr>\n    <tr>\n      <th>2</th>\n      <td>-1.01</td>\n    </tr>\n    <tr>\n      <th>3</th>\n      <td>-0.43</td>\n    </tr>\n    <tr>\n      <th>4</th>\n      <td>1.94</td>\n    </tr>\n    <tr>\n      <th>5</th>\n      <td>3.12</td>\n    </tr>\n    <tr>\n      <th>6</th>\n      <td>-1.41</td>\n    </tr>\n    <tr>\n      <th>7</th>\n      <td>-1.93</td>\n    </tr>\n  </tbody>\n</table>\n</div>"
     },
     "metadata": {},
     "output_type": "display_data"
    }
   ],
   "source": [
    "from datetime import datetime\n",
    "import pickle\n",
    "from sklearn.ensemble import RandomForestRegressor\n",
    "from sklearn.metrics import mean_absolute_error\n",
    "\n",
    "model = RandomForestRegressor(n_estimators=100, random_state=0, max_depth=5)\n",
    "model.fit(X_train, y_train)\n",
    "\n",
    "preds = model.predict(X_valid)\n",
    "mae = round(mean_absolute_error(y_valid, preds), 5)\n",
    "display(f'mean absolute error: {mae}')\n",
    "\n",
    "display(pd.DataFrame(preds).head(8))\n",
    "yy = pd.DataFrame(y_valid)\n",
    "yy.reset_index(inplace=True, drop=True)\n",
    "display(yy.head(8))\n",
    "# y_valid.reset_index(drop=True)\n",
    "#"
   ],
   "metadata": {
    "collapsed": false
   }
  },
  {
   "cell_type": "markdown",
   "source": [
    "## catboost"
   ],
   "metadata": {
    "collapsed": false
   }
  },
  {
   "cell_type": "code",
   "execution_count": 468,
   "outputs": [
    {
     "ename": "TypeError",
     "evalue": "BaseForest.fit() got an unexpected keyword argument 'eval_set'",
     "output_type": "error",
     "traceback": [
      "\u001B[0;31m---------------------------------------------------------------------------\u001B[0m",
      "\u001B[0;31mTypeError\u001B[0m                                 Traceback (most recent call last)",
      "Cell \u001B[0;32mIn[468], line 8\u001B[0m\n\u001B[1;32m      5\u001B[0m dev_pool \u001B[38;5;241m=\u001B[39m Pool(X_valid, y_valid)\n\u001B[1;32m      6\u001B[0m \u001B[38;5;66;03m# dev_pool = Pool(X_valid, y_valid, cat_features=CATEGORIES)\u001B[39;00m\n\u001B[0;32m----> 8\u001B[0m \u001B[43mmodel\u001B[49m\u001B[38;5;241;43m.\u001B[39;49m\u001B[43mfit\u001B[49m\u001B[43m(\u001B[49m\u001B[43mtrain_pool\u001B[49m\u001B[43m,\u001B[49m\u001B[43m \u001B[49m\u001B[43meval_set\u001B[49m\u001B[38;5;241;43m=\u001B[39;49m\u001B[43mdev_pool\u001B[49m\u001B[43m)\u001B[49m\n\u001B[1;32m      9\u001B[0m \u001B[38;5;28mprint\u001B[39m(\u001B[38;5;124m\"\u001B[39m\u001B[38;5;124mRMSE:\u001B[39m\u001B[38;5;124m\"\u001B[39m, model\u001B[38;5;241m.\u001B[39mget_best_score())\n\u001B[1;32m     10\u001B[0m \u001B[38;5;28mprint\u001B[39m(\u001B[38;5;124m\"\u001B[39m\u001B[38;5;124mresult:\u001B[39m\u001B[38;5;124m\"\u001B[39m, model\u001B[38;5;241m.\u001B[39mget_test_eval())\n",
      "\u001B[0;31mTypeError\u001B[0m: BaseForest.fit() got an unexpected keyword argument 'eval_set'"
     ]
    }
   ],
   "source": [
    "from catboost import Pool\n",
    "\n",
    "train_pool = Pool(X_train, y_train)\n",
    "# train_pool = Pool(X_train, y_train, cat_features=CATEGORIES)\n",
    "dev_pool = Pool(X_valid, y_valid)\n",
    "# dev_pool = Pool(X_valid, y_valid, cat_features=CATEGORIES)\n",
    "\n",
    "model.fit(train_pool, eval_set=dev_pool)\n",
    "print(\"RMSE:\", model.get_best_score())\n",
    "print(\"result:\", model.get_test_eval())\n"
   ],
   "metadata": {
    "collapsed": false
   }
  },
  {
   "cell_type": "markdown",
   "source": [
    "## save model"
   ],
   "metadata": {
    "collapsed": false
   }
  },
  {
   "cell_type": "code",
   "execution_count": null,
   "outputs": [],
   "source": [
    "\n",
    "rec = len(X_train)\n",
    "filename = f'models/{datetime.utcnow().replace(microsecond=0).isoformat()}-rec-{rec}-mae-{mae}.sav'\n",
    "pickle.dump(model, open(filename, 'wb'))\n",
    "print(f'saved model to {filename}')"
   ],
   "metadata": {
    "collapsed": false
   }
  },
  {
   "cell_type": "code",
   "execution_count": null,
   "outputs": [],
   "source": [
    "model = pickle.load(open(filename, 'rb'))\n",
    "wave_frame = [{'0_amount_mean': 0.026, '0_nr_trades': 4.0, '0_price_delta': 1.38, '0_spread': 0.02, '1_amount_mean': 0.0169, '1_nr_trades': 7.0, '1_price_delta': 1.32, '1_spread': 0.08, '2_amount_mean': 0.016, '2_nr_trades': 8.0,\n",
    "               '2_price_delta': 0.35, '2_spread': 1.05, '3_amount_mean': 0.0144, '3_nr_trades': 9.0, '3_price_delta': 0.35, '3_spread': 1.05, '4_amount_mean': 0.0123, '4_nr_trades': 11.0, '4_price_delta': 0.07, '4_spread': 1.33,\n",
    "               'last_price_delta_since_stabilized': -0.02, 'stabilized_amount_mean': 0.0114, 'stabilized_at_ms': 243, 'stabilized_nr_trades': 12.0, 'stabilized_spread': 1.4, 'wave_direction': 'max'}]\n",
    "df = pd.DataFrame(wave_frame)\n",
    "df.loc[df['wave_direction'] == 'min', 'wave_direction'] = 1\n",
    "df.loc[df['wave_direction'] == 'max'] = -1\n",
    "df.drop('last_price_delta_since_stabilized', axis=1, inplace=True)\n",
    "result = model.predict(df)\n",
    "print(result)\n"
   ],
   "metadata": {
    "collapsed": false
   }
  }
 ],
 "metadata": {
  "kernelspec": {
   "display_name": "Python 3",
   "language": "python",
   "name": "python3"
  },
  "language_info": {
   "codemirror_mode": {
    "name": "ipython",
    "version": 2
   },
   "file_extension": ".py",
   "mimetype": "text/x-python",
   "name": "python",
   "nbconvert_exporter": "python",
   "pygments_lexer": "ipython2",
   "version": "2.7.6"
  }
 },
 "nbformat": 4,
 "nbformat_minor": 0
}
