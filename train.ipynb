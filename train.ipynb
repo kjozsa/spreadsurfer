{
 "cells": [
  {
   "cell_type": "code",
   "execution_count": 260,
   "outputs": [
    {
     "name": "stdout",
     "output_type": "stream",
     "text": [
      "max spread: 23.59\n"
     ]
    },
    {
     "data": {
      "text/plain": "       0_amount_mean  0_nr_trades  0_spread  1_amount_mean  1_nr_trades  \\\nindex                                                                     \n0             0.0140          3.0      0.37         0.0125          4.0   \n0             0.0270          6.0      0.48         0.0463          9.0   \n0             0.0012          3.0      0.44         0.0022          4.0   \n0             0.0417          4.0      0.69         0.0221         10.0   \n0             0.0053          3.0      0.33         0.0569          4.0   \n...              ...          ...       ...            ...          ...   \n0             0.0170          5.0      1.06         0.0144          6.0   \n0             0.0221         12.0      1.64         0.0223         16.0   \n0             0.0246          7.0      1.32         0.0282          8.0   \n0             0.0021          3.0      0.17         0.0026          4.0   \n0             0.0163          3.0      0.45         0.0124          4.0   \n\n       1_spread  2_amount_mean  2_nr_trades  2_spread  3_amount_mean  ...  \\\nindex                                                                 ...   \n0          0.37         0.0176         12.0      0.62         0.0491  ...   \n0          0.52         0.0423         11.0      0.52         0.0462  ...   \n0          0.57         0.0019          5.0      0.57         0.0019  ...   \n0          0.79         0.0202         11.0      0.79         0.0573  ...   \n0          0.39         0.0551          5.0      0.39         0.0527  ...   \n...         ...            ...          ...       ...            ...  ...   \n0          1.06         0.0293          7.0      1.06         0.0268  ...   \n0          1.81         0.0198         19.0      1.81         0.0197  ...   \n0          1.48         0.0445          9.0      1.48         0.0405  ...   \n0          0.17         0.0029          5.0      0.17         0.0026  ...   \n0          0.55         0.0174          5.0      0.57         0.0172  ...   \n\n       stabilized_amount_mean  stabilized_at_ms  stabilized_nr_trades  \\\nindex                                                                   \n0                      0.0448               214                  21.0   \n0                      0.0415                91                  19.0   \n0                      0.0046               221                   8.0   \n0                      0.0526               300                  14.0   \n0                      0.0488               185                  11.0   \n...                       ...               ...                   ...   \n0                      0.0462                56                  19.0   \n0                      0.0187               122                  22.0   \n0                      0.0347               125                  12.0   \n0                      0.0036                89                   8.0   \n0                      0.0100                48                  12.0   \n\n       stabilized_spread  wave_direction  0_price_delta  1_price_delta  \\\nindex                                                                    \n0                   0.77              -1           0.40           0.40   \n0                   0.79               1           0.31           0.27   \n0                   0.78               1           0.34           0.21   \n0                   0.95              -1           0.26           0.16   \n0                   0.51              -1           0.18           0.12   \n...                  ...             ...            ...            ...   \n0                   1.79               1           0.73           0.73   \n0                   1.84               1           0.03           0.03   \n0                   1.60              -1           0.28           0.12   \n0                   0.94               1           0.77           0.77   \n0                   0.83              -1           0.38           0.28   \n\n       2_price_delta  3_price_delta  4_price_delta  \nindex                                               \n0               0.15           0.10           0.00  \n0               0.27           0.07           0.03  \n0               0.21           0.20           0.00  \n0               0.16           0.16           0.08  \n0               0.12           0.02           0.00  \n...              ...            ...            ...  \n0               0.73           0.73           0.72  \n0               0.03           0.03           0.00  \n0               0.12           0.12           0.12  \n0               0.77           0.77           0.61  \n0               0.26           0.24           0.00  \n\n[1961 rows x 26 columns]",
      "text/html": "<div>\n<style scoped>\n    .dataframe tbody tr th:only-of-type {\n        vertical-align: middle;\n    }\n\n    .dataframe tbody tr th {\n        vertical-align: top;\n    }\n\n    .dataframe thead th {\n        text-align: right;\n    }\n</style>\n<table border=\"1\" class=\"dataframe\">\n  <thead>\n    <tr style=\"text-align: right;\">\n      <th></th>\n      <th>0_amount_mean</th>\n      <th>0_nr_trades</th>\n      <th>0_spread</th>\n      <th>1_amount_mean</th>\n      <th>1_nr_trades</th>\n      <th>1_spread</th>\n      <th>2_amount_mean</th>\n      <th>2_nr_trades</th>\n      <th>2_spread</th>\n      <th>3_amount_mean</th>\n      <th>...</th>\n      <th>stabilized_amount_mean</th>\n      <th>stabilized_at_ms</th>\n      <th>stabilized_nr_trades</th>\n      <th>stabilized_spread</th>\n      <th>wave_direction</th>\n      <th>0_price_delta</th>\n      <th>1_price_delta</th>\n      <th>2_price_delta</th>\n      <th>3_price_delta</th>\n      <th>4_price_delta</th>\n    </tr>\n    <tr>\n      <th>index</th>\n      <th></th>\n      <th></th>\n      <th></th>\n      <th></th>\n      <th></th>\n      <th></th>\n      <th></th>\n      <th></th>\n      <th></th>\n      <th></th>\n      <th></th>\n      <th></th>\n      <th></th>\n      <th></th>\n      <th></th>\n      <th></th>\n      <th></th>\n      <th></th>\n      <th></th>\n      <th></th>\n      <th></th>\n    </tr>\n  </thead>\n  <tbody>\n    <tr>\n      <th>0</th>\n      <td>0.0140</td>\n      <td>3.0</td>\n      <td>0.37</td>\n      <td>0.0125</td>\n      <td>4.0</td>\n      <td>0.37</td>\n      <td>0.0176</td>\n      <td>12.0</td>\n      <td>0.62</td>\n      <td>0.0491</td>\n      <td>...</td>\n      <td>0.0448</td>\n      <td>214</td>\n      <td>21.0</td>\n      <td>0.77</td>\n      <td>-1</td>\n      <td>0.40</td>\n      <td>0.40</td>\n      <td>0.15</td>\n      <td>0.10</td>\n      <td>0.00</td>\n    </tr>\n    <tr>\n      <th>0</th>\n      <td>0.0270</td>\n      <td>6.0</td>\n      <td>0.48</td>\n      <td>0.0463</td>\n      <td>9.0</td>\n      <td>0.52</td>\n      <td>0.0423</td>\n      <td>11.0</td>\n      <td>0.52</td>\n      <td>0.0462</td>\n      <td>...</td>\n      <td>0.0415</td>\n      <td>91</td>\n      <td>19.0</td>\n      <td>0.79</td>\n      <td>1</td>\n      <td>0.31</td>\n      <td>0.27</td>\n      <td>0.27</td>\n      <td>0.07</td>\n      <td>0.03</td>\n    </tr>\n    <tr>\n      <th>0</th>\n      <td>0.0012</td>\n      <td>3.0</td>\n      <td>0.44</td>\n      <td>0.0022</td>\n      <td>4.0</td>\n      <td>0.57</td>\n      <td>0.0019</td>\n      <td>5.0</td>\n      <td>0.57</td>\n      <td>0.0019</td>\n      <td>...</td>\n      <td>0.0046</td>\n      <td>221</td>\n      <td>8.0</td>\n      <td>0.78</td>\n      <td>1</td>\n      <td>0.34</td>\n      <td>0.21</td>\n      <td>0.21</td>\n      <td>0.20</td>\n      <td>0.00</td>\n    </tr>\n    <tr>\n      <th>0</th>\n      <td>0.0417</td>\n      <td>4.0</td>\n      <td>0.69</td>\n      <td>0.0221</td>\n      <td>10.0</td>\n      <td>0.79</td>\n      <td>0.0202</td>\n      <td>11.0</td>\n      <td>0.79</td>\n      <td>0.0573</td>\n      <td>...</td>\n      <td>0.0526</td>\n      <td>300</td>\n      <td>14.0</td>\n      <td>0.95</td>\n      <td>-1</td>\n      <td>0.26</td>\n      <td>0.16</td>\n      <td>0.16</td>\n      <td>0.16</td>\n      <td>0.08</td>\n    </tr>\n    <tr>\n      <th>0</th>\n      <td>0.0053</td>\n      <td>3.0</td>\n      <td>0.33</td>\n      <td>0.0569</td>\n      <td>4.0</td>\n      <td>0.39</td>\n      <td>0.0551</td>\n      <td>5.0</td>\n      <td>0.39</td>\n      <td>0.0527</td>\n      <td>...</td>\n      <td>0.0488</td>\n      <td>185</td>\n      <td>11.0</td>\n      <td>0.51</td>\n      <td>-1</td>\n      <td>0.18</td>\n      <td>0.12</td>\n      <td>0.12</td>\n      <td>0.02</td>\n      <td>0.00</td>\n    </tr>\n    <tr>\n      <th>...</th>\n      <td>...</td>\n      <td>...</td>\n      <td>...</td>\n      <td>...</td>\n      <td>...</td>\n      <td>...</td>\n      <td>...</td>\n      <td>...</td>\n      <td>...</td>\n      <td>...</td>\n      <td>...</td>\n      <td>...</td>\n      <td>...</td>\n      <td>...</td>\n      <td>...</td>\n      <td>...</td>\n      <td>...</td>\n      <td>...</td>\n      <td>...</td>\n      <td>...</td>\n      <td>...</td>\n    </tr>\n    <tr>\n      <th>0</th>\n      <td>0.0170</td>\n      <td>5.0</td>\n      <td>1.06</td>\n      <td>0.0144</td>\n      <td>6.0</td>\n      <td>1.06</td>\n      <td>0.0293</td>\n      <td>7.0</td>\n      <td>1.06</td>\n      <td>0.0268</td>\n      <td>...</td>\n      <td>0.0462</td>\n      <td>56</td>\n      <td>19.0</td>\n      <td>1.79</td>\n      <td>1</td>\n      <td>0.73</td>\n      <td>0.73</td>\n      <td>0.73</td>\n      <td>0.73</td>\n      <td>0.72</td>\n    </tr>\n    <tr>\n      <th>0</th>\n      <td>0.0221</td>\n      <td>12.0</td>\n      <td>1.64</td>\n      <td>0.0223</td>\n      <td>16.0</td>\n      <td>1.81</td>\n      <td>0.0198</td>\n      <td>19.0</td>\n      <td>1.81</td>\n      <td>0.0197</td>\n      <td>...</td>\n      <td>0.0187</td>\n      <td>122</td>\n      <td>22.0</td>\n      <td>1.84</td>\n      <td>1</td>\n      <td>0.03</td>\n      <td>0.03</td>\n      <td>0.03</td>\n      <td>0.03</td>\n      <td>0.00</td>\n    </tr>\n    <tr>\n      <th>0</th>\n      <td>0.0246</td>\n      <td>7.0</td>\n      <td>1.32</td>\n      <td>0.0282</td>\n      <td>8.0</td>\n      <td>1.48</td>\n      <td>0.0445</td>\n      <td>9.0</td>\n      <td>1.48</td>\n      <td>0.0405</td>\n      <td>...</td>\n      <td>0.0347</td>\n      <td>125</td>\n      <td>12.0</td>\n      <td>1.60</td>\n      <td>-1</td>\n      <td>0.28</td>\n      <td>0.12</td>\n      <td>0.12</td>\n      <td>0.12</td>\n      <td>0.12</td>\n    </tr>\n    <tr>\n      <th>0</th>\n      <td>0.0021</td>\n      <td>3.0</td>\n      <td>0.17</td>\n      <td>0.0026</td>\n      <td>4.0</td>\n      <td>0.17</td>\n      <td>0.0029</td>\n      <td>5.0</td>\n      <td>0.17</td>\n      <td>0.0026</td>\n      <td>...</td>\n      <td>0.0036</td>\n      <td>89</td>\n      <td>8.0</td>\n      <td>0.94</td>\n      <td>1</td>\n      <td>0.77</td>\n      <td>0.77</td>\n      <td>0.77</td>\n      <td>0.77</td>\n      <td>0.61</td>\n    </tr>\n    <tr>\n      <th>0</th>\n      <td>0.0163</td>\n      <td>3.0</td>\n      <td>0.45</td>\n      <td>0.0124</td>\n      <td>4.0</td>\n      <td>0.55</td>\n      <td>0.0174</td>\n      <td>5.0</td>\n      <td>0.57</td>\n      <td>0.0172</td>\n      <td>...</td>\n      <td>0.0100</td>\n      <td>48</td>\n      <td>12.0</td>\n      <td>0.83</td>\n      <td>-1</td>\n      <td>0.38</td>\n      <td>0.28</td>\n      <td>0.26</td>\n      <td>0.24</td>\n      <td>0.00</td>\n    </tr>\n  </tbody>\n</table>\n<p>1961 rows × 26 columns</p>\n</div>"
     },
     "execution_count": 260,
     "metadata": {},
     "output_type": "execute_result"
    }
   ],
   "source": [
    "import pandas as pd\n",
    "\n",
    "df = pd.read_parquet('./data/')\n",
    "df.drop('0_price', axis=1, inplace=True)\n",
    "df.drop('1_price', axis=1, inplace=True)\n",
    "df.drop('2_price', axis=1, inplace=True)\n",
    "df.drop('3_price', axis=1, inplace=True)\n",
    "df.drop('4_price', axis=1, inplace=True)\n",
    "\n",
    "df.loc[df['wave_direction'] == 'min', 'wave_direction'] = 1\n",
    "df.loc[df['wave_direction'] == 'max', 'wave_direction'] = -1\n",
    "print(f'max spread: {df[\"stabilized_spread\"].max()}')\n",
    "df = df[df['stabilized_spread'] >= 0.2]\n",
    "df = df[df['stabilized_spread'] < 8]\n",
    "df"
   ],
   "metadata": {
    "collapsed": false
   }
  },
  {
   "cell_type": "code",
   "execution_count": 261,
   "outputs": [
    {
     "data": {
      "text/plain": "   0_amount_mean  0_nr_trades  0_spread  1_amount_mean  1_nr_trades  1_spread  \\\n5         0.0082          3.0      0.02         0.0088          4.0      0.65   \n6         0.0288          5.0      0.89         0.0297         13.0      1.42   \n7         0.0117          4.0      0.23         0.0105          5.0      0.40   \n\n   2_amount_mean  2_nr_trades  2_spread  3_amount_mean  ...  \\\n5         0.0070          5.0      0.65         0.0064  ...   \n6         0.0279         14.0      1.44         0.0316  ...   \n7         0.0104          6.0      0.42         0.0105  ...   \n\n   stabilized_amount_mean  stabilized_at_ms  stabilized_nr_trades  \\\n5                  0.0051               395                   8.0   \n6                  0.0274               141                  20.0   \n7                  0.0085               242                  10.0   \n\n   stabilized_spread  wave_direction  0_price_delta  1_price_delta  \\\n5               1.11               1           0.46           0.46   \n6               1.49              -1           0.60           0.07   \n7               0.55               1           0.32           0.15   \n\n   2_price_delta  3_price_delta  4_price_delta  \n5           0.46           0.02           0.00  \n6           0.05           0.00           0.00  \n7           0.13           0.13           0.13  \n\n[3 rows x 26 columns]",
      "text/html": "<div>\n<style scoped>\n    .dataframe tbody tr th:only-of-type {\n        vertical-align: middle;\n    }\n\n    .dataframe tbody tr th {\n        vertical-align: top;\n    }\n\n    .dataframe thead th {\n        text-align: right;\n    }\n</style>\n<table border=\"1\" class=\"dataframe\">\n  <thead>\n    <tr style=\"text-align: right;\">\n      <th></th>\n      <th>0_amount_mean</th>\n      <th>0_nr_trades</th>\n      <th>0_spread</th>\n      <th>1_amount_mean</th>\n      <th>1_nr_trades</th>\n      <th>1_spread</th>\n      <th>2_amount_mean</th>\n      <th>2_nr_trades</th>\n      <th>2_spread</th>\n      <th>3_amount_mean</th>\n      <th>...</th>\n      <th>stabilized_amount_mean</th>\n      <th>stabilized_at_ms</th>\n      <th>stabilized_nr_trades</th>\n      <th>stabilized_spread</th>\n      <th>wave_direction</th>\n      <th>0_price_delta</th>\n      <th>1_price_delta</th>\n      <th>2_price_delta</th>\n      <th>3_price_delta</th>\n      <th>4_price_delta</th>\n    </tr>\n  </thead>\n  <tbody>\n    <tr>\n      <th>5</th>\n      <td>0.0082</td>\n      <td>3.0</td>\n      <td>0.02</td>\n      <td>0.0088</td>\n      <td>4.0</td>\n      <td>0.65</td>\n      <td>0.0070</td>\n      <td>5.0</td>\n      <td>0.65</td>\n      <td>0.0064</td>\n      <td>...</td>\n      <td>0.0051</td>\n      <td>395</td>\n      <td>8.0</td>\n      <td>1.11</td>\n      <td>1</td>\n      <td>0.46</td>\n      <td>0.46</td>\n      <td>0.46</td>\n      <td>0.02</td>\n      <td>0.00</td>\n    </tr>\n    <tr>\n      <th>6</th>\n      <td>0.0288</td>\n      <td>5.0</td>\n      <td>0.89</td>\n      <td>0.0297</td>\n      <td>13.0</td>\n      <td>1.42</td>\n      <td>0.0279</td>\n      <td>14.0</td>\n      <td>1.44</td>\n      <td>0.0316</td>\n      <td>...</td>\n      <td>0.0274</td>\n      <td>141</td>\n      <td>20.0</td>\n      <td>1.49</td>\n      <td>-1</td>\n      <td>0.60</td>\n      <td>0.07</td>\n      <td>0.05</td>\n      <td>0.00</td>\n      <td>0.00</td>\n    </tr>\n    <tr>\n      <th>7</th>\n      <td>0.0117</td>\n      <td>4.0</td>\n      <td>0.23</td>\n      <td>0.0105</td>\n      <td>5.0</td>\n      <td>0.40</td>\n      <td>0.0104</td>\n      <td>6.0</td>\n      <td>0.42</td>\n      <td>0.0105</td>\n      <td>...</td>\n      <td>0.0085</td>\n      <td>242</td>\n      <td>10.0</td>\n      <td>0.55</td>\n      <td>1</td>\n      <td>0.32</td>\n      <td>0.15</td>\n      <td>0.13</td>\n      <td>0.13</td>\n      <td>0.13</td>\n    </tr>\n  </tbody>\n</table>\n<p>3 rows × 26 columns</p>\n</div>"
     },
     "execution_count": 261,
     "metadata": {},
     "output_type": "execute_result"
    }
   ],
   "source": [
    "df = df.reset_index(drop=True)\n",
    "df.iloc[5:8]"
   ],
   "metadata": {
    "collapsed": false
   }
  },
  {
   "cell_type": "code",
   "execution_count": 262,
   "outputs": [
    {
     "data": {
      "text/plain": "36.58"
     },
     "execution_count": 262,
     "metadata": {},
     "output_type": "execute_result"
    }
   ],
   "source": [
    "df['last_price_delta_since_stabilized'].max()"
   ],
   "metadata": {
    "collapsed": false
   }
  },
  {
   "cell_type": "code",
   "execution_count": 263,
   "outputs": [
    {
     "data": {
      "text/plain": "      0_amount_mean  0_nr_trades  0_spread  1_amount_mean  1_nr_trades  \\\n0            0.0140          3.0      0.37         0.0125          4.0   \n1            0.0270          6.0      0.48         0.0463          9.0   \n2            0.0012          3.0      0.44         0.0022          4.0   \n3            0.0417          4.0      0.69         0.0221         10.0   \n4            0.0053          3.0      0.33         0.0569          4.0   \n...             ...          ...       ...            ...          ...   \n1956         0.0170          5.0      1.06         0.0144          6.0   \n1957         0.0221         12.0      1.64         0.0223         16.0   \n1958         0.0246          7.0      1.32         0.0282          8.0   \n1959         0.0021          3.0      0.17         0.0026          4.0   \n1960         0.0163          3.0      0.45         0.0124          4.0   \n\n      1_spread  2_amount_mean  2_nr_trades  2_spread  3_amount_mean  ...  \\\n0         0.37         0.0176         12.0      0.62         0.0491  ...   \n1         0.52         0.0423         11.0      0.52         0.0462  ...   \n2         0.57         0.0019          5.0      0.57         0.0019  ...   \n3         0.79         0.0202         11.0      0.79         0.0573  ...   \n4         0.39         0.0551          5.0      0.39         0.0527  ...   \n...        ...            ...          ...       ...            ...  ...   \n1956      1.06         0.0293          7.0      1.06         0.0268  ...   \n1957      1.81         0.0198         19.0      1.81         0.0197  ...   \n1958      1.48         0.0445          9.0      1.48         0.0405  ...   \n1959      0.17         0.0029          5.0      0.17         0.0026  ...   \n1960      0.55         0.0174          5.0      0.57         0.0172  ...   \n\n      stabilized_amount_mean  stabilized_at_ms  stabilized_nr_trades  \\\n0                     0.0448               214                  21.0   \n1                     0.0415                91                  19.0   \n2                     0.0046               221                   8.0   \n3                     0.0526               300                  14.0   \n4                     0.0488               185                  11.0   \n...                      ...               ...                   ...   \n1956                  0.0462                56                  19.0   \n1957                  0.0187               122                  22.0   \n1958                  0.0347               125                  12.0   \n1959                  0.0036                89                   8.0   \n1960                  0.0100                48                  12.0   \n\n      stabilized_spread  wave_direction  0_price_delta  1_price_delta  \\\n0                  0.77              -1           0.40           0.40   \n1                  0.79               1           0.31           0.27   \n2                  0.78               1           0.34           0.21   \n3                  0.95              -1           0.26           0.16   \n4                  0.51              -1           0.18           0.12   \n...                 ...             ...            ...            ...   \n1956               1.79               1           0.73           0.73   \n1957               1.84               1           0.03           0.03   \n1958               1.60              -1           0.28           0.12   \n1959               0.94               1           0.77           0.77   \n1960               0.83              -1           0.38           0.28   \n\n      2_price_delta  3_price_delta 4_price_delta  \n0              0.15           0.10          0.00  \n1              0.27           0.07          0.03  \n2              0.21           0.20          0.00  \n3              0.16           0.16          0.08  \n4              0.12           0.02          0.00  \n...             ...            ...           ...  \n1956           0.73           0.73          0.72  \n1957           0.03           0.03          0.00  \n1958           0.12           0.12          0.12  \n1959           0.77           0.77          0.61  \n1960           0.26           0.24          0.00  \n\n[1961 rows x 25 columns]",
      "text/html": "<div>\n<style scoped>\n    .dataframe tbody tr th:only-of-type {\n        vertical-align: middle;\n    }\n\n    .dataframe tbody tr th {\n        vertical-align: top;\n    }\n\n    .dataframe thead th {\n        text-align: right;\n    }\n</style>\n<table border=\"1\" class=\"dataframe\">\n  <thead>\n    <tr style=\"text-align: right;\">\n      <th></th>\n      <th>0_amount_mean</th>\n      <th>0_nr_trades</th>\n      <th>0_spread</th>\n      <th>1_amount_mean</th>\n      <th>1_nr_trades</th>\n      <th>1_spread</th>\n      <th>2_amount_mean</th>\n      <th>2_nr_trades</th>\n      <th>2_spread</th>\n      <th>3_amount_mean</th>\n      <th>...</th>\n      <th>stabilized_amount_mean</th>\n      <th>stabilized_at_ms</th>\n      <th>stabilized_nr_trades</th>\n      <th>stabilized_spread</th>\n      <th>wave_direction</th>\n      <th>0_price_delta</th>\n      <th>1_price_delta</th>\n      <th>2_price_delta</th>\n      <th>3_price_delta</th>\n      <th>4_price_delta</th>\n    </tr>\n  </thead>\n  <tbody>\n    <tr>\n      <th>0</th>\n      <td>0.0140</td>\n      <td>3.0</td>\n      <td>0.37</td>\n      <td>0.0125</td>\n      <td>4.0</td>\n      <td>0.37</td>\n      <td>0.0176</td>\n      <td>12.0</td>\n      <td>0.62</td>\n      <td>0.0491</td>\n      <td>...</td>\n      <td>0.0448</td>\n      <td>214</td>\n      <td>21.0</td>\n      <td>0.77</td>\n      <td>-1</td>\n      <td>0.40</td>\n      <td>0.40</td>\n      <td>0.15</td>\n      <td>0.10</td>\n      <td>0.00</td>\n    </tr>\n    <tr>\n      <th>1</th>\n      <td>0.0270</td>\n      <td>6.0</td>\n      <td>0.48</td>\n      <td>0.0463</td>\n      <td>9.0</td>\n      <td>0.52</td>\n      <td>0.0423</td>\n      <td>11.0</td>\n      <td>0.52</td>\n      <td>0.0462</td>\n      <td>...</td>\n      <td>0.0415</td>\n      <td>91</td>\n      <td>19.0</td>\n      <td>0.79</td>\n      <td>1</td>\n      <td>0.31</td>\n      <td>0.27</td>\n      <td>0.27</td>\n      <td>0.07</td>\n      <td>0.03</td>\n    </tr>\n    <tr>\n      <th>2</th>\n      <td>0.0012</td>\n      <td>3.0</td>\n      <td>0.44</td>\n      <td>0.0022</td>\n      <td>4.0</td>\n      <td>0.57</td>\n      <td>0.0019</td>\n      <td>5.0</td>\n      <td>0.57</td>\n      <td>0.0019</td>\n      <td>...</td>\n      <td>0.0046</td>\n      <td>221</td>\n      <td>8.0</td>\n      <td>0.78</td>\n      <td>1</td>\n      <td>0.34</td>\n      <td>0.21</td>\n      <td>0.21</td>\n      <td>0.20</td>\n      <td>0.00</td>\n    </tr>\n    <tr>\n      <th>3</th>\n      <td>0.0417</td>\n      <td>4.0</td>\n      <td>0.69</td>\n      <td>0.0221</td>\n      <td>10.0</td>\n      <td>0.79</td>\n      <td>0.0202</td>\n      <td>11.0</td>\n      <td>0.79</td>\n      <td>0.0573</td>\n      <td>...</td>\n      <td>0.0526</td>\n      <td>300</td>\n      <td>14.0</td>\n      <td>0.95</td>\n      <td>-1</td>\n      <td>0.26</td>\n      <td>0.16</td>\n      <td>0.16</td>\n      <td>0.16</td>\n      <td>0.08</td>\n    </tr>\n    <tr>\n      <th>4</th>\n      <td>0.0053</td>\n      <td>3.0</td>\n      <td>0.33</td>\n      <td>0.0569</td>\n      <td>4.0</td>\n      <td>0.39</td>\n      <td>0.0551</td>\n      <td>5.0</td>\n      <td>0.39</td>\n      <td>0.0527</td>\n      <td>...</td>\n      <td>0.0488</td>\n      <td>185</td>\n      <td>11.0</td>\n      <td>0.51</td>\n      <td>-1</td>\n      <td>0.18</td>\n      <td>0.12</td>\n      <td>0.12</td>\n      <td>0.02</td>\n      <td>0.00</td>\n    </tr>\n    <tr>\n      <th>...</th>\n      <td>...</td>\n      <td>...</td>\n      <td>...</td>\n      <td>...</td>\n      <td>...</td>\n      <td>...</td>\n      <td>...</td>\n      <td>...</td>\n      <td>...</td>\n      <td>...</td>\n      <td>...</td>\n      <td>...</td>\n      <td>...</td>\n      <td>...</td>\n      <td>...</td>\n      <td>...</td>\n      <td>...</td>\n      <td>...</td>\n      <td>...</td>\n      <td>...</td>\n      <td>...</td>\n    </tr>\n    <tr>\n      <th>1956</th>\n      <td>0.0170</td>\n      <td>5.0</td>\n      <td>1.06</td>\n      <td>0.0144</td>\n      <td>6.0</td>\n      <td>1.06</td>\n      <td>0.0293</td>\n      <td>7.0</td>\n      <td>1.06</td>\n      <td>0.0268</td>\n      <td>...</td>\n      <td>0.0462</td>\n      <td>56</td>\n      <td>19.0</td>\n      <td>1.79</td>\n      <td>1</td>\n      <td>0.73</td>\n      <td>0.73</td>\n      <td>0.73</td>\n      <td>0.73</td>\n      <td>0.72</td>\n    </tr>\n    <tr>\n      <th>1957</th>\n      <td>0.0221</td>\n      <td>12.0</td>\n      <td>1.64</td>\n      <td>0.0223</td>\n      <td>16.0</td>\n      <td>1.81</td>\n      <td>0.0198</td>\n      <td>19.0</td>\n      <td>1.81</td>\n      <td>0.0197</td>\n      <td>...</td>\n      <td>0.0187</td>\n      <td>122</td>\n      <td>22.0</td>\n      <td>1.84</td>\n      <td>1</td>\n      <td>0.03</td>\n      <td>0.03</td>\n      <td>0.03</td>\n      <td>0.03</td>\n      <td>0.00</td>\n    </tr>\n    <tr>\n      <th>1958</th>\n      <td>0.0246</td>\n      <td>7.0</td>\n      <td>1.32</td>\n      <td>0.0282</td>\n      <td>8.0</td>\n      <td>1.48</td>\n      <td>0.0445</td>\n      <td>9.0</td>\n      <td>1.48</td>\n      <td>0.0405</td>\n      <td>...</td>\n      <td>0.0347</td>\n      <td>125</td>\n      <td>12.0</td>\n      <td>1.60</td>\n      <td>-1</td>\n      <td>0.28</td>\n      <td>0.12</td>\n      <td>0.12</td>\n      <td>0.12</td>\n      <td>0.12</td>\n    </tr>\n    <tr>\n      <th>1959</th>\n      <td>0.0021</td>\n      <td>3.0</td>\n      <td>0.17</td>\n      <td>0.0026</td>\n      <td>4.0</td>\n      <td>0.17</td>\n      <td>0.0029</td>\n      <td>5.0</td>\n      <td>0.17</td>\n      <td>0.0026</td>\n      <td>...</td>\n      <td>0.0036</td>\n      <td>89</td>\n      <td>8.0</td>\n      <td>0.94</td>\n      <td>1</td>\n      <td>0.77</td>\n      <td>0.77</td>\n      <td>0.77</td>\n      <td>0.77</td>\n      <td>0.61</td>\n    </tr>\n    <tr>\n      <th>1960</th>\n      <td>0.0163</td>\n      <td>3.0</td>\n      <td>0.45</td>\n      <td>0.0124</td>\n      <td>4.0</td>\n      <td>0.55</td>\n      <td>0.0174</td>\n      <td>5.0</td>\n      <td>0.57</td>\n      <td>0.0172</td>\n      <td>...</td>\n      <td>0.0100</td>\n      <td>48</td>\n      <td>12.0</td>\n      <td>0.83</td>\n      <td>-1</td>\n      <td>0.38</td>\n      <td>0.28</td>\n      <td>0.26</td>\n      <td>0.24</td>\n      <td>0.00</td>\n    </tr>\n  </tbody>\n</table>\n<p>1961 rows × 25 columns</p>\n</div>"
     },
     "execution_count": 263,
     "metadata": {},
     "output_type": "execute_result"
    }
   ],
   "source": [
    "from sklearn.model_selection import train_test_split\n",
    "\n",
    "y = df['last_price_delta_since_stabilized']\n",
    "X = df.drop('last_price_delta_since_stabilized', axis=1)\n",
    "X = X.reset_index(drop=True)\n",
    "\n",
    "X_train, X_valid, y_train, y_valid = train_test_split(X, y, train_size=0.8, test_size=0.2, random_state=0)\n",
    "X"
   ],
   "metadata": {
    "collapsed": false
   }
  },
  {
   "cell_type": "code",
   "execution_count": 269,
   "outputs": [
    {
     "name": "stdout",
     "output_type": "stream",
     "text": [
      "mean absolute error: 1.83639\n"
     ]
    }
   ],
   "source": [
    "from datetime import datetime\n",
    "import pickle\n",
    "from sklearn.ensemble import RandomForestRegressor\n",
    "from sklearn.metrics import mean_absolute_error\n",
    "\n",
    "model = RandomForestRegressor(n_estimators=100, random_state=0, max_depth=5)\n",
    "model.fit(X_train, y_train)\n",
    "\n",
    "preds = model.predict(X_valid)\n",
    "preds\n",
    "y_valid.reset_index(drop=True)\n",
    "\n",
    "mae = round(mean_absolute_error(y_valid, preds), 5)\n",
    "print(f'mean absolute error: {mae}')"
   ],
   "metadata": {
    "collapsed": false
   }
  },
  {
   "cell_type": "code",
   "execution_count": 189,
   "outputs": [
    {
     "name": "stdout",
     "output_type": "stream",
     "text": [
      "mean absolute error: 0.69432\n",
      "saved model to models/2023-01-19T18:39:36-rec-7323-mae-0.69432.sav\n"
     ]
    }
   ],
   "source": [
    "\n",
    "rec = len(X_train)\n",
    "filename = f'models/{datetime.utcnow().replace(microsecond=0).isoformat()}-rec-{rec}-mae-{mae}.sav'\n",
    "pickle.dump(model, open(filename, 'wb'))\n",
    "print(f'saved model to {filename}')"
   ],
   "metadata": {
    "collapsed": false
   }
  },
  {
   "cell_type": "code",
   "execution_count": 136,
   "outputs": [
    {
     "name": "stdout",
     "output_type": "stream",
     "text": [
      "[0.81305]\n"
     ]
    }
   ],
   "source": [
    "model = pickle.load(open(filename, 'rb'))\n",
    "wave_frame = [{'stabilized_at_ms': 14, 'stabilized_nr_trades': 13, 'stabilized_amount_mean': 0.0344, 'stabilized_spread': 0.19, 'wave_direction': 'min', 'last_price_delta_since_stabilized': 1.26}]\n",
    "df = pd.DataFrame(wave_frame)\n",
    "df.loc[df['wave_direction'] == 'min', 'wave_direction'] = 1\n",
    "df.loc[df['wave_direction'] == 'max'] = -1\n",
    "df.drop('last_price_delta_since_stabilized', axis=1, inplace=True)\n",
    "result = model.predict(df)\n",
    "print(result)\n"
   ],
   "metadata": {
    "collapsed": false
   }
  },
  {
   "cell_type": "markdown",
   "source": [
    "### pipeline approach"
   ],
   "metadata": {
    "collapsed": false
   }
  },
  {
   "cell_type": "code",
   "execution_count": 100,
   "outputs": [
    {
     "ename": "AttributeError",
     "evalue": "'FeatureEngineer' object has no attribute 'fit'",
     "output_type": "error",
     "traceback": [
      "\u001B[0;31m---------------------------------------------------------------------------\u001B[0m",
      "\u001B[0;31mAttributeError\u001B[0m                            Traceback (most recent call last)",
      "Cell \u001B[0;32mIn[100], line 27\u001B[0m\n\u001B[1;32m     24\u001B[0m X \u001B[38;5;241m=\u001B[39m X\u001B[38;5;241m.\u001B[39mreset_index(drop\u001B[38;5;241m=\u001B[39m\u001B[38;5;28;01mTrue\u001B[39;00m)\n\u001B[1;32m     26\u001B[0m X_train, X_valid, y_train, y_valid \u001B[38;5;241m=\u001B[39m train_test_split(X, y, train_size\u001B[38;5;241m=\u001B[39m\u001B[38;5;241m0.2\u001B[39m, test_size\u001B[38;5;241m=\u001B[39m\u001B[38;5;241m0.2\u001B[39m, random_state\u001B[38;5;241m=\u001B[39m\u001B[38;5;241m0\u001B[39m)\n\u001B[0;32m---> 27\u001B[0m \u001B[43mpipeline\u001B[49m\u001B[38;5;241;43m.\u001B[39;49m\u001B[43mfit\u001B[49m\u001B[43m(\u001B[49m\u001B[43mX_train\u001B[49m\u001B[43m,\u001B[49m\u001B[43m \u001B[49m\u001B[43my_train\u001B[49m\u001B[43m)\u001B[49m\n",
      "File \u001B[0;32m~/workspace/cy/04-ccxt/venv/lib/python3.10/site-packages/sklearn/pipeline.py:402\u001B[0m, in \u001B[0;36mPipeline.fit\u001B[0;34m(self, X, y, **fit_params)\u001B[0m\n\u001B[1;32m    376\u001B[0m \u001B[38;5;250m\u001B[39m\u001B[38;5;124;03m\"\"\"Fit the model.\u001B[39;00m\n\u001B[1;32m    377\u001B[0m \n\u001B[1;32m    378\u001B[0m \u001B[38;5;124;03mFit all the transformers one after the other and transform the\u001B[39;00m\n\u001B[0;32m   (...)\u001B[0m\n\u001B[1;32m    399\u001B[0m \u001B[38;5;124;03m    Pipeline with fitted steps.\u001B[39;00m\n\u001B[1;32m    400\u001B[0m \u001B[38;5;124;03m\"\"\"\u001B[39;00m\n\u001B[1;32m    401\u001B[0m fit_params_steps \u001B[38;5;241m=\u001B[39m \u001B[38;5;28mself\u001B[39m\u001B[38;5;241m.\u001B[39m_check_fit_params(\u001B[38;5;241m*\u001B[39m\u001B[38;5;241m*\u001B[39mfit_params)\n\u001B[0;32m--> 402\u001B[0m Xt \u001B[38;5;241m=\u001B[39m \u001B[38;5;28;43mself\u001B[39;49m\u001B[38;5;241;43m.\u001B[39;49m\u001B[43m_fit\u001B[49m\u001B[43m(\u001B[49m\u001B[43mX\u001B[49m\u001B[43m,\u001B[49m\u001B[43m \u001B[49m\u001B[43my\u001B[49m\u001B[43m,\u001B[49m\u001B[43m \u001B[49m\u001B[38;5;241;43m*\u001B[39;49m\u001B[38;5;241;43m*\u001B[39;49m\u001B[43mfit_params_steps\u001B[49m\u001B[43m)\u001B[49m\n\u001B[1;32m    403\u001B[0m \u001B[38;5;28;01mwith\u001B[39;00m _print_elapsed_time(\u001B[38;5;124m\"\u001B[39m\u001B[38;5;124mPipeline\u001B[39m\u001B[38;5;124m\"\u001B[39m, \u001B[38;5;28mself\u001B[39m\u001B[38;5;241m.\u001B[39m_log_message(\u001B[38;5;28mlen\u001B[39m(\u001B[38;5;28mself\u001B[39m\u001B[38;5;241m.\u001B[39msteps) \u001B[38;5;241m-\u001B[39m \u001B[38;5;241m1\u001B[39m)):\n\u001B[1;32m    404\u001B[0m     \u001B[38;5;28;01mif\u001B[39;00m \u001B[38;5;28mself\u001B[39m\u001B[38;5;241m.\u001B[39m_final_estimator \u001B[38;5;241m!=\u001B[39m \u001B[38;5;124m\"\u001B[39m\u001B[38;5;124mpassthrough\u001B[39m\u001B[38;5;124m\"\u001B[39m:\n",
      "File \u001B[0;32m~/workspace/cy/04-ccxt/venv/lib/python3.10/site-packages/sklearn/pipeline.py:360\u001B[0m, in \u001B[0;36mPipeline._fit\u001B[0;34m(self, X, y, **fit_params_steps)\u001B[0m\n\u001B[1;32m    358\u001B[0m     cloned_transformer \u001B[38;5;241m=\u001B[39m clone(transformer)\n\u001B[1;32m    359\u001B[0m \u001B[38;5;66;03m# Fit or load from cache the current transformer\u001B[39;00m\n\u001B[0;32m--> 360\u001B[0m X, fitted_transformer \u001B[38;5;241m=\u001B[39m \u001B[43mfit_transform_one_cached\u001B[49m\u001B[43m(\u001B[49m\n\u001B[1;32m    361\u001B[0m \u001B[43m    \u001B[49m\u001B[43mcloned_transformer\u001B[49m\u001B[43m,\u001B[49m\n\u001B[1;32m    362\u001B[0m \u001B[43m    \u001B[49m\u001B[43mX\u001B[49m\u001B[43m,\u001B[49m\n\u001B[1;32m    363\u001B[0m \u001B[43m    \u001B[49m\u001B[43my\u001B[49m\u001B[43m,\u001B[49m\n\u001B[1;32m    364\u001B[0m \u001B[43m    \u001B[49m\u001B[38;5;28;43;01mNone\u001B[39;49;00m\u001B[43m,\u001B[49m\n\u001B[1;32m    365\u001B[0m \u001B[43m    \u001B[49m\u001B[43mmessage_clsname\u001B[49m\u001B[38;5;241;43m=\u001B[39;49m\u001B[38;5;124;43m\"\u001B[39;49m\u001B[38;5;124;43mPipeline\u001B[39;49m\u001B[38;5;124;43m\"\u001B[39;49m\u001B[43m,\u001B[49m\n\u001B[1;32m    366\u001B[0m \u001B[43m    \u001B[49m\u001B[43mmessage\u001B[49m\u001B[38;5;241;43m=\u001B[39;49m\u001B[38;5;28;43mself\u001B[39;49m\u001B[38;5;241;43m.\u001B[39;49m\u001B[43m_log_message\u001B[49m\u001B[43m(\u001B[49m\u001B[43mstep_idx\u001B[49m\u001B[43m)\u001B[49m\u001B[43m,\u001B[49m\n\u001B[1;32m    367\u001B[0m \u001B[43m    \u001B[49m\u001B[38;5;241;43m*\u001B[39;49m\u001B[38;5;241;43m*\u001B[39;49m\u001B[43mfit_params_steps\u001B[49m\u001B[43m[\u001B[49m\u001B[43mname\u001B[49m\u001B[43m]\u001B[49m\u001B[43m,\u001B[49m\n\u001B[1;32m    368\u001B[0m \u001B[43m\u001B[49m\u001B[43m)\u001B[49m\n\u001B[1;32m    369\u001B[0m \u001B[38;5;66;03m# Replace the transformer of the step with the fitted\u001B[39;00m\n\u001B[1;32m    370\u001B[0m \u001B[38;5;66;03m# transformer. This is necessary when loading the transformer\u001B[39;00m\n\u001B[1;32m    371\u001B[0m \u001B[38;5;66;03m# from the cache.\u001B[39;00m\n\u001B[1;32m    372\u001B[0m \u001B[38;5;28mself\u001B[39m\u001B[38;5;241m.\u001B[39msteps[step_idx] \u001B[38;5;241m=\u001B[39m (name, fitted_transformer)\n",
      "File \u001B[0;32m~/workspace/cy/04-ccxt/venv/lib/python3.10/site-packages/joblib/memory.py:349\u001B[0m, in \u001B[0;36mNotMemorizedFunc.__call__\u001B[0;34m(self, *args, **kwargs)\u001B[0m\n\u001B[1;32m    348\u001B[0m \u001B[38;5;28;01mdef\u001B[39;00m \u001B[38;5;21m__call__\u001B[39m(\u001B[38;5;28mself\u001B[39m, \u001B[38;5;241m*\u001B[39margs, \u001B[38;5;241m*\u001B[39m\u001B[38;5;241m*\u001B[39mkwargs):\n\u001B[0;32m--> 349\u001B[0m     \u001B[38;5;28;01mreturn\u001B[39;00m \u001B[38;5;28;43mself\u001B[39;49m\u001B[38;5;241;43m.\u001B[39;49m\u001B[43mfunc\u001B[49m\u001B[43m(\u001B[49m\u001B[38;5;241;43m*\u001B[39;49m\u001B[43margs\u001B[49m\u001B[43m,\u001B[49m\u001B[43m \u001B[49m\u001B[38;5;241;43m*\u001B[39;49m\u001B[38;5;241;43m*\u001B[39;49m\u001B[43mkwargs\u001B[49m\u001B[43m)\u001B[49m\n",
      "File \u001B[0;32m~/workspace/cy/04-ccxt/venv/lib/python3.10/site-packages/sklearn/pipeline.py:894\u001B[0m, in \u001B[0;36m_fit_transform_one\u001B[0;34m(transformer, X, y, weight, message_clsname, message, **fit_params)\u001B[0m\n\u001B[1;32m    892\u001B[0m \u001B[38;5;28;01mwith\u001B[39;00m _print_elapsed_time(message_clsname, message):\n\u001B[1;32m    893\u001B[0m     \u001B[38;5;28;01mif\u001B[39;00m \u001B[38;5;28mhasattr\u001B[39m(transformer, \u001B[38;5;124m\"\u001B[39m\u001B[38;5;124mfit_transform\u001B[39m\u001B[38;5;124m\"\u001B[39m):\n\u001B[0;32m--> 894\u001B[0m         res \u001B[38;5;241m=\u001B[39m \u001B[43mtransformer\u001B[49m\u001B[38;5;241;43m.\u001B[39;49m\u001B[43mfit_transform\u001B[49m\u001B[43m(\u001B[49m\u001B[43mX\u001B[49m\u001B[43m,\u001B[49m\u001B[43m \u001B[49m\u001B[43my\u001B[49m\u001B[43m,\u001B[49m\u001B[43m \u001B[49m\u001B[38;5;241;43m*\u001B[39;49m\u001B[38;5;241;43m*\u001B[39;49m\u001B[43mfit_params\u001B[49m\u001B[43m)\u001B[49m\n\u001B[1;32m    895\u001B[0m     \u001B[38;5;28;01melse\u001B[39;00m:\n\u001B[1;32m    896\u001B[0m         res \u001B[38;5;241m=\u001B[39m transformer\u001B[38;5;241m.\u001B[39mfit(X, y, \u001B[38;5;241m*\u001B[39m\u001B[38;5;241m*\u001B[39mfit_params)\u001B[38;5;241m.\u001B[39mtransform(X)\n",
      "File \u001B[0;32m~/workspace/cy/04-ccxt/venv/lib/python3.10/site-packages/sklearn/utils/_set_output.py:142\u001B[0m, in \u001B[0;36m_wrap_method_output.<locals>.wrapped\u001B[0;34m(self, X, *args, **kwargs)\u001B[0m\n\u001B[1;32m    140\u001B[0m \u001B[38;5;129m@wraps\u001B[39m(f)\n\u001B[1;32m    141\u001B[0m \u001B[38;5;28;01mdef\u001B[39;00m \u001B[38;5;21mwrapped\u001B[39m(\u001B[38;5;28mself\u001B[39m, X, \u001B[38;5;241m*\u001B[39margs, \u001B[38;5;241m*\u001B[39m\u001B[38;5;241m*\u001B[39mkwargs):\n\u001B[0;32m--> 142\u001B[0m     data_to_wrap \u001B[38;5;241m=\u001B[39m \u001B[43mf\u001B[49m\u001B[43m(\u001B[49m\u001B[38;5;28;43mself\u001B[39;49m\u001B[43m,\u001B[49m\u001B[43m \u001B[49m\u001B[43mX\u001B[49m\u001B[43m,\u001B[49m\u001B[43m \u001B[49m\u001B[38;5;241;43m*\u001B[39;49m\u001B[43margs\u001B[49m\u001B[43m,\u001B[49m\u001B[43m \u001B[49m\u001B[38;5;241;43m*\u001B[39;49m\u001B[38;5;241;43m*\u001B[39;49m\u001B[43mkwargs\u001B[49m\u001B[43m)\u001B[49m\n\u001B[1;32m    143\u001B[0m     \u001B[38;5;28;01mif\u001B[39;00m \u001B[38;5;28misinstance\u001B[39m(data_to_wrap, \u001B[38;5;28mtuple\u001B[39m):\n\u001B[1;32m    144\u001B[0m         \u001B[38;5;66;03m# only wrap the first output for cross decomposition\u001B[39;00m\n\u001B[1;32m    145\u001B[0m         \u001B[38;5;28;01mreturn\u001B[39;00m (\n\u001B[1;32m    146\u001B[0m             _wrap_data_with_container(method, data_to_wrap[\u001B[38;5;241m0\u001B[39m], X, \u001B[38;5;28mself\u001B[39m),\n\u001B[1;32m    147\u001B[0m             \u001B[38;5;241m*\u001B[39mdata_to_wrap[\u001B[38;5;241m1\u001B[39m:],\n\u001B[1;32m    148\u001B[0m         )\n",
      "File \u001B[0;32m~/workspace/cy/04-ccxt/venv/lib/python3.10/site-packages/sklearn/utils/_set_output.py:142\u001B[0m, in \u001B[0;36m_wrap_method_output.<locals>.wrapped\u001B[0;34m(self, X, *args, **kwargs)\u001B[0m\n\u001B[1;32m    140\u001B[0m \u001B[38;5;129m@wraps\u001B[39m(f)\n\u001B[1;32m    141\u001B[0m \u001B[38;5;28;01mdef\u001B[39;00m \u001B[38;5;21mwrapped\u001B[39m(\u001B[38;5;28mself\u001B[39m, X, \u001B[38;5;241m*\u001B[39margs, \u001B[38;5;241m*\u001B[39m\u001B[38;5;241m*\u001B[39mkwargs):\n\u001B[0;32m--> 142\u001B[0m     data_to_wrap \u001B[38;5;241m=\u001B[39m \u001B[43mf\u001B[49m\u001B[43m(\u001B[49m\u001B[38;5;28;43mself\u001B[39;49m\u001B[43m,\u001B[49m\u001B[43m \u001B[49m\u001B[43mX\u001B[49m\u001B[43m,\u001B[49m\u001B[43m \u001B[49m\u001B[38;5;241;43m*\u001B[39;49m\u001B[43margs\u001B[49m\u001B[43m,\u001B[49m\u001B[43m \u001B[49m\u001B[38;5;241;43m*\u001B[39;49m\u001B[38;5;241;43m*\u001B[39;49m\u001B[43mkwargs\u001B[49m\u001B[43m)\u001B[49m\n\u001B[1;32m    143\u001B[0m     \u001B[38;5;28;01mif\u001B[39;00m \u001B[38;5;28misinstance\u001B[39m(data_to_wrap, \u001B[38;5;28mtuple\u001B[39m):\n\u001B[1;32m    144\u001B[0m         \u001B[38;5;66;03m# only wrap the first output for cross decomposition\u001B[39;00m\n\u001B[1;32m    145\u001B[0m         \u001B[38;5;28;01mreturn\u001B[39;00m (\n\u001B[1;32m    146\u001B[0m             _wrap_data_with_container(method, data_to_wrap[\u001B[38;5;241m0\u001B[39m], X, \u001B[38;5;28mself\u001B[39m),\n\u001B[1;32m    147\u001B[0m             \u001B[38;5;241m*\u001B[39mdata_to_wrap[\u001B[38;5;241m1\u001B[39m:],\n\u001B[1;32m    148\u001B[0m         )\n",
      "File \u001B[0;32m~/workspace/cy/04-ccxt/venv/lib/python3.10/site-packages/sklearn/base.py:851\u001B[0m, in \u001B[0;36mTransformerMixin.fit_transform\u001B[0;34m(self, X, y, **fit_params)\u001B[0m\n\u001B[1;32m    848\u001B[0m     \u001B[38;5;28;01mreturn\u001B[39;00m \u001B[38;5;28mself\u001B[39m\u001B[38;5;241m.\u001B[39mfit(X, \u001B[38;5;241m*\u001B[39m\u001B[38;5;241m*\u001B[39mfit_params)\u001B[38;5;241m.\u001B[39mtransform(X)\n\u001B[1;32m    849\u001B[0m \u001B[38;5;28;01melse\u001B[39;00m:\n\u001B[1;32m    850\u001B[0m     \u001B[38;5;66;03m# fit method of arity 2 (supervised transformation)\u001B[39;00m\n\u001B[0;32m--> 851\u001B[0m     \u001B[38;5;28;01mreturn\u001B[39;00m \u001B[38;5;28;43mself\u001B[39;49m\u001B[38;5;241;43m.\u001B[39;49m\u001B[43mfit\u001B[49m(X, y, \u001B[38;5;241m*\u001B[39m\u001B[38;5;241m*\u001B[39mfit_params)\u001B[38;5;241m.\u001B[39mtransform(X)\n",
      "\u001B[0;31mAttributeError\u001B[0m: 'FeatureEngineer' object has no attribute 'fit'"
     ]
    }
   ],
   "source": [
    "from sklearn.pipeline import Pipeline\n",
    "from sklearn.base import BaseEstimator\n",
    "from sklearn.base import TransformerMixin\n",
    "from sklearn.model_selection import train_test_split\n",
    "\n",
    "\n",
    "class FeatureEngineer(BaseEstimator, TransformerMixin):\n",
    "    def transform(self, X, y=None):\n",
    "        df = X.copy()\n",
    "        df.loc[df['wave_direction'] == 'min', 'wave_direction'] = 1\n",
    "        df.loc[df['wave_direction'] == 'max'] = -1\n",
    "        df.drop('last_price_delta_since_stabilized', axis=1, inplace=True)\n",
    "        return df\n",
    "\n",
    "\n",
    "pipeline = Pipeline(steps=[\n",
    "    ('preprocessor', FeatureEngineer()),\n",
    "    ('model', RandomForestRegressor(n_estimators=50, random_state=0))\n",
    "])\n",
    "\n",
    "df = pd.read_parquet('./data')\n",
    "y = df['last_price_delta_since_stabilized']\n",
    "X = df.drop('last_price_delta_since_stabilized', axis=1)\n",
    "X = X.reset_index(drop=True)\n",
    "\n",
    "X_train, X_valid, y_train, y_valid = train_test_split(X, y, train_size=0.2, test_size=0.2, random_state=0)\n",
    "pipeline.fit(X_train, y_train)\n",
    "\n"
   ],
   "metadata": {
    "collapsed": false
   }
  }
 ],
 "metadata": {
  "kernelspec": {
   "display_name": "Python 3",
   "language": "python",
   "name": "python3"
  },
  "language_info": {
   "codemirror_mode": {
    "name": "ipython",
    "version": 2
   },
   "file_extension": ".py",
   "mimetype": "text/x-python",
   "name": "python",
   "nbconvert_exporter": "python",
   "pygments_lexer": "ipython2",
   "version": "2.7.6"
  }
 },
 "nbformat": 4,
 "nbformat_minor": 0
}
