{
 "cells": [
  {
   "cell_type": "code",
   "execution_count": 211,
   "outputs": [
    {
     "data": {
      "text/plain": "       stabilized_at_ms  stabilized_nr_trades  stabilized_amount_mean  \\\nindex                                                                   \n0                   484                    20                  0.0297   \n0                   338                    40                  0.0413   \n0                    13                    33                  0.0163   \n0                   104                    14                  0.0572   \n0                   329                    18                  0.0118   \n...                 ...                   ...                     ...   \n0                    94                    46                  0.0507   \n0                    19                     8                  0.0381   \n0                   144                    11                  0.0463   \n0                   250                    10                  0.0488   \n0                   351                     9                  0.0604   \n\n       stabilized_spread wave_direction  last_price_delta_since_stabilized  \nindex                                                                       \n0                   1.01              1                               0.25  \n0                   1.70             -1                              -0.03  \n0                   0.55             -1                              -8.88  \n0                   1.00             -1                               0.00  \n0                   0.74              1                               0.35  \n...                  ...            ...                                ...  \n0                   2.36              1                               1.68  \n0                   0.86              1                               0.00  \n0                   0.54              1                               0.50  \n0                   1.03              1                               0.00  \n0                   0.78             -1                               0.00  \n\n[11757 rows x 6 columns]",
      "text/html": "<div>\n<style scoped>\n    .dataframe tbody tr th:only-of-type {\n        vertical-align: middle;\n    }\n\n    .dataframe tbody tr th {\n        vertical-align: top;\n    }\n\n    .dataframe thead th {\n        text-align: right;\n    }\n</style>\n<table border=\"1\" class=\"dataframe\">\n  <thead>\n    <tr style=\"text-align: right;\">\n      <th></th>\n      <th>stabilized_at_ms</th>\n      <th>stabilized_nr_trades</th>\n      <th>stabilized_amount_mean</th>\n      <th>stabilized_spread</th>\n      <th>wave_direction</th>\n      <th>last_price_delta_since_stabilized</th>\n    </tr>\n    <tr>\n      <th>index</th>\n      <th></th>\n      <th></th>\n      <th></th>\n      <th></th>\n      <th></th>\n      <th></th>\n    </tr>\n  </thead>\n  <tbody>\n    <tr>\n      <th>0</th>\n      <td>484</td>\n      <td>20</td>\n      <td>0.0297</td>\n      <td>1.01</td>\n      <td>1</td>\n      <td>0.25</td>\n    </tr>\n    <tr>\n      <th>0</th>\n      <td>338</td>\n      <td>40</td>\n      <td>0.0413</td>\n      <td>1.70</td>\n      <td>-1</td>\n      <td>-0.03</td>\n    </tr>\n    <tr>\n      <th>0</th>\n      <td>13</td>\n      <td>33</td>\n      <td>0.0163</td>\n      <td>0.55</td>\n      <td>-1</td>\n      <td>-8.88</td>\n    </tr>\n    <tr>\n      <th>0</th>\n      <td>104</td>\n      <td>14</td>\n      <td>0.0572</td>\n      <td>1.00</td>\n      <td>-1</td>\n      <td>0.00</td>\n    </tr>\n    <tr>\n      <th>0</th>\n      <td>329</td>\n      <td>18</td>\n      <td>0.0118</td>\n      <td>0.74</td>\n      <td>1</td>\n      <td>0.35</td>\n    </tr>\n    <tr>\n      <th>...</th>\n      <td>...</td>\n      <td>...</td>\n      <td>...</td>\n      <td>...</td>\n      <td>...</td>\n      <td>...</td>\n    </tr>\n    <tr>\n      <th>0</th>\n      <td>94</td>\n      <td>46</td>\n      <td>0.0507</td>\n      <td>2.36</td>\n      <td>1</td>\n      <td>1.68</td>\n    </tr>\n    <tr>\n      <th>0</th>\n      <td>19</td>\n      <td>8</td>\n      <td>0.0381</td>\n      <td>0.86</td>\n      <td>1</td>\n      <td>0.00</td>\n    </tr>\n    <tr>\n      <th>0</th>\n      <td>144</td>\n      <td>11</td>\n      <td>0.0463</td>\n      <td>0.54</td>\n      <td>1</td>\n      <td>0.50</td>\n    </tr>\n    <tr>\n      <th>0</th>\n      <td>250</td>\n      <td>10</td>\n      <td>0.0488</td>\n      <td>1.03</td>\n      <td>1</td>\n      <td>0.00</td>\n    </tr>\n    <tr>\n      <th>0</th>\n      <td>351</td>\n      <td>9</td>\n      <td>0.0604</td>\n      <td>0.78</td>\n      <td>-1</td>\n      <td>0.00</td>\n    </tr>\n  </tbody>\n</table>\n<p>11757 rows × 6 columns</p>\n</div>"
     },
     "execution_count": 211,
     "metadata": {},
     "output_type": "execute_result"
    }
   ],
   "source": [
    "import pandas as pd\n",
    "\n",
    "df = pd.read_parquet('./data/')\n",
    "df.drop('stabilized_amount_max', axis=1, inplace=True)\n",
    "\n",
    "df.loc[df['wave_direction'] == 'min', 'wave_direction'] = 1\n",
    "df.loc[df['wave_direction'] == 'max', 'wave_direction'] = -1\n",
    "df = df[df['stabilized_spread'] >= 0.2]\n",
    "df = df[df['stabilized_spread'] < 4]\n",
    "df"
   ],
   "metadata": {
    "collapsed": false
   }
  },
  {
   "cell_type": "code",
   "execution_count": 206,
   "outputs": [
    {
     "data": {
      "text/plain": "14.66"
     },
     "execution_count": 206,
     "metadata": {},
     "output_type": "execute_result"
    }
   ],
   "source": [
    "df['last_price_delta_since_stabilized'].max()"
   ],
   "metadata": {
    "collapsed": false
   }
  },
  {
   "cell_type": "code",
   "execution_count": 212,
   "outputs": [
    {
     "data": {
      "text/plain": "       stabilized_at_ms  stabilized_nr_trades  stabilized_amount_mean  \\\n0                   484                    20                  0.0297   \n1                   338                    40                  0.0413   \n2                    13                    33                  0.0163   \n3                   104                    14                  0.0572   \n4                   329                    18                  0.0118   \n...                 ...                   ...                     ...   \n11752                94                    46                  0.0507   \n11753                19                     8                  0.0381   \n11754               144                    11                  0.0463   \n11755               250                    10                  0.0488   \n11756               351                     9                  0.0604   \n\n       stabilized_spread wave_direction  \n0                   1.01              1  \n1                   1.70             -1  \n2                   0.55             -1  \n3                   1.00             -1  \n4                   0.74              1  \n...                  ...            ...  \n11752               2.36              1  \n11753               0.86              1  \n11754               0.54              1  \n11755               1.03              1  \n11756               0.78             -1  \n\n[11757 rows x 5 columns]",
      "text/html": "<div>\n<style scoped>\n    .dataframe tbody tr th:only-of-type {\n        vertical-align: middle;\n    }\n\n    .dataframe tbody tr th {\n        vertical-align: top;\n    }\n\n    .dataframe thead th {\n        text-align: right;\n    }\n</style>\n<table border=\"1\" class=\"dataframe\">\n  <thead>\n    <tr style=\"text-align: right;\">\n      <th></th>\n      <th>stabilized_at_ms</th>\n      <th>stabilized_nr_trades</th>\n      <th>stabilized_amount_mean</th>\n      <th>stabilized_spread</th>\n      <th>wave_direction</th>\n    </tr>\n  </thead>\n  <tbody>\n    <tr>\n      <th>0</th>\n      <td>484</td>\n      <td>20</td>\n      <td>0.0297</td>\n      <td>1.01</td>\n      <td>1</td>\n    </tr>\n    <tr>\n      <th>1</th>\n      <td>338</td>\n      <td>40</td>\n      <td>0.0413</td>\n      <td>1.70</td>\n      <td>-1</td>\n    </tr>\n    <tr>\n      <th>2</th>\n      <td>13</td>\n      <td>33</td>\n      <td>0.0163</td>\n      <td>0.55</td>\n      <td>-1</td>\n    </tr>\n    <tr>\n      <th>3</th>\n      <td>104</td>\n      <td>14</td>\n      <td>0.0572</td>\n      <td>1.00</td>\n      <td>-1</td>\n    </tr>\n    <tr>\n      <th>4</th>\n      <td>329</td>\n      <td>18</td>\n      <td>0.0118</td>\n      <td>0.74</td>\n      <td>1</td>\n    </tr>\n    <tr>\n      <th>...</th>\n      <td>...</td>\n      <td>...</td>\n      <td>...</td>\n      <td>...</td>\n      <td>...</td>\n    </tr>\n    <tr>\n      <th>11752</th>\n      <td>94</td>\n      <td>46</td>\n      <td>0.0507</td>\n      <td>2.36</td>\n      <td>1</td>\n    </tr>\n    <tr>\n      <th>11753</th>\n      <td>19</td>\n      <td>8</td>\n      <td>0.0381</td>\n      <td>0.86</td>\n      <td>1</td>\n    </tr>\n    <tr>\n      <th>11754</th>\n      <td>144</td>\n      <td>11</td>\n      <td>0.0463</td>\n      <td>0.54</td>\n      <td>1</td>\n    </tr>\n    <tr>\n      <th>11755</th>\n      <td>250</td>\n      <td>10</td>\n      <td>0.0488</td>\n      <td>1.03</td>\n      <td>1</td>\n    </tr>\n    <tr>\n      <th>11756</th>\n      <td>351</td>\n      <td>9</td>\n      <td>0.0604</td>\n      <td>0.78</td>\n      <td>-1</td>\n    </tr>\n  </tbody>\n</table>\n<p>11757 rows × 5 columns</p>\n</div>"
     },
     "execution_count": 212,
     "metadata": {},
     "output_type": "execute_result"
    }
   ],
   "source": [
    "from sklearn.model_selection import train_test_split\n",
    "\n",
    "y = df['last_price_delta_since_stabilized']\n",
    "X = df.drop('last_price_delta_since_stabilized', axis=1)\n",
    "X = X.reset_index(drop=True)\n",
    "\n",
    "X_train, X_valid, y_train, y_valid = train_test_split(X, y, train_size=0.8, test_size=0.2, random_state=0)\n",
    "X"
   ],
   "metadata": {
    "collapsed": false
   }
  },
  {
   "cell_type": "code",
   "execution_count": 213,
   "outputs": [
    {
     "name": "stdout",
     "output_type": "stream",
     "text": [
      "mean absolute error: 0.68057\n"
     ]
    }
   ],
   "source": [
    "from datetime import datetime\n",
    "import pickle\n",
    "from sklearn.ensemble import RandomForestRegressor\n",
    "from sklearn.metrics import mean_absolute_error\n",
    "\n",
    "model = RandomForestRegressor(n_estimators=100, random_state=0, max_depth=5)\n",
    "model.fit(X_train, y_train)\n",
    "\n",
    "preds = model.predict(X_valid)\n",
    "preds\n",
    "y_valid.reset_index(drop=True)\n",
    "\n",
    "mae = round(mean_absolute_error(y_valid, preds), 5)\n",
    "print(f'mean absolute error: {mae}')"
   ],
   "metadata": {
    "collapsed": false
   }
  },
  {
   "cell_type": "code",
   "execution_count": 189,
   "outputs": [
    {
     "name": "stdout",
     "output_type": "stream",
     "text": [
      "mean absolute error: 0.69432\n",
      "saved model to models/2023-01-19T18:39:36-rec-7323-mae-0.69432.sav\n"
     ]
    }
   ],
   "source": [
    "\n",
    "rec = len(X_train)\n",
    "filename = f'models/{datetime.utcnow().replace(microsecond=0).isoformat()}-rec-{rec}-mae-{mae}.sav'\n",
    "pickle.dump(model, open(filename, 'wb'))\n",
    "print(f'saved model to {filename}')"
   ],
   "metadata": {
    "collapsed": false
   }
  },
  {
   "cell_type": "code",
   "execution_count": 136,
   "outputs": [
    {
     "name": "stdout",
     "output_type": "stream",
     "text": [
      "[0.81305]\n"
     ]
    }
   ],
   "source": [
    "model = pickle.load(open(filename, 'rb'))\n",
    "wave_frame = [{'stabilized_at_ms': 14, 'stabilized_nr_trades': 13, 'stabilized_amount_mean': 0.0344, 'stabilized_spread': 0.19, 'wave_direction': 'min', 'last_price_delta_since_stabilized': 1.26}]\n",
    "df = pd.DataFrame(wave_frame)\n",
    "df.loc[df['wave_direction'] == 'min', 'wave_direction'] = 1\n",
    "df.loc[df['wave_direction'] == 'max'] = -1\n",
    "df.drop('last_price_delta_since_stabilized', axis=1, inplace=True)\n",
    "result = model.predict(df)\n",
    "print(result)\n"
   ],
   "metadata": {
    "collapsed": false
   }
  },
  {
   "cell_type": "markdown",
   "source": [
    "### pipeline approach"
   ],
   "metadata": {
    "collapsed": false
   }
  },
  {
   "cell_type": "code",
   "execution_count": 100,
   "outputs": [
    {
     "ename": "AttributeError",
     "evalue": "'FeatureEngineer' object has no attribute 'fit'",
     "output_type": "error",
     "traceback": [
      "\u001B[0;31m---------------------------------------------------------------------------\u001B[0m",
      "\u001B[0;31mAttributeError\u001B[0m                            Traceback (most recent call last)",
      "Cell \u001B[0;32mIn[100], line 27\u001B[0m\n\u001B[1;32m     24\u001B[0m X \u001B[38;5;241m=\u001B[39m X\u001B[38;5;241m.\u001B[39mreset_index(drop\u001B[38;5;241m=\u001B[39m\u001B[38;5;28;01mTrue\u001B[39;00m)\n\u001B[1;32m     26\u001B[0m X_train, X_valid, y_train, y_valid \u001B[38;5;241m=\u001B[39m train_test_split(X, y, train_size\u001B[38;5;241m=\u001B[39m\u001B[38;5;241m0.2\u001B[39m, test_size\u001B[38;5;241m=\u001B[39m\u001B[38;5;241m0.2\u001B[39m, random_state\u001B[38;5;241m=\u001B[39m\u001B[38;5;241m0\u001B[39m)\n\u001B[0;32m---> 27\u001B[0m \u001B[43mpipeline\u001B[49m\u001B[38;5;241;43m.\u001B[39;49m\u001B[43mfit\u001B[49m\u001B[43m(\u001B[49m\u001B[43mX_train\u001B[49m\u001B[43m,\u001B[49m\u001B[43m \u001B[49m\u001B[43my_train\u001B[49m\u001B[43m)\u001B[49m\n",
      "File \u001B[0;32m~/workspace/cy/04-ccxt/venv/lib/python3.10/site-packages/sklearn/pipeline.py:402\u001B[0m, in \u001B[0;36mPipeline.fit\u001B[0;34m(self, X, y, **fit_params)\u001B[0m\n\u001B[1;32m    376\u001B[0m \u001B[38;5;250m\u001B[39m\u001B[38;5;124;03m\"\"\"Fit the model.\u001B[39;00m\n\u001B[1;32m    377\u001B[0m \n\u001B[1;32m    378\u001B[0m \u001B[38;5;124;03mFit all the transformers one after the other and transform the\u001B[39;00m\n\u001B[0;32m   (...)\u001B[0m\n\u001B[1;32m    399\u001B[0m \u001B[38;5;124;03m    Pipeline with fitted steps.\u001B[39;00m\n\u001B[1;32m    400\u001B[0m \u001B[38;5;124;03m\"\"\"\u001B[39;00m\n\u001B[1;32m    401\u001B[0m fit_params_steps \u001B[38;5;241m=\u001B[39m \u001B[38;5;28mself\u001B[39m\u001B[38;5;241m.\u001B[39m_check_fit_params(\u001B[38;5;241m*\u001B[39m\u001B[38;5;241m*\u001B[39mfit_params)\n\u001B[0;32m--> 402\u001B[0m Xt \u001B[38;5;241m=\u001B[39m \u001B[38;5;28;43mself\u001B[39;49m\u001B[38;5;241;43m.\u001B[39;49m\u001B[43m_fit\u001B[49m\u001B[43m(\u001B[49m\u001B[43mX\u001B[49m\u001B[43m,\u001B[49m\u001B[43m \u001B[49m\u001B[43my\u001B[49m\u001B[43m,\u001B[49m\u001B[43m \u001B[49m\u001B[38;5;241;43m*\u001B[39;49m\u001B[38;5;241;43m*\u001B[39;49m\u001B[43mfit_params_steps\u001B[49m\u001B[43m)\u001B[49m\n\u001B[1;32m    403\u001B[0m \u001B[38;5;28;01mwith\u001B[39;00m _print_elapsed_time(\u001B[38;5;124m\"\u001B[39m\u001B[38;5;124mPipeline\u001B[39m\u001B[38;5;124m\"\u001B[39m, \u001B[38;5;28mself\u001B[39m\u001B[38;5;241m.\u001B[39m_log_message(\u001B[38;5;28mlen\u001B[39m(\u001B[38;5;28mself\u001B[39m\u001B[38;5;241m.\u001B[39msteps) \u001B[38;5;241m-\u001B[39m \u001B[38;5;241m1\u001B[39m)):\n\u001B[1;32m    404\u001B[0m     \u001B[38;5;28;01mif\u001B[39;00m \u001B[38;5;28mself\u001B[39m\u001B[38;5;241m.\u001B[39m_final_estimator \u001B[38;5;241m!=\u001B[39m \u001B[38;5;124m\"\u001B[39m\u001B[38;5;124mpassthrough\u001B[39m\u001B[38;5;124m\"\u001B[39m:\n",
      "File \u001B[0;32m~/workspace/cy/04-ccxt/venv/lib/python3.10/site-packages/sklearn/pipeline.py:360\u001B[0m, in \u001B[0;36mPipeline._fit\u001B[0;34m(self, X, y, **fit_params_steps)\u001B[0m\n\u001B[1;32m    358\u001B[0m     cloned_transformer \u001B[38;5;241m=\u001B[39m clone(transformer)\n\u001B[1;32m    359\u001B[0m \u001B[38;5;66;03m# Fit or load from cache the current transformer\u001B[39;00m\n\u001B[0;32m--> 360\u001B[0m X, fitted_transformer \u001B[38;5;241m=\u001B[39m \u001B[43mfit_transform_one_cached\u001B[49m\u001B[43m(\u001B[49m\n\u001B[1;32m    361\u001B[0m \u001B[43m    \u001B[49m\u001B[43mcloned_transformer\u001B[49m\u001B[43m,\u001B[49m\n\u001B[1;32m    362\u001B[0m \u001B[43m    \u001B[49m\u001B[43mX\u001B[49m\u001B[43m,\u001B[49m\n\u001B[1;32m    363\u001B[0m \u001B[43m    \u001B[49m\u001B[43my\u001B[49m\u001B[43m,\u001B[49m\n\u001B[1;32m    364\u001B[0m \u001B[43m    \u001B[49m\u001B[38;5;28;43;01mNone\u001B[39;49;00m\u001B[43m,\u001B[49m\n\u001B[1;32m    365\u001B[0m \u001B[43m    \u001B[49m\u001B[43mmessage_clsname\u001B[49m\u001B[38;5;241;43m=\u001B[39;49m\u001B[38;5;124;43m\"\u001B[39;49m\u001B[38;5;124;43mPipeline\u001B[39;49m\u001B[38;5;124;43m\"\u001B[39;49m\u001B[43m,\u001B[49m\n\u001B[1;32m    366\u001B[0m \u001B[43m    \u001B[49m\u001B[43mmessage\u001B[49m\u001B[38;5;241;43m=\u001B[39;49m\u001B[38;5;28;43mself\u001B[39;49m\u001B[38;5;241;43m.\u001B[39;49m\u001B[43m_log_message\u001B[49m\u001B[43m(\u001B[49m\u001B[43mstep_idx\u001B[49m\u001B[43m)\u001B[49m\u001B[43m,\u001B[49m\n\u001B[1;32m    367\u001B[0m \u001B[43m    \u001B[49m\u001B[38;5;241;43m*\u001B[39;49m\u001B[38;5;241;43m*\u001B[39;49m\u001B[43mfit_params_steps\u001B[49m\u001B[43m[\u001B[49m\u001B[43mname\u001B[49m\u001B[43m]\u001B[49m\u001B[43m,\u001B[49m\n\u001B[1;32m    368\u001B[0m \u001B[43m\u001B[49m\u001B[43m)\u001B[49m\n\u001B[1;32m    369\u001B[0m \u001B[38;5;66;03m# Replace the transformer of the step with the fitted\u001B[39;00m\n\u001B[1;32m    370\u001B[0m \u001B[38;5;66;03m# transformer. This is necessary when loading the transformer\u001B[39;00m\n\u001B[1;32m    371\u001B[0m \u001B[38;5;66;03m# from the cache.\u001B[39;00m\n\u001B[1;32m    372\u001B[0m \u001B[38;5;28mself\u001B[39m\u001B[38;5;241m.\u001B[39msteps[step_idx] \u001B[38;5;241m=\u001B[39m (name, fitted_transformer)\n",
      "File \u001B[0;32m~/workspace/cy/04-ccxt/venv/lib/python3.10/site-packages/joblib/memory.py:349\u001B[0m, in \u001B[0;36mNotMemorizedFunc.__call__\u001B[0;34m(self, *args, **kwargs)\u001B[0m\n\u001B[1;32m    348\u001B[0m \u001B[38;5;28;01mdef\u001B[39;00m \u001B[38;5;21m__call__\u001B[39m(\u001B[38;5;28mself\u001B[39m, \u001B[38;5;241m*\u001B[39margs, \u001B[38;5;241m*\u001B[39m\u001B[38;5;241m*\u001B[39mkwargs):\n\u001B[0;32m--> 349\u001B[0m     \u001B[38;5;28;01mreturn\u001B[39;00m \u001B[38;5;28;43mself\u001B[39;49m\u001B[38;5;241;43m.\u001B[39;49m\u001B[43mfunc\u001B[49m\u001B[43m(\u001B[49m\u001B[38;5;241;43m*\u001B[39;49m\u001B[43margs\u001B[49m\u001B[43m,\u001B[49m\u001B[43m \u001B[49m\u001B[38;5;241;43m*\u001B[39;49m\u001B[38;5;241;43m*\u001B[39;49m\u001B[43mkwargs\u001B[49m\u001B[43m)\u001B[49m\n",
      "File \u001B[0;32m~/workspace/cy/04-ccxt/venv/lib/python3.10/site-packages/sklearn/pipeline.py:894\u001B[0m, in \u001B[0;36m_fit_transform_one\u001B[0;34m(transformer, X, y, weight, message_clsname, message, **fit_params)\u001B[0m\n\u001B[1;32m    892\u001B[0m \u001B[38;5;28;01mwith\u001B[39;00m _print_elapsed_time(message_clsname, message):\n\u001B[1;32m    893\u001B[0m     \u001B[38;5;28;01mif\u001B[39;00m \u001B[38;5;28mhasattr\u001B[39m(transformer, \u001B[38;5;124m\"\u001B[39m\u001B[38;5;124mfit_transform\u001B[39m\u001B[38;5;124m\"\u001B[39m):\n\u001B[0;32m--> 894\u001B[0m         res \u001B[38;5;241m=\u001B[39m \u001B[43mtransformer\u001B[49m\u001B[38;5;241;43m.\u001B[39;49m\u001B[43mfit_transform\u001B[49m\u001B[43m(\u001B[49m\u001B[43mX\u001B[49m\u001B[43m,\u001B[49m\u001B[43m \u001B[49m\u001B[43my\u001B[49m\u001B[43m,\u001B[49m\u001B[43m \u001B[49m\u001B[38;5;241;43m*\u001B[39;49m\u001B[38;5;241;43m*\u001B[39;49m\u001B[43mfit_params\u001B[49m\u001B[43m)\u001B[49m\n\u001B[1;32m    895\u001B[0m     \u001B[38;5;28;01melse\u001B[39;00m:\n\u001B[1;32m    896\u001B[0m         res \u001B[38;5;241m=\u001B[39m transformer\u001B[38;5;241m.\u001B[39mfit(X, y, \u001B[38;5;241m*\u001B[39m\u001B[38;5;241m*\u001B[39mfit_params)\u001B[38;5;241m.\u001B[39mtransform(X)\n",
      "File \u001B[0;32m~/workspace/cy/04-ccxt/venv/lib/python3.10/site-packages/sklearn/utils/_set_output.py:142\u001B[0m, in \u001B[0;36m_wrap_method_output.<locals>.wrapped\u001B[0;34m(self, X, *args, **kwargs)\u001B[0m\n\u001B[1;32m    140\u001B[0m \u001B[38;5;129m@wraps\u001B[39m(f)\n\u001B[1;32m    141\u001B[0m \u001B[38;5;28;01mdef\u001B[39;00m \u001B[38;5;21mwrapped\u001B[39m(\u001B[38;5;28mself\u001B[39m, X, \u001B[38;5;241m*\u001B[39margs, \u001B[38;5;241m*\u001B[39m\u001B[38;5;241m*\u001B[39mkwargs):\n\u001B[0;32m--> 142\u001B[0m     data_to_wrap \u001B[38;5;241m=\u001B[39m \u001B[43mf\u001B[49m\u001B[43m(\u001B[49m\u001B[38;5;28;43mself\u001B[39;49m\u001B[43m,\u001B[49m\u001B[43m \u001B[49m\u001B[43mX\u001B[49m\u001B[43m,\u001B[49m\u001B[43m \u001B[49m\u001B[38;5;241;43m*\u001B[39;49m\u001B[43margs\u001B[49m\u001B[43m,\u001B[49m\u001B[43m \u001B[49m\u001B[38;5;241;43m*\u001B[39;49m\u001B[38;5;241;43m*\u001B[39;49m\u001B[43mkwargs\u001B[49m\u001B[43m)\u001B[49m\n\u001B[1;32m    143\u001B[0m     \u001B[38;5;28;01mif\u001B[39;00m \u001B[38;5;28misinstance\u001B[39m(data_to_wrap, \u001B[38;5;28mtuple\u001B[39m):\n\u001B[1;32m    144\u001B[0m         \u001B[38;5;66;03m# only wrap the first output for cross decomposition\u001B[39;00m\n\u001B[1;32m    145\u001B[0m         \u001B[38;5;28;01mreturn\u001B[39;00m (\n\u001B[1;32m    146\u001B[0m             _wrap_data_with_container(method, data_to_wrap[\u001B[38;5;241m0\u001B[39m], X, \u001B[38;5;28mself\u001B[39m),\n\u001B[1;32m    147\u001B[0m             \u001B[38;5;241m*\u001B[39mdata_to_wrap[\u001B[38;5;241m1\u001B[39m:],\n\u001B[1;32m    148\u001B[0m         )\n",
      "File \u001B[0;32m~/workspace/cy/04-ccxt/venv/lib/python3.10/site-packages/sklearn/utils/_set_output.py:142\u001B[0m, in \u001B[0;36m_wrap_method_output.<locals>.wrapped\u001B[0;34m(self, X, *args, **kwargs)\u001B[0m\n\u001B[1;32m    140\u001B[0m \u001B[38;5;129m@wraps\u001B[39m(f)\n\u001B[1;32m    141\u001B[0m \u001B[38;5;28;01mdef\u001B[39;00m \u001B[38;5;21mwrapped\u001B[39m(\u001B[38;5;28mself\u001B[39m, X, \u001B[38;5;241m*\u001B[39margs, \u001B[38;5;241m*\u001B[39m\u001B[38;5;241m*\u001B[39mkwargs):\n\u001B[0;32m--> 142\u001B[0m     data_to_wrap \u001B[38;5;241m=\u001B[39m \u001B[43mf\u001B[49m\u001B[43m(\u001B[49m\u001B[38;5;28;43mself\u001B[39;49m\u001B[43m,\u001B[49m\u001B[43m \u001B[49m\u001B[43mX\u001B[49m\u001B[43m,\u001B[49m\u001B[43m \u001B[49m\u001B[38;5;241;43m*\u001B[39;49m\u001B[43margs\u001B[49m\u001B[43m,\u001B[49m\u001B[43m \u001B[49m\u001B[38;5;241;43m*\u001B[39;49m\u001B[38;5;241;43m*\u001B[39;49m\u001B[43mkwargs\u001B[49m\u001B[43m)\u001B[49m\n\u001B[1;32m    143\u001B[0m     \u001B[38;5;28;01mif\u001B[39;00m \u001B[38;5;28misinstance\u001B[39m(data_to_wrap, \u001B[38;5;28mtuple\u001B[39m):\n\u001B[1;32m    144\u001B[0m         \u001B[38;5;66;03m# only wrap the first output for cross decomposition\u001B[39;00m\n\u001B[1;32m    145\u001B[0m         \u001B[38;5;28;01mreturn\u001B[39;00m (\n\u001B[1;32m    146\u001B[0m             _wrap_data_with_container(method, data_to_wrap[\u001B[38;5;241m0\u001B[39m], X, \u001B[38;5;28mself\u001B[39m),\n\u001B[1;32m    147\u001B[0m             \u001B[38;5;241m*\u001B[39mdata_to_wrap[\u001B[38;5;241m1\u001B[39m:],\n\u001B[1;32m    148\u001B[0m         )\n",
      "File \u001B[0;32m~/workspace/cy/04-ccxt/venv/lib/python3.10/site-packages/sklearn/base.py:851\u001B[0m, in \u001B[0;36mTransformerMixin.fit_transform\u001B[0;34m(self, X, y, **fit_params)\u001B[0m\n\u001B[1;32m    848\u001B[0m     \u001B[38;5;28;01mreturn\u001B[39;00m \u001B[38;5;28mself\u001B[39m\u001B[38;5;241m.\u001B[39mfit(X, \u001B[38;5;241m*\u001B[39m\u001B[38;5;241m*\u001B[39mfit_params)\u001B[38;5;241m.\u001B[39mtransform(X)\n\u001B[1;32m    849\u001B[0m \u001B[38;5;28;01melse\u001B[39;00m:\n\u001B[1;32m    850\u001B[0m     \u001B[38;5;66;03m# fit method of arity 2 (supervised transformation)\u001B[39;00m\n\u001B[0;32m--> 851\u001B[0m     \u001B[38;5;28;01mreturn\u001B[39;00m \u001B[38;5;28;43mself\u001B[39;49m\u001B[38;5;241;43m.\u001B[39;49m\u001B[43mfit\u001B[49m(X, y, \u001B[38;5;241m*\u001B[39m\u001B[38;5;241m*\u001B[39mfit_params)\u001B[38;5;241m.\u001B[39mtransform(X)\n",
      "\u001B[0;31mAttributeError\u001B[0m: 'FeatureEngineer' object has no attribute 'fit'"
     ]
    }
   ],
   "source": [
    "from sklearn.pipeline import Pipeline\n",
    "from sklearn.base import BaseEstimator\n",
    "from sklearn.base import TransformerMixin\n",
    "from sklearn.model_selection import train_test_split\n",
    "\n",
    "\n",
    "class FeatureEngineer(BaseEstimator, TransformerMixin):\n",
    "    def transform(self, X, y=None):\n",
    "        df = X.copy()\n",
    "        df.loc[df['wave_direction'] == 'min', 'wave_direction'] = 1\n",
    "        df.loc[df['wave_direction'] == 'max'] = -1\n",
    "        df.drop('last_price_delta_since_stabilized', axis=1, inplace=True)\n",
    "        return df\n",
    "\n",
    "\n",
    "pipeline = Pipeline(steps=[\n",
    "    ('preprocessor', FeatureEngineer()),\n",
    "    ('model', RandomForestRegressor(n_estimators=50, random_state=0))\n",
    "])\n",
    "\n",
    "df = pd.read_parquet('./data')\n",
    "y = df['last_price_delta_since_stabilized']\n",
    "X = df.drop('last_price_delta_since_stabilized', axis=1)\n",
    "X = X.reset_index(drop=True)\n",
    "\n",
    "X_train, X_valid, y_train, y_valid = train_test_split(X, y, train_size=0.2, test_size=0.2, random_state=0)\n",
    "pipeline.fit(X_train, y_train)\n",
    "\n"
   ],
   "metadata": {
    "collapsed": false
   }
  }
 ],
 "metadata": {
  "kernelspec": {
   "display_name": "Python 3",
   "language": "python",
   "name": "python3"
  },
  "language_info": {
   "codemirror_mode": {
    "name": "ipython",
    "version": 2
   },
   "file_extension": ".py",
   "mimetype": "text/x-python",
   "name": "python",
   "nbconvert_exporter": "python",
   "pygments_lexer": "ipython2",
   "version": "2.7.6"
  }
 },
 "nbformat": 4,
 "nbformat_minor": 0
}
