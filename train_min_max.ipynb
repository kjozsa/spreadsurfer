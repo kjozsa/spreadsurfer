{
 "cells": [
  {
   "cell_type": "code",
   "execution_count": 70,
   "metadata": {
    "collapsed": true
   },
   "outputs": [
    {
     "name": "stdout",
     "output_type": "stream",
     "text": [
      "total dataset: 134367 rows\n",
      "min dataset: 47193\n",
      "max dataset: 47671\n"
     ]
    },
    {
     "data": {
      "text/plain": "       0_amount_mean  0_nr_trades  0_price_delta  1_amount_mean  1_nr_trades  \\\nindex                                                                          \n0             0.0305         28.0           0.12         0.0815         30.0   \n0             0.0078          5.0           0.84         0.0072          6.0   \n0             0.0348         30.0           0.14         0.0531         32.0   \n0             0.0031          4.0           1.11         0.0027          5.0   \n0             0.0318         92.0           0.69         0.0315         93.0   \n...              ...          ...            ...            ...          ...   \n0             0.0017          3.0           0.41         0.0108          5.0   \n0             0.0066          4.0           0.17         0.0086          6.0   \n0             0.0054          3.0           0.52         0.0042          4.0   \n0             0.0591         36.0           0.75         0.0560         38.0   \n0             0.0084         27.0           0.09         0.0081         28.0   \n\n       1_price_delta  2_amount_mean  2_nr_trades  2_price_delta  \\\nindex                                                             \n0               0.11         0.0792         31.0           0.11   \n0               0.84         0.0122          8.0           0.84   \n0               0.06         0.0503         34.0           0.00   \n0               1.11         0.0036          7.0           1.09   \n0               0.69         0.0317         95.0           0.69   \n...              ...            ...          ...            ...   \n0               0.41         0.0095          6.0           0.02   \n0               0.15         0.0113          8.0           0.00   \n0               0.52         0.0031          6.0           0.43   \n0               0.75         0.0546         39.0           0.75   \n0               0.09         0.0089         30.0           0.09   \n\n       3_amount_mean  ...  3_price_delta  4_amount_mean  4_nr_trades  \\\nindex                 ...                                              \n0             0.0767  ...           0.11         0.0725         35.0   \n0             0.0173  ...           0.11         0.0301         41.0   \n0             0.0489  ...           0.00         0.0481         36.0   \n0             0.0058  ...           0.77         0.0188         25.0   \n0             0.0341  ...           0.69         0.0360        145.0   \n...              ...  ...            ...            ...          ...   \n0             0.0084  ...           0.00         0.0074          8.0   \n0             0.0155  ...           0.00         0.0141         10.0   \n0             0.0035  ...           0.00         0.0037          9.0   \n0             0.0533  ...           0.75         0.0474         49.0   \n0             0.0107  ...           0.09         0.0103         33.0   \n\n       4_price_delta  last_price_delta_since_stabilized  \\\nindex                                                     \n0               0.01                              -0.78   \n0               0.00                              -1.84   \n0               0.00                              -0.74   \n0               0.54                              -0.89   \n0               0.00                               0.00   \n...              ...                                ...   \n0               0.00                               0.00   \n0               0.00                              -1.33   \n0               0.00                              -0.38   \n0               0.57                               0.00   \n0               0.05                               0.00   \n\n       stabilized_amount_mean  stabilized_at_ms  stabilized_gasp  \\\nindex                                                              \n0                      0.0706               108          -0.4798   \n0                      0.0295               186           0.2329   \n0                      0.0469               151          -0.8172   \n0                      0.0167               170          -0.9874   \n0                      0.0345               822          -0.5774   \n...                       ...               ...              ...   \n0                      0.0067               725          -0.1821   \n0                      0.0131               432          -0.0158   \n0                      0.0036               427          -0.1673   \n0                      0.0512               363          -0.8212   \n0                      0.0111               532          -0.4656   \n\n       stabilized_nr_trades  stabilized_spread  \nindex                                           \n0                      36.0               0.91  \n0                      42.0               1.67  \n0                      37.0               1.83  \n0                      38.0               1.81  \n0                     152.0               3.55  \n...                     ...                ...  \n0                       9.0               0.63  \n0                      11.0               0.45  \n0                      10.0               0.64  \n0                      82.0               1.39  \n0                      35.0               1.16  \n\n[47671 rows x 21 columns]",
      "text/html": "<div>\n<style scoped>\n    .dataframe tbody tr th:only-of-type {\n        vertical-align: middle;\n    }\n\n    .dataframe tbody tr th {\n        vertical-align: top;\n    }\n\n    .dataframe thead th {\n        text-align: right;\n    }\n</style>\n<table border=\"1\" class=\"dataframe\">\n  <thead>\n    <tr style=\"text-align: right;\">\n      <th></th>\n      <th>0_amount_mean</th>\n      <th>0_nr_trades</th>\n      <th>0_price_delta</th>\n      <th>1_amount_mean</th>\n      <th>1_nr_trades</th>\n      <th>1_price_delta</th>\n      <th>2_amount_mean</th>\n      <th>2_nr_trades</th>\n      <th>2_price_delta</th>\n      <th>3_amount_mean</th>\n      <th>...</th>\n      <th>3_price_delta</th>\n      <th>4_amount_mean</th>\n      <th>4_nr_trades</th>\n      <th>4_price_delta</th>\n      <th>last_price_delta_since_stabilized</th>\n      <th>stabilized_amount_mean</th>\n      <th>stabilized_at_ms</th>\n      <th>stabilized_gasp</th>\n      <th>stabilized_nr_trades</th>\n      <th>stabilized_spread</th>\n    </tr>\n    <tr>\n      <th>index</th>\n      <th></th>\n      <th></th>\n      <th></th>\n      <th></th>\n      <th></th>\n      <th></th>\n      <th></th>\n      <th></th>\n      <th></th>\n      <th></th>\n      <th></th>\n      <th></th>\n      <th></th>\n      <th></th>\n      <th></th>\n      <th></th>\n      <th></th>\n      <th></th>\n      <th></th>\n      <th></th>\n      <th></th>\n    </tr>\n  </thead>\n  <tbody>\n    <tr>\n      <th>0</th>\n      <td>0.0305</td>\n      <td>28.0</td>\n      <td>0.12</td>\n      <td>0.0815</td>\n      <td>30.0</td>\n      <td>0.11</td>\n      <td>0.0792</td>\n      <td>31.0</td>\n      <td>0.11</td>\n      <td>0.0767</td>\n      <td>...</td>\n      <td>0.11</td>\n      <td>0.0725</td>\n      <td>35.0</td>\n      <td>0.01</td>\n      <td>-0.78</td>\n      <td>0.0706</td>\n      <td>108</td>\n      <td>-0.4798</td>\n      <td>36.0</td>\n      <td>0.91</td>\n    </tr>\n    <tr>\n      <th>0</th>\n      <td>0.0078</td>\n      <td>5.0</td>\n      <td>0.84</td>\n      <td>0.0072</td>\n      <td>6.0</td>\n      <td>0.84</td>\n      <td>0.0122</td>\n      <td>8.0</td>\n      <td>0.84</td>\n      <td>0.0173</td>\n      <td>...</td>\n      <td>0.11</td>\n      <td>0.0301</td>\n      <td>41.0</td>\n      <td>0.00</td>\n      <td>-1.84</td>\n      <td>0.0295</td>\n      <td>186</td>\n      <td>0.2329</td>\n      <td>42.0</td>\n      <td>1.67</td>\n    </tr>\n    <tr>\n      <th>0</th>\n      <td>0.0348</td>\n      <td>30.0</td>\n      <td>0.14</td>\n      <td>0.0531</td>\n      <td>32.0</td>\n      <td>0.06</td>\n      <td>0.0503</td>\n      <td>34.0</td>\n      <td>0.00</td>\n      <td>0.0489</td>\n      <td>...</td>\n      <td>0.00</td>\n      <td>0.0481</td>\n      <td>36.0</td>\n      <td>0.00</td>\n      <td>-0.74</td>\n      <td>0.0469</td>\n      <td>151</td>\n      <td>-0.8172</td>\n      <td>37.0</td>\n      <td>1.83</td>\n    </tr>\n    <tr>\n      <th>0</th>\n      <td>0.0031</td>\n      <td>4.0</td>\n      <td>1.11</td>\n      <td>0.0027</td>\n      <td>5.0</td>\n      <td>1.11</td>\n      <td>0.0036</td>\n      <td>7.0</td>\n      <td>1.09</td>\n      <td>0.0058</td>\n      <td>...</td>\n      <td>0.77</td>\n      <td>0.0188</td>\n      <td>25.0</td>\n      <td>0.54</td>\n      <td>-0.89</td>\n      <td>0.0167</td>\n      <td>170</td>\n      <td>-0.9874</td>\n      <td>38.0</td>\n      <td>1.81</td>\n    </tr>\n    <tr>\n      <th>0</th>\n      <td>0.0318</td>\n      <td>92.0</td>\n      <td>0.69</td>\n      <td>0.0315</td>\n      <td>93.0</td>\n      <td>0.69</td>\n      <td>0.0317</td>\n      <td>95.0</td>\n      <td>0.69</td>\n      <td>0.0341</td>\n      <td>...</td>\n      <td>0.69</td>\n      <td>0.0360</td>\n      <td>145.0</td>\n      <td>0.00</td>\n      <td>0.00</td>\n      <td>0.0345</td>\n      <td>822</td>\n      <td>-0.5774</td>\n      <td>152.0</td>\n      <td>3.55</td>\n    </tr>\n    <tr>\n      <th>...</th>\n      <td>...</td>\n      <td>...</td>\n      <td>...</td>\n      <td>...</td>\n      <td>...</td>\n      <td>...</td>\n      <td>...</td>\n      <td>...</td>\n      <td>...</td>\n      <td>...</td>\n      <td>...</td>\n      <td>...</td>\n      <td>...</td>\n      <td>...</td>\n      <td>...</td>\n      <td>...</td>\n      <td>...</td>\n      <td>...</td>\n      <td>...</td>\n      <td>...</td>\n      <td>...</td>\n    </tr>\n    <tr>\n      <th>0</th>\n      <td>0.0017</td>\n      <td>3.0</td>\n      <td>0.41</td>\n      <td>0.0108</td>\n      <td>5.0</td>\n      <td>0.41</td>\n      <td>0.0095</td>\n      <td>6.0</td>\n      <td>0.02</td>\n      <td>0.0084</td>\n      <td>...</td>\n      <td>0.00</td>\n      <td>0.0074</td>\n      <td>8.0</td>\n      <td>0.00</td>\n      <td>0.00</td>\n      <td>0.0067</td>\n      <td>725</td>\n      <td>-0.1821</td>\n      <td>9.0</td>\n      <td>0.63</td>\n    </tr>\n    <tr>\n      <th>0</th>\n      <td>0.0066</td>\n      <td>4.0</td>\n      <td>0.17</td>\n      <td>0.0086</td>\n      <td>6.0</td>\n      <td>0.15</td>\n      <td>0.0113</td>\n      <td>8.0</td>\n      <td>0.00</td>\n      <td>0.0155</td>\n      <td>...</td>\n      <td>0.00</td>\n      <td>0.0141</td>\n      <td>10.0</td>\n      <td>0.00</td>\n      <td>-1.33</td>\n      <td>0.0131</td>\n      <td>432</td>\n      <td>-0.0158</td>\n      <td>11.0</td>\n      <td>0.45</td>\n    </tr>\n    <tr>\n      <th>0</th>\n      <td>0.0054</td>\n      <td>3.0</td>\n      <td>0.52</td>\n      <td>0.0042</td>\n      <td>4.0</td>\n      <td>0.52</td>\n      <td>0.0031</td>\n      <td>6.0</td>\n      <td>0.43</td>\n      <td>0.0035</td>\n      <td>...</td>\n      <td>0.00</td>\n      <td>0.0037</td>\n      <td>9.0</td>\n      <td>0.00</td>\n      <td>-0.38</td>\n      <td>0.0036</td>\n      <td>427</td>\n      <td>-0.1673</td>\n      <td>10.0</td>\n      <td>0.64</td>\n    </tr>\n    <tr>\n      <th>0</th>\n      <td>0.0591</td>\n      <td>36.0</td>\n      <td>0.75</td>\n      <td>0.0560</td>\n      <td>38.0</td>\n      <td>0.75</td>\n      <td>0.0546</td>\n      <td>39.0</td>\n      <td>0.75</td>\n      <td>0.0533</td>\n      <td>...</td>\n      <td>0.75</td>\n      <td>0.0474</td>\n      <td>49.0</td>\n      <td>0.57</td>\n      <td>0.00</td>\n      <td>0.0512</td>\n      <td>363</td>\n      <td>-0.8212</td>\n      <td>82.0</td>\n      <td>1.39</td>\n    </tr>\n    <tr>\n      <th>0</th>\n      <td>0.0084</td>\n      <td>27.0</td>\n      <td>0.09</td>\n      <td>0.0081</td>\n      <td>28.0</td>\n      <td>0.09</td>\n      <td>0.0089</td>\n      <td>30.0</td>\n      <td>0.09</td>\n      <td>0.0107</td>\n      <td>...</td>\n      <td>0.09</td>\n      <td>0.0103</td>\n      <td>33.0</td>\n      <td>0.05</td>\n      <td>0.00</td>\n      <td>0.0111</td>\n      <td>532</td>\n      <td>-0.4656</td>\n      <td>35.0</td>\n      <td>1.16</td>\n    </tr>\n  </tbody>\n</table>\n<p>47671 rows × 21 columns</p>\n</div>"
     },
     "metadata": {},
     "output_type": "display_data"
    },
    {
     "data": {
      "text/plain": "count    47671.000000\nmean         0.540317\nstd          0.950748\nmin         -0.000000\n25%         -0.000000\n50%          0.180000\n75%          0.670000\nmax         17.160000\nName: last_price_delta_since_stabilized, dtype: float64"
     },
     "execution_count": 70,
     "metadata": {},
     "output_type": "execute_result"
    }
   ],
   "source": [
    "import pandas as pd\n",
    "from sklearn.model_selection import train_test_split\n",
    "from sklearn.pipeline import Pipeline\n",
    "import numpy as np\n",
    "\n",
    "df = pd.read_parquet('./data')\n",
    "print(f'total dataset: {len(df)} rows')\n",
    "\n",
    "## filters\n",
    "# df = df[df['stabilized_spread'] < 10]  # nem tul nagy spread\n",
    "df = df[df['stabilized_spread'] > 0.3]  # nem tul kis spread\n",
    "\n",
    "for col in df.columns:\n",
    "    if 'nr_trades' in col or 'price_delta' in col and not col.startswith('last'):\n",
    "        df.drop(col, axis=1, inplace=True)\n",
    "    if 'nr_trades' in col:\n",
    "        df.drop(col, axis=1, inplace=True)\n",
    "    if 'past' in col:\n",
    "        df.drop(col, axis=1, inplace=True)\n",
    "    if '_spread' == col[1:]:\n",
    "        df.drop(col, axis=1, inplace=True)\n",
    "    pass\n",
    "\n",
    "df_min = df[df.wave_direction == 'min'].copy()\n",
    "df_max = df[df.wave_direction == 'max'].copy()\n",
    "\n",
    "df_min.drop('wave_direction', axis=1, inplace=True)\n",
    "df_max.drop('wave_direction', axis=1, inplace=True)\n",
    "df = None\n",
    "print(f'min dataset: {len(df_min)}')\n",
    "print(f'max dataset: {len(df_max)}')\n",
    "\n",
    "df_min.sort_index(axis=1, inplace=True)\n",
    "df_max.sort_index(axis=1, inplace=True)\n",
    "\n",
    "display(df_max)\n",
    "\n",
    "df_max.last_price_delta_since_stabilized = df_max.last_price_delta_since_stabilized * -1\n",
    "df_max.last_price_delta_since_stabilized.describe()"
   ]
  },
  {
   "cell_type": "code",
   "execution_count": 69,
   "outputs": [
    {
     "data": {
      "text/plain": "last_price_delta_since_stabilized    1000.000000\nstabilized_spread                     123.918287\n4_price_delta                          88.350255\nstabilized_amount_mean                 70.177820\n0_price_delta                          65.923447\n1_price_delta                          63.136621\n4_amount_mean                          60.323552\n2_price_delta                          59.494922\n3_amount_mean                          58.861296\n3_price_delta                          56.969403\n2_amount_mean                          54.322352\n1_amount_mean                          53.223830\n0_amount_mean                          50.861739\nstabilized_gasp                        11.784142\n0_nr_trades                           -33.135432\n1_nr_trades                           -37.499456\n2_nr_trades                           -43.249126\n3_nr_trades                           -49.149722\nstabilized_nr_trades                  -51.989173\n4_nr_trades                           -59.978086\nstabilized_at_ms                     -290.340825\nName: last_price_delta_since_stabilized, dtype: float64"
     },
     "metadata": {},
     "output_type": "display_data"
    },
    {
     "data": {
      "text/plain": "last_price_delta_since_stabilized    1000.000000\nstabilized_spread                     122.643480\n4_price_delta                          90.993986\nstabilized_amount_mean                 69.117536\n3_price_delta                          61.301452\n4_amount_mean                          55.909274\n2_price_delta                          54.266697\n0_price_delta                          54.241868\n3_amount_mean                          52.577247\n1_price_delta                          48.174192\n1_amount_mean                          47.040900\n2_amount_mean                          46.378958\n0_amount_mean                          44.175660\nstabilized_gasp                        -4.394740\n0_nr_trades                           -23.902719\n1_nr_trades                           -28.209372\n2_nr_trades                           -35.360784\n3_nr_trades                           -41.295565\nstabilized_nr_trades                  -41.358331\n4_nr_trades                           -51.975494\nstabilized_at_ms                     -286.581690\nName: last_price_delta_since_stabilized, dtype: float64"
     },
     "metadata": {},
     "output_type": "display_data"
    }
   ],
   "source": [
    "a = df_min.corr().last_price_delta_since_stabilized * 1000\n",
    "display(a.sort_values(axis=0, ascending=False))\n",
    "\n",
    "a = df_max.corr().last_price_delta_since_stabilized * 1000\n",
    "display(a.sort_values(axis=0, ascending=False))\n"
   ],
   "metadata": {
    "collapsed": false
   }
  },
  {
   "cell_type": "code",
   "execution_count": 82,
   "outputs": [
    {
     "data": {
      "text/plain": "0.15643907191202266"
     },
     "metadata": {},
     "output_type": "display_data"
    }
   ],
   "source": [
    "from spreadsurfer.price_engine import FeatureEngineer\n",
    "from catboost import CatBoostRegressor\n",
    "from sklearn.preprocessing import StandardScaler\n",
    "\n",
    "\n",
    "def train(df, loss_function):\n",
    "    # model = CatBoostRegressor(learning_rate=0.01, depth=7, loss_function=loss_function, random_state=0, verbose=False, iterations=1500)\n",
    "    model = CatBoostRegressor(learning_rate=0.15, depth=6, loss_function=loss_function, random_state=0, verbose=False)\n",
    "    pipeline = Pipeline(steps=[\n",
    "        ('preprocessor', FeatureEngineer()),\n",
    "        ('model', model)\n",
    "    ])\n",
    "\n",
    "    df = df.copy()\n",
    "    y = df['last_price_delta_since_stabilized']\n",
    "    X = df.drop('last_price_delta_since_stabilized', axis=1)\n",
    "    X_train, X_valid, y_train, y_valid = train_test_split(X, y, train_size=0.7, test_size=0.3, random_state=0)\n",
    "\n",
    "    pipeline.fit(X_train, y_train)\n",
    "    score = pipeline.score(X_valid, y_valid)\n",
    "    display(score)\n",
    "    return model, score\n",
    "\n",
    "\n",
    "# min_model, min_score = train(df_min, loss_function='MAPE')\n",
    "# max_model, max_score = train(df_max, loss_function='MAPE')\n",
    "\n",
    "# min_model, min_score = train(df_min, loss_function='RMSE')\n",
    "# max_model, max_score = train(df_max, loss_function='RMSE')\n",
    "\n",
    "# min_model, min_score = train(df_min, loss_function='Poisson') # 0.12\n",
    "# max_model, max_score = train(df_max, loss_function='Poisson') # 0.14\n",
    "\n",
    "# min_model, min_score = train(df_min, loss_function='Huber:delta=0.4')\n",
    "# max_model, max_score = train(df_max, loss_function='Huber:delta=0.4')\n",
    "\n",
    "# max_model, max_score = train(df_max, loss_function='Quantile:alpha=0.8')\n",
    "# max_model, max_score = train(df_max, loss_function='Quantile:alpha=0.7')\n",
    "# max_model, max_score = train(df_max, loss_function='Quantile:alpha=0.6')\n",
    "# max_model, max_score = train(df_max, loss_function='Quantile:alpha=0.5')\n",
    "# max_model, max_score = train(df_max, loss_function='Quantile:alpha=0.4')\n",
    "# max_model, max_score = train(df_max, loss_function='Quantile:alpha=0.3')\n",
    "# max_model, max_score = train(df_max, loss_function='Quantile:alpha=0.2')\n",
    "\n",
    "max_model, max_score = train(df_max, loss_function='Quantile:alpha=0.7')\n",
    "\n"
   ],
   "metadata": {
    "collapsed": false
   }
  },
  {
   "cell_type": "code",
   "execution_count": 83,
   "outputs": [],
   "source": [
    "from spreadsurfer import now_isoformat\n",
    "\n",
    "save = True\n",
    "if save:\n",
    "    # min_model.save_model(f'./models/{now_isoformat()}-min_-quantile0.7-score-{1000 * round(min_score, 3)}.cat')\n",
    "    max_model.save_model(f'./models/{now_isoformat()}-max_quantile0.7-score-{1000 * round(max_score, 3)}.cat')\n"
   ],
   "metadata": {
    "collapsed": false
   }
  }
 ],
 "metadata": {
  "kernelspec": {
   "display_name": "Python 3",
   "language": "python",
   "name": "python3"
  },
  "language_info": {
   "codemirror_mode": {
    "name": "ipython",
    "version": 2
   },
   "file_extension": ".py",
   "mimetype": "text/x-python",
   "name": "python",
   "nbconvert_exporter": "python",
   "pygments_lexer": "ipython2",
   "version": "2.7.6"
  }
 },
 "nbformat": 4,
 "nbformat_minor": 0
}
