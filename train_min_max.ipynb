{
 "cells": [
  {
   "cell_type": "code",
   "execution_count": 49,
   "metadata": {
    "collapsed": true
   },
   "outputs": [
    {
     "name": "stdout",
     "output_type": "stream",
     "text": [
      "total dataset: 130438 rows\n",
      "min dataset: 45737\n",
      "max dataset: 46146\n"
     ]
    },
    {
     "data": {
      "text/plain": "index\n0    0.78\n0    1.84\n0    0.74\n0    0.89\n0   -0.00\n     ... \n0   -0.00\n0    0.89\n0    1.62\n0    2.46\n0    5.52\nName: last_price_delta_since_stabilized, Length: 46146, dtype: float64"
     },
     "execution_count": 49,
     "metadata": {},
     "output_type": "execute_result"
    }
   ],
   "source": [
    "import pandas as pd\n",
    "from sklearn.model_selection import train_test_split\n",
    "from sklearn.pipeline import Pipeline\n",
    "\n",
    "df = pd.read_parquet('./data')\n",
    "print(f'total dataset: {len(df)} rows')\n",
    "\n",
    "## filters\n",
    "# df = df[df['stabilized_spread'] < 10]  # nem tul nagy spread\n",
    "df = df[df['stabilized_spread'] > 0.3]  # nem tul kis spread\n",
    "\n",
    "for col in df.columns:\n",
    "    # if 'nr_trades' in col or 'price_delta' in col and not col.startswith('last'):\n",
    "    #     df.drop(col, axis=1, inplace=True)\n",
    "    # if 'nr_trades' in col:\n",
    "    #     df.drop(col, axis=1, inplace=True)\n",
    "    # if 'past' in col:\n",
    "    #     df.drop(col, axis=1, inplace=True)\n",
    "    # if '_spread' == col[1:]:\n",
    "    #     df.drop(col, axis=1, inplace=True)\n",
    "    pass\n",
    "\n",
    "df_min = df[df.wave_direction == 'min'].copy()\n",
    "df_max = df[df.wave_direction == 'max'].copy()\n",
    "\n",
    "df_min.drop('wave_direction', axis=1, inplace=True)\n",
    "df_max.drop('wave_direction', axis=1, inplace=True)\n",
    "df = None\n",
    "print(f'min dataset: {len(df_min)}')\n",
    "print(f'max dataset: {len(df_max)}')\n",
    "\n",
    "df_min.sort_index(axis=1, inplace=True)\n",
    "df_max.sort_index(axis=1, inplace=True)\n",
    "\n",
    "df_max.last_price_delta_since_stabilized = df_max.last_price_delta_since_stabilized * -1\n"
   ]
  },
  {
   "cell_type": "code",
   "execution_count": 14,
   "outputs": [
    {
     "data": {
      "text/plain": "last_price_delta_since_stabilized    1000.000000\nstabilized_spread                     121.255248\n4_price_delta                          87.125520\nstabilized_amount_mean                 70.170515\n0_price_delta                          63.571120\n1_price_delta                          61.073696\n4_amount_mean                          60.769982\n3_amount_mean                          58.992283\n2_price_delta                          57.510423\n3_price_delta                          54.599929\n2_amount_mean                          54.372355\n1_amount_mean                          52.494637\n0_amount_mean                          50.198359\nstabilized_gasp                        10.982964\n0_nr_trades                           -35.906691\n1_nr_trades                           -40.612537\n2_nr_trades                           -46.274581\n3_nr_trades                           -51.991202\nstabilized_nr_trades                  -55.008424\n4_nr_trades                           -63.127651\nstabilized_at_ms                     -288.560535\nName: last_price_delta_since_stabilized, dtype: float64"
     },
     "metadata": {},
     "output_type": "display_data"
    },
    {
     "data": {
      "text/plain": "last_price_delta_since_stabilized    1000.000000\nstabilized_at_ms                      288.071634\n4_nr_trades                            56.124143\nstabilized_nr_trades                   45.255247\n3_nr_trades                            45.155037\n2_nr_trades                            38.702827\n1_nr_trades                            31.744374\n0_nr_trades                            27.550893\nstabilized_gasp                         3.268431\n0_amount_mean                         -43.589269\n2_amount_mean                         -46.663917\n1_price_delta                         -46.974294\n1_amount_mean                         -47.050284\n3_amount_mean                         -52.446433\n2_price_delta                         -52.733642\n0_price_delta                         -52.778477\n4_amount_mean                         -55.756021\n3_price_delta                         -61.113229\nstabilized_amount_mean                -69.204663\n4_price_delta                         -91.336248\nstabilized_spread                    -120.087417\nName: last_price_delta_since_stabilized, dtype: float64"
     },
     "metadata": {},
     "output_type": "display_data"
    }
   ],
   "source": [
    "a = df_min.corr().last_price_delta_since_stabilized * 1000\n",
    "display(a.sort_values(axis=0, ascending=False))\n",
    "\n",
    "a = df_max.corr().last_price_delta_since_stabilized * 1000\n",
    "display(a.sort_values(axis=0, ascending=False))\n"
   ],
   "metadata": {
    "collapsed": false
   }
  },
  {
   "cell_type": "code",
   "execution_count": 50,
   "outputs": [
    {
     "data": {
      "text/plain": "0.12562247115078307"
     },
     "metadata": {},
     "output_type": "display_data"
    },
    {
     "data": {
      "text/plain": "0.14840873378065234"
     },
     "metadata": {},
     "output_type": "display_data"
    }
   ],
   "source": [
    "from spreadsurfer.price_engine import FeatureEngineer\n",
    "from catboost import CatBoostRegressor\n",
    "from sklearn.preprocessing import StandardScaler\n",
    "\n",
    "\n",
    "def train(df, loss_function):\n",
    "    # model = CatBoostRegressor(learning_rate=0.01, depth=7, loss_function=loss_function, random_state=0, verbose=False, iterations=1500)\n",
    "    model = CatBoostRegressor(learning_rate=0.15, depth=6, loss_function=loss_function, random_state=0, verbose=False)\n",
    "    pipeline = Pipeline(steps=[\n",
    "        ('preprocessor', FeatureEngineer()),\n",
    "        ('model', model)\n",
    "    ])\n",
    "\n",
    "    df = df.copy()\n",
    "    y = df['last_price_delta_since_stabilized']\n",
    "    X = df.drop('last_price_delta_since_stabilized', axis=1)\n",
    "    X_train, X_valid, y_train, y_valid = train_test_split(X, y, train_size=0.7, test_size=0.3, random_state=0)\n",
    "\n",
    "    pipeline.fit(X_train, y_train)\n",
    "    score = pipeline.score(X_valid, y_valid)\n",
    "    display(score)\n",
    "    return model, score\n",
    "\n",
    "\n",
    "# min_model, min_score = train(df_min, loss_function='MAPE')\n",
    "# max_model, max_score = train(df_max, loss_function='MAPE')\n",
    "\n",
    "# min_model, min_score = train(df_min, loss_function='RMSE')\n",
    "# max_model, max_score = train(df_max, loss_function='RMSE')\n",
    "\n",
    "min_model, min_score = train(df_min, loss_function='Poisson') # 0.12\n",
    "max_model, max_score = train(df_max, loss_function='Poisson') # 0.14\n",
    "\n",
    "# min_model, min_score = train(df_min, loss_function='Huber:delta=0.4')\n",
    "# max_model, max_score = train(df_max, loss_function='Huber:delta=0.4')\n",
    "\n",
    "# min_model, min_score = train(df_min, loss_function='Quantile:alpha=0.7')\n",
    "# max_model, max_score = train(df_max, loss_function='Quantile:alpha=0.7')\n",
    "\n"
   ],
   "metadata": {
    "collapsed": false
   }
  },
  {
   "cell_type": "code",
   "execution_count": 51,
   "outputs": [],
   "source": [
    "from spreadsurfer import now_isoformat\n",
    "\n",
    "save = True\n",
    "if save:\n",
    "    min_model.save_model(f'./models/{now_isoformat()}-min_poisson-slower-score-{1000 * round(min_score, 3)}.cat')\n",
    "    max_model.save_model(f'./models/{now_isoformat()}-max_poisson-slower-inv-score-{1000 * round(max_score, 3)}.cat')\n"
   ],
   "metadata": {
    "collapsed": false
   }
  }
 ],
 "metadata": {
  "kernelspec": {
   "display_name": "Python 3",
   "language": "python",
   "name": "python3"
  },
  "language_info": {
   "codemirror_mode": {
    "name": "ipython",
    "version": 2
   },
   "file_extension": ".py",
   "mimetype": "text/x-python",
   "name": "python",
   "nbconvert_exporter": "python",
   "pygments_lexer": "ipython2",
   "version": "2.7.6"
  }
 },
 "nbformat": 4,
 "nbformat_minor": 0
}
