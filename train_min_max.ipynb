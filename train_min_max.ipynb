{
 "cells": [
  {
   "cell_type": "code",
   "execution_count": 1,
   "metadata": {
    "collapsed": true
   },
   "outputs": [
    {
     "name": "stdout",
     "output_type": "stream",
     "text": [
      "total dataset: 181297 rows\n",
      "min dataset: 61672\n",
      "max dataset: 62725\n"
     ]
    },
    {
     "data": {
      "text/plain": "       0_amount_mean  1_amount_mean  2_amount_mean  3_amount_mean  \\\nindex                                                               \n0             0.0305         0.0815         0.0792         0.0767   \n0             0.0078         0.0072         0.0122         0.0173   \n0             0.0348         0.0531         0.0503         0.0489   \n0             0.0031         0.0027         0.0036         0.0058   \n0             0.0318         0.0315         0.0317         0.0341   \n...              ...            ...            ...            ...   \n0             0.0591         0.0402         0.0305         0.0462   \n0             0.0174         0.0065         0.0060         0.0056   \n0             0.0135         0.0492         0.0470         0.0447   \n0             0.0245         0.0307         0.0322         0.0315   \n0             0.0005         0.0005         0.0005         0.0011   \n\n       4_amount_mean  last_price_delta_since_stabilized  \\\nindex                                                     \n0             0.0725                              -0.78   \n0             0.0301                              -1.84   \n0             0.0481                              -0.74   \n0             0.0188                              -0.89   \n0             0.0360                               0.00   \n...              ...                                ...   \n0             0.0412                              -2.92   \n0             0.0054                              -2.23   \n0             0.0426                              -1.80   \n0             0.0314                              -1.24   \n0             0.0011                              -4.09   \n\n       stabilized_amount_mean  stabilized_at_ms  stabilized_gasp  \\\nindex                                                              \n0                      0.0706               108          -0.4798   \n0                      0.0295               186           0.2329   \n0                      0.0469               151          -0.8172   \n0                      0.0167               170          -0.9874   \n0                      0.0345               822          -0.5774   \n...                       ...               ...              ...   \n0                      0.0370               162          -1.3984   \n0                      0.0120               148          -0.9416   \n0                      0.0416                74          -1.9380   \n0                      0.0324               172           0.0290   \n0                      0.0119               176           0.0509   \n\n       stabilized_spread  \nindex                     \n0                   0.91  \n0                   1.67  \n0                   1.83  \n0                   1.81  \n0                   3.55  \n...                  ...  \n0                   2.10  \n0                   1.34  \n0                   2.24  \n0                   2.27  \n0                   0.36  \n\n[62725 rows x 10 columns]",
      "text/html": "<div>\n<style scoped>\n    .dataframe tbody tr th:only-of-type {\n        vertical-align: middle;\n    }\n\n    .dataframe tbody tr th {\n        vertical-align: top;\n    }\n\n    .dataframe thead th {\n        text-align: right;\n    }\n</style>\n<table border=\"1\" class=\"dataframe\">\n  <thead>\n    <tr style=\"text-align: right;\">\n      <th></th>\n      <th>0_amount_mean</th>\n      <th>1_amount_mean</th>\n      <th>2_amount_mean</th>\n      <th>3_amount_mean</th>\n      <th>4_amount_mean</th>\n      <th>last_price_delta_since_stabilized</th>\n      <th>stabilized_amount_mean</th>\n      <th>stabilized_at_ms</th>\n      <th>stabilized_gasp</th>\n      <th>stabilized_spread</th>\n    </tr>\n    <tr>\n      <th>index</th>\n      <th></th>\n      <th></th>\n      <th></th>\n      <th></th>\n      <th></th>\n      <th></th>\n      <th></th>\n      <th></th>\n      <th></th>\n      <th></th>\n    </tr>\n  </thead>\n  <tbody>\n    <tr>\n      <th>0</th>\n      <td>0.0305</td>\n      <td>0.0815</td>\n      <td>0.0792</td>\n      <td>0.0767</td>\n      <td>0.0725</td>\n      <td>-0.78</td>\n      <td>0.0706</td>\n      <td>108</td>\n      <td>-0.4798</td>\n      <td>0.91</td>\n    </tr>\n    <tr>\n      <th>0</th>\n      <td>0.0078</td>\n      <td>0.0072</td>\n      <td>0.0122</td>\n      <td>0.0173</td>\n      <td>0.0301</td>\n      <td>-1.84</td>\n      <td>0.0295</td>\n      <td>186</td>\n      <td>0.2329</td>\n      <td>1.67</td>\n    </tr>\n    <tr>\n      <th>0</th>\n      <td>0.0348</td>\n      <td>0.0531</td>\n      <td>0.0503</td>\n      <td>0.0489</td>\n      <td>0.0481</td>\n      <td>-0.74</td>\n      <td>0.0469</td>\n      <td>151</td>\n      <td>-0.8172</td>\n      <td>1.83</td>\n    </tr>\n    <tr>\n      <th>0</th>\n      <td>0.0031</td>\n      <td>0.0027</td>\n      <td>0.0036</td>\n      <td>0.0058</td>\n      <td>0.0188</td>\n      <td>-0.89</td>\n      <td>0.0167</td>\n      <td>170</td>\n      <td>-0.9874</td>\n      <td>1.81</td>\n    </tr>\n    <tr>\n      <th>0</th>\n      <td>0.0318</td>\n      <td>0.0315</td>\n      <td>0.0317</td>\n      <td>0.0341</td>\n      <td>0.0360</td>\n      <td>0.00</td>\n      <td>0.0345</td>\n      <td>822</td>\n      <td>-0.5774</td>\n      <td>3.55</td>\n    </tr>\n    <tr>\n      <th>...</th>\n      <td>...</td>\n      <td>...</td>\n      <td>...</td>\n      <td>...</td>\n      <td>...</td>\n      <td>...</td>\n      <td>...</td>\n      <td>...</td>\n      <td>...</td>\n      <td>...</td>\n    </tr>\n    <tr>\n      <th>0</th>\n      <td>0.0591</td>\n      <td>0.0402</td>\n      <td>0.0305</td>\n      <td>0.0462</td>\n      <td>0.0412</td>\n      <td>-2.92</td>\n      <td>0.0370</td>\n      <td>162</td>\n      <td>-1.3984</td>\n      <td>2.10</td>\n    </tr>\n    <tr>\n      <th>0</th>\n      <td>0.0174</td>\n      <td>0.0065</td>\n      <td>0.0060</td>\n      <td>0.0056</td>\n      <td>0.0054</td>\n      <td>-2.23</td>\n      <td>0.0120</td>\n      <td>148</td>\n      <td>-0.9416</td>\n      <td>1.34</td>\n    </tr>\n    <tr>\n      <th>0</th>\n      <td>0.0135</td>\n      <td>0.0492</td>\n      <td>0.0470</td>\n      <td>0.0447</td>\n      <td>0.0426</td>\n      <td>-1.80</td>\n      <td>0.0416</td>\n      <td>74</td>\n      <td>-1.9380</td>\n      <td>2.24</td>\n    </tr>\n    <tr>\n      <th>0</th>\n      <td>0.0245</td>\n      <td>0.0307</td>\n      <td>0.0322</td>\n      <td>0.0315</td>\n      <td>0.0314</td>\n      <td>-1.24</td>\n      <td>0.0324</td>\n      <td>172</td>\n      <td>0.0290</td>\n      <td>2.27</td>\n    </tr>\n    <tr>\n      <th>0</th>\n      <td>0.0005</td>\n      <td>0.0005</td>\n      <td>0.0005</td>\n      <td>0.0011</td>\n      <td>0.0011</td>\n      <td>-4.09</td>\n      <td>0.0119</td>\n      <td>176</td>\n      <td>0.0509</td>\n      <td>0.36</td>\n    </tr>\n  </tbody>\n</table>\n<p>62725 rows × 10 columns</p>\n</div>"
     },
     "metadata": {},
     "output_type": "display_data"
    },
    {
     "data": {
      "text/plain": "count    62725.000000\nmean        -0.578860\nstd          0.993386\nmin        -17.160000\n25%         -0.730000\n50%         -0.200000\n75%          0.000000\nmax          0.000000\nName: last_price_delta_since_stabilized, dtype: float64"
     },
     "execution_count": 1,
     "metadata": {},
     "output_type": "execute_result"
    }
   ],
   "source": [
    "import pandas as pd\n",
    "from sklearn.model_selection import train_test_split\n",
    "from sklearn.pipeline import Pipeline\n",
    "import numpy as np\n",
    "\n",
    "df = pd.read_parquet('./data')\n",
    "print(f'total dataset: {len(df)} rows')\n",
    "\n",
    "## filters\n",
    "# df = df[df['stabilized_spread'] < 10]  # nem tul nagy spread\n",
    "df = df[df['stabilized_spread'] > 0.3]  # nem tul kis spread\n",
    "\n",
    "for col in df.columns:\n",
    "    if 'nr_trades' in col or 'price_delta' in col and not col.startswith('last'):\n",
    "        df.drop(col, axis=1, inplace=True)\n",
    "    # if 'nr_trades' in col:\n",
    "    #     df.drop(col, axis=1, inplace=True)\n",
    "    if 'past' in col:\n",
    "        df.drop(col, axis=1, inplace=True)\n",
    "    if '_spread' == col[1:]:\n",
    "        df.drop(col, axis=1, inplace=True)\n",
    "    pass\n",
    "\n",
    "df_min = df[df.wave_direction == 'min'].copy()\n",
    "df_max = df[df.wave_direction == 'max'].copy()\n",
    "\n",
    "df_min.drop('wave_direction', axis=1, inplace=True)\n",
    "df_max.drop('wave_direction', axis=1, inplace=True)\n",
    "df = None\n",
    "print(f'min dataset: {len(df_min)}')\n",
    "print(f'max dataset: {len(df_max)}')\n",
    "\n",
    "df_min.sort_index(axis=1, inplace=True)\n",
    "df_max.sort_index(axis=1, inplace=True)\n",
    "\n",
    "display(df_max)\n",
    "\n",
    "# df_max.last_price_delta_since_stabilized = df_max.last_price_delta_since_stabilized * -1\n",
    "df_max.last_price_delta_since_stabilized.describe()"
   ]
  },
  {
   "cell_type": "code",
   "execution_count": 2,
   "outputs": [
    {
     "data": {
      "text/plain": "last_price_delta_since_stabilized    1000.000000\nstabilized_spread                     127.382395\nstabilized_amount_mean                 66.918363\n4_amount_mean                          57.699117\n3_amount_mean                          55.419810\n2_amount_mean                          51.350720\n1_amount_mean                          50.199775\n0_amount_mean                          48.921019\nstabilized_gasp                        15.069423\nstabilized_at_ms                     -299.774501\nName: last_price_delta_since_stabilized, dtype: float64"
     },
     "metadata": {},
     "output_type": "display_data"
    },
    {
     "data": {
      "text/plain": "last_price_delta_since_stabilized    1000.000000\nstabilized_at_ms                      294.647192\nstabilized_gasp                         5.988095\n1_amount_mean                         -41.875984\n2_amount_mean                         -41.880710\n0_amount_mean                         -42.161516\n3_amount_mean                         -48.790441\n4_amount_mean                         -52.477130\nstabilized_amount_mean                -64.315900\nstabilized_spread                    -124.628688\nName: last_price_delta_since_stabilized, dtype: float64"
     },
     "metadata": {},
     "output_type": "display_data"
    }
   ],
   "source": [
    "a = df_min.corr().last_price_delta_since_stabilized * 1000\n",
    "display(a.sort_values(axis=0, ascending=False))\n",
    "\n",
    "a = df_max.corr().last_price_delta_since_stabilized * 1000\n",
    "display(a.sort_values(axis=0, ascending=False))\n"
   ],
   "metadata": {
    "collapsed": false
   }
  },
  {
   "cell_type": "code",
   "execution_count": 3,
   "outputs": [
    {
     "name": "stderr",
     "output_type": "stream",
     "text": [
      "2023-02-08 21:15:20.885 | INFO     | spreadsurfer.balance:<module>:9 - balance config: {'panic_below_total': 390, 'panic_countdown_from': 8, 'panic_below_profitability': -0.00015}\n",
      "2023-02-08 21:15:20.886 | INFO     | spreadsurfer.waves:<module>:15 - wave detection config: {'min_length': 6, 'investigate_length': 5, 'stabilized_threshold': 0.01, 'max_delta_ms_to_create_order': 500, 'collect_last_n_frames': 6, 'collect_last_n_wave_prices': 10}\n",
      "2023-02-08 21:15:20.930 | INFO     | spreadsurfer.orders:<module>:18 - order config: {'orders_disabled': False, 'test_mode': True, 'max_nr_orders_limited': True, 'max_nr_orders_created': 20, 'base_amount': 0.0015, 'skip_order_on_spread_below': 0.2, 'skip_order_on_spread_above': 10, 'low_spread_limit': 0.2, 'recv_window': 100, 'cancel_far_order_after_ms': 400}\n"
     ]
    },
    {
     "data": {
      "text/plain": "-0.16813498332933108"
     },
     "metadata": {},
     "output_type": "display_data"
    }
   ],
   "source": [
    "from spreadsurfer.price_engine import FeatureEngineer\n",
    "from catboost import CatBoostRegressor\n",
    "from sklearn.preprocessing import StandardScaler\n",
    "\n",
    "\n",
    "def train(df, loss_function):\n",
    "    # model = CatBoostRegressor(learning_rate=0.01, depth=7, loss_function=loss_function, random_state=0, verbose=False, iterations=1500)\n",
    "    model = CatBoostRegressor(learning_rate=0.15, depth=6, loss_function=loss_function, random_state=0, verbose=False)\n",
    "    pipeline = Pipeline(steps=[\n",
    "        ('preprocessor', FeatureEngineer()),\n",
    "        ('model', model)\n",
    "    ])\n",
    "\n",
    "    df = df.copy()\n",
    "    y = df['last_price_delta_since_stabilized']\n",
    "    X = df.drop('last_price_delta_since_stabilized', axis=1)\n",
    "    X_train, X_valid, y_train, y_valid = train_test_split(X, y, train_size=0.7, test_size=0.3, random_state=0)\n",
    "\n",
    "    pipeline.fit(X_train, y_train)\n",
    "    score = pipeline.score(X_valid, y_valid)\n",
    "    display(score)\n",
    "    return model, score\n",
    "\n",
    "\n",
    "# min_model, min_score = train(df_min, loss_function='MAPE')\n",
    "# max_model, max_score = train(df_max, loss_function='MAPE')\n",
    "\n",
    "# min_model, min_score = train(df_min, loss_function='RMSE')\n",
    "# max_model, max_score = train(df_max, loss_function='RMSE')\n",
    "\n",
    "# min_model, min_score = train(df_min, loss_function='Poisson') # 0.12\n",
    "# max_model, max_score = train(df_max, loss_function='Poisson') # 0.14\n",
    "\n",
    "# min_model, min_score = train(df_min, loss_function='Huber:delta=0.4')\n",
    "# max_model, max_score = train(df_max, loss_function='Huber:delta=0.4')\n",
    "\n",
    "# max_model, max_score = train(df_max, loss_function='Quantile:alpha=0.8')\n",
    "# max_model, max_score = train(df_max, loss_function='Quantile:alpha=0.7')\n",
    "# max_model, max_score = train(df_max, loss_function='Quantile:alpha=0.6')\n",
    "# max_model, max_score = train(df_max, loss_function='Quantile:alpha=0.5')\n",
    "# max_model, max_score = train(df_max, loss_function='Quantile:alpha=0.4')\n",
    "# max_model, max_score = train(df_max, loss_function='Quantile:alpha=0.3')\n",
    "# max_model, max_score = train(df_max, loss_function='Quantile:alpha=0.2')\n",
    "\n",
    "max_model, max_score = train(df_max, loss_function='Quantile:alpha=0.7')\n",
    "\n"
   ],
   "metadata": {
    "collapsed": false
   }
  },
  {
   "cell_type": "code",
   "execution_count": 14,
   "outputs": [],
   "source": [
    "from spreadsurfer import now_isoformat\n",
    "\n",
    "save = True\n",
    "if save:\n",
    "    # min_model.save_model(f'./models/{now_isoformat()}-min_-quantile0.7-score-{1000 * round(min_score, 3)}.cat')\n",
    "    max_model.save_model(f'./models/{now_isoformat()}-max_quantile0.7-score-{1000 * round(max_score, 3)}.cat')\n"
   ],
   "metadata": {
    "collapsed": false
   }
  }
 ],
 "metadata": {
  "kernelspec": {
   "display_name": "Python 3",
   "language": "python",
   "name": "python3"
  },
  "language_info": {
   "codemirror_mode": {
    "name": "ipython",
    "version": 2
   },
   "file_extension": ".py",
   "mimetype": "text/x-python",
   "name": "python",
   "nbconvert_exporter": "python",
   "pygments_lexer": "ipython2",
   "version": "2.7.6"
  }
 },
 "nbformat": 4,
 "nbformat_minor": 0
}
