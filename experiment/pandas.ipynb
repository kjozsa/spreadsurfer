{
 "cells": [
  {
   "cell_type": "code",
   "execution_count": 48,
   "metadata": {
    "collapsed": true
   },
   "outputs": [
    {
     "data": {
      "text/plain": "  firstname lastname\n0     John4   Johny4\n1     John5   Johny5\n2     John6   Johny6",
      "text/html": "<div>\n<style scoped>\n    .dataframe tbody tr th:only-of-type {\n        vertical-align: middle;\n    }\n\n    .dataframe tbody tr th {\n        vertical-align: top;\n    }\n\n    .dataframe thead th {\n        text-align: right;\n    }\n</style>\n<table border=\"1\" class=\"dataframe\">\n  <thead>\n    <tr style=\"text-align: right;\">\n      <th></th>\n      <th>firstname</th>\n      <th>lastname</th>\n    </tr>\n  </thead>\n  <tbody>\n    <tr>\n      <th>0</th>\n      <td>John4</td>\n      <td>Johny4</td>\n    </tr>\n    <tr>\n      <th>1</th>\n      <td>John5</td>\n      <td>Johny5</td>\n    </tr>\n    <tr>\n      <th>2</th>\n      <td>John6</td>\n      <td>Johny6</td>\n    </tr>\n  </tbody>\n</table>\n</div>"
     },
     "execution_count": 48,
     "metadata": {},
     "output_type": "execute_result"
    }
   ],
   "source": [
    "import pandas as pd\n",
    "\n",
    "df = pd.DataFrame(columns=[\"firstname\", \"lastname\"])\n",
    "\n",
    "\n",
    "def entry(num):\n",
    "    return pd.DataFrame.from_dict({\n",
    "        \"firstname\": [f\"John{num}\"],\n",
    "        \"lastname\": [f\"Johny{num}\"]\n",
    "    })\n",
    "\n",
    "\n",
    "df = pd.concat([df, entry(1)], ignore_index=True)\n",
    "df = pd.concat([df, entry(2)], ignore_index=True)\n",
    "df = pd.concat([df, entry(3)], ignore_index=True)\n",
    "df = pd.concat([df, entry(4)], ignore_index=True)\n",
    "df = df.tail(2)\n",
    "df = pd.concat([df, entry(5)], ignore_index=True)\n",
    "df = df.tail(2)\n",
    "df = pd.concat([df, entry(6)], ignore_index=True)\n",
    "df\n"
   ]
  },
  {
   "cell_type": "code",
   "execution_count": 52,
   "outputs": [
    {
     "data": {
      "text/plain": "0    1\n1    1\n2    1\n3    1\ndtype: int64"
     },
     "execution_count": 52,
     "metadata": {},
     "output_type": "execute_result"
    }
   ],
   "source": [
    "s = pd.Series([1, 1, 1, 1])\n",
    "s\n"
   ],
   "metadata": {
    "collapsed": false
   }
  }
 ],
 "metadata": {
  "kernelspec": {
   "display_name": "Python 3",
   "language": "python",
   "name": "python3"
  },
  "language_info": {
   "codemirror_mode": {
    "name": "ipython",
    "version": 2
   },
   "file_extension": ".py",
   "mimetype": "text/x-python",
   "name": "python",
   "nbconvert_exporter": "python",
   "pygments_lexer": "ipython2",
   "version": "2.7.6"
  }
 },
 "nbformat": 4,
 "nbformat_minor": 0
}
