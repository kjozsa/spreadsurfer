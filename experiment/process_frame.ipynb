{
 "cells": [
  {
   "cell_type": "code",
   "execution_count": 18,
   "metadata": {
    "collapsed": true
   },
   "outputs": [
    {
     "data": {
      "text/plain": "  msprice amount  nr_trades    price_mean  spread  price_min  price_max  \\\n0     NaN    NaN        6.0  21230.563333    0.86   21230.27   21231.13   \n1     NaN    NaN       10.0  21230.369000    1.29   21229.84   21231.13   \n2     NaN    NaN       11.0  21230.302727    1.49   21229.64   21231.13   \n3     NaN    NaN       12.0  21230.247500    1.49   21229.64   21231.13   \n4     NaN    NaN       13.0  21230.265385    1.49   21229.64   21231.13   \n\n   amount_mean  \n0     0.009097  \n1     0.032658  \n2     0.033325  \n3     0.031382  \n4     0.029122  ",
      "text/html": "<div>\n<style scoped>\n    .dataframe tbody tr th:only-of-type {\n        vertical-align: middle;\n    }\n\n    .dataframe tbody tr th {\n        vertical-align: top;\n    }\n\n    .dataframe thead th {\n        text-align: right;\n    }\n</style>\n<table border=\"1\" class=\"dataframe\">\n  <thead>\n    <tr style=\"text-align: right;\">\n      <th></th>\n      <th>msprice</th>\n      <th>amount</th>\n      <th>nr_trades</th>\n      <th>price_mean</th>\n      <th>spread</th>\n      <th>price_min</th>\n      <th>price_max</th>\n      <th>amount_mean</th>\n    </tr>\n  </thead>\n  <tbody>\n    <tr>\n      <th>0</th>\n      <td>NaN</td>\n      <td>NaN</td>\n      <td>6.0</td>\n      <td>21230.563333</td>\n      <td>0.86</td>\n      <td>21230.27</td>\n      <td>21231.13</td>\n      <td>0.009097</td>\n    </tr>\n    <tr>\n      <th>1</th>\n      <td>NaN</td>\n      <td>NaN</td>\n      <td>10.0</td>\n      <td>21230.369000</td>\n      <td>1.29</td>\n      <td>21229.84</td>\n      <td>21231.13</td>\n      <td>0.032658</td>\n    </tr>\n    <tr>\n      <th>2</th>\n      <td>NaN</td>\n      <td>NaN</td>\n      <td>11.0</td>\n      <td>21230.302727</td>\n      <td>1.49</td>\n      <td>21229.64</td>\n      <td>21231.13</td>\n      <td>0.033325</td>\n    </tr>\n    <tr>\n      <th>3</th>\n      <td>NaN</td>\n      <td>NaN</td>\n      <td>12.0</td>\n      <td>21230.247500</td>\n      <td>1.49</td>\n      <td>21229.64</td>\n      <td>21231.13</td>\n      <td>0.031382</td>\n    </tr>\n    <tr>\n      <th>4</th>\n      <td>NaN</td>\n      <td>NaN</td>\n      <td>13.0</td>\n      <td>21230.265385</td>\n      <td>1.49</td>\n      <td>21229.64</td>\n      <td>21231.13</td>\n      <td>0.029122</td>\n    </tr>\n  </tbody>\n</table>\n</div>"
     },
     "execution_count": 18,
     "metadata": {},
     "output_type": "execute_result"
    }
   ],
   "source": [
    "import pandas as pd\n",
    "import pickle\n",
    "\n",
    "frames = pickle.load(open('../frames.sav', 'rb'))\n",
    "frames = frames.reset_index(drop=True)\n",
    "frames"
   ]
  },
  {
   "cell_type": "code",
   "execution_count": 96,
   "outputs": [
    {
     "data": {
      "text/plain": "{'0_nr_trades': 6.0,\n '0_amount_mean': 0.009096666666666668,\n '0_price': 21231.13,\n '0_spread': 0.8600000000005821,\n '1_nr_trades': 10.0,\n '1_amount_mean': 0.032658,\n '1_price': 21231.13,\n '1_spread': 1.2900000000008731,\n '2_nr_trades': 11.0,\n '2_amount_mean': 0.03332545454545454,\n '2_price': 21231.13,\n '2_spread': 1.4900000000016007,\n '3_nr_trades': 12.0,\n '3_amount_mean': 0.03138166666666666,\n '3_price': 21231.13,\n '3_spread': 1.4900000000016007,\n '4_nr_trades': 13.0,\n '4_amount_mean': 0.02912153846153846,\n '4_price': 21231.13,\n '4_spread': 1.4900000000016007}"
     },
     "execution_count": 96,
     "metadata": {},
     "output_type": "execute_result"
    }
   ],
   "source": [
    "# df = pd.DataFrame()\n",
    "# df.assign(frames.iloc[1]\n",
    "# [{\n",
    "#     f'{i}_nr_trades': frame['nr_trades'],\n",
    "#     f'{i}_amount_mean': frame['amount_mean'].mean(),\n",
    "#     f'{i}_price': frame['price_max'].max(),\n",
    "#     f'{i}_spread': frame['spread'].max(),\n",
    "# }]\n",
    "#\n",
    "\n",
    "\n",
    "# frame = [ frames.iloc[i] for i in range(len(frames)) ]\n",
    "\n",
    "a= [{\n",
    "    f'{i}_nr_trades': frame['nr_trades'],\n",
    "    f'{i}_amount_mean': frame['amount_mean'].mean(),\n",
    "    f'{i}_price': frame['price_max'].max(),\n",
    "    f'{i}_spread': frame['spread'].max(),\n",
    "} for i, frame in enumerate([frames.iloc[i] for i in range(len(frames))])]\n",
    "\n",
    "{ k: v for obj in a for (k, v) in obj.items() }\n"
   ],
   "metadata": {
    "collapsed": false
   }
  },
  {
   "cell_type": "code",
   "execution_count": 107,
   "outputs": [
    {
     "data": {
      "text/plain": "{'a': 'b', 'c': 'd'}"
     },
     "execution_count": 107,
     "metadata": {},
     "output_type": "execute_result"
    }
   ],
   "source": [
    "b = { 'a': 'b' }\n",
    "c = { 'c': 'd' }\n",
    "\n",
    "dict(sorted(b.items() | c.items()))\n",
    "\n",
    "# { k: v for (k, v) in (b.items() | c.items())}\n"
   ],
   "metadata": {
    "collapsed": false
   }
  }
 ],
 "metadata": {
  "kernelspec": {
   "display_name": "Python 3",
   "language": "python",
   "name": "python3"
  },
  "language_info": {
   "codemirror_mode": {
    "name": "ipython",
    "version": 2
   },
   "file_extension": ".py",
   "mimetype": "text/x-python",
   "name": "python",
   "nbconvert_exporter": "python",
   "pygments_lexer": "ipython2",
   "version": "2.7.6"
  }
 },
 "nbformat": 4,
 "nbformat_minor": 0
}
