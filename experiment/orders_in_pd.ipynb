{
 "cells": [
  {
   "cell_type": "code",
   "execution_count": 48,
   "metadata": {
    "collapsed": true
   },
   "outputs": [
    {
     "name": "stdout",
     "output_type": "stream",
     "text": [
      "empty\n"
     ]
    },
    {
     "data": {
      "text/plain": "[{'timestamp_created_ms': 123,\n  'price': 4321,\n  'wave_id': '123',\n  'order_id': '52515'},\n {'timestamp_created_ms': 223,\n  'price': 4911,\n  'wave_id': '123',\n  'order_id': '92515'}]"
     },
     "execution_count": 48,
     "metadata": {},
     "output_type": "execute_result"
    }
   ],
   "source": [
    "import pandas as pd\n",
    "\n",
    "df = pd.DataFrame(columns=['timestamp_created_ms', 'price', 'wave_id', 'order_id'])\n",
    "\n",
    "df = pd.concat([df, pd.DataFrame([{ 'timestamp_created_ms': 123, 'price': 4321, 'wave_id': '123', 'order_id': '52515'}])])\n",
    "df = pd.concat([df, pd.DataFrame([{ 'timestamp_created_ms': 223, 'price': 4911, 'wave_id': '123', 'order_id': '92515'}])])\n",
    "df = pd.concat([df, pd.DataFrame([{ 'timestamp_created_ms': 423, 'price': 5111, 'wave_id': '853', 'order_id': '12515'}])])\n",
    "df\n",
    "\n",
    "empty = df[df['wave_id'] == '1231']\n",
    "# a = df[df.timestamp_created_ms > 200].order_id\n",
    "# a.tolist()\n",
    "\n",
    "if empty.empty:\n",
    "    print('empty')\n",
    "\n",
    "df[df.wave_id == '123'].to_dict('records')\n"
   ]
  },
  {
   "cell_type": "code",
   "execution_count": 58,
   "outputs": [
    {
     "data": {
      "text/plain": "  timestamp_created_ms price wave_id order_id\n0                 1500  4321     123    52515\n0                 1500  4911     123    92515\n0                 1000  5111     853    12515",
      "text/html": "<div>\n<style scoped>\n    .dataframe tbody tr th:only-of-type {\n        vertical-align: middle;\n    }\n\n    .dataframe tbody tr th {\n        vertical-align: top;\n    }\n\n    .dataframe thead th {\n        text-align: right;\n    }\n</style>\n<table border=\"1\" class=\"dataframe\">\n  <thead>\n    <tr style=\"text-align: right;\">\n      <th></th>\n      <th>timestamp_created_ms</th>\n      <th>price</th>\n      <th>wave_id</th>\n      <th>order_id</th>\n    </tr>\n  </thead>\n  <tbody>\n    <tr>\n      <th>0</th>\n      <td>1500</td>\n      <td>4321</td>\n      <td>123</td>\n      <td>52515</td>\n    </tr>\n    <tr>\n      <th>0</th>\n      <td>1500</td>\n      <td>4911</td>\n      <td>123</td>\n      <td>92515</td>\n    </tr>\n    <tr>\n      <th>0</th>\n      <td>1000</td>\n      <td>5111</td>\n      <td>853</td>\n      <td>12515</td>\n    </tr>\n  </tbody>\n</table>\n</div>"
     },
     "execution_count": 58,
     "metadata": {},
     "output_type": "execute_result"
    }
   ],
   "source": [
    "df\n",
    "df.loc[df.wave_id=='123', 'timestamp_created_ms'] = 1500\n",
    "df\n",
    "\n"
   ],
   "metadata": {
    "collapsed": false
   }
  }
 ],
 "metadata": {
  "kernelspec": {
   "display_name": "Python 3",
   "language": "python",
   "name": "python3"
  },
  "language_info": {
   "codemirror_mode": {
    "name": "ipython",
    "version": 2
   },
   "file_extension": ".py",
   "mimetype": "text/x-python",
   "name": "python",
   "nbconvert_exporter": "python",
   "pygments_lexer": "ipython2",
   "version": "2.7.6"
  }
 },
 "nbformat": 4,
 "nbformat_minor": 0
}
