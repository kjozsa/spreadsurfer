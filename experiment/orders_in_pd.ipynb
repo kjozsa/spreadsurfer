{
 "cells": [
  {
   "cell_type": "code",
   "execution_count": 18,
   "metadata": {
    "collapsed": true
   },
   "outputs": [
    {
     "data": {
      "text/plain": "['92515', '12515']"
     },
     "execution_count": 18,
     "metadata": {},
     "output_type": "execute_result"
    }
   ],
   "source": [
    "import pandas as pd\n",
    "\n",
    "df = pd.DataFrame(columns=['timestamp_created_ms', 'price', 'wave_id', 'order_id'])\n",
    "\n",
    "df = pd.concat([df, pd.DataFrame([{ 'timestamp_created_ms': 123, 'price': 4321, 'wave_id': '123', 'order_id': '52515'}])])\n",
    "df = pd.concat([df, pd.DataFrame([{ 'timestamp_created_ms': 223, 'price': 4911, 'wave_id': '523', 'order_id': '92515'}])])\n",
    "df = pd.concat([df, pd.DataFrame([{ 'timestamp_created_ms': 423, 'price': 5111, 'wave_id': '223', 'order_id': '12515'}])])\n",
    "df\n",
    "\n",
    "a = df[df.timestamp_created_ms > 200].order_id\n",
    "a.tolist()\n"
   ]
  }
 ],
 "metadata": {
  "kernelspec": {
   "display_name": "Python 3",
   "language": "python",
   "name": "python3"
  },
  "language_info": {
   "codemirror_mode": {
    "name": "ipython",
    "version": 2
   },
   "file_extension": ".py",
   "mimetype": "text/x-python",
   "name": "python",
   "nbconvert_exporter": "python",
   "pygments_lexer": "ipython2",
   "version": "2.7.6"
  }
 },
 "nbformat": 4,
 "nbformat_minor": 0
}
